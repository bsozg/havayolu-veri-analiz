{
 "cells": [
  {
   "cell_type": "markdown",
   "id": "bbdb514a",
   "metadata": {
    "papermill": {
     "duration": 0.018208,
     "end_time": "2024-11-23T13:07:14.850717",
     "exception": false,
     "start_time": "2024-11-23T13:07:14.832509",
     "status": "completed"
    },
    "tags": []
   },
   "source": [
    "# 0. Veri Setinin Hazırlanması"
   ]
  },
  {
   "cell_type": "markdown",
   "id": "39d9edd9",
   "metadata": {
    "papermill": {
     "duration": 0.015236,
     "end_time": "2024-11-23T13:07:14.881799",
     "exception": false,
     "start_time": "2024-11-23T13:07:14.866563",
     "status": "completed"
    },
    "tags": []
   },
   "source": [
    "Veri Seti ve Adresi:\n",
    "\n",
    "Jobs and Salaries in Data Science : https://www.kaggle.com/datasets/iamsouravbanerjee/airline-dataset?select=Airline+Dataset+Updated+-+v2.csv"
   ]
  },
  {
   "cell_type": "code",
   "execution_count": 1,
   "id": "3e0af070",
   "metadata": {
    "_cell_guid": "b1076dfc-b9ad-4769-8c92-a6c4dae69d19",
    "_uuid": "8f2839f25d086af736a60e9eeb907d3b93b6e0e5",
    "execution": {
     "iopub.execute_input": "2024-11-23T13:07:14.915038Z",
     "iopub.status.busy": "2024-11-23T13:07:14.914518Z",
     "iopub.status.idle": "2024-11-23T13:07:17.886193Z",
     "shell.execute_reply": "2024-11-23T13:07:17.885101Z"
    },
    "papermill": {
     "duration": 2.991653,
     "end_time": "2024-11-23T13:07:17.889015",
     "exception": false,
     "start_time": "2024-11-23T13:07:14.897362",
     "status": "completed"
    },
    "tags": []
   },
   "outputs": [
    {
     "name": "stdout",
     "output_type": "stream",
     "text": [
      "/kaggle/input/airline-dataset/Airline Dataset Updated.csv\n",
      "/kaggle/input/airline-dataset/Airline Dataset Updated - v2.csv\n",
      "/kaggle/input/airline-dataset/Airline Dataset.csv\n"
     ]
    }
   ],
   "source": [
    "# This Python 3 environment comes with many helpful analytics libraries installed\n",
    "# It is defined by the kaggle/python Docker image: https://github.com/kaggle/docker-python\n",
    "# For example, here's several helpful packages to load\n",
    "\n",
    "import numpy as np # linear algebra\n",
    "import pandas as pd # data processing, CSV file I/O (e.g. pd.read_csv)\n",
    "\n",
    "# Input data files are available in the read-only \"../input/\" directory\n",
    "# For example, running this (by clicking run or pressing Shift+Enter) will list all files under the input directory\n",
    "\n",
    "import os\n",
    "for dirname, _, filenames in os.walk('/kaggle/input'):\n",
    "    for filename in filenames:\n",
    "        print(os.path.join(dirname, filename))\n",
    "\n",
    "# You can write up to 20GB to the current directory (/kaggle/working/) that gets preserved as output when you create a version using \"Save & Run All\" \n",
    "# You can also write temporary files to /kaggle/temp/, but they won't be saved outside of the current session\n",
    "\n",
    "\n",
    "# Görselleştirme kütüphaneleri\n",
    "import matplotlib.pyplot as plt\n",
    "import seaborn as sns\n",
    "# Diğer örnek görselleştirme kütüphaneleri\n",
    "from plotnine import ggplot"
   ]
  },
  {
   "cell_type": "code",
   "execution_count": 2,
   "id": "d57be9b0",
   "metadata": {
    "execution": {
     "iopub.execute_input": "2024-11-23T13:07:17.923587Z",
     "iopub.status.busy": "2024-11-23T13:07:17.923060Z",
     "iopub.status.idle": "2024-11-23T13:07:18.581179Z",
     "shell.execute_reply": "2024-11-23T13:07:18.580054Z"
    },
    "papermill": {
     "duration": 0.678291,
     "end_time": "2024-11-23T13:07:18.583741",
     "exception": false,
     "start_time": "2024-11-23T13:07:17.905450",
     "status": "completed"
    },
    "tags": []
   },
   "outputs": [],
   "source": [
    "airl_data=pd.read_csv(filepath_or_buffer = \"//kaggle/input/airline-dataset/Airline Dataset Updated - v2.csv\")\n",
    "airldata=airl_data.copy()"
   ]
  },
  {
   "cell_type": "code",
   "execution_count": 3,
   "id": "ba6baae1",
   "metadata": {
    "execution": {
     "iopub.execute_input": "2024-11-23T13:07:18.618139Z",
     "iopub.status.busy": "2024-11-23T13:07:18.617743Z",
     "iopub.status.idle": "2024-11-23T13:07:19.275999Z",
     "shell.execute_reply": "2024-11-23T13:07:19.274866Z"
    },
    "papermill": {
     "duration": 0.678048,
     "end_time": "2024-11-23T13:07:19.278397",
     "exception": false,
     "start_time": "2024-11-23T13:07:18.600349",
     "status": "completed"
    },
    "tags": []
   },
   "outputs": [
    {
     "data": {
      "text/html": [
       "<div>\n",
       "<style scoped>\n",
       "    .dataframe tbody tr th:only-of-type {\n",
       "        vertical-align: middle;\n",
       "    }\n",
       "\n",
       "    .dataframe tbody tr th {\n",
       "        vertical-align: top;\n",
       "    }\n",
       "\n",
       "    .dataframe thead th {\n",
       "        text-align: right;\n",
       "    }\n",
       "</style>\n",
       "<table border=\"1\" class=\"dataframe\">\n",
       "  <thead>\n",
       "    <tr style=\"text-align: right;\">\n",
       "      <th></th>\n",
       "      <th>Passenger ID</th>\n",
       "      <th>First Name</th>\n",
       "      <th>Last Name</th>\n",
       "      <th>Gender</th>\n",
       "      <th>Age</th>\n",
       "      <th>Nationality</th>\n",
       "      <th>Airport Name</th>\n",
       "      <th>Airport Country Code</th>\n",
       "      <th>Country Name</th>\n",
       "      <th>Airport Continent</th>\n",
       "      <th>Continents</th>\n",
       "      <th>Departure Date</th>\n",
       "      <th>Arrival Airport</th>\n",
       "      <th>Pilot Name</th>\n",
       "      <th>Flight Status</th>\n",
       "    </tr>\n",
       "  </thead>\n",
       "  <tbody>\n",
       "    <tr>\n",
       "      <th>0</th>\n",
       "      <td>ABVWIg</td>\n",
       "      <td>Edithe</td>\n",
       "      <td>Leggis</td>\n",
       "      <td>Female</td>\n",
       "      <td>62.0</td>\n",
       "      <td>Japan</td>\n",
       "      <td>Coldfoot Airport</td>\n",
       "      <td>US</td>\n",
       "      <td>United States</td>\n",
       "      <td>NAM</td>\n",
       "      <td>North America</td>\n",
       "      <td>6/28/2022</td>\n",
       "      <td>CXF</td>\n",
       "      <td>Fransisco Hazeldine</td>\n",
       "      <td>On Time</td>\n",
       "    </tr>\n",
       "    <tr>\n",
       "      <th>1</th>\n",
       "      <td>jkXXAX</td>\n",
       "      <td>Elwood</td>\n",
       "      <td>Catt</td>\n",
       "      <td>Male</td>\n",
       "      <td>NaN</td>\n",
       "      <td>Nicaragua</td>\n",
       "      <td>Kugluktuk Airport</td>\n",
       "      <td>CA</td>\n",
       "      <td>Canada</td>\n",
       "      <td>NAM</td>\n",
       "      <td>North America</td>\n",
       "      <td>12/26/2022</td>\n",
       "      <td>YCO</td>\n",
       "      <td>Marla Parsonage</td>\n",
       "      <td>On Time</td>\n",
       "    </tr>\n",
       "    <tr>\n",
       "      <th>2</th>\n",
       "      <td>CdUz2g</td>\n",
       "      <td>Darby</td>\n",
       "      <td>Felgate</td>\n",
       "      <td>Male</td>\n",
       "      <td>67.0</td>\n",
       "      <td>Russia</td>\n",
       "      <td>Grenoble-Isère Airport</td>\n",
       "      <td>FR</td>\n",
       "      <td>France</td>\n",
       "      <td>EU</td>\n",
       "      <td>Europe</td>\n",
       "      <td>1/18/2022</td>\n",
       "      <td>GNB</td>\n",
       "      <td>Rhonda Amber</td>\n",
       "      <td>On Time</td>\n",
       "    </tr>\n",
       "    <tr>\n",
       "      <th>3</th>\n",
       "      <td>BRS38V</td>\n",
       "      <td>Dominica</td>\n",
       "      <td>Pyle</td>\n",
       "      <td>Female</td>\n",
       "      <td>71.0</td>\n",
       "      <td>China</td>\n",
       "      <td>Ottawa / Gatineau Airport</td>\n",
       "      <td>CA</td>\n",
       "      <td>Canada</td>\n",
       "      <td>NAM</td>\n",
       "      <td>North America</td>\n",
       "      <td>9/16/2022</td>\n",
       "      <td>YND</td>\n",
       "      <td>Kacie Commucci</td>\n",
       "      <td>Delayed</td>\n",
       "    </tr>\n",
       "    <tr>\n",
       "      <th>4</th>\n",
       "      <td>9kvTLo</td>\n",
       "      <td>Bay</td>\n",
       "      <td>NaN</td>\n",
       "      <td>Male</td>\n",
       "      <td>21.0</td>\n",
       "      <td>China</td>\n",
       "      <td>Gillespie Field</td>\n",
       "      <td>US</td>\n",
       "      <td>United States</td>\n",
       "      <td>NAM</td>\n",
       "      <td>North America</td>\n",
       "      <td>2/25/2022</td>\n",
       "      <td>SEE</td>\n",
       "      <td>Ebonee Tree</td>\n",
       "      <td>On Time</td>\n",
       "    </tr>\n",
       "    <tr>\n",
       "      <th>...</th>\n",
       "      <td>...</td>\n",
       "      <td>...</td>\n",
       "      <td>...</td>\n",
       "      <td>...</td>\n",
       "      <td>...</td>\n",
       "      <td>...</td>\n",
       "      <td>...</td>\n",
       "      <td>...</td>\n",
       "      <td>...</td>\n",
       "      <td>...</td>\n",
       "      <td>...</td>\n",
       "      <td>...</td>\n",
       "      <td>...</td>\n",
       "      <td>...</td>\n",
       "      <td>...</td>\n",
       "    </tr>\n",
       "    <tr>\n",
       "      <th>98614</th>\n",
       "      <td>hnGQ62</td>\n",
       "      <td>Gareth</td>\n",
       "      <td>Mugford</td>\n",
       "      <td>Male</td>\n",
       "      <td>85.0</td>\n",
       "      <td>China</td>\n",
       "      <td>Hasvik Airport</td>\n",
       "      <td>NO</td>\n",
       "      <td>Norway</td>\n",
       "      <td>EU</td>\n",
       "      <td>Europe</td>\n",
       "      <td>12-11-2022</td>\n",
       "      <td>HAA</td>\n",
       "      <td>Pammie Kingscote</td>\n",
       "      <td>Cancelled</td>\n",
       "    </tr>\n",
       "    <tr>\n",
       "      <th>98615</th>\n",
       "      <td>2omEzh</td>\n",
       "      <td>Kasey</td>\n",
       "      <td>Benedict</td>\n",
       "      <td>Female</td>\n",
       "      <td>19.0</td>\n",
       "      <td>Russia</td>\n",
       "      <td>Ampampamena Airport</td>\n",
       "      <td>MG</td>\n",
       "      <td>Madagascar</td>\n",
       "      <td>AF</td>\n",
       "      <td>Africa</td>\n",
       "      <td>10/30/2022</td>\n",
       "      <td>IVA</td>\n",
       "      <td>Dorice Lochran</td>\n",
       "      <td>Cancelled</td>\n",
       "    </tr>\n",
       "    <tr>\n",
       "      <th>98616</th>\n",
       "      <td>VUPiVG</td>\n",
       "      <td>NaN</td>\n",
       "      <td>Lucken</td>\n",
       "      <td>Male</td>\n",
       "      <td>65.0</td>\n",
       "      <td>Indonesia</td>\n",
       "      <td>Albacete-Los Llanos Airport</td>\n",
       "      <td>ES</td>\n",
       "      <td>Spain</td>\n",
       "      <td>EU</td>\n",
       "      <td>Europe</td>\n",
       "      <td>NaN</td>\n",
       "      <td>ABC</td>\n",
       "      <td>Gearalt Main</td>\n",
       "      <td>NaN</td>\n",
       "    </tr>\n",
       "    <tr>\n",
       "      <th>98617</th>\n",
       "      <td>E47NtS</td>\n",
       "      <td>Gayle</td>\n",
       "      <td>Lievesley</td>\n",
       "      <td>Female</td>\n",
       "      <td>34.0</td>\n",
       "      <td>China</td>\n",
       "      <td>Gagnoa Airport</td>\n",
       "      <td>CI</td>\n",
       "      <td>NaN</td>\n",
       "      <td>AF</td>\n",
       "      <td>Africa</td>\n",
       "      <td>NaN</td>\n",
       "      <td>GGN</td>\n",
       "      <td>Judon Chasle</td>\n",
       "      <td>Cancelled</td>\n",
       "    </tr>\n",
       "    <tr>\n",
       "      <th>98618</th>\n",
       "      <td>8JYEcz</td>\n",
       "      <td>Wilhelmine</td>\n",
       "      <td>NaN</td>\n",
       "      <td>Female</td>\n",
       "      <td>10.0</td>\n",
       "      <td>Poland</td>\n",
       "      <td>Yoshkar-Ola Airport</td>\n",
       "      <td>RU</td>\n",
       "      <td>Russian Federation</td>\n",
       "      <td>EU</td>\n",
       "      <td>Europe</td>\n",
       "      <td>4/16/2022</td>\n",
       "      <td>JOK</td>\n",
       "      <td>Auguste Tindley</td>\n",
       "      <td>NaN</td>\n",
       "    </tr>\n",
       "  </tbody>\n",
       "</table>\n",
       "<p>98619 rows × 15 columns</p>\n",
       "</div>"
      ],
      "text/plain": [
       "      Passenger ID  First Name  Last Name  Gender   Age Nationality  \\\n",
       "0           ABVWIg      Edithe     Leggis  Female  62.0       Japan   \n",
       "1           jkXXAX      Elwood       Catt    Male   NaN   Nicaragua   \n",
       "2           CdUz2g       Darby    Felgate    Male  67.0      Russia   \n",
       "3           BRS38V    Dominica       Pyle  Female  71.0       China   \n",
       "4           9kvTLo         Bay        NaN    Male  21.0       China   \n",
       "...            ...         ...        ...     ...   ...         ...   \n",
       "98614       hnGQ62      Gareth    Mugford    Male  85.0       China   \n",
       "98615       2omEzh       Kasey   Benedict  Female  19.0      Russia   \n",
       "98616       VUPiVG         NaN     Lucken    Male  65.0   Indonesia   \n",
       "98617       E47NtS       Gayle  Lievesley  Female  34.0       China   \n",
       "98618       8JYEcz  Wilhelmine        NaN  Female  10.0      Poland   \n",
       "\n",
       "                      Airport Name Airport Country Code        Country Name  \\\n",
       "0                 Coldfoot Airport                   US       United States   \n",
       "1                Kugluktuk Airport                   CA              Canada   \n",
       "2           Grenoble-Isère Airport                   FR              France   \n",
       "3        Ottawa / Gatineau Airport                   CA              Canada   \n",
       "4                  Gillespie Field                   US       United States   \n",
       "...                            ...                  ...                 ...   \n",
       "98614               Hasvik Airport                   NO              Norway   \n",
       "98615          Ampampamena Airport                   MG          Madagascar   \n",
       "98616  Albacete-Los Llanos Airport                   ES               Spain   \n",
       "98617               Gagnoa Airport                   CI                 NaN   \n",
       "98618          Yoshkar-Ola Airport                   RU  Russian Federation   \n",
       "\n",
       "      Airport Continent     Continents Departure Date Arrival Airport  \\\n",
       "0                   NAM  North America      6/28/2022             CXF   \n",
       "1                   NAM  North America     12/26/2022             YCO   \n",
       "2                    EU         Europe      1/18/2022             GNB   \n",
       "3                   NAM  North America      9/16/2022             YND   \n",
       "4                   NAM  North America      2/25/2022             SEE   \n",
       "...                 ...            ...            ...             ...   \n",
       "98614                EU         Europe     12-11-2022             HAA   \n",
       "98615                AF         Africa     10/30/2022             IVA   \n",
       "98616                EU         Europe            NaN             ABC   \n",
       "98617                AF         Africa            NaN             GGN   \n",
       "98618                EU         Europe      4/16/2022             JOK   \n",
       "\n",
       "                Pilot Name Flight Status  \n",
       "0      Fransisco Hazeldine       On Time  \n",
       "1          Marla Parsonage       On Time  \n",
       "2             Rhonda Amber       On Time  \n",
       "3           Kacie Commucci       Delayed  \n",
       "4              Ebonee Tree       On Time  \n",
       "...                    ...           ...  \n",
       "98614     Pammie Kingscote     Cancelled  \n",
       "98615       Dorice Lochran     Cancelled  \n",
       "98616         Gearalt Main           NaN  \n",
       "98617         Judon Chasle     Cancelled  \n",
       "98618      Auguste Tindley           NaN  \n",
       "\n",
       "[98619 rows x 15 columns]"
      ]
     },
     "execution_count": 3,
     "metadata": {},
     "output_type": "execute_result"
    }
   ],
   "source": [
    "# Veri setinde rasgele eksik veriler oluşturalım.\n",
    "\n",
    "import random\n",
    "\n",
    "def add_random_missing_values(dataframe: pd.DataFrame,\n",
    "                              missing_rate: float = 0.05,\n",
    "                              seed: random = 42) -> pd.DataFrame:\n",
    "    \"\"\"Turns random values to NaN in a DataFrame.\n",
    "    \n",
    "    To use this function, you need to import pandas, numpy and random libraries.\n",
    "\n",
    "    Args:\n",
    "        dataframe (pd.DataFrame): DataFrame to be processed.\n",
    "        missing_rate (float): Percentage of missing value rate in float format. Defaults 0.05\n",
    "\n",
    "    \n",
    "    \"\"\"\n",
    "    # Get copy of dataframe\n",
    "    airldata_missing = dataframe.copy()\n",
    "\n",
    "    # Obtain size of dataframe and number total number of missing values\n",
    "    airldata_size = dataframe.size\n",
    "    num_missing = int(airldata_size * missing_rate)\n",
    "    \n",
    "    # Set seed\n",
    "    if seed:\n",
    "        random.seed(seed)\n",
    "\n",
    "    # Get random row and column indexes to turn them NaN\n",
    "    for _ in range(num_missing):\n",
    "        row_idx = random.randint(0, dataframe.shape[0] - 1)\n",
    "        col_idx = random.randint(0, dataframe.shape[1] - 1)\n",
    "\n",
    "        airldata_missing.iat[row_idx, col_idx] = np.nan\n",
    "        \n",
    "    return airldata_missing\n",
    "\n",
    "airldata = add_random_missing_values(dataframe = airldata,\n",
    "                               missing_rate = 0.03)\n",
    "airldata"
   ]
  },
  {
   "cell_type": "markdown",
   "id": "351d3876",
   "metadata": {
    "papermill": {
     "duration": 0.017021,
     "end_time": "2024-11-23T13:07:19.312332",
     "exception": false,
     "start_time": "2024-11-23T13:07:19.295311",
     "status": "completed"
    },
    "tags": []
   },
   "source": [
    "# 1. Veriye İlk Bakış"
   ]
  },
  {
   "cell_type": "code",
   "execution_count": 4,
   "id": "467630ae",
   "metadata": {
    "execution": {
     "iopub.execute_input": "2024-11-23T13:07:19.346823Z",
     "iopub.status.busy": "2024-11-23T13:07:19.346390Z",
     "iopub.status.idle": "2024-11-23T13:07:19.362547Z",
     "shell.execute_reply": "2024-11-23T13:07:19.361396Z"
    },
    "papermill": {
     "duration": 0.035754,
     "end_time": "2024-11-23T13:07:19.364786",
     "exception": false,
     "start_time": "2024-11-23T13:07:19.329032",
     "status": "completed"
    },
    "tags": []
   },
   "outputs": [
    {
     "data": {
      "text/html": [
       "<div>\n",
       "<style scoped>\n",
       "    .dataframe tbody tr th:only-of-type {\n",
       "        vertical-align: middle;\n",
       "    }\n",
       "\n",
       "    .dataframe tbody tr th {\n",
       "        vertical-align: top;\n",
       "    }\n",
       "\n",
       "    .dataframe thead th {\n",
       "        text-align: right;\n",
       "    }\n",
       "</style>\n",
       "<table border=\"1\" class=\"dataframe\">\n",
       "  <thead>\n",
       "    <tr style=\"text-align: right;\">\n",
       "      <th></th>\n",
       "      <th>Passenger ID</th>\n",
       "      <th>First Name</th>\n",
       "      <th>Last Name</th>\n",
       "      <th>Gender</th>\n",
       "      <th>Age</th>\n",
       "      <th>Nationality</th>\n",
       "      <th>Airport Name</th>\n",
       "      <th>Airport Country Code</th>\n",
       "      <th>Country Name</th>\n",
       "      <th>Airport Continent</th>\n",
       "      <th>Continents</th>\n",
       "      <th>Departure Date</th>\n",
       "      <th>Arrival Airport</th>\n",
       "      <th>Pilot Name</th>\n",
       "      <th>Flight Status</th>\n",
       "    </tr>\n",
       "  </thead>\n",
       "  <tbody>\n",
       "    <tr>\n",
       "      <th>0</th>\n",
       "      <td>ABVWIg</td>\n",
       "      <td>Edithe</td>\n",
       "      <td>Leggis</td>\n",
       "      <td>Female</td>\n",
       "      <td>62.0</td>\n",
       "      <td>Japan</td>\n",
       "      <td>Coldfoot Airport</td>\n",
       "      <td>US</td>\n",
       "      <td>United States</td>\n",
       "      <td>NAM</td>\n",
       "      <td>North America</td>\n",
       "      <td>6/28/2022</td>\n",
       "      <td>CXF</td>\n",
       "      <td>Fransisco Hazeldine</td>\n",
       "      <td>On Time</td>\n",
       "    </tr>\n",
       "    <tr>\n",
       "      <th>1</th>\n",
       "      <td>jkXXAX</td>\n",
       "      <td>Elwood</td>\n",
       "      <td>Catt</td>\n",
       "      <td>Male</td>\n",
       "      <td>NaN</td>\n",
       "      <td>Nicaragua</td>\n",
       "      <td>Kugluktuk Airport</td>\n",
       "      <td>CA</td>\n",
       "      <td>Canada</td>\n",
       "      <td>NAM</td>\n",
       "      <td>North America</td>\n",
       "      <td>12/26/2022</td>\n",
       "      <td>YCO</td>\n",
       "      <td>Marla Parsonage</td>\n",
       "      <td>On Time</td>\n",
       "    </tr>\n",
       "    <tr>\n",
       "      <th>2</th>\n",
       "      <td>CdUz2g</td>\n",
       "      <td>Darby</td>\n",
       "      <td>Felgate</td>\n",
       "      <td>Male</td>\n",
       "      <td>67.0</td>\n",
       "      <td>Russia</td>\n",
       "      <td>Grenoble-Isère Airport</td>\n",
       "      <td>FR</td>\n",
       "      <td>France</td>\n",
       "      <td>EU</td>\n",
       "      <td>Europe</td>\n",
       "      <td>1/18/2022</td>\n",
       "      <td>GNB</td>\n",
       "      <td>Rhonda Amber</td>\n",
       "      <td>On Time</td>\n",
       "    </tr>\n",
       "  </tbody>\n",
       "</table>\n",
       "</div>"
      ],
      "text/plain": [
       "  Passenger ID First Name Last Name  Gender   Age Nationality  \\\n",
       "0       ABVWIg     Edithe    Leggis  Female  62.0       Japan   \n",
       "1       jkXXAX     Elwood      Catt    Male   NaN   Nicaragua   \n",
       "2       CdUz2g      Darby   Felgate    Male  67.0      Russia   \n",
       "\n",
       "             Airport Name Airport Country Code   Country Name  \\\n",
       "0        Coldfoot Airport                   US  United States   \n",
       "1       Kugluktuk Airport                   CA         Canada   \n",
       "2  Grenoble-Isère Airport                   FR         France   \n",
       "\n",
       "  Airport Continent     Continents Departure Date Arrival Airport  \\\n",
       "0               NAM  North America      6/28/2022             CXF   \n",
       "1               NAM  North America     12/26/2022             YCO   \n",
       "2                EU         Europe      1/18/2022             GNB   \n",
       "\n",
       "            Pilot Name Flight Status  \n",
       "0  Fransisco Hazeldine       On Time  \n",
       "1      Marla Parsonage       On Time  \n",
       "2         Rhonda Amber       On Time  "
      ]
     },
     "execution_count": 4,
     "metadata": {},
     "output_type": "execute_result"
    }
   ],
   "source": [
    "# Veri setinin ilk 3 gözlemini görelim.\n",
    "airldata.head(n = 3)"
   ]
  },
  {
   "cell_type": "code",
   "execution_count": 5,
   "id": "33ae86e5",
   "metadata": {
    "execution": {
     "iopub.execute_input": "2024-11-23T13:07:19.399752Z",
     "iopub.status.busy": "2024-11-23T13:07:19.399351Z",
     "iopub.status.idle": "2024-11-23T13:07:19.415205Z",
     "shell.execute_reply": "2024-11-23T13:07:19.414073Z"
    },
    "papermill": {
     "duration": 0.035597,
     "end_time": "2024-11-23T13:07:19.417213",
     "exception": false,
     "start_time": "2024-11-23T13:07:19.381616",
     "status": "completed"
    },
    "tags": []
   },
   "outputs": [
    {
     "data": {
      "text/html": [
       "<div>\n",
       "<style scoped>\n",
       "    .dataframe tbody tr th:only-of-type {\n",
       "        vertical-align: middle;\n",
       "    }\n",
       "\n",
       "    .dataframe tbody tr th {\n",
       "        vertical-align: top;\n",
       "    }\n",
       "\n",
       "    .dataframe thead th {\n",
       "        text-align: right;\n",
       "    }\n",
       "</style>\n",
       "<table border=\"1\" class=\"dataframe\">\n",
       "  <thead>\n",
       "    <tr style=\"text-align: right;\">\n",
       "      <th></th>\n",
       "      <th>Passenger ID</th>\n",
       "      <th>First Name</th>\n",
       "      <th>Last Name</th>\n",
       "      <th>Gender</th>\n",
       "      <th>Age</th>\n",
       "      <th>Nationality</th>\n",
       "      <th>Airport Name</th>\n",
       "      <th>Airport Country Code</th>\n",
       "      <th>Country Name</th>\n",
       "      <th>Airport Continent</th>\n",
       "      <th>Continents</th>\n",
       "      <th>Departure Date</th>\n",
       "      <th>Arrival Airport</th>\n",
       "      <th>Pilot Name</th>\n",
       "      <th>Flight Status</th>\n",
       "    </tr>\n",
       "  </thead>\n",
       "  <tbody>\n",
       "    <tr>\n",
       "      <th>98616</th>\n",
       "      <td>VUPiVG</td>\n",
       "      <td>NaN</td>\n",
       "      <td>Lucken</td>\n",
       "      <td>Male</td>\n",
       "      <td>65.0</td>\n",
       "      <td>Indonesia</td>\n",
       "      <td>Albacete-Los Llanos Airport</td>\n",
       "      <td>ES</td>\n",
       "      <td>Spain</td>\n",
       "      <td>EU</td>\n",
       "      <td>Europe</td>\n",
       "      <td>NaN</td>\n",
       "      <td>ABC</td>\n",
       "      <td>Gearalt Main</td>\n",
       "      <td>NaN</td>\n",
       "    </tr>\n",
       "    <tr>\n",
       "      <th>98617</th>\n",
       "      <td>E47NtS</td>\n",
       "      <td>Gayle</td>\n",
       "      <td>Lievesley</td>\n",
       "      <td>Female</td>\n",
       "      <td>34.0</td>\n",
       "      <td>China</td>\n",
       "      <td>Gagnoa Airport</td>\n",
       "      <td>CI</td>\n",
       "      <td>NaN</td>\n",
       "      <td>AF</td>\n",
       "      <td>Africa</td>\n",
       "      <td>NaN</td>\n",
       "      <td>GGN</td>\n",
       "      <td>Judon Chasle</td>\n",
       "      <td>Cancelled</td>\n",
       "    </tr>\n",
       "    <tr>\n",
       "      <th>98618</th>\n",
       "      <td>8JYEcz</td>\n",
       "      <td>Wilhelmine</td>\n",
       "      <td>NaN</td>\n",
       "      <td>Female</td>\n",
       "      <td>10.0</td>\n",
       "      <td>Poland</td>\n",
       "      <td>Yoshkar-Ola Airport</td>\n",
       "      <td>RU</td>\n",
       "      <td>Russian Federation</td>\n",
       "      <td>EU</td>\n",
       "      <td>Europe</td>\n",
       "      <td>4/16/2022</td>\n",
       "      <td>JOK</td>\n",
       "      <td>Auguste Tindley</td>\n",
       "      <td>NaN</td>\n",
       "    </tr>\n",
       "  </tbody>\n",
       "</table>\n",
       "</div>"
      ],
      "text/plain": [
       "      Passenger ID  First Name  Last Name  Gender   Age Nationality  \\\n",
       "98616       VUPiVG         NaN     Lucken    Male  65.0   Indonesia   \n",
       "98617       E47NtS       Gayle  Lievesley  Female  34.0       China   \n",
       "98618       8JYEcz  Wilhelmine        NaN  Female  10.0      Poland   \n",
       "\n",
       "                      Airport Name Airport Country Code        Country Name  \\\n",
       "98616  Albacete-Los Llanos Airport                   ES               Spain   \n",
       "98617               Gagnoa Airport                   CI                 NaN   \n",
       "98618          Yoshkar-Ola Airport                   RU  Russian Federation   \n",
       "\n",
       "      Airport Continent Continents Departure Date Arrival Airport  \\\n",
       "98616                EU     Europe            NaN             ABC   \n",
       "98617                AF     Africa            NaN             GGN   \n",
       "98618                EU     Europe      4/16/2022             JOK   \n",
       "\n",
       "            Pilot Name Flight Status  \n",
       "98616     Gearalt Main           NaN  \n",
       "98617     Judon Chasle     Cancelled  \n",
       "98618  Auguste Tindley           NaN  "
      ]
     },
     "execution_count": 5,
     "metadata": {},
     "output_type": "execute_result"
    }
   ],
   "source": [
    "# Sondan 3 gözlem için tail() metodu kullanılabilir.\n",
    "airldata.tail(3)"
   ]
  },
  {
   "cell_type": "code",
   "execution_count": 6,
   "id": "ae9b7199",
   "metadata": {
    "execution": {
     "iopub.execute_input": "2024-11-23T13:07:19.452246Z",
     "iopub.status.busy": "2024-11-23T13:07:19.451838Z",
     "iopub.status.idle": "2024-11-23T13:07:19.458843Z",
     "shell.execute_reply": "2024-11-23T13:07:19.457637Z"
    },
    "papermill": {
     "duration": 0.027178,
     "end_time": "2024-11-23T13:07:19.460964",
     "exception": false,
     "start_time": "2024-11-23T13:07:19.433786",
     "status": "completed"
    },
    "tags": []
   },
   "outputs": [
    {
     "data": {
      "text/plain": [
       "(98619, 15)"
      ]
     },
     "execution_count": 6,
     "metadata": {},
     "output_type": "execute_result"
    }
   ],
   "source": [
    "airldata.shape # -> (satır, sütun)"
   ]
  },
  {
   "cell_type": "code",
   "execution_count": 7,
   "id": "41b6c31e",
   "metadata": {
    "execution": {
     "iopub.execute_input": "2024-11-23T13:07:19.496753Z",
     "iopub.status.busy": "2024-11-23T13:07:19.495561Z",
     "iopub.status.idle": "2024-11-23T13:07:19.502245Z",
     "shell.execute_reply": "2024-11-23T13:07:19.501128Z"
    },
    "papermill": {
     "duration": 0.026892,
     "end_time": "2024-11-23T13:07:19.504466",
     "exception": false,
     "start_time": "2024-11-23T13:07:19.477574",
     "status": "completed"
    },
    "tags": []
   },
   "outputs": [
    {
     "name": "stdout",
     "output_type": "stream",
     "text": [
      "['Passenger ID', 'First Name', 'Last Name', 'Gender', 'Age', 'Nationality', 'Airport Name', 'Airport Country Code', 'Country Name', 'Airport Continent', 'Continents', 'Departure Date', 'Arrival Airport', 'Pilot Name', 'Flight Status'] \n",
      "\n",
      "Veri seti içerisinde toplam 15 kolon vardır.\n",
      "\n",
      "df.columns'un döndüğü veri tipi: <class 'pandas.core.indexes.base.Index'>\n",
      "\n"
     ]
    }
   ],
   "source": [
    "airldata.columns# Veri setindeki kolonları yazdırır.\n",
    "print(list(airldata.columns), '\\n')\n",
    "\n",
    "# len() fonksiyonu ile toplam kolon sayısına erişiyoruz.\n",
    "print(f\"Veri seti içerisinde toplam {len(airldata.columns)} kolon vardır.\\n\")\n",
    "\n",
    "# Çoğu zaman kullandığımız attribute ve fonksiyonların sonuçlarının hangi tipte veri döndürdüğünü gözlemlemek kod üzerinde hakimiyet kurmak için önemlidir.\n",
    "print(f\"df.columns'un döndüğü veri tipi: {type(airldata.columns)}\\n\")"
   ]
  },
  {
   "cell_type": "code",
   "execution_count": 8,
   "id": "dd699bee",
   "metadata": {
    "execution": {
     "iopub.execute_input": "2024-11-23T13:07:19.539388Z",
     "iopub.status.busy": "2024-11-23T13:07:19.539017Z",
     "iopub.status.idle": "2024-11-23T13:07:19.631448Z",
     "shell.execute_reply": "2024-11-23T13:07:19.629950Z"
    },
    "papermill": {
     "duration": 0.112523,
     "end_time": "2024-11-23T13:07:19.633575",
     "exception": false,
     "start_time": "2024-11-23T13:07:19.521052",
     "status": "completed"
    },
    "tags": []
   },
   "outputs": [
    {
     "name": "stdout",
     "output_type": "stream",
     "text": [
      "<class 'pandas.core.frame.DataFrame'>\n",
      "RangeIndex: 98619 entries, 0 to 98618\n",
      "Data columns (total 15 columns):\n",
      " #   Column                Non-Null Count  Dtype  \n",
      "---  ------                --------------  -----  \n",
      " 0   Passenger ID          95726 non-null  object \n",
      " 1   First Name            95734 non-null  object \n",
      " 2   Last Name             95702 non-null  object \n",
      " 3   Gender                95684 non-null  object \n",
      " 4   Age                   95751 non-null  float64\n",
      " 5   Nationality           95698 non-null  object \n",
      " 6   Airport Name          95615 non-null  object \n",
      " 7   Airport Country Code  95692 non-null  object \n",
      " 8   Country Name          95853 non-null  object \n",
      " 9   Airport Continent     95672 non-null  object \n",
      " 10  Continents            95628 non-null  object \n",
      " 11  Departure Date        95792 non-null  object \n",
      " 12  Arrival Airport       95600 non-null  object \n",
      " 13  Pilot Name            95676 non-null  object \n",
      " 14  Flight Status         95750 non-null  object \n",
      "dtypes: float64(1), object(14)\n",
      "memory usage: 11.3+ MB\n"
     ]
    }
   ],
   "source": [
    "airldata.info()"
   ]
  },
  {
   "cell_type": "code",
   "execution_count": 9,
   "id": "3e14c119",
   "metadata": {
    "execution": {
     "iopub.execute_input": "2024-11-23T13:07:19.669197Z",
     "iopub.status.busy": "2024-11-23T13:07:19.668761Z",
     "iopub.status.idle": "2024-11-23T13:07:19.677185Z",
     "shell.execute_reply": "2024-11-23T13:07:19.676085Z"
    },
    "papermill": {
     "duration": 0.028724,
     "end_time": "2024-11-23T13:07:19.679352",
     "exception": false,
     "start_time": "2024-11-23T13:07:19.650628",
     "status": "completed"
    },
    "tags": []
   },
   "outputs": [
    {
     "data": {
      "text/plain": [
       "Passenger ID             object\n",
       "First Name               object\n",
       "Last Name                object\n",
       "Gender                   object\n",
       "Age                     float64\n",
       "Nationality              object\n",
       "Airport Name             object\n",
       "Airport Country Code     object\n",
       "Country Name             object\n",
       "Airport Continent        object\n",
       "Continents               object\n",
       "Departure Date           object\n",
       "Arrival Airport          object\n",
       "Pilot Name               object\n",
       "Flight Status            object\n",
       "dtype: object"
      ]
     },
     "execution_count": 9,
     "metadata": {},
     "output_type": "execute_result"
    }
   ],
   "source": [
    "airldata.dtypes"
   ]
  },
  {
   "cell_type": "code",
   "execution_count": 10,
   "id": "e72e9219",
   "metadata": {
    "execution": {
     "iopub.execute_input": "2024-11-23T13:07:19.717735Z",
     "iopub.status.busy": "2024-11-23T13:07:19.717311Z",
     "iopub.status.idle": "2024-11-23T13:07:19.723352Z",
     "shell.execute_reply": "2024-11-23T13:07:19.722359Z"
    },
    "papermill": {
     "duration": 0.027441,
     "end_time": "2024-11-23T13:07:19.725646",
     "exception": false,
     "start_time": "2024-11-23T13:07:19.698205",
     "status": "completed"
    },
    "tags": []
   },
   "outputs": [],
   "source": [
    "categorical_features = []\n",
    "numerical_features = []\n",
    "\n",
    "for col in airldata.columns:\n",
    "    if (airldata[col].dtype == \"object\") or (airldata[col].dtype == \"categorical\"):\n",
    "        categorical_features.append(col)\n",
    "    else:\n",
    "        numerical_features.append(col)\n",
    "\n",
    "# ALIŞTIRMA: List comprehension nasıl kullanılır öğrenin ve yukarıdaki listeleri bu yapıyı kullanarak oluşturmaya çalışın."
   ]
  },
  {
   "cell_type": "code",
   "execution_count": 11,
   "id": "925cd0a9",
   "metadata": {
    "execution": {
     "iopub.execute_input": "2024-11-23T13:07:19.762431Z",
     "iopub.status.busy": "2024-11-23T13:07:19.762021Z",
     "iopub.status.idle": "2024-11-23T13:07:19.770332Z",
     "shell.execute_reply": "2024-11-23T13:07:19.769139Z"
    },
    "papermill": {
     "duration": 0.029146,
     "end_time": "2024-11-23T13:07:19.772553",
     "exception": false,
     "start_time": "2024-11-23T13:07:19.743407",
     "status": "completed"
    },
    "tags": []
   },
   "outputs": [
    {
     "data": {
      "text/plain": [
       "(['Passenger ID',\n",
       "  'First Name',\n",
       "  'Last Name',\n",
       "  'Gender',\n",
       "  'Nationality',\n",
       "  'Airport Name',\n",
       "  'Airport Country Code',\n",
       "  'Country Name',\n",
       "  'Airport Continent',\n",
       "  'Continents',\n",
       "  'Departure Date',\n",
       "  'Arrival Airport',\n",
       "  'Pilot Name',\n",
       "  'Flight Status'],\n",
       " ['Age'])"
      ]
     },
     "execution_count": 11,
     "metadata": {},
     "output_type": "execute_result"
    }
   ],
   "source": [
    "categorical_features = [col for col in airldata.columns if airldata[col].dtype in [\"object\", \"categorical\"]]\n",
    "numerical_features = [col for col in airldata.columns if airldata[col].dtype not in [\"object\", \"categorical\"]]\n",
    "categorical_features, numerical_features"
   ]
  },
  {
   "cell_type": "code",
   "execution_count": 12,
   "id": "f579eb3f",
   "metadata": {
    "execution": {
     "iopub.execute_input": "2024-11-23T13:07:19.808868Z",
     "iopub.status.busy": "2024-11-23T13:07:19.808433Z",
     "iopub.status.idle": "2024-11-23T13:07:20.368225Z",
     "shell.execute_reply": "2024-11-23T13:07:20.367069Z"
    },
    "papermill": {
     "duration": 0.580841,
     "end_time": "2024-11-23T13:07:20.370794",
     "exception": false,
     "start_time": "2024-11-23T13:07:19.789953",
     "status": "completed"
    },
    "tags": []
   },
   "outputs": [],
   "source": [
    "for col in airldata.columns:\n",
    "    if col in categorical_features:\n",
    "       airldata[col] = pd.Categorical(airldata[col])"
   ]
  },
  {
   "cell_type": "code",
   "execution_count": 13,
   "id": "a337ddb1",
   "metadata": {
    "execution": {
     "iopub.execute_input": "2024-11-23T13:07:20.407888Z",
     "iopub.status.busy": "2024-11-23T13:07:20.407467Z",
     "iopub.status.idle": "2024-11-23T13:07:20.567079Z",
     "shell.execute_reply": "2024-11-23T13:07:20.565666Z"
    },
    "papermill": {
     "duration": 0.180289,
     "end_time": "2024-11-23T13:07:20.569649",
     "exception": false,
     "start_time": "2024-11-23T13:07:20.389360",
     "status": "completed"
    },
    "tags": []
   },
   "outputs": [
    {
     "name": "stdout",
     "output_type": "stream",
     "text": [
      "<class 'pandas.core.frame.DataFrame'>\n",
      "RangeIndex: 98619 entries, 0 to 98618\n",
      "Data columns (total 15 columns):\n",
      " #   Column                Non-Null Count  Dtype   \n",
      "---  ------                --------------  -----   \n",
      " 0   Passenger ID          95726 non-null  category\n",
      " 1   First Name            95734 non-null  category\n",
      " 2   Last Name             95702 non-null  category\n",
      " 3   Gender                95684 non-null  category\n",
      " 4   Age                   95751 non-null  float64 \n",
      " 5   Nationality           95698 non-null  category\n",
      " 6   Airport Name          95615 non-null  category\n",
      " 7   Airport Country Code  95692 non-null  category\n",
      " 8   Country Name          95853 non-null  category\n",
      " 9   Airport Continent     95672 non-null  category\n",
      " 10  Continents            95628 non-null  category\n",
      " 11  Departure Date        95792 non-null  category\n",
      " 12  Arrival Airport       95600 non-null  category\n",
      " 13  Pilot Name            95676 non-null  category\n",
      " 14  Flight Status         95750 non-null  category\n",
      "dtypes: category(14), float64(1)\n",
      "memory usage: 11.4 MB\n"
     ]
    }
   ],
   "source": [
    "airldata.info()"
   ]
  },
  {
   "cell_type": "code",
   "execution_count": 14,
   "id": "239a3631",
   "metadata": {
    "execution": {
     "iopub.execute_input": "2024-11-23T13:07:20.606574Z",
     "iopub.status.busy": "2024-11-23T13:07:20.606220Z",
     "iopub.status.idle": "2024-11-23T13:07:20.615377Z",
     "shell.execute_reply": "2024-11-23T13:07:20.614007Z"
    },
    "papermill": {
     "duration": 0.030722,
     "end_time": "2024-11-23T13:07:20.617609",
     "exception": false,
     "start_time": "2024-11-23T13:07:20.586887",
     "status": "completed"
    },
    "tags": []
   },
   "outputs": [
    {
     "data": {
      "text/plain": [
       "0    On Time\n",
       "1    On Time\n",
       "2    On Time\n",
       "3    Delayed\n",
       "Name: Flight Status, dtype: category\n",
       "Categories (3, object): ['Cancelled', 'Delayed', 'On Time']"
      ]
     },
     "execution_count": 14,
     "metadata": {},
     "output_type": "execute_result"
    }
   ],
   "source": [
    "airldata['Flight Status'][:4]"
   ]
  },
  {
   "cell_type": "code",
   "execution_count": 15,
   "id": "866b1cdd",
   "metadata": {
    "execution": {
     "iopub.execute_input": "2024-11-23T13:07:20.655418Z",
     "iopub.status.busy": "2024-11-23T13:07:20.655050Z",
     "iopub.status.idle": "2024-11-23T13:07:20.686819Z",
     "shell.execute_reply": "2024-11-23T13:07:20.685582Z"
    },
    "papermill": {
     "duration": 0.054463,
     "end_time": "2024-11-23T13:07:20.690025",
     "exception": false,
     "start_time": "2024-11-23T13:07:20.635562",
     "status": "completed"
    },
    "tags": []
   },
   "outputs": [
    {
     "data": {
      "text/html": [
       "<div>\n",
       "<style scoped>\n",
       "    .dataframe tbody tr th:only-of-type {\n",
       "        vertical-align: middle;\n",
       "    }\n",
       "\n",
       "    .dataframe tbody tr th {\n",
       "        vertical-align: top;\n",
       "    }\n",
       "\n",
       "    .dataframe thead th {\n",
       "        text-align: right;\n",
       "    }\n",
       "</style>\n",
       "<table border=\"1\" class=\"dataframe\">\n",
       "  <thead>\n",
       "    <tr style=\"text-align: right;\">\n",
       "      <th></th>\n",
       "      <th>count</th>\n",
       "      <th>mean</th>\n",
       "      <th>std</th>\n",
       "      <th>min</th>\n",
       "      <th>25%</th>\n",
       "      <th>50%</th>\n",
       "      <th>75%</th>\n",
       "      <th>max</th>\n",
       "    </tr>\n",
       "  </thead>\n",
       "  <tbody>\n",
       "    <tr>\n",
       "      <th>Age</th>\n",
       "      <td>95751.0</td>\n",
       "      <td>45.484538</td>\n",
       "      <td>25.93657</td>\n",
       "      <td>1.0</td>\n",
       "      <td>23.0</td>\n",
       "      <td>46.0</td>\n",
       "      <td>68.0</td>\n",
       "      <td>90.0</td>\n",
       "    </tr>\n",
       "  </tbody>\n",
       "</table>\n",
       "</div>"
      ],
      "text/plain": [
       "       count       mean       std  min   25%   50%   75%   max\n",
       "Age  95751.0  45.484538  25.93657  1.0  23.0  46.0  68.0  90.0"
      ]
     },
     "execution_count": 15,
     "metadata": {},
     "output_type": "execute_result"
    }
   ],
   "source": [
    "airldata.describe().T # -> .T eklentisi elde edeceğimiz çıktıyı transpose eder.\n",
    "\n",
    "# df.describe(include = \"all\") -> Veri setindeki tüm değişkenleri dahil etmek için include parametresine \"all\" değerini verebilirsiniz."
   ]
  },
  {
   "cell_type": "markdown",
   "id": "3d4010b8",
   "metadata": {
    "papermill": {
     "duration": 0.025277,
     "end_time": "2024-11-23T13:07:20.738166",
     "exception": false,
     "start_time": "2024-11-23T13:07:20.712889",
     "status": "completed"
    },
    "tags": []
   },
   "source": [
    "# 2. Eksik Veri Analizi"
   ]
  },
  {
   "cell_type": "code",
   "execution_count": 16,
   "id": "d770f0ac",
   "metadata": {
    "execution": {
     "iopub.execute_input": "2024-11-23T13:07:20.776225Z",
     "iopub.status.busy": "2024-11-23T13:07:20.775809Z",
     "iopub.status.idle": "2024-11-23T13:07:20.787504Z",
     "shell.execute_reply": "2024-11-23T13:07:20.786439Z"
    },
    "papermill": {
     "duration": 0.034405,
     "end_time": "2024-11-23T13:07:20.789997",
     "exception": false,
     "start_time": "2024-11-23T13:07:20.755592",
     "status": "completed"
    },
    "tags": []
   },
   "outputs": [
    {
     "data": {
      "text/plain": [
       "Passenger ID            2893\n",
       "First Name              2885\n",
       "Last Name               2917\n",
       "Gender                  2935\n",
       "Age                     2868\n",
       "Nationality             2921\n",
       "Airport Name            3004\n",
       "Airport Country Code    2927\n",
       "Country Name            2766\n",
       "Airport Continent       2947\n",
       "Continents              2991\n",
       "Departure Date          2827\n",
       "Arrival Airport         3019\n",
       "Pilot Name              2943\n",
       "Flight Status           2869\n",
       "dtype: int64"
      ]
     },
     "execution_count": 16,
     "metadata": {},
     "output_type": "execute_result"
    }
   ],
   "source": [
    "airldata.isna().sum() # -> isna() methodu yerine isnull() methodu da kullanılabilir.\n",
    "\n",
    "# ALIŞTIRMA: Her bir değişken için, o değişkendeki eksik değer sayısının toplam kayıt sayısının % kaçı olduğunu bulunuz."
   ]
  },
  {
   "cell_type": "code",
   "execution_count": 17,
   "id": "d66376ed",
   "metadata": {
    "execution": {
     "iopub.execute_input": "2024-11-23T13:07:20.833975Z",
     "iopub.status.busy": "2024-11-23T13:07:20.833221Z",
     "iopub.status.idle": "2024-11-23T13:07:20.847753Z",
     "shell.execute_reply": "2024-11-23T13:07:20.846670Z"
    },
    "papermill": {
     "duration": 0.042514,
     "end_time": "2024-11-23T13:07:20.850991",
     "exception": false,
     "start_time": "2024-11-23T13:07:20.808477",
     "status": "completed"
    },
    "tags": []
   },
   "outputs": [
    {
     "data": {
      "text/plain": [
       "{'Passenger ID': 2.933511797929405,\n",
       " 'First Name': 2.9253997708352344,\n",
       " 'Last Name': 2.9578478792119167,\n",
       " 'Gender': 2.9760999401738,\n",
       " 'Age': 2.9081617132601223,\n",
       " 'Nationality': 2.961903892759002,\n",
       " 'Airport Name': 3.046066173861021,\n",
       " 'Airport Country Code': 2.9679879130796296,\n",
       " 'Country Name': 2.8047333678094484,\n",
       " 'Airport Continent': 2.988267980815056,\n",
       " 'Continents': 3.0328841298329934,\n",
       " 'Departure Date': 2.8665875744024985,\n",
       " 'Arrival Airport': 3.0612762246625906,\n",
       " 'Pilot Name': 2.9842119672679708,\n",
       " 'Flight Status': 2.9091757166468937}"
      ]
     },
     "execution_count": 17,
     "metadata": {},
     "output_type": "execute_result"
    }
   ],
   "source": [
    "missing_percentage={col:(airldata[col].isna().sum()/len(airldata))*100 for col in airldata.columns}\n",
    "missing_percentage"
   ]
  },
  {
   "cell_type": "code",
   "execution_count": 18,
   "id": "5fe9b4de",
   "metadata": {
    "execution": {
     "iopub.execute_input": "2024-11-23T13:07:20.912611Z",
     "iopub.status.busy": "2024-11-23T13:07:20.912087Z",
     "iopub.status.idle": "2024-11-23T13:07:20.924660Z",
     "shell.execute_reply": "2024-11-23T13:07:20.923961Z"
    },
    "papermill": {
     "duration": 0.049145,
     "end_time": "2024-11-23T13:07:20.927444",
     "exception": false,
     "start_time": "2024-11-23T13:07:20.878299",
     "status": "completed"
    },
    "tags": []
   },
   "outputs": [
    {
     "data": {
      "text/plain": [
       "43712"
      ]
     },
     "execution_count": 18,
     "metadata": {},
     "output_type": "execute_result"
    }
   ],
   "source": [
    "airldata.isna().sum().sum()"
   ]
  },
  {
   "cell_type": "code",
   "execution_count": 19,
   "id": "b88c96d5",
   "metadata": {
    "execution": {
     "iopub.execute_input": "2024-11-23T13:07:20.971492Z",
     "iopub.status.busy": "2024-11-23T13:07:20.971078Z",
     "iopub.status.idle": "2024-11-23T13:07:20.983094Z",
     "shell.execute_reply": "2024-11-23T13:07:20.981767Z"
    },
    "papermill": {
     "duration": 0.03407,
     "end_time": "2024-11-23T13:07:20.985427",
     "exception": false,
     "start_time": "2024-11-23T13:07:20.951357",
     "status": "completed"
    },
    "tags": []
   },
   "outputs": [
    {
     "data": {
      "text/plain": [
       "Passenger ID            95726\n",
       "First Name              95734\n",
       "Last Name               95702\n",
       "Gender                  95684\n",
       "Age                     95751\n",
       "Nationality             95698\n",
       "Airport Name            95615\n",
       "Airport Country Code    95692\n",
       "Country Name            95853\n",
       "Airport Continent       95672\n",
       "Continents              95628\n",
       "Departure Date          95792\n",
       "Arrival Airport         95600\n",
       "Pilot Name              95676\n",
       "Flight Status           95750\n",
       "dtype: int64"
      ]
     },
     "execution_count": 19,
     "metadata": {},
     "output_type": "execute_result"
    }
   ],
   "source": [
    "# Eksik olmayan değerlerin sayısı\n",
    "airldata.notnull().sum()\n"
   ]
  },
  {
   "cell_type": "code",
   "execution_count": 20,
   "id": "79eb00ce",
   "metadata": {
    "execution": {
     "iopub.execute_input": "2024-11-23T13:07:21.027598Z",
     "iopub.status.busy": "2024-11-23T13:07:21.026432Z",
     "iopub.status.idle": "2024-11-23T13:07:21.040225Z",
     "shell.execute_reply": "2024-11-23T13:07:21.039010Z"
    },
    "papermill": {
     "duration": 0.039006,
     "end_time": "2024-11-23T13:07:21.042498",
     "exception": false,
     "start_time": "2024-11-23T13:07:21.003492",
     "status": "completed"
    },
    "tags": []
   },
   "outputs": [
    {
     "name": "stdout",
     "output_type": "stream",
     "text": [
      "Veri seti içerisinde toplam 1435573 adet eksik olmayan, 43712 eksik gözlem var.\n"
     ]
    }
   ],
   "source": [
    "# Veri setinde toplam kaç adet eksik gözlem var, kaç adet eksik olmayan gözlem var görelim.\n",
    "print(f\"Veri seti içerisinde toplam {airldata.notnull().sum().sum()} adet eksik olmayan, {airldata.isnull().sum().sum()} eksik gözlem var.\")"
   ]
  },
  {
   "cell_type": "code",
   "execution_count": 21,
   "id": "f4975f3c",
   "metadata": {
    "execution": {
     "iopub.execute_input": "2024-11-23T13:07:21.087032Z",
     "iopub.status.busy": "2024-11-23T13:07:21.086151Z",
     "iopub.status.idle": "2024-11-23T13:07:21.114998Z",
     "shell.execute_reply": "2024-11-23T13:07:21.113970Z"
    },
    "papermill": {
     "duration": 0.052202,
     "end_time": "2024-11-23T13:07:21.117253",
     "exception": false,
     "start_time": "2024-11-23T13:07:21.065051",
     "status": "completed"
    },
    "tags": []
   },
   "outputs": [
    {
     "data": {
      "text/html": [
       "<div>\n",
       "<style scoped>\n",
       "    .dataframe tbody tr th:only-of-type {\n",
       "        vertical-align: middle;\n",
       "    }\n",
       "\n",
       "    .dataframe tbody tr th {\n",
       "        vertical-align: top;\n",
       "    }\n",
       "\n",
       "    .dataframe thead th {\n",
       "        text-align: right;\n",
       "    }\n",
       "</style>\n",
       "<table border=\"1\" class=\"dataframe\">\n",
       "  <thead>\n",
       "    <tr style=\"text-align: right;\">\n",
       "      <th></th>\n",
       "      <th>Passenger ID</th>\n",
       "      <th>First Name</th>\n",
       "      <th>Last Name</th>\n",
       "      <th>Gender</th>\n",
       "      <th>Age</th>\n",
       "      <th>Nationality</th>\n",
       "      <th>Airport Name</th>\n",
       "      <th>Airport Country Code</th>\n",
       "      <th>Country Name</th>\n",
       "      <th>Airport Continent</th>\n",
       "      <th>Continents</th>\n",
       "      <th>Departure Date</th>\n",
       "      <th>Arrival Airport</th>\n",
       "      <th>Pilot Name</th>\n",
       "      <th>Flight Status</th>\n",
       "    </tr>\n",
       "  </thead>\n",
       "  <tbody>\n",
       "    <tr>\n",
       "      <th>1</th>\n",
       "      <td>jkXXAX</td>\n",
       "      <td>Elwood</td>\n",
       "      <td>Catt</td>\n",
       "      <td>Male</td>\n",
       "      <td>NaN</td>\n",
       "      <td>Nicaragua</td>\n",
       "      <td>Kugluktuk Airport</td>\n",
       "      <td>CA</td>\n",
       "      <td>Canada</td>\n",
       "      <td>NAM</td>\n",
       "      <td>North America</td>\n",
       "      <td>12/26/2022</td>\n",
       "      <td>YCO</td>\n",
       "      <td>Marla Parsonage</td>\n",
       "      <td>On Time</td>\n",
       "    </tr>\n",
       "    <tr>\n",
       "      <th>4</th>\n",
       "      <td>9kvTLo</td>\n",
       "      <td>Bay</td>\n",
       "      <td>NaN</td>\n",
       "      <td>Male</td>\n",
       "      <td>21.0</td>\n",
       "      <td>China</td>\n",
       "      <td>Gillespie Field</td>\n",
       "      <td>US</td>\n",
       "      <td>United States</td>\n",
       "      <td>NAM</td>\n",
       "      <td>North America</td>\n",
       "      <td>2/25/2022</td>\n",
       "      <td>SEE</td>\n",
       "      <td>Ebonee Tree</td>\n",
       "      <td>On Time</td>\n",
       "    </tr>\n",
       "    <tr>\n",
       "      <th>6</th>\n",
       "      <td>NaN</td>\n",
       "      <td>Rand</td>\n",
       "      <td>Bram</td>\n",
       "      <td>Male</td>\n",
       "      <td>73.0</td>\n",
       "      <td>Ivory Coast</td>\n",
       "      <td>Duxford Aerodrome</td>\n",
       "      <td>GB</td>\n",
       "      <td>United Kingdom</td>\n",
       "      <td>EU</td>\n",
       "      <td>Europe</td>\n",
       "      <td>10/30/2022</td>\n",
       "      <td>QFO</td>\n",
       "      <td>Stanislas Tiffin</td>\n",
       "      <td>Cancelled</td>\n",
       "    </tr>\n",
       "    <tr>\n",
       "      <th>7</th>\n",
       "      <td>pqixbY</td>\n",
       "      <td>Perceval</td>\n",
       "      <td>Dallosso</td>\n",
       "      <td>Male</td>\n",
       "      <td>36.0</td>\n",
       "      <td>Vietnam</td>\n",
       "      <td>Maestro Wilson Fonseca Airport</td>\n",
       "      <td>BR</td>\n",
       "      <td>Brazil</td>\n",
       "      <td>SAM</td>\n",
       "      <td>South America</td>\n",
       "      <td>NaN</td>\n",
       "      <td>STM</td>\n",
       "      <td>NaN</td>\n",
       "      <td>Cancelled</td>\n",
       "    </tr>\n",
       "    <tr>\n",
       "      <th>9</th>\n",
       "      <td>3jmudz</td>\n",
       "      <td>Burlie</td>\n",
       "      <td>Schustl</td>\n",
       "      <td>Male</td>\n",
       "      <td>13.0</td>\n",
       "      <td>Thailand</td>\n",
       "      <td>Vermilion Airport</td>\n",
       "      <td>NaN</td>\n",
       "      <td>Canada</td>\n",
       "      <td>NAM</td>\n",
       "      <td>North America</td>\n",
       "      <td>04-06-2022</td>\n",
       "      <td>YVG</td>\n",
       "      <td>Alameda Carlyle</td>\n",
       "      <td>On Time</td>\n",
       "    </tr>\n",
       "    <tr>\n",
       "      <th>...</th>\n",
       "      <td>...</td>\n",
       "      <td>...</td>\n",
       "      <td>...</td>\n",
       "      <td>...</td>\n",
       "      <td>...</td>\n",
       "      <td>...</td>\n",
       "      <td>...</td>\n",
       "      <td>...</td>\n",
       "      <td>...</td>\n",
       "      <td>...</td>\n",
       "      <td>...</td>\n",
       "      <td>...</td>\n",
       "      <td>...</td>\n",
       "      <td>...</td>\n",
       "      <td>...</td>\n",
       "    </tr>\n",
       "    <tr>\n",
       "      <th>98610</th>\n",
       "      <td>Wahnk2</td>\n",
       "      <td>Che</td>\n",
       "      <td>Pressland</td>\n",
       "      <td>Male</td>\n",
       "      <td>83.0</td>\n",
       "      <td>France</td>\n",
       "      <td>Warangal Airport</td>\n",
       "      <td>IN</td>\n",
       "      <td>NaN</td>\n",
       "      <td>AS</td>\n",
       "      <td>Asia</td>\n",
       "      <td>08-05-2022</td>\n",
       "      <td>WGC</td>\n",
       "      <td>Moishe Ong</td>\n",
       "      <td>Cancelled</td>\n",
       "    </tr>\n",
       "    <tr>\n",
       "      <th>98612</th>\n",
       "      <td>NaN</td>\n",
       "      <td>Ody</td>\n",
       "      <td>Tineman</td>\n",
       "      <td>Male</td>\n",
       "      <td>82.0</td>\n",
       "      <td>Indonesia</td>\n",
       "      <td>Five Mile Airport</td>\n",
       "      <td>US</td>\n",
       "      <td>United States</td>\n",
       "      <td>NAM</td>\n",
       "      <td>North America</td>\n",
       "      <td>3/17/2022</td>\n",
       "      <td>FMC</td>\n",
       "      <td>Truman Philbrook</td>\n",
       "      <td>Delayed</td>\n",
       "    </tr>\n",
       "    <tr>\n",
       "      <th>98616</th>\n",
       "      <td>VUPiVG</td>\n",
       "      <td>NaN</td>\n",
       "      <td>Lucken</td>\n",
       "      <td>Male</td>\n",
       "      <td>65.0</td>\n",
       "      <td>Indonesia</td>\n",
       "      <td>Albacete-Los Llanos Airport</td>\n",
       "      <td>ES</td>\n",
       "      <td>Spain</td>\n",
       "      <td>EU</td>\n",
       "      <td>Europe</td>\n",
       "      <td>NaN</td>\n",
       "      <td>ABC</td>\n",
       "      <td>Gearalt Main</td>\n",
       "      <td>NaN</td>\n",
       "    </tr>\n",
       "    <tr>\n",
       "      <th>98617</th>\n",
       "      <td>E47NtS</td>\n",
       "      <td>Gayle</td>\n",
       "      <td>Lievesley</td>\n",
       "      <td>Female</td>\n",
       "      <td>34.0</td>\n",
       "      <td>China</td>\n",
       "      <td>Gagnoa Airport</td>\n",
       "      <td>CI</td>\n",
       "      <td>NaN</td>\n",
       "      <td>AF</td>\n",
       "      <td>Africa</td>\n",
       "      <td>NaN</td>\n",
       "      <td>GGN</td>\n",
       "      <td>Judon Chasle</td>\n",
       "      <td>Cancelled</td>\n",
       "    </tr>\n",
       "    <tr>\n",
       "      <th>98618</th>\n",
       "      <td>8JYEcz</td>\n",
       "      <td>Wilhelmine</td>\n",
       "      <td>NaN</td>\n",
       "      <td>Female</td>\n",
       "      <td>10.0</td>\n",
       "      <td>Poland</td>\n",
       "      <td>Yoshkar-Ola Airport</td>\n",
       "      <td>RU</td>\n",
       "      <td>Russian Federation</td>\n",
       "      <td>EU</td>\n",
       "      <td>Europe</td>\n",
       "      <td>4/16/2022</td>\n",
       "      <td>JOK</td>\n",
       "      <td>Auguste Tindley</td>\n",
       "      <td>NaN</td>\n",
       "    </tr>\n",
       "  </tbody>\n",
       "</table>\n",
       "<p>35673 rows × 15 columns</p>\n",
       "</div>"
      ],
      "text/plain": [
       "      Passenger ID  First Name  Last Name  Gender   Age  Nationality  \\\n",
       "1           jkXXAX      Elwood       Catt    Male   NaN    Nicaragua   \n",
       "4           9kvTLo         Bay        NaN    Male  21.0        China   \n",
       "6              NaN        Rand       Bram    Male  73.0  Ivory Coast   \n",
       "7           pqixbY    Perceval   Dallosso    Male  36.0      Vietnam   \n",
       "9           3jmudz      Burlie    Schustl    Male  13.0     Thailand   \n",
       "...            ...         ...        ...     ...   ...          ...   \n",
       "98610       Wahnk2         Che  Pressland    Male  83.0       France   \n",
       "98612          NaN         Ody    Tineman    Male  82.0    Indonesia   \n",
       "98616       VUPiVG         NaN     Lucken    Male  65.0    Indonesia   \n",
       "98617       E47NtS       Gayle  Lievesley  Female  34.0        China   \n",
       "98618       8JYEcz  Wilhelmine        NaN  Female  10.0       Poland   \n",
       "\n",
       "                         Airport Name Airport Country Code  \\\n",
       "1                   Kugluktuk Airport                   CA   \n",
       "4                     Gillespie Field                   US   \n",
       "6                   Duxford Aerodrome                   GB   \n",
       "7      Maestro Wilson Fonseca Airport                   BR   \n",
       "9                   Vermilion Airport                  NaN   \n",
       "...                               ...                  ...   \n",
       "98610                Warangal Airport                   IN   \n",
       "98612               Five Mile Airport                   US   \n",
       "98616     Albacete-Los Llanos Airport                   ES   \n",
       "98617                  Gagnoa Airport                   CI   \n",
       "98618             Yoshkar-Ola Airport                   RU   \n",
       "\n",
       "             Country Name Airport Continent     Continents Departure Date  \\\n",
       "1                  Canada               NAM  North America     12/26/2022   \n",
       "4           United States               NAM  North America      2/25/2022   \n",
       "6          United Kingdom                EU         Europe     10/30/2022   \n",
       "7                  Brazil               SAM  South America            NaN   \n",
       "9                  Canada               NAM  North America     04-06-2022   \n",
       "...                   ...               ...            ...            ...   \n",
       "98610                 NaN                AS           Asia     08-05-2022   \n",
       "98612       United States               NAM  North America      3/17/2022   \n",
       "98616               Spain                EU         Europe            NaN   \n",
       "98617                 NaN                AF         Africa            NaN   \n",
       "98618  Russian Federation                EU         Europe      4/16/2022   \n",
       "\n",
       "      Arrival Airport        Pilot Name Flight Status  \n",
       "1                 YCO   Marla Parsonage       On Time  \n",
       "4                 SEE       Ebonee Tree       On Time  \n",
       "6                 QFO  Stanislas Tiffin     Cancelled  \n",
       "7                 STM               NaN     Cancelled  \n",
       "9                 YVG   Alameda Carlyle       On Time  \n",
       "...               ...               ...           ...  \n",
       "98610             WGC        Moishe Ong     Cancelled  \n",
       "98612             FMC  Truman Philbrook       Delayed  \n",
       "98616             ABC      Gearalt Main           NaN  \n",
       "98617             GGN      Judon Chasle     Cancelled  \n",
       "98618             JOK   Auguste Tindley           NaN  \n",
       "\n",
       "[35673 rows x 15 columns]"
      ]
     },
     "execution_count": 21,
     "metadata": {},
     "output_type": "execute_result"
    }
   ],
   "source": [
    "# Veri setinde en az bir gözlemi eksik olan kayıtlara da ulaşabiliriz.\n",
    "airldata[airldata.isnull().any(axis = 1)]"
   ]
  },
  {
   "cell_type": "code",
   "execution_count": 22,
   "id": "822ae639",
   "metadata": {
    "execution": {
     "iopub.execute_input": "2024-11-23T13:07:21.156022Z",
     "iopub.status.busy": "2024-11-23T13:07:21.155629Z",
     "iopub.status.idle": "2024-11-23T13:07:21.181089Z",
     "shell.execute_reply": "2024-11-23T13:07:21.179869Z"
    },
    "papermill": {
     "duration": 0.047592,
     "end_time": "2024-11-23T13:07:21.183440",
     "exception": false,
     "start_time": "2024-11-23T13:07:21.135848",
     "status": "completed"
    },
    "tags": []
   },
   "outputs": [
    {
     "data": {
      "text/html": [
       "<div>\n",
       "<style scoped>\n",
       "    .dataframe tbody tr th:only-of-type {\n",
       "        vertical-align: middle;\n",
       "    }\n",
       "\n",
       "    .dataframe tbody tr th {\n",
       "        vertical-align: top;\n",
       "    }\n",
       "\n",
       "    .dataframe thead th {\n",
       "        text-align: right;\n",
       "    }\n",
       "</style>\n",
       "<table border=\"1\" class=\"dataframe\">\n",
       "  <thead>\n",
       "    <tr style=\"text-align: right;\">\n",
       "      <th></th>\n",
       "      <th>Passenger ID</th>\n",
       "      <th>First Name</th>\n",
       "      <th>Last Name</th>\n",
       "      <th>Gender</th>\n",
       "      <th>Age</th>\n",
       "      <th>Nationality</th>\n",
       "      <th>Airport Name</th>\n",
       "      <th>Airport Country Code</th>\n",
       "      <th>Country Name</th>\n",
       "      <th>Airport Continent</th>\n",
       "      <th>Continents</th>\n",
       "      <th>Departure Date</th>\n",
       "      <th>Arrival Airport</th>\n",
       "      <th>Pilot Name</th>\n",
       "      <th>Flight Status</th>\n",
       "    </tr>\n",
       "  </thead>\n",
       "  <tbody>\n",
       "    <tr>\n",
       "      <th>0</th>\n",
       "      <td>ABVWIg</td>\n",
       "      <td>Edithe</td>\n",
       "      <td>Leggis</td>\n",
       "      <td>Female</td>\n",
       "      <td>62.0</td>\n",
       "      <td>Japan</td>\n",
       "      <td>Coldfoot Airport</td>\n",
       "      <td>US</td>\n",
       "      <td>United States</td>\n",
       "      <td>NAM</td>\n",
       "      <td>North America</td>\n",
       "      <td>6/28/2022</td>\n",
       "      <td>CXF</td>\n",
       "      <td>Fransisco Hazeldine</td>\n",
       "      <td>On Time</td>\n",
       "    </tr>\n",
       "    <tr>\n",
       "      <th>2</th>\n",
       "      <td>CdUz2g</td>\n",
       "      <td>Darby</td>\n",
       "      <td>Felgate</td>\n",
       "      <td>Male</td>\n",
       "      <td>67.0</td>\n",
       "      <td>Russia</td>\n",
       "      <td>Grenoble-Isère Airport</td>\n",
       "      <td>FR</td>\n",
       "      <td>France</td>\n",
       "      <td>EU</td>\n",
       "      <td>Europe</td>\n",
       "      <td>1/18/2022</td>\n",
       "      <td>GNB</td>\n",
       "      <td>Rhonda Amber</td>\n",
       "      <td>On Time</td>\n",
       "    </tr>\n",
       "    <tr>\n",
       "      <th>3</th>\n",
       "      <td>BRS38V</td>\n",
       "      <td>Dominica</td>\n",
       "      <td>Pyle</td>\n",
       "      <td>Female</td>\n",
       "      <td>71.0</td>\n",
       "      <td>China</td>\n",
       "      <td>Ottawa / Gatineau Airport</td>\n",
       "      <td>CA</td>\n",
       "      <td>Canada</td>\n",
       "      <td>NAM</td>\n",
       "      <td>North America</td>\n",
       "      <td>9/16/2022</td>\n",
       "      <td>YND</td>\n",
       "      <td>Kacie Commucci</td>\n",
       "      <td>Delayed</td>\n",
       "    </tr>\n",
       "    <tr>\n",
       "      <th>5</th>\n",
       "      <td>nMJKVh</td>\n",
       "      <td>Lora</td>\n",
       "      <td>Durbann</td>\n",
       "      <td>Female</td>\n",
       "      <td>55.0</td>\n",
       "      <td>Brazil</td>\n",
       "      <td>Coronel Horácio de Mattos Airport</td>\n",
       "      <td>BR</td>\n",
       "      <td>Brazil</td>\n",
       "      <td>SAM</td>\n",
       "      <td>South America</td>\n",
       "      <td>06-10-2022</td>\n",
       "      <td>LEC</td>\n",
       "      <td>Inglis Dolley</td>\n",
       "      <td>On Time</td>\n",
       "    </tr>\n",
       "    <tr>\n",
       "      <th>8</th>\n",
       "      <td>QNAs2R</td>\n",
       "      <td>Aleda</td>\n",
       "      <td>Pigram</td>\n",
       "      <td>Female</td>\n",
       "      <td>35.0</td>\n",
       "      <td>Palestinian Territory</td>\n",
       "      <td>Venice Marco Polo Airport</td>\n",
       "      <td>IT</td>\n",
       "      <td>Italy</td>\n",
       "      <td>EU</td>\n",
       "      <td>Europe</td>\n",
       "      <td>8/20/2022</td>\n",
       "      <td>VCE</td>\n",
       "      <td>Daryn Bardsley</td>\n",
       "      <td>On Time</td>\n",
       "    </tr>\n",
       "  </tbody>\n",
       "</table>\n",
       "</div>"
      ],
      "text/plain": [
       "  Passenger ID First Name Last Name  Gender   Age            Nationality  \\\n",
       "0       ABVWIg     Edithe    Leggis  Female  62.0                  Japan   \n",
       "2       CdUz2g      Darby   Felgate    Male  67.0                 Russia   \n",
       "3       BRS38V   Dominica      Pyle  Female  71.0                  China   \n",
       "5       nMJKVh       Lora   Durbann  Female  55.0                 Brazil   \n",
       "8       QNAs2R      Aleda    Pigram  Female  35.0  Palestinian Territory   \n",
       "\n",
       "                        Airport Name Airport Country Code   Country Name  \\\n",
       "0                   Coldfoot Airport                   US  United States   \n",
       "2             Grenoble-Isère Airport                   FR         France   \n",
       "3          Ottawa / Gatineau Airport                   CA         Canada   \n",
       "5  Coronel Horácio de Mattos Airport                   BR         Brazil   \n",
       "8          Venice Marco Polo Airport                   IT          Italy   \n",
       "\n",
       "  Airport Continent     Continents Departure Date Arrival Airport  \\\n",
       "0               NAM  North America      6/28/2022             CXF   \n",
       "2                EU         Europe      1/18/2022             GNB   \n",
       "3               NAM  North America      9/16/2022             YND   \n",
       "5               SAM  South America     06-10-2022             LEC   \n",
       "8                EU         Europe      8/20/2022             VCE   \n",
       "\n",
       "            Pilot Name Flight Status  \n",
       "0  Fransisco Hazeldine       On Time  \n",
       "2         Rhonda Amber       On Time  \n",
       "3       Kacie Commucci       Delayed  \n",
       "5        Inglis Dolley       On Time  \n",
       "8       Daryn Bardsley       On Time  "
      ]
     },
     "execution_count": 22,
     "metadata": {},
     "output_type": "execute_result"
    }
   ],
   "source": [
    "# Hiç eksik gözlemi bulunmayan kayıtları getirelim.\n",
    "airldata[airldata.notnull().all(axis = 1)][:5]"
   ]
  },
  {
   "cell_type": "code",
   "execution_count": 23,
   "id": "391e91a5",
   "metadata": {
    "execution": {
     "iopub.execute_input": "2024-11-23T13:07:21.222347Z",
     "iopub.status.busy": "2024-11-23T13:07:21.221966Z",
     "iopub.status.idle": "2024-11-23T13:07:22.635127Z",
     "shell.execute_reply": "2024-11-23T13:07:22.633890Z"
    },
    "papermill": {
     "duration": 1.435555,
     "end_time": "2024-11-23T13:07:22.637674",
     "exception": false,
     "start_time": "2024-11-23T13:07:21.202119",
     "status": "completed"
    },
    "tags": []
   },
   "outputs": [
    {
     "data": {
      "image/png": "[encoded data removed]",
      "text/plain": [
       "<Figure size 800x500 with 3 Axes>"
      ]
     },
     "metadata": {},
     "output_type": "display_data"
    }
   ],
   "source": [
    "#!pip install missingno -> missingno kütüphanesini kullanabilmek için öncelikle yüklemeniz lazım.\n",
    "\n",
    "import missingno as msno\n",
    "\n",
    "msno.bar(df = airldata ,\n",
    "         figsize = (8, 5),\n",
    "         fontsize = 13);"
   ]
  },
  {
   "cell_type": "code",
   "execution_count": 24,
   "id": "7cbc838d",
   "metadata": {
    "execution": {
     "iopub.execute_input": "2024-11-23T13:07:22.679529Z",
     "iopub.status.busy": "2024-11-23T13:07:22.679161Z",
     "iopub.status.idle": "2024-11-23T13:07:23.149740Z",
     "shell.execute_reply": "2024-11-23T13:07:23.148444Z"
    },
    "papermill": {
     "duration": 0.494114,
     "end_time": "2024-11-23T13:07:23.152060",
     "exception": false,
     "start_time": "2024-11-23T13:07:22.657946",
     "status": "completed"
    },
    "tags": []
   },
   "outputs": [
    {
     "data": {
      "image/png": "[encoded data removed]",
      "text/plain": [
       "<Figure size 1000x700 with 2 Axes>"
      ]
     },
     "metadata": {},
     "output_type": "display_data"
    }
   ],
   "source": [
    "# msno.matrix(), değişkenlerde bulunan eksik değerlerin ilişkili olup olmadığını görsel yolla tespit etmek için kullanılabilir.\n",
    "msno.matrix(df = airldata[['Age','Nationality']],\n",
    "            figsize = (10, 7),\n",
    "            fontsize = 11);"
   ]
  },
  {
   "cell_type": "code",
   "execution_count": 25,
   "id": "2bf982a9",
   "metadata": {
    "execution": {
     "iopub.execute_input": "2024-11-23T13:07:23.196998Z",
     "iopub.status.busy": "2024-11-23T13:07:23.196570Z",
     "iopub.status.idle": "2024-11-23T13:07:23.916207Z",
     "shell.execute_reply": "2024-11-23T13:07:23.915009Z"
    },
    "papermill": {
     "duration": 0.745074,
     "end_time": "2024-11-23T13:07:23.918332",
     "exception": false,
     "start_time": "2024-11-23T13:07:23.173258",
     "status": "completed"
    },
    "tags": []
   },
   "outputs": [
    {
     "data": {
      "image/png": "[encoded data removed]",
      "text/plain": [
       "<Figure size 1000x700 with 2 Axes>"
      ]
     },
     "metadata": {},
     "output_type": "display_data"
    }
   ],
   "source": [
    "# Nullity Correlation (Heatmap)\n",
    "# 1'e ne kadar yakınsa, ilişki ihtimali o kadar yüksek.\n",
    "# 0 ise, birbirlerini etkileyen bir durum yoktur.\n",
    "msno.heatmap(df = airldata,\n",
    "             figsize = (10, 7),\n",
    "             fontsize = 11);"
   ]
  },
  {
   "cell_type": "code",
   "execution_count": 26,
   "id": "9e087f3d",
   "metadata": {
    "execution": {
     "iopub.execute_input": "2024-11-23T13:07:23.964530Z",
     "iopub.status.busy": "2024-11-23T13:07:23.963502Z",
     "iopub.status.idle": "2024-11-23T13:07:23.990290Z",
     "shell.execute_reply": "2024-11-23T13:07:23.989104Z"
    },
    "papermill": {
     "duration": 0.052375,
     "end_time": "2024-11-23T13:07:23.992627",
     "exception": false,
     "start_time": "2024-11-23T13:07:23.940252",
     "status": "completed"
    },
    "tags": []
   },
   "outputs": [
    {
     "data": {
      "text/html": [
       "<div>\n",
       "<style scoped>\n",
       "    .dataframe tbody tr th:only-of-type {\n",
       "        vertical-align: middle;\n",
       "    }\n",
       "\n",
       "    .dataframe tbody tr th {\n",
       "        vertical-align: top;\n",
       "    }\n",
       "\n",
       "    .dataframe thead th {\n",
       "        text-align: right;\n",
       "    }\n",
       "</style>\n",
       "<table border=\"1\" class=\"dataframe\">\n",
       "  <thead>\n",
       "    <tr style=\"text-align: right;\">\n",
       "      <th></th>\n",
       "      <th>Passenger ID</th>\n",
       "      <th>First Name</th>\n",
       "      <th>Last Name</th>\n",
       "      <th>Gender</th>\n",
       "      <th>Age</th>\n",
       "      <th>Nationality</th>\n",
       "      <th>Airport Name</th>\n",
       "      <th>Airport Country Code</th>\n",
       "      <th>Country Name</th>\n",
       "      <th>Airport Continent</th>\n",
       "      <th>Continents</th>\n",
       "      <th>Departure Date</th>\n",
       "      <th>Arrival Airport</th>\n",
       "      <th>Pilot Name</th>\n",
       "      <th>Flight Status</th>\n",
       "    </tr>\n",
       "  </thead>\n",
       "  <tbody>\n",
       "    <tr>\n",
       "      <th>0</th>\n",
       "      <td>ABVWIg</td>\n",
       "      <td>Edithe</td>\n",
       "      <td>Leggis</td>\n",
       "      <td>Female</td>\n",
       "      <td>62.0</td>\n",
       "      <td>Japan</td>\n",
       "      <td>Coldfoot Airport</td>\n",
       "      <td>US</td>\n",
       "      <td>United States</td>\n",
       "      <td>NAM</td>\n",
       "      <td>North America</td>\n",
       "      <td>6/28/2022</td>\n",
       "      <td>CXF</td>\n",
       "      <td>Fransisco Hazeldine</td>\n",
       "      <td>On Time</td>\n",
       "    </tr>\n",
       "    <tr>\n",
       "      <th>2</th>\n",
       "      <td>CdUz2g</td>\n",
       "      <td>Darby</td>\n",
       "      <td>Felgate</td>\n",
       "      <td>Male</td>\n",
       "      <td>67.0</td>\n",
       "      <td>Russia</td>\n",
       "      <td>Grenoble-Isère Airport</td>\n",
       "      <td>FR</td>\n",
       "      <td>France</td>\n",
       "      <td>EU</td>\n",
       "      <td>Europe</td>\n",
       "      <td>1/18/2022</td>\n",
       "      <td>GNB</td>\n",
       "      <td>Rhonda Amber</td>\n",
       "      <td>On Time</td>\n",
       "    </tr>\n",
       "    <tr>\n",
       "      <th>3</th>\n",
       "      <td>BRS38V</td>\n",
       "      <td>Dominica</td>\n",
       "      <td>Pyle</td>\n",
       "      <td>Female</td>\n",
       "      <td>71.0</td>\n",
       "      <td>China</td>\n",
       "      <td>Ottawa / Gatineau Airport</td>\n",
       "      <td>CA</td>\n",
       "      <td>Canada</td>\n",
       "      <td>NAM</td>\n",
       "      <td>North America</td>\n",
       "      <td>9/16/2022</td>\n",
       "      <td>YND</td>\n",
       "      <td>Kacie Commucci</td>\n",
       "      <td>Delayed</td>\n",
       "    </tr>\n",
       "    <tr>\n",
       "      <th>5</th>\n",
       "      <td>nMJKVh</td>\n",
       "      <td>Lora</td>\n",
       "      <td>Durbann</td>\n",
       "      <td>Female</td>\n",
       "      <td>55.0</td>\n",
       "      <td>Brazil</td>\n",
       "      <td>Coronel Horácio de Mattos Airport</td>\n",
       "      <td>BR</td>\n",
       "      <td>Brazil</td>\n",
       "      <td>SAM</td>\n",
       "      <td>South America</td>\n",
       "      <td>06-10-2022</td>\n",
       "      <td>LEC</td>\n",
       "      <td>Inglis Dolley</td>\n",
       "      <td>On Time</td>\n",
       "    </tr>\n",
       "    <tr>\n",
       "      <th>8</th>\n",
       "      <td>QNAs2R</td>\n",
       "      <td>Aleda</td>\n",
       "      <td>Pigram</td>\n",
       "      <td>Female</td>\n",
       "      <td>35.0</td>\n",
       "      <td>Palestinian Territory</td>\n",
       "      <td>Venice Marco Polo Airport</td>\n",
       "      <td>IT</td>\n",
       "      <td>Italy</td>\n",
       "      <td>EU</td>\n",
       "      <td>Europe</td>\n",
       "      <td>8/20/2022</td>\n",
       "      <td>VCE</td>\n",
       "      <td>Daryn Bardsley</td>\n",
       "      <td>On Time</td>\n",
       "    </tr>\n",
       "  </tbody>\n",
       "</table>\n",
       "</div>"
      ],
      "text/plain": [
       "  Passenger ID First Name Last Name  Gender   Age            Nationality  \\\n",
       "0       ABVWIg     Edithe    Leggis  Female  62.0                  Japan   \n",
       "2       CdUz2g      Darby   Felgate    Male  67.0                 Russia   \n",
       "3       BRS38V   Dominica      Pyle  Female  71.0                  China   \n",
       "5       nMJKVh       Lora   Durbann  Female  55.0                 Brazil   \n",
       "8       QNAs2R      Aleda    Pigram  Female  35.0  Palestinian Territory   \n",
       "\n",
       "                        Airport Name Airport Country Code   Country Name  \\\n",
       "0                   Coldfoot Airport                   US  United States   \n",
       "2             Grenoble-Isère Airport                   FR         France   \n",
       "3          Ottawa / Gatineau Airport                   CA         Canada   \n",
       "5  Coronel Horácio de Mattos Airport                   BR         Brazil   \n",
       "8          Venice Marco Polo Airport                   IT          Italy   \n",
       "\n",
       "  Airport Continent     Continents Departure Date Arrival Airport  \\\n",
       "0               NAM  North America      6/28/2022             CXF   \n",
       "2                EU         Europe      1/18/2022             GNB   \n",
       "3               NAM  North America      9/16/2022             YND   \n",
       "5               SAM  South America     06-10-2022             LEC   \n",
       "8                EU         Europe      8/20/2022             VCE   \n",
       "\n",
       "            Pilot Name Flight Status  \n",
       "0  Fransisco Hazeldine       On Time  \n",
       "2         Rhonda Amber       On Time  \n",
       "3       Kacie Commucci       Delayed  \n",
       "5        Inglis Dolley       On Time  \n",
       "8       Daryn Bardsley       On Time  "
      ]
     },
     "execution_count": 26,
     "metadata": {},
     "output_type": "execute_result"
    }
   ],
   "source": [
    "# Eksik verilerin dropna ile silinmesi.\n",
    "# Kalıcı bir değişiklik yapmaz, bunu yapmak için inplace argümanı kullanılmalı veya atama yapılmalıdır.\n",
    "\n",
    "airldata.dropna(inplace = False)[:5]\n"
   ]
  },
  {
   "cell_type": "code",
   "execution_count": 27,
   "id": "dbc93b95",
   "metadata": {
    "execution": {
     "iopub.execute_input": "2024-11-23T13:07:24.038530Z",
     "iopub.status.busy": "2024-11-23T13:07:24.038158Z",
     "iopub.status.idle": "2024-11-23T13:07:24.060560Z",
     "shell.execute_reply": "2024-11-23T13:07:24.059476Z"
    },
    "papermill": {
     "duration": 0.047992,
     "end_time": "2024-11-23T13:07:24.062925",
     "exception": false,
     "start_time": "2024-11-23T13:07:24.014933",
     "status": "completed"
    },
    "tags": []
   },
   "outputs": [
    {
     "data": {
      "text/html": [
       "<div>\n",
       "<style scoped>\n",
       "    .dataframe tbody tr th:only-of-type {\n",
       "        vertical-align: middle;\n",
       "    }\n",
       "\n",
       "    .dataframe tbody tr th {\n",
       "        vertical-align: top;\n",
       "    }\n",
       "\n",
       "    .dataframe thead th {\n",
       "        text-align: right;\n",
       "    }\n",
       "</style>\n",
       "<table border=\"1\" class=\"dataframe\">\n",
       "  <thead>\n",
       "    <tr style=\"text-align: right;\">\n",
       "      <th></th>\n",
       "      <th>Passenger ID</th>\n",
       "      <th>First Name</th>\n",
       "      <th>Last Name</th>\n",
       "      <th>Gender</th>\n",
       "      <th>Age</th>\n",
       "      <th>Nationality</th>\n",
       "      <th>Airport Name</th>\n",
       "      <th>Airport Country Code</th>\n",
       "      <th>Country Name</th>\n",
       "      <th>Airport Continent</th>\n",
       "      <th>Continents</th>\n",
       "      <th>Departure Date</th>\n",
       "      <th>Arrival Airport</th>\n",
       "      <th>Pilot Name</th>\n",
       "      <th>Flight Status</th>\n",
       "    </tr>\n",
       "  </thead>\n",
       "  <tbody>\n",
       "    <tr>\n",
       "      <th>0</th>\n",
       "      <td>ABVWIg</td>\n",
       "      <td>Edithe</td>\n",
       "      <td>Leggis</td>\n",
       "      <td>Female</td>\n",
       "      <td>62.0</td>\n",
       "      <td>Japan</td>\n",
       "      <td>Coldfoot Airport</td>\n",
       "      <td>US</td>\n",
       "      <td>United States</td>\n",
       "      <td>NAM</td>\n",
       "      <td>North America</td>\n",
       "      <td>6/28/2022</td>\n",
       "      <td>CXF</td>\n",
       "      <td>Fransisco Hazeldine</td>\n",
       "      <td>On Time</td>\n",
       "    </tr>\n",
       "    <tr>\n",
       "      <th>1</th>\n",
       "      <td>jkXXAX</td>\n",
       "      <td>Elwood</td>\n",
       "      <td>Catt</td>\n",
       "      <td>Male</td>\n",
       "      <td>NaN</td>\n",
       "      <td>Nicaragua</td>\n",
       "      <td>Kugluktuk Airport</td>\n",
       "      <td>CA</td>\n",
       "      <td>Canada</td>\n",
       "      <td>NAM</td>\n",
       "      <td>North America</td>\n",
       "      <td>12/26/2022</td>\n",
       "      <td>YCO</td>\n",
       "      <td>Marla Parsonage</td>\n",
       "      <td>On Time</td>\n",
       "    </tr>\n",
       "    <tr>\n",
       "      <th>2</th>\n",
       "      <td>CdUz2g</td>\n",
       "      <td>Darby</td>\n",
       "      <td>Felgate</td>\n",
       "      <td>Male</td>\n",
       "      <td>67.0</td>\n",
       "      <td>Russia</td>\n",
       "      <td>Grenoble-Isère Airport</td>\n",
       "      <td>FR</td>\n",
       "      <td>France</td>\n",
       "      <td>EU</td>\n",
       "      <td>Europe</td>\n",
       "      <td>1/18/2022</td>\n",
       "      <td>GNB</td>\n",
       "      <td>Rhonda Amber</td>\n",
       "      <td>On Time</td>\n",
       "    </tr>\n",
       "    <tr>\n",
       "      <th>3</th>\n",
       "      <td>BRS38V</td>\n",
       "      <td>Dominica</td>\n",
       "      <td>Pyle</td>\n",
       "      <td>Female</td>\n",
       "      <td>71.0</td>\n",
       "      <td>China</td>\n",
       "      <td>Ottawa / Gatineau Airport</td>\n",
       "      <td>CA</td>\n",
       "      <td>Canada</td>\n",
       "      <td>NAM</td>\n",
       "      <td>North America</td>\n",
       "      <td>9/16/2022</td>\n",
       "      <td>YND</td>\n",
       "      <td>Kacie Commucci</td>\n",
       "      <td>Delayed</td>\n",
       "    </tr>\n",
       "    <tr>\n",
       "      <th>4</th>\n",
       "      <td>9kvTLo</td>\n",
       "      <td>Bay</td>\n",
       "      <td>NaN</td>\n",
       "      <td>Male</td>\n",
       "      <td>21.0</td>\n",
       "      <td>China</td>\n",
       "      <td>Gillespie Field</td>\n",
       "      <td>US</td>\n",
       "      <td>United States</td>\n",
       "      <td>NAM</td>\n",
       "      <td>North America</td>\n",
       "      <td>2/25/2022</td>\n",
       "      <td>SEE</td>\n",
       "      <td>Ebonee Tree</td>\n",
       "      <td>On Time</td>\n",
       "    </tr>\n",
       "  </tbody>\n",
       "</table>\n",
       "</div>"
      ],
      "text/plain": [
       "  Passenger ID First Name Last Name  Gender   Age Nationality  \\\n",
       "0       ABVWIg     Edithe    Leggis  Female  62.0       Japan   \n",
       "1       jkXXAX     Elwood      Catt    Male   NaN   Nicaragua   \n",
       "2       CdUz2g      Darby   Felgate    Male  67.0      Russia   \n",
       "3       BRS38V   Dominica      Pyle  Female  71.0       China   \n",
       "4       9kvTLo        Bay       NaN    Male  21.0       China   \n",
       "\n",
       "                Airport Name Airport Country Code   Country Name  \\\n",
       "0           Coldfoot Airport                   US  United States   \n",
       "1          Kugluktuk Airport                   CA         Canada   \n",
       "2     Grenoble-Isère Airport                   FR         France   \n",
       "3  Ottawa / Gatineau Airport                   CA         Canada   \n",
       "4            Gillespie Field                   US  United States   \n",
       "\n",
       "  Airport Continent     Continents Departure Date Arrival Airport  \\\n",
       "0               NAM  North America      6/28/2022             CXF   \n",
       "1               NAM  North America     12/26/2022             YCO   \n",
       "2                EU         Europe      1/18/2022             GNB   \n",
       "3               NAM  North America      9/16/2022             YND   \n",
       "4               NAM  North America      2/25/2022             SEE   \n",
       "\n",
       "            Pilot Name Flight Status  \n",
       "0  Fransisco Hazeldine       On Time  \n",
       "1      Marla Parsonage       On Time  \n",
       "2         Rhonda Amber       On Time  \n",
       "3       Kacie Commucci       Delayed  \n",
       "4          Ebonee Tree       On Time  "
      ]
     },
     "execution_count": 27,
     "metadata": {},
     "output_type": "execute_result"
    }
   ],
   "source": [
    "# Sadece bütün değerleri eksik olan bir gözlemi silmek istersek;\n",
    "airldata.dropna(how = 'all')[:5]"
   ]
  },
  {
   "cell_type": "code",
   "execution_count": 28,
   "id": "69e7cce0",
   "metadata": {
    "execution": {
     "iopub.execute_input": "2024-11-23T13:07:24.110020Z",
     "iopub.status.busy": "2024-11-23T13:07:24.109583Z",
     "iopub.status.idle": "2024-11-23T13:07:24.122167Z",
     "shell.execute_reply": "2024-11-23T13:07:24.120994Z"
    },
    "papermill": {
     "duration": 0.039184,
     "end_time": "2024-11-23T13:07:24.124440",
     "exception": false,
     "start_time": "2024-11-23T13:07:24.085256",
     "status": "completed"
    },
    "tags": []
   },
   "outputs": [
    {
     "data": {
      "text/html": [
       "<div>\n",
       "<style scoped>\n",
       "    .dataframe tbody tr th:only-of-type {\n",
       "        vertical-align: middle;\n",
       "    }\n",
       "\n",
       "    .dataframe tbody tr th {\n",
       "        vertical-align: top;\n",
       "    }\n",
       "\n",
       "    .dataframe thead th {\n",
       "        text-align: right;\n",
       "    }\n",
       "</style>\n",
       "<table border=\"1\" class=\"dataframe\">\n",
       "  <thead>\n",
       "    <tr style=\"text-align: right;\">\n",
       "      <th></th>\n",
       "    </tr>\n",
       "  </thead>\n",
       "  <tbody>\n",
       "    <tr>\n",
       "      <th>0</th>\n",
       "    </tr>\n",
       "    <tr>\n",
       "      <th>1</th>\n",
       "    </tr>\n",
       "    <tr>\n",
       "      <th>2</th>\n",
       "    </tr>\n",
       "    <tr>\n",
       "      <th>3</th>\n",
       "    </tr>\n",
       "    <tr>\n",
       "      <th>4</th>\n",
       "    </tr>\n",
       "    <tr>\n",
       "      <th>...</th>\n",
       "    </tr>\n",
       "    <tr>\n",
       "      <th>98614</th>\n",
       "    </tr>\n",
       "    <tr>\n",
       "      <th>98615</th>\n",
       "    </tr>\n",
       "    <tr>\n",
       "      <th>98616</th>\n",
       "    </tr>\n",
       "    <tr>\n",
       "      <th>98617</th>\n",
       "    </tr>\n",
       "    <tr>\n",
       "      <th>98618</th>\n",
       "    </tr>\n",
       "  </tbody>\n",
       "</table>\n",
       "<p>98619 rows × 0 columns</p>\n",
       "</div>"
      ],
      "text/plain": [
       "Empty DataFrame\n",
       "Columns: []\n",
       "Index: [0, 1, 2, 3, 4, 5, 6, 7, 8, 9, 10, 11, 12, 13, 14, 15, 16, 17, 18, 19, 20, 21, 22, 23, 24, 25, 26, 27, 28, 29, 30, 31, 32, 33, 34, 35, 36, 37, 38, 39, 40, 41, 42, 43, 44, 45, 46, 47, 48, 49, 50, 51, 52, 53, 54, 55, 56, 57, 58, 59, 60, 61, 62, 63, 64, 65, 66, 67, 68, 69, 70, 71, 72, 73, 74, 75, 76, 77, 78, 79, 80, 81, 82, 83, 84, 85, 86, 87, 88, 89, 90, 91, 92, 93, 94, 95, 96, 97, 98, 99, ...]\n",
       "\n",
       "[98619 rows x 0 columns]"
      ]
     },
     "execution_count": 28,
     "metadata": {},
     "output_type": "execute_result"
    }
   ],
   "source": [
    "# Değişken bazında silmek için;\n",
    "airldata.dropna(axis = 1)"
   ]
  },
  {
   "cell_type": "code",
   "execution_count": 29,
   "id": "dab88a72",
   "metadata": {
    "execution": {
     "iopub.execute_input": "2024-11-23T13:07:24.172209Z",
     "iopub.status.busy": "2024-11-23T13:07:24.171811Z",
     "iopub.status.idle": "2024-11-23T13:07:24.192041Z",
     "shell.execute_reply": "2024-11-23T13:07:24.191009Z"
    },
    "papermill": {
     "duration": 0.046318,
     "end_time": "2024-11-23T13:07:24.194243",
     "exception": false,
     "start_time": "2024-11-23T13:07:24.147925",
     "status": "completed"
    },
    "tags": []
   },
   "outputs": [
    {
     "data": {
      "text/html": [
       "<div>\n",
       "<style scoped>\n",
       "    .dataframe tbody tr th:only-of-type {\n",
       "        vertical-align: middle;\n",
       "    }\n",
       "\n",
       "    .dataframe tbody tr th {\n",
       "        vertical-align: top;\n",
       "    }\n",
       "\n",
       "    .dataframe thead th {\n",
       "        text-align: right;\n",
       "    }\n",
       "</style>\n",
       "<table border=\"1\" class=\"dataframe\">\n",
       "  <thead>\n",
       "    <tr style=\"text-align: right;\">\n",
       "      <th></th>\n",
       "      <th>Passenger ID</th>\n",
       "      <th>First Name</th>\n",
       "      <th>Last Name</th>\n",
       "      <th>Gender</th>\n",
       "      <th>Age</th>\n",
       "      <th>Nationality</th>\n",
       "      <th>Airport Name</th>\n",
       "      <th>Airport Country Code</th>\n",
       "      <th>Country Name</th>\n",
       "      <th>Airport Continent</th>\n",
       "      <th>Continents</th>\n",
       "      <th>Departure Date</th>\n",
       "      <th>Arrival Airport</th>\n",
       "      <th>Pilot Name</th>\n",
       "      <th>Flight Status</th>\n",
       "    </tr>\n",
       "  </thead>\n",
       "  <tbody>\n",
       "    <tr>\n",
       "      <th>0</th>\n",
       "      <td>ABVWIg</td>\n",
       "      <td>Edithe</td>\n",
       "      <td>Leggis</td>\n",
       "      <td>Female</td>\n",
       "      <td>62.0</td>\n",
       "      <td>Japan</td>\n",
       "      <td>Coldfoot Airport</td>\n",
       "      <td>US</td>\n",
       "      <td>United States</td>\n",
       "      <td>NAM</td>\n",
       "      <td>North America</td>\n",
       "      <td>6/28/2022</td>\n",
       "      <td>CXF</td>\n",
       "      <td>Fransisco Hazeldine</td>\n",
       "      <td>On Time</td>\n",
       "    </tr>\n",
       "    <tr>\n",
       "      <th>1</th>\n",
       "      <td>jkXXAX</td>\n",
       "      <td>Elwood</td>\n",
       "      <td>Catt</td>\n",
       "      <td>Male</td>\n",
       "      <td>NaN</td>\n",
       "      <td>Nicaragua</td>\n",
       "      <td>Kugluktuk Airport</td>\n",
       "      <td>CA</td>\n",
       "      <td>Canada</td>\n",
       "      <td>NAM</td>\n",
       "      <td>North America</td>\n",
       "      <td>12/26/2022</td>\n",
       "      <td>YCO</td>\n",
       "      <td>Marla Parsonage</td>\n",
       "      <td>On Time</td>\n",
       "    </tr>\n",
       "    <tr>\n",
       "      <th>2</th>\n",
       "      <td>CdUz2g</td>\n",
       "      <td>Darby</td>\n",
       "      <td>Felgate</td>\n",
       "      <td>Male</td>\n",
       "      <td>67.0</td>\n",
       "      <td>Russia</td>\n",
       "      <td>Grenoble-Isère Airport</td>\n",
       "      <td>FR</td>\n",
       "      <td>France</td>\n",
       "      <td>EU</td>\n",
       "      <td>Europe</td>\n",
       "      <td>1/18/2022</td>\n",
       "      <td>GNB</td>\n",
       "      <td>Rhonda Amber</td>\n",
       "      <td>On Time</td>\n",
       "    </tr>\n",
       "  </tbody>\n",
       "</table>\n",
       "</div>"
      ],
      "text/plain": [
       "  Passenger ID First Name Last Name  Gender   Age Nationality  \\\n",
       "0       ABVWIg     Edithe    Leggis  Female  62.0       Japan   \n",
       "1       jkXXAX     Elwood      Catt    Male   NaN   Nicaragua   \n",
       "2       CdUz2g      Darby   Felgate    Male  67.0      Russia   \n",
       "\n",
       "             Airport Name Airport Country Code   Country Name  \\\n",
       "0        Coldfoot Airport                   US  United States   \n",
       "1       Kugluktuk Airport                   CA         Canada   \n",
       "2  Grenoble-Isère Airport                   FR         France   \n",
       "\n",
       "  Airport Continent     Continents Departure Date Arrival Airport  \\\n",
       "0               NAM  North America      6/28/2022             CXF   \n",
       "1               NAM  North America     12/26/2022             YCO   \n",
       "2                EU         Europe      1/18/2022             GNB   \n",
       "\n",
       "            Pilot Name Flight Status  \n",
       "0  Fransisco Hazeldine       On Time  \n",
       "1      Marla Parsonage       On Time  \n",
       "2         Rhonda Amber       On Time  "
      ]
     },
     "execution_count": 29,
     "metadata": {},
     "output_type": "execute_result"
    }
   ],
   "source": [
    "# Doldurma işlemlerini gerçekleştirmek için veri setimin bir kopyasını oluşturuyorum.\n",
    "airldata_fillna =airldata.copy()\n",
    "\n",
    "airldata_fillna.head(3)"
   ]
  },
  {
   "cell_type": "code",
   "execution_count": 30,
   "id": "9ddc1606",
   "metadata": {
    "execution": {
     "iopub.execute_input": "2024-11-23T13:07:24.243161Z",
     "iopub.status.busy": "2024-11-23T13:07:24.242739Z",
     "iopub.status.idle": "2024-11-23T13:07:24.254446Z",
     "shell.execute_reply": "2024-11-23T13:07:24.253433Z"
    },
    "papermill": {
     "duration": 0.038824,
     "end_time": "2024-11-23T13:07:24.256620",
     "exception": false,
     "start_time": "2024-11-23T13:07:24.217796",
     "status": "completed"
    },
    "tags": []
   },
   "outputs": [
    {
     "data": {
      "text/plain": [
       "Passenger ID            2893\n",
       "First Name              2885\n",
       "Last Name               2917\n",
       "Gender                  2935\n",
       "Age                     2868\n",
       "Nationality             2921\n",
       "Airport Name            3004\n",
       "Airport Country Code    2927\n",
       "Country Name            2766\n",
       "Airport Continent       2947\n",
       "Continents              2991\n",
       "Departure Date          2827\n",
       "Arrival Airport         3019\n",
       "Pilot Name              2943\n",
       "Flight Status           2869\n",
       "dtype: int64"
      ]
     },
     "execution_count": 30,
     "metadata": {},
     "output_type": "execute_result"
    }
   ],
   "source": [
    "airldata_fillna.isna().sum()"
   ]
  },
  {
   "cell_type": "code",
   "execution_count": 31,
   "id": "120b1f8a",
   "metadata": {
    "execution": {
     "iopub.execute_input": "2024-11-23T13:07:24.303858Z",
     "iopub.status.busy": "2024-11-23T13:07:24.303421Z",
     "iopub.status.idle": "2024-11-23T13:07:24.317538Z",
     "shell.execute_reply": "2024-11-23T13:07:24.315920Z"
    },
    "papermill": {
     "duration": 0.040576,
     "end_time": "2024-11-23T13:07:24.319946",
     "exception": false,
     "start_time": "2024-11-23T13:07:24.279370",
     "status": "completed"
    },
    "tags": []
   },
   "outputs": [
    {
     "name": "stderr",
     "output_type": "stream",
     "text": [
      "/tmp/ipykernel_17/3459767404.py:4: FutureWarning: A value is trying to be set on a copy of a DataFrame or Series through chained assignment using an inplace method.\n",
      "The behavior will change in pandas 3.0. This inplace method will never work because the intermediate object on which we are setting values always behaves as a copy.\n",
      "\n",
      "For example, when doing 'df[col].method(value, inplace=True)', try using 'df.method({col: value}, inplace=True)' or df[col] = df[col].method(value) instead, to perform the operation inplace on the original object.\n",
      "\n",
      "\n"
     ]
    },
    {
     "data": {
      "text/plain": [
       "Passenger ID            2893\n",
       "First Name              2885\n",
       "Last Name               2917\n",
       "Gender                  2935\n",
       "Age                        0\n",
       "Nationality             2921\n",
       "Airport Name            3004\n",
       "Airport Country Code    2927\n",
       "Country Name            2766\n",
       "Airport Continent       2947\n",
       "Continents              2991\n",
       "Departure Date          2827\n",
       "Arrival Airport         3019\n",
       "Pilot Name              2943\n",
       "Flight Status           2869\n",
       "dtype: int64"
      ]
     },
     "execution_count": 31,
     "metadata": {},
     "output_type": "execute_result"
    }
   ],
   "source": [
    "# Numerik bir değişkenin mean değeriyle doldurulması\n",
    "mean_Age= airldata_fillna['Age'].mean()\n",
    "\n",
    "airldata_fillna['Age'].fillna(value = mean_Age, inplace = True)\n",
    "\n",
    "airldata_fillna.isna().sum()"
   ]
  },
  {
   "cell_type": "code",
   "execution_count": 32,
   "id": "ff48d4b5",
   "metadata": {
    "execution": {
     "iopub.execute_input": "2024-11-23T13:07:24.368630Z",
     "iopub.status.busy": "2024-11-23T13:07:24.367843Z",
     "iopub.status.idle": "2024-11-23T13:07:24.373093Z",
     "shell.execute_reply": "2024-11-23T13:07:24.372010Z"
    },
    "papermill": {
     "duration": 0.032041,
     "end_time": "2024-11-23T13:07:24.375140",
     "exception": false,
     "start_time": "2024-11-23T13:07:24.343099",
     "status": "completed"
    },
    "tags": []
   },
   "outputs": [],
   "source": [
    "# Doldurma işleminin döngüyle yapılması\n",
    "to_be_filled = numerical_features[1:]\n",
    "\n",
    "for col in to_be_filled:\n",
    "    airldata_fillna[col].fillna(airldata[col].mean(), inplace = True)"
   ]
  },
  {
   "cell_type": "code",
   "execution_count": 33,
   "id": "dd9df48a",
   "metadata": {
    "execution": {
     "iopub.execute_input": "2024-11-23T13:07:24.423216Z",
     "iopub.status.busy": "2024-11-23T13:07:24.422854Z",
     "iopub.status.idle": "2024-11-23T13:07:24.433803Z",
     "shell.execute_reply": "2024-11-23T13:07:24.432795Z"
    },
    "papermill": {
     "duration": 0.03783,
     "end_time": "2024-11-23T13:07:24.435860",
     "exception": false,
     "start_time": "2024-11-23T13:07:24.398030",
     "status": "completed"
    },
    "tags": []
   },
   "outputs": [
    {
     "data": {
      "text/plain": [
       "Passenger ID            2893\n",
       "First Name              2885\n",
       "Last Name               2917\n",
       "Gender                  2935\n",
       "Age                        0\n",
       "Nationality             2921\n",
       "Airport Name            3004\n",
       "Airport Country Code    2927\n",
       "Country Name            2766\n",
       "Airport Continent       2947\n",
       "Continents              2991\n",
       "Departure Date          2827\n",
       "Arrival Airport         3019\n",
       "Pilot Name              2943\n",
       "Flight Status           2869\n",
       "dtype: int64"
      ]
     },
     "execution_count": 33,
     "metadata": {},
     "output_type": "execute_result"
    }
   ],
   "source": [
    "airldata_fillna.isna().sum()"
   ]
  },
  {
   "cell_type": "code",
   "execution_count": 34,
   "id": "a508b9e1",
   "metadata": {
    "execution": {
     "iopub.execute_input": "2024-11-23T13:07:24.484504Z",
     "iopub.status.busy": "2024-11-23T13:07:24.483616Z",
     "iopub.status.idle": "2024-11-23T13:07:24.505946Z",
     "shell.execute_reply": "2024-11-23T13:07:24.504797Z"
    },
    "papermill": {
     "duration": 0.049228,
     "end_time": "2024-11-23T13:07:24.508307",
     "exception": false,
     "start_time": "2024-11-23T13:07:24.459079",
     "status": "completed"
    },
    "tags": []
   },
   "outputs": [
    {
     "data": {
      "text/html": [
       "<div>\n",
       "<style scoped>\n",
       "    .dataframe tbody tr th:only-of-type {\n",
       "        vertical-align: middle;\n",
       "    }\n",
       "\n",
       "    .dataframe tbody tr th {\n",
       "        vertical-align: top;\n",
       "    }\n",
       "\n",
       "    .dataframe thead th {\n",
       "        text-align: right;\n",
       "    }\n",
       "</style>\n",
       "<table border=\"1\" class=\"dataframe\">\n",
       "  <thead>\n",
       "    <tr style=\"text-align: right;\">\n",
       "      <th></th>\n",
       "      <th>count</th>\n",
       "      <th>mean</th>\n",
       "      <th>std</th>\n",
       "      <th>min</th>\n",
       "      <th>25%</th>\n",
       "      <th>50%</th>\n",
       "      <th>75%</th>\n",
       "      <th>max</th>\n",
       "    </tr>\n",
       "  </thead>\n",
       "  <tbody>\n",
       "    <tr>\n",
       "      <th>Age</th>\n",
       "      <td>95751.0</td>\n",
       "      <td>45.484538</td>\n",
       "      <td>25.93657</td>\n",
       "      <td>1.0</td>\n",
       "      <td>23.0</td>\n",
       "      <td>46.0</td>\n",
       "      <td>68.0</td>\n",
       "      <td>90.0</td>\n",
       "    </tr>\n",
       "  </tbody>\n",
       "</table>\n",
       "</div>"
      ],
      "text/plain": [
       "       count       mean       std  min   25%   50%   75%   max\n",
       "Age  95751.0  45.484538  25.93657  1.0  23.0  46.0  68.0  90.0"
      ]
     },
     "execution_count": 34,
     "metadata": {},
     "output_type": "execute_result"
    }
   ],
   "source": [
    "airldata.describe().T"
   ]
  },
  {
   "cell_type": "code",
   "execution_count": 35,
   "id": "96afca3c",
   "metadata": {
    "execution": {
     "iopub.execute_input": "2024-11-23T13:07:24.556558Z",
     "iopub.status.busy": "2024-11-23T13:07:24.556162Z",
     "iopub.status.idle": "2024-11-23T13:07:24.760137Z",
     "shell.execute_reply": "2024-11-23T13:07:24.758780Z"
    },
    "papermill": {
     "duration": 0.230931,
     "end_time": "2024-11-23T13:07:24.762508",
     "exception": false,
     "start_time": "2024-11-23T13:07:24.531577",
     "status": "completed"
    },
    "tags": []
   },
   "outputs": [
    {
     "data": {
      "image/png": "[encoded data removed]",
      "text/plain": [
       "<Figure size 640x480 with 1 Axes>"
      ]
     },
     "metadata": {},
     "output_type": "display_data"
    }
   ],
   "source": [
    "# Histogram oluşturma ve renk ekleme\n",
    "plt.hist(airldata['Age'], color='skyblue', edgecolor='black')  # Çubuklar için açık mavi, kenarlıklar için siyah\n",
    "\n",
    "# Grafiği göster\n",
    "plt.show()"
   ]
  },
  {
   "cell_type": "code",
   "execution_count": 36,
   "id": "a7d1aa37",
   "metadata": {
    "execution": {
     "iopub.execute_input": "2024-11-23T13:07:24.863599Z",
     "iopub.status.busy": "2024-11-23T13:07:24.863209Z",
     "iopub.status.idle": "2024-11-23T13:07:24.879704Z",
     "shell.execute_reply": "2024-11-23T13:07:24.878567Z"
    },
    "papermill": {
     "duration": 0.095057,
     "end_time": "2024-11-23T13:07:24.881838",
     "exception": false,
     "start_time": "2024-11-23T13:07:24.786781",
     "status": "completed"
    },
    "tags": []
   },
   "outputs": [
    {
     "data": {
      "text/plain": [
       "Passenger ID            2893\n",
       "First Name              2885\n",
       "Last Name               2917\n",
       "Gender                     0\n",
       "Age                        0\n",
       "Nationality             2921\n",
       "Airport Name            3004\n",
       "Airport Country Code    2927\n",
       "Country Name            2766\n",
       "Airport Continent       2947\n",
       "Continents              2991\n",
       "Departure Date          2827\n",
       "Arrival Airport         3019\n",
       "Pilot Name              2943\n",
       "Flight Status           2869\n",
       "dtype: int64"
      ]
     },
     "execution_count": 36,
     "metadata": {},
     "output_type": "execute_result"
    }
   ],
   "source": [
    "# Kategorik bir değişkenin mode değeriyle doldurulması\n",
    "\n",
    "# Gender değişkeninde toplam kaç adet eksik değer olduğunu görelim.\n",
    "airldata_fillna['Gender'].isna().sum()\n",
    "\n",
    "# Gender değişkeninde en çok tekrar eden değeri(mode) alalım.\n",
    "Gender_mode = airldata_fillna['Gender'].mode()\n",
    "\n",
    "# Gender değişkenini mode değeri ile dolduralım.\n",
    "airldata_fillna['Gender'] = airldata_fillna['Gender'].fillna(value = Gender_mode[0])\n",
    "\n",
    "# Gender değişkeninde toplam kaç adet eksik değer olduğunu tekrar görelim.\n",
    "airldata_fillna.isna().sum()"
   ]
  },
  {
   "cell_type": "code",
   "execution_count": 37,
   "id": "2fca7954",
   "metadata": {
    "execution": {
     "iopub.execute_input": "2024-11-23T13:07:24.930284Z",
     "iopub.status.busy": "2024-11-23T13:07:24.929924Z",
     "iopub.status.idle": "2024-11-23T13:07:24.942030Z",
     "shell.execute_reply": "2024-11-23T13:07:24.940912Z"
    },
    "papermill": {
     "duration": 0.038882,
     "end_time": "2024-11-23T13:07:24.944217",
     "exception": false,
     "start_time": "2024-11-23T13:07:24.905335",
     "status": "completed"
    },
    "tags": []
   },
   "outputs": [
    {
     "data": {
      "text/html": [
       "<div>\n",
       "<style scoped>\n",
       "    .dataframe tbody tr th:only-of-type {\n",
       "        vertical-align: middle;\n",
       "    }\n",
       "\n",
       "    .dataframe tbody tr th {\n",
       "        vertical-align: top;\n",
       "    }\n",
       "\n",
       "    .dataframe thead th {\n",
       "        text-align: right;\n",
       "    }\n",
       "</style>\n",
       "<table border=\"1\" class=\"dataframe\">\n",
       "  <thead>\n",
       "    <tr style=\"text-align: right;\">\n",
       "      <th></th>\n",
       "      <th>Continents</th>\n",
       "    </tr>\n",
       "  </thead>\n",
       "  <tbody>\n",
       "    <tr>\n",
       "      <th>0</th>\n",
       "      <td>North America</td>\n",
       "    </tr>\n",
       "    <tr>\n",
       "      <th>1</th>\n",
       "      <td>North America</td>\n",
       "    </tr>\n",
       "    <tr>\n",
       "      <th>2</th>\n",
       "      <td>Europe</td>\n",
       "    </tr>\n",
       "    <tr>\n",
       "      <th>3</th>\n",
       "      <td>North America</td>\n",
       "    </tr>\n",
       "    <tr>\n",
       "      <th>4</th>\n",
       "      <td>North America</td>\n",
       "    </tr>\n",
       "    <tr>\n",
       "      <th>...</th>\n",
       "      <td>...</td>\n",
       "    </tr>\n",
       "    <tr>\n",
       "      <th>95</th>\n",
       "      <td>North America</td>\n",
       "    </tr>\n",
       "    <tr>\n",
       "      <th>96</th>\n",
       "      <td>Africa</td>\n",
       "    </tr>\n",
       "    <tr>\n",
       "      <th>97</th>\n",
       "      <td>Asia</td>\n",
       "    </tr>\n",
       "    <tr>\n",
       "      <th>98</th>\n",
       "      <td>North America</td>\n",
       "    </tr>\n",
       "    <tr>\n",
       "      <th>99</th>\n",
       "      <td>Europe</td>\n",
       "    </tr>\n",
       "  </tbody>\n",
       "</table>\n",
       "<p>100 rows × 1 columns</p>\n",
       "</div>"
      ],
      "text/plain": [
       "       Continents\n",
       "0   North America\n",
       "1   North America\n",
       "2          Europe\n",
       "3   North America\n",
       "4   North America\n",
       "..            ...\n",
       "95  North America\n",
       "96         Africa\n",
       "97           Asia\n",
       "98  North America\n",
       "99         Europe\n",
       "\n",
       "[100 rows x 1 columns]"
      ]
     },
     "execution_count": 37,
     "metadata": {},
     "output_type": "execute_result"
    }
   ],
   "source": [
    "airldata_fillna[[\"Continents\"]][:100]"
   ]
  },
  {
   "cell_type": "code",
   "execution_count": 38,
   "id": "41747fed",
   "metadata": {
    "execution": {
     "iopub.execute_input": "2024-11-23T13:07:24.994427Z",
     "iopub.status.busy": "2024-11-23T13:07:24.994044Z",
     "iopub.status.idle": "2024-11-23T13:07:25.007598Z",
     "shell.execute_reply": "2024-11-23T13:07:25.006404Z"
    },
    "papermill": {
     "duration": 0.04134,
     "end_time": "2024-11-23T13:07:25.009803",
     "exception": false,
     "start_time": "2024-11-23T13:07:24.968463",
     "status": "completed"
    },
    "tags": []
   },
   "outputs": [
    {
     "name": "stderr",
     "output_type": "stream",
     "text": [
      "/tmp/ipykernel_17/3689832940.py:2: FutureWarning: Series.fillna with 'method' is deprecated and will raise in a future version. Use obj.ffill() or obj.bfill() instead.\n"
     ]
    },
    {
     "data": {
      "text/plain": [
       "0        North America\n",
       "1        North America\n",
       "2               Europe\n",
       "3        North America\n",
       "4        North America\n",
       "             ...      \n",
       "98614           Europe\n",
       "98615           Africa\n",
       "98616           Europe\n",
       "98617           Africa\n",
       "98618           Europe\n",
       "Name: Continents, Length: 98619, dtype: category\n",
       "Categories (6, object): ['Africa', 'Asia', 'Europe', 'North America', 'Oceania', 'South America']"
      ]
     },
     "execution_count": 38,
     "metadata": {},
     "output_type": "execute_result"
    }
   ],
   "source": [
    "# Önceki değer ile doldurma işlemi\n",
    "airldata_fillna[\"Continents\"].fillna(method = \"bfill\")"
   ]
  },
  {
   "cell_type": "code",
   "execution_count": 39,
   "id": "faae7bf1",
   "metadata": {
    "execution": {
     "iopub.execute_input": "2024-11-23T13:07:25.059533Z",
     "iopub.status.busy": "2024-11-23T13:07:25.058847Z",
     "iopub.status.idle": "2024-11-23T13:07:25.068911Z",
     "shell.execute_reply": "2024-11-23T13:07:25.067611Z"
    },
    "papermill": {
     "duration": 0.037649,
     "end_time": "2024-11-23T13:07:25.071469",
     "exception": false,
     "start_time": "2024-11-23T13:07:25.033820",
     "status": "completed"
    },
    "tags": []
   },
   "outputs": [
    {
     "name": "stderr",
     "output_type": "stream",
     "text": [
      "/tmp/ipykernel_17/649360665.py:2: FutureWarning: Series.fillna with 'method' is deprecated and will raise in a future version. Use obj.ffill() or obj.bfill() instead.\n"
     ]
    },
    {
     "data": {
      "text/plain": [
       "0        North America\n",
       "1        North America\n",
       "2               Europe\n",
       "3        North America\n",
       "4        North America\n",
       "             ...      \n",
       "98614           Europe\n",
       "98615           Africa\n",
       "98616           Europe\n",
       "98617           Africa\n",
       "98618           Europe\n",
       "Name: Continents, Length: 98619, dtype: category\n",
       "Categories (6, object): ['Africa', 'Asia', 'Europe', 'North America', 'Oceania', 'South America']"
      ]
     },
     "execution_count": 39,
     "metadata": {},
     "output_type": "execute_result"
    }
   ],
   "source": [
    "# Sonraki değer ile doldurma işlemi\n",
    "airldata_fillna[\"Continents\"].fillna(method = \"ffill\")"
   ]
  },
  {
   "cell_type": "code",
   "execution_count": 40,
   "id": "42db4cf1",
   "metadata": {
    "execution": {
     "iopub.execute_input": "2024-11-23T13:07:25.122326Z",
     "iopub.status.busy": "2024-11-23T13:07:25.121943Z",
     "iopub.status.idle": "2024-11-23T13:07:25.133779Z",
     "shell.execute_reply": "2024-11-23T13:07:25.132582Z"
    },
    "papermill": {
     "duration": 0.040157,
     "end_time": "2024-11-23T13:07:25.136058",
     "exception": false,
     "start_time": "2024-11-23T13:07:25.095901",
     "status": "completed"
    },
    "tags": []
   },
   "outputs": [
    {
     "data": {
      "text/plain": [
       "Passenger ID            2893\n",
       "First Name              2885\n",
       "Last Name               2917\n",
       "Gender                  2935\n",
       "Age                     2868\n",
       "Nationality             2921\n",
       "Airport Name            3004\n",
       "Airport Country Code    2927\n",
       "Country Name            2766\n",
       "Airport Continent       2947\n",
       "Continents              2991\n",
       "Departure Date          2827\n",
       "Arrival Airport         3019\n",
       "Pilot Name              2943\n",
       "Flight Status           2869\n",
       "dtype: int64"
      ]
     },
     "execution_count": 40,
     "metadata": {},
     "output_type": "execute_result"
    }
   ],
   "source": [
    "airldata_categorical_fillna = airldata.copy()\n",
    "\n",
    "airldata_categorical_fillna.isna().sum()"
   ]
  },
  {
   "cell_type": "code",
   "execution_count": 41,
   "id": "0e2e3679",
   "metadata": {
    "execution": {
     "iopub.execute_input": "2024-11-23T13:07:25.187186Z",
     "iopub.status.busy": "2024-11-23T13:07:25.185923Z",
     "iopub.status.idle": "2024-11-23T13:07:25.198204Z",
     "shell.execute_reply": "2024-11-23T13:07:25.196979Z"
    },
    "papermill": {
     "duration": 0.040441,
     "end_time": "2024-11-23T13:07:25.200804",
     "exception": false,
     "start_time": "2024-11-23T13:07:25.160363",
     "status": "completed"
    },
    "tags": []
   },
   "outputs": [
    {
     "name": "stderr",
     "output_type": "stream",
     "text": [
      "/tmp/ipykernel_17/2840445679.py:1: FutureWarning: The default of observed=False is deprecated and will be changed to True in a future version of pandas. Pass observed=False to retain current behavior or observed=True to adopt the future default and silence this warning.\n",
      "/tmp/ipykernel_17/2840445679.py:1: FutureWarning: A value is trying to be set on a copy of a DataFrame or Series through chained assignment using an inplace method.\n",
      "The behavior will change in pandas 3.0. This inplace method will never work because the intermediate object on which we are setting values always behaves as a copy.\n",
      "\n",
      "For example, when doing 'df[col].method(value, inplace=True)', try using 'df.method({col: value}, inplace=True)' or df[col] = df[col].method(value) instead, to perform the operation inplace on the original object.\n",
      "\n",
      "\n"
     ]
    }
   ],
   "source": [
    "airldata_categorical_fillna[\"Age\"].fillna(value = airldata_categorical_fillna.groupby(\"Continents\")[\"Age\"].transform(\"mean\"),\n",
    "                                       inplace = True)"
   ]
  },
  {
   "cell_type": "code",
   "execution_count": 42,
   "id": "efe243a4",
   "metadata": {
    "execution": {
     "iopub.execute_input": "2024-11-23T13:07:25.251769Z",
     "iopub.status.busy": "2024-11-23T13:07:25.251379Z",
     "iopub.status.idle": "2024-11-23T13:07:25.264091Z",
     "shell.execute_reply": "2024-11-23T13:07:25.262974Z"
    },
    "papermill": {
     "duration": 0.040566,
     "end_time": "2024-11-23T13:07:25.266508",
     "exception": false,
     "start_time": "2024-11-23T13:07:25.225942",
     "status": "completed"
    },
    "tags": []
   },
   "outputs": [
    {
     "data": {
      "text/plain": [
       "Passenger ID            2893\n",
       "First Name              2885\n",
       "Last Name               2917\n",
       "Gender                  2935\n",
       "Age                       92\n",
       "Nationality             2921\n",
       "Airport Name            3004\n",
       "Airport Country Code    2927\n",
       "Country Name            2766\n",
       "Airport Continent       2947\n",
       "Continents              2991\n",
       "Departure Date          2827\n",
       "Arrival Airport         3019\n",
       "Pilot Name              2943\n",
       "Flight Status           2869\n",
       "dtype: int64"
      ]
     },
     "execution_count": 42,
     "metadata": {},
     "output_type": "execute_result"
    }
   ],
   "source": [
    "airldata_categorical_fillna.isna().sum()"
   ]
  },
  {
   "cell_type": "code",
   "execution_count": 43,
   "id": "7cd99afc",
   "metadata": {
    "execution": {
     "iopub.execute_input": "2024-11-23T13:07:25.318219Z",
     "iopub.status.busy": "2024-11-23T13:07:25.317823Z",
     "iopub.status.idle": "2024-11-23T13:07:25.333295Z",
     "shell.execute_reply": "2024-11-23T13:07:25.332128Z"
    },
    "papermill": {
     "duration": 0.043643,
     "end_time": "2024-11-23T13:07:25.335661",
     "exception": false,
     "start_time": "2024-11-23T13:07:25.292018",
     "status": "completed"
    },
    "tags": []
   },
   "outputs": [
    {
     "data": {
      "text/html": [
       "<div>\n",
       "<style scoped>\n",
       "    .dataframe tbody tr th:only-of-type {\n",
       "        vertical-align: middle;\n",
       "    }\n",
       "\n",
       "    .dataframe tbody tr th {\n",
       "        vertical-align: top;\n",
       "    }\n",
       "\n",
       "    .dataframe thead th {\n",
       "        text-align: right;\n",
       "    }\n",
       "</style>\n",
       "<table border=\"1\" class=\"dataframe\">\n",
       "  <thead>\n",
       "    <tr style=\"text-align: right;\">\n",
       "      <th></th>\n",
       "      <th>Continents</th>\n",
       "      <th>Age</th>\n",
       "    </tr>\n",
       "  </thead>\n",
       "  <tbody>\n",
       "    <tr>\n",
       "      <th>53</th>\n",
       "      <td>NaN</td>\n",
       "      <td>NaN</td>\n",
       "    </tr>\n",
       "    <tr>\n",
       "      <th>1469</th>\n",
       "      <td>NaN</td>\n",
       "      <td>NaN</td>\n",
       "    </tr>\n",
       "    <tr>\n",
       "      <th>1498</th>\n",
       "      <td>NaN</td>\n",
       "      <td>NaN</td>\n",
       "    </tr>\n",
       "    <tr>\n",
       "      <th>1807</th>\n",
       "      <td>NaN</td>\n",
       "      <td>NaN</td>\n",
       "    </tr>\n",
       "    <tr>\n",
       "      <th>3035</th>\n",
       "      <td>NaN</td>\n",
       "      <td>NaN</td>\n",
       "    </tr>\n",
       "    <tr>\n",
       "      <th>...</th>\n",
       "      <td>...</td>\n",
       "      <td>...</td>\n",
       "    </tr>\n",
       "    <tr>\n",
       "      <th>93850</th>\n",
       "      <td>NaN</td>\n",
       "      <td>NaN</td>\n",
       "    </tr>\n",
       "    <tr>\n",
       "      <th>94589</th>\n",
       "      <td>NaN</td>\n",
       "      <td>NaN</td>\n",
       "    </tr>\n",
       "    <tr>\n",
       "      <th>95136</th>\n",
       "      <td>NaN</td>\n",
       "      <td>NaN</td>\n",
       "    </tr>\n",
       "    <tr>\n",
       "      <th>96367</th>\n",
       "      <td>NaN</td>\n",
       "      <td>NaN</td>\n",
       "    </tr>\n",
       "    <tr>\n",
       "      <th>96974</th>\n",
       "      <td>NaN</td>\n",
       "      <td>NaN</td>\n",
       "    </tr>\n",
       "  </tbody>\n",
       "</table>\n",
       "<p>92 rows × 2 columns</p>\n",
       "</div>"
      ],
      "text/plain": [
       "      Continents  Age\n",
       "53           NaN  NaN\n",
       "1469         NaN  NaN\n",
       "1498         NaN  NaN\n",
       "1807         NaN  NaN\n",
       "3035         NaN  NaN\n",
       "...          ...  ...\n",
       "93850        NaN  NaN\n",
       "94589        NaN  NaN\n",
       "95136        NaN  NaN\n",
       "96367        NaN  NaN\n",
       "96974        NaN  NaN\n",
       "\n",
       "[92 rows x 2 columns]"
      ]
     },
     "execution_count": 43,
     "metadata": {},
     "output_type": "execute_result"
    }
   ],
   "source": [
    "airldata_categorical_fillna[airldata_categorical_fillna[[\"Continents\", \"Age\"]].isna().all(axis=1)][[\"Continents\", \"Age\"]]"
   ]
  },
  {
   "cell_type": "code",
   "execution_count": 44,
   "id": "0d1a6916",
   "metadata": {
    "execution": {
     "iopub.execute_input": "2024-11-23T13:07:25.386643Z",
     "iopub.status.busy": "2024-11-23T13:07:25.386265Z",
     "iopub.status.idle": "2024-11-23T13:07:25.409907Z",
     "shell.execute_reply": "2024-11-23T13:07:25.408850Z"
    },
    "papermill": {
     "duration": 0.051857,
     "end_time": "2024-11-23T13:07:25.412106",
     "exception": false,
     "start_time": "2024-11-23T13:07:25.360249",
     "status": "completed"
    },
    "tags": []
   },
   "outputs": [
    {
     "data": {
      "text/html": [
       "<div>\n",
       "<style scoped>\n",
       "    .dataframe tbody tr th:only-of-type {\n",
       "        vertical-align: middle;\n",
       "    }\n",
       "\n",
       "    .dataframe tbody tr th {\n",
       "        vertical-align: top;\n",
       "    }\n",
       "\n",
       "    .dataframe thead th {\n",
       "        text-align: right;\n",
       "    }\n",
       "</style>\n",
       "<table border=\"1\" class=\"dataframe\">\n",
       "  <thead>\n",
       "    <tr style=\"text-align: right;\">\n",
       "      <th></th>\n",
       "      <th>Passenger ID</th>\n",
       "      <th>First Name</th>\n",
       "      <th>Last Name</th>\n",
       "      <th>Gender</th>\n",
       "      <th>Age</th>\n",
       "      <th>Nationality</th>\n",
       "      <th>Airport Name</th>\n",
       "      <th>Airport Country Code</th>\n",
       "      <th>Country Name</th>\n",
       "      <th>Airport Continent</th>\n",
       "      <th>Continents</th>\n",
       "      <th>Departure Date</th>\n",
       "      <th>Arrival Airport</th>\n",
       "      <th>Pilot Name</th>\n",
       "      <th>Flight Status</th>\n",
       "    </tr>\n",
       "  </thead>\n",
       "  <tbody>\n",
       "    <tr>\n",
       "      <th>53</th>\n",
       "      <td>09lGmv</td>\n",
       "      <td>Tamas</td>\n",
       "      <td>NaN</td>\n",
       "      <td>Male</td>\n",
       "      <td>NaN</td>\n",
       "      <td>Mali</td>\n",
       "      <td>Diamantina Lakes Airport</td>\n",
       "      <td>AU</td>\n",
       "      <td>Australia</td>\n",
       "      <td>OC</td>\n",
       "      <td>NaN</td>\n",
       "      <td>11/23/2022</td>\n",
       "      <td>DYM</td>\n",
       "      <td>Clemente Mateev</td>\n",
       "      <td>Delayed</td>\n",
       "    </tr>\n",
       "    <tr>\n",
       "      <th>1469</th>\n",
       "      <td>2BE2Ad</td>\n",
       "      <td>Risa</td>\n",
       "      <td>Pester</td>\n",
       "      <td>Female</td>\n",
       "      <td>NaN</td>\n",
       "      <td>Indonesia</td>\n",
       "      <td>Merville-Calonne Airport</td>\n",
       "      <td>FR</td>\n",
       "      <td>France</td>\n",
       "      <td>EU</td>\n",
       "      <td>NaN</td>\n",
       "      <td>02-12-2022</td>\n",
       "      <td>HZB</td>\n",
       "      <td>Carmen Scneider</td>\n",
       "      <td>On Time</td>\n",
       "    </tr>\n",
       "    <tr>\n",
       "      <th>1498</th>\n",
       "      <td>eXK9vC</td>\n",
       "      <td>Salvatore</td>\n",
       "      <td>Yankin</td>\n",
       "      <td>Male</td>\n",
       "      <td>NaN</td>\n",
       "      <td>China</td>\n",
       "      <td>Abel Santamaria Airport</td>\n",
       "      <td>CU</td>\n",
       "      <td>Cuba</td>\n",
       "      <td>NAM</td>\n",
       "      <td>NaN</td>\n",
       "      <td>12/21/2022</td>\n",
       "      <td>SNU</td>\n",
       "      <td>Ardelia Eland</td>\n",
       "      <td>Cancelled</td>\n",
       "    </tr>\n",
       "    <tr>\n",
       "      <th>1807</th>\n",
       "      <td>QsdW2Q</td>\n",
       "      <td>Mart</td>\n",
       "      <td>Fairpo</td>\n",
       "      <td>Male</td>\n",
       "      <td>NaN</td>\n",
       "      <td>New Zealand</td>\n",
       "      <td>Mindiptana Airport</td>\n",
       "      <td>ID</td>\n",
       "      <td>Indonesia</td>\n",
       "      <td>AS</td>\n",
       "      <td>NaN</td>\n",
       "      <td>2/16/2022</td>\n",
       "      <td>MDP</td>\n",
       "      <td>Shandy Hunt</td>\n",
       "      <td>On Time</td>\n",
       "    </tr>\n",
       "    <tr>\n",
       "      <th>3035</th>\n",
       "      <td>OD5tmy</td>\n",
       "      <td>Albie</td>\n",
       "      <td>Wife</td>\n",
       "      <td>Male</td>\n",
       "      <td>NaN</td>\n",
       "      <td>Reunion</td>\n",
       "      <td>Ndende Airport</td>\n",
       "      <td>GA</td>\n",
       "      <td>Gabon</td>\n",
       "      <td>AF</td>\n",
       "      <td>NaN</td>\n",
       "      <td>2/24/2022</td>\n",
       "      <td>KDN</td>\n",
       "      <td>Karita Hoggins</td>\n",
       "      <td>Delayed</td>\n",
       "    </tr>\n",
       "    <tr>\n",
       "      <th>...</th>\n",
       "      <td>...</td>\n",
       "      <td>...</td>\n",
       "      <td>...</td>\n",
       "      <td>...</td>\n",
       "      <td>...</td>\n",
       "      <td>...</td>\n",
       "      <td>...</td>\n",
       "      <td>...</td>\n",
       "      <td>...</td>\n",
       "      <td>...</td>\n",
       "      <td>...</td>\n",
       "      <td>...</td>\n",
       "      <td>...</td>\n",
       "      <td>...</td>\n",
       "      <td>...</td>\n",
       "    </tr>\n",
       "    <tr>\n",
       "      <th>93850</th>\n",
       "      <td>Ssyqnv</td>\n",
       "      <td>Rosa</td>\n",
       "      <td>Leaming</td>\n",
       "      <td>Female</td>\n",
       "      <td>NaN</td>\n",
       "      <td>China</td>\n",
       "      <td>Hamburg Airport</td>\n",
       "      <td>DE</td>\n",
       "      <td>Germany</td>\n",
       "      <td>EU</td>\n",
       "      <td>NaN</td>\n",
       "      <td>6/24/2022</td>\n",
       "      <td>HAM</td>\n",
       "      <td>Steffen MacCarter</td>\n",
       "      <td>Cancelled</td>\n",
       "    </tr>\n",
       "    <tr>\n",
       "      <th>94589</th>\n",
       "      <td>P1oQ6N</td>\n",
       "      <td>Emmett</td>\n",
       "      <td>Loreit</td>\n",
       "      <td>Male</td>\n",
       "      <td>NaN</td>\n",
       "      <td>Russia</td>\n",
       "      <td>Beslan Airport</td>\n",
       "      <td>RU</td>\n",
       "      <td>Russian Federation</td>\n",
       "      <td>EU</td>\n",
       "      <td>NaN</td>\n",
       "      <td>10/22/2022</td>\n",
       "      <td>OGZ</td>\n",
       "      <td>Cloe Farrear</td>\n",
       "      <td>Delayed</td>\n",
       "    </tr>\n",
       "    <tr>\n",
       "      <th>95136</th>\n",
       "      <td>iVm5WP</td>\n",
       "      <td>Gayler</td>\n",
       "      <td>Johanning</td>\n",
       "      <td>Male</td>\n",
       "      <td>NaN</td>\n",
       "      <td>Palestinian Territory</td>\n",
       "      <td>Koro Island Airport</td>\n",
       "      <td>FJ</td>\n",
       "      <td>Fiji</td>\n",
       "      <td>OC</td>\n",
       "      <td>NaN</td>\n",
       "      <td>06-09-2022</td>\n",
       "      <td>KXF</td>\n",
       "      <td>Meir Prando</td>\n",
       "      <td>Cancelled</td>\n",
       "    </tr>\n",
       "    <tr>\n",
       "      <th>96367</th>\n",
       "      <td>51NXDe</td>\n",
       "      <td>Pryce</td>\n",
       "      <td>Fitzsimon</td>\n",
       "      <td>Male</td>\n",
       "      <td>NaN</td>\n",
       "      <td>Greece</td>\n",
       "      <td>Rafael Hernandez Airport</td>\n",
       "      <td>PR</td>\n",
       "      <td>Puerto Rico</td>\n",
       "      <td>NAM</td>\n",
       "      <td>NaN</td>\n",
       "      <td>10/14/2022</td>\n",
       "      <td>BQN</td>\n",
       "      <td>Dinah Hughman</td>\n",
       "      <td>Delayed</td>\n",
       "    </tr>\n",
       "    <tr>\n",
       "      <th>96974</th>\n",
       "      <td>5Du4Jz</td>\n",
       "      <td>Kathye</td>\n",
       "      <td>Arne</td>\n",
       "      <td>Female</td>\n",
       "      <td>NaN</td>\n",
       "      <td>Indonesia</td>\n",
       "      <td>Puvirnituq Airport</td>\n",
       "      <td>NaN</td>\n",
       "      <td>Canada</td>\n",
       "      <td>NAM</td>\n",
       "      <td>NaN</td>\n",
       "      <td>6/15/2022</td>\n",
       "      <td>YPX</td>\n",
       "      <td>Wendall Orro</td>\n",
       "      <td>Cancelled</td>\n",
       "    </tr>\n",
       "  </tbody>\n",
       "</table>\n",
       "<p>92 rows × 15 columns</p>\n",
       "</div>"
      ],
      "text/plain": [
       "      Passenger ID First Name  Last Name  Gender  Age            Nationality  \\\n",
       "53          09lGmv      Tamas        NaN    Male  NaN                   Mali   \n",
       "1469        2BE2Ad       Risa     Pester  Female  NaN              Indonesia   \n",
       "1498        eXK9vC  Salvatore     Yankin    Male  NaN                  China   \n",
       "1807        QsdW2Q       Mart     Fairpo    Male  NaN            New Zealand   \n",
       "3035        OD5tmy      Albie       Wife    Male  NaN                Reunion   \n",
       "...            ...        ...        ...     ...  ...                    ...   \n",
       "93850       Ssyqnv       Rosa    Leaming  Female  NaN                  China   \n",
       "94589       P1oQ6N     Emmett     Loreit    Male  NaN                 Russia   \n",
       "95136       iVm5WP     Gayler  Johanning    Male  NaN  Palestinian Territory   \n",
       "96367       51NXDe      Pryce  Fitzsimon    Male  NaN                 Greece   \n",
       "96974       5Du4Jz     Kathye       Arne  Female  NaN              Indonesia   \n",
       "\n",
       "                   Airport Name Airport Country Code        Country Name  \\\n",
       "53     Diamantina Lakes Airport                   AU           Australia   \n",
       "1469   Merville-Calonne Airport                   FR              France   \n",
       "1498    Abel Santamaria Airport                   CU                Cuba   \n",
       "1807         Mindiptana Airport                   ID           Indonesia   \n",
       "3035             Ndende Airport                   GA               Gabon   \n",
       "...                         ...                  ...                 ...   \n",
       "93850           Hamburg Airport                   DE             Germany   \n",
       "94589            Beslan Airport                   RU  Russian Federation   \n",
       "95136       Koro Island Airport                   FJ                Fiji   \n",
       "96367  Rafael Hernandez Airport                   PR         Puerto Rico   \n",
       "96974        Puvirnituq Airport                  NaN              Canada   \n",
       "\n",
       "      Airport Continent Continents Departure Date Arrival Airport  \\\n",
       "53                   OC        NaN     11/23/2022             DYM   \n",
       "1469                 EU        NaN     02-12-2022             HZB   \n",
       "1498                NAM        NaN     12/21/2022             SNU   \n",
       "1807                 AS        NaN      2/16/2022             MDP   \n",
       "3035                 AF        NaN      2/24/2022             KDN   \n",
       "...                 ...        ...            ...             ...   \n",
       "93850                EU        NaN      6/24/2022             HAM   \n",
       "94589                EU        NaN     10/22/2022             OGZ   \n",
       "95136                OC        NaN     06-09-2022             KXF   \n",
       "96367               NAM        NaN     10/14/2022             BQN   \n",
       "96974               NAM        NaN      6/15/2022             YPX   \n",
       "\n",
       "              Pilot Name Flight Status  \n",
       "53       Clemente Mateev       Delayed  \n",
       "1469     Carmen Scneider       On Time  \n",
       "1498       Ardelia Eland     Cancelled  \n",
       "1807         Shandy Hunt       On Time  \n",
       "3035      Karita Hoggins       Delayed  \n",
       "...                  ...           ...  \n",
       "93850  Steffen MacCarter     Cancelled  \n",
       "94589       Cloe Farrear       Delayed  \n",
       "95136        Meir Prando     Cancelled  \n",
       "96367      Dinah Hughman       Delayed  \n",
       "96974       Wendall Orro     Cancelled  \n",
       "\n",
       "[92 rows x 15 columns]"
      ]
     },
     "execution_count": 44,
     "metadata": {},
     "output_type": "execute_result"
    }
   ],
   "source": [
    "airldata_categorical_fillna[airldata_categorical_fillna['Age'].isnull()]"
   ]
  },
  {
   "cell_type": "markdown",
   "id": "fbc4279a",
   "metadata": {
    "papermill": {
     "duration": 0.024919,
     "end_time": "2024-11-23T13:07:25.462802",
     "exception": false,
     "start_time": "2024-11-23T13:07:25.437883",
     "status": "completed"
    },
    "tags": []
   },
   "source": [
    "# 3. Kategorik Değişken Analizi"
   ]
  },
  {
   "cell_type": "code",
   "execution_count": 45,
   "id": "2048172b",
   "metadata": {
    "execution": {
     "iopub.execute_input": "2024-11-23T13:07:25.515781Z",
     "iopub.status.busy": "2024-11-23T13:07:25.514754Z",
     "iopub.status.idle": "2024-11-23T13:07:25.606363Z",
     "shell.execute_reply": "2024-11-23T13:07:25.605143Z"
    },
    "papermill": {
     "duration": 0.120603,
     "end_time": "2024-11-23T13:07:25.608890",
     "exception": false,
     "start_time": "2024-11-23T13:07:25.488287",
     "status": "completed"
    },
    "tags": []
   },
   "outputs": [
    {
     "name": "stdout",
     "output_type": "stream",
     "text": [
      "<class 'pandas.core.frame.DataFrame'>\n",
      "RangeIndex: 98619 entries, 0 to 98618\n",
      "Data columns (total 15 columns):\n",
      " #   Column                Non-Null Count  Dtype \n",
      "---  ------                --------------  ----- \n",
      " 0   Passenger ID          98619 non-null  object\n",
      " 1   First Name            98619 non-null  object\n",
      " 2   Last Name             98619 non-null  object\n",
      " 3   Gender                98619 non-null  object\n",
      " 4   Age                   98619 non-null  int64 \n",
      " 5   Nationality           98619 non-null  object\n",
      " 6   Airport Name          98619 non-null  object\n",
      " 7   Airport Country Code  98619 non-null  object\n",
      " 8   Country Name          98619 non-null  object\n",
      " 9   Airport Continent     98619 non-null  object\n",
      " 10  Continents            98619 non-null  object\n",
      " 11  Departure Date        98619 non-null  object\n",
      " 12  Arrival Airport       98619 non-null  object\n",
      " 13  Pilot Name            98619 non-null  object\n",
      " 14  Flight Status         98619 non-null  object\n",
      "dtypes: int64(1), object(14)\n",
      "memory usage: 11.3+ MB\n"
     ]
    }
   ],
   "source": [
    "airldata = airl_data.copy()\n",
    "airldata.info()"
   ]
  },
  {
   "cell_type": "code",
   "execution_count": 46,
   "id": "53230613",
   "metadata": {
    "execution": {
     "iopub.execute_input": "2024-11-23T13:07:25.661926Z",
     "iopub.status.busy": "2024-11-23T13:07:25.661511Z",
     "iopub.status.idle": "2024-11-23T13:07:25.690879Z",
     "shell.execute_reply": "2024-11-23T13:07:25.689790Z"
    },
    "papermill": {
     "duration": 0.058301,
     "end_time": "2024-11-23T13:07:25.693132",
     "exception": false,
     "start_time": "2024-11-23T13:07:25.634831",
     "status": "completed"
    },
    "tags": []
   },
   "outputs": [
    {
     "data": {
      "text/html": [
       "<div>\n",
       "<style scoped>\n",
       "    .dataframe tbody tr th:only-of-type {\n",
       "        vertical-align: middle;\n",
       "    }\n",
       "\n",
       "    .dataframe tbody tr th {\n",
       "        vertical-align: top;\n",
       "    }\n",
       "\n",
       "    .dataframe thead th {\n",
       "        text-align: right;\n",
       "    }\n",
       "</style>\n",
       "<table border=\"1\" class=\"dataframe\">\n",
       "  <thead>\n",
       "    <tr style=\"text-align: right;\">\n",
       "      <th></th>\n",
       "      <th>Passenger ID</th>\n",
       "      <th>First Name</th>\n",
       "      <th>Last Name</th>\n",
       "      <th>Gender</th>\n",
       "      <th>Nationality</th>\n",
       "      <th>Airport Name</th>\n",
       "      <th>Airport Country Code</th>\n",
       "      <th>Country Name</th>\n",
       "      <th>Airport Continent</th>\n",
       "      <th>Continents</th>\n",
       "      <th>Departure Date</th>\n",
       "      <th>Arrival Airport</th>\n",
       "      <th>Pilot Name</th>\n",
       "      <th>Flight Status</th>\n",
       "    </tr>\n",
       "  </thead>\n",
       "  <tbody>\n",
       "    <tr>\n",
       "      <th>0</th>\n",
       "      <td>ABVWIg</td>\n",
       "      <td>Edithe</td>\n",
       "      <td>Leggis</td>\n",
       "      <td>Female</td>\n",
       "      <td>Japan</td>\n",
       "      <td>Coldfoot Airport</td>\n",
       "      <td>US</td>\n",
       "      <td>United States</td>\n",
       "      <td>NAM</td>\n",
       "      <td>North America</td>\n",
       "      <td>6/28/2022</td>\n",
       "      <td>CXF</td>\n",
       "      <td>Fransisco Hazeldine</td>\n",
       "      <td>On Time</td>\n",
       "    </tr>\n",
       "    <tr>\n",
       "      <th>1</th>\n",
       "      <td>jkXXAX</td>\n",
       "      <td>Elwood</td>\n",
       "      <td>Catt</td>\n",
       "      <td>Male</td>\n",
       "      <td>Nicaragua</td>\n",
       "      <td>Kugluktuk Airport</td>\n",
       "      <td>CA</td>\n",
       "      <td>Canada</td>\n",
       "      <td>NAM</td>\n",
       "      <td>North America</td>\n",
       "      <td>12/26/2022</td>\n",
       "      <td>YCO</td>\n",
       "      <td>Marla Parsonage</td>\n",
       "      <td>On Time</td>\n",
       "    </tr>\n",
       "    <tr>\n",
       "      <th>2</th>\n",
       "      <td>CdUz2g</td>\n",
       "      <td>Darby</td>\n",
       "      <td>Felgate</td>\n",
       "      <td>Male</td>\n",
       "      <td>Russia</td>\n",
       "      <td>Grenoble-Isère Airport</td>\n",
       "      <td>FR</td>\n",
       "      <td>France</td>\n",
       "      <td>EU</td>\n",
       "      <td>Europe</td>\n",
       "      <td>1/18/2022</td>\n",
       "      <td>GNB</td>\n",
       "      <td>Rhonda Amber</td>\n",
       "      <td>On Time</td>\n",
       "    </tr>\n",
       "  </tbody>\n",
       "</table>\n",
       "</div>"
      ],
      "text/plain": [
       "  Passenger ID First Name Last Name  Gender Nationality  \\\n",
       "0       ABVWIg     Edithe    Leggis  Female       Japan   \n",
       "1       jkXXAX     Elwood      Catt    Male   Nicaragua   \n",
       "2       CdUz2g      Darby   Felgate    Male      Russia   \n",
       "\n",
       "             Airport Name Airport Country Code   Country Name  \\\n",
       "0        Coldfoot Airport                   US  United States   \n",
       "1       Kugluktuk Airport                   CA         Canada   \n",
       "2  Grenoble-Isère Airport                   FR         France   \n",
       "\n",
       "  Airport Continent     Continents Departure Date Arrival Airport  \\\n",
       "0               NAM  North America      6/28/2022             CXF   \n",
       "1               NAM  North America     12/26/2022             YCO   \n",
       "2                EU         Europe      1/18/2022             GNB   \n",
       "\n",
       "            Pilot Name Flight Status  \n",
       "0  Fransisco Hazeldine       On Time  \n",
       "1      Marla Parsonage       On Time  \n",
       "2         Rhonda Amber       On Time  "
      ]
     },
     "execution_count": 46,
     "metadata": {},
     "output_type": "execute_result"
    }
   ],
   "source": [
    "# Spesifik bir veri tipi tutan değişkenleri seçmek için select_dtypes() kullanabiliriz.\n",
    "airldata_categorical = airldata.select_dtypes(include = \"object\")\n",
    "airldata_categorical.head(3)"
   ]
  },
  {
   "cell_type": "code",
   "execution_count": 47,
   "id": "42323073",
   "metadata": {
    "execution": {
     "iopub.execute_input": "2024-11-23T13:07:25.748122Z",
     "iopub.status.busy": "2024-11-23T13:07:25.747676Z",
     "iopub.status.idle": "2024-11-23T13:07:25.759889Z",
     "shell.execute_reply": "2024-11-23T13:07:25.758780Z"
    },
    "papermill": {
     "duration": 0.041418,
     "end_time": "2024-11-23T13:07:25.762010",
     "exception": false,
     "start_time": "2024-11-23T13:07:25.720592",
     "status": "completed"
    },
    "tags": []
   },
   "outputs": [
    {
     "data": {
      "text/plain": [
       "array(['Female', 'Male'], dtype=object)"
      ]
     },
     "execution_count": 47,
     "metadata": {},
     "output_type": "execute_result"
    }
   ],
   "source": [
    "# Kategorik bir değişkendeki benzersiz değerleri gözlemlemek için unique() kullanabiliriz.\n",
    "airldata_categorical[\"Gender\"].unique()"
   ]
  },
  {
   "cell_type": "code",
   "execution_count": 48,
   "id": "a5ae777f",
   "metadata": {
    "execution": {
     "iopub.execute_input": "2024-11-23T13:07:25.815103Z",
     "iopub.status.busy": "2024-11-23T13:07:25.814717Z",
     "iopub.status.idle": "2024-11-23T13:07:25.950159Z",
     "shell.execute_reply": "2024-11-23T13:07:25.948758Z"
    },
    "papermill": {
     "duration": 0.165399,
     "end_time": "2024-11-23T13:07:25.952772",
     "exception": false,
     "start_time": "2024-11-23T13:07:25.787373",
     "status": "completed"
    },
    "tags": []
   },
   "outputs": [
    {
     "name": "stdout",
     "output_type": "stream",
     "text": [
      "There are 98619 unique values in \"Passenger ID\" categorical feature.\n",
      "\n",
      "There are 8437 unique values in \"First Name\" categorical feature.\n",
      "\n",
      "There are 41658 unique values in \"Last Name\" categorical feature.\n",
      "\n",
      "There are 2 unique values in \"Gender\" categorical feature.\n",
      "\n",
      "There are 240 unique values in \"Nationality\" categorical feature.\n",
      "\n",
      "There are 9062 unique values in \"Airport Name\" categorical feature.\n",
      "\n",
      "There are 235 unique values in \"Airport Country Code\" categorical feature.\n",
      "\n",
      "There are 235 unique values in \"Country Name\" categorical feature.\n",
      "\n",
      "There are 6 unique values in \"Airport Continent\" categorical feature.\n",
      "\n",
      "There are 6 unique values in \"Continents\" categorical feature.\n",
      "\n",
      "There are 364 unique values in \"Departure Date\" categorical feature.\n",
      "\n",
      "There are 9024 unique values in \"Arrival Airport\" categorical feature.\n",
      "\n",
      "There are 98605 unique values in \"Pilot Name\" categorical feature.\n",
      "\n",
      "There are 3 unique values in \"Flight Status\" categorical feature.\n",
      "\n"
     ]
    }
   ],
   "source": [
    "# Kategorik değişkenlerdeki benzersiz değerlerin sayısını görebilmek için nunique() kullanabiliriz.\n",
    "for col in airldata_categorical.columns:\n",
    "    print(f'There are {airldata_categorical[col].nunique()} unique values in \"{col}\" categorical feature.\\n')"
   ]
  },
  {
   "cell_type": "code",
   "execution_count": 49,
   "id": "3acb1c1c",
   "metadata": {
    "execution": {
     "iopub.execute_input": "2024-11-23T13:07:26.005504Z",
     "iopub.status.busy": "2024-11-23T13:07:26.005137Z",
     "iopub.status.idle": "2024-11-23T13:07:26.250941Z",
     "shell.execute_reply": "2024-11-23T13:07:26.249585Z"
    },
    "papermill": {
     "duration": 0.275125,
     "end_time": "2024-11-23T13:07:26.253631",
     "exception": false,
     "start_time": "2024-11-23T13:07:25.978506",
     "status": "completed"
    },
    "tags": []
   },
   "outputs": [
    {
     "name": "stdout",
     "output_type": "stream",
     "text": [
      "Passenger ID\n",
      "ABVWIg    1\n",
      "egX7mI    1\n",
      "AWXSp0    1\n",
      "225A0s    1\n",
      "bUDsDB    1\n",
      "         ..\n",
      "BUZEJj    1\n",
      "a2aOsu    1\n",
      "gfzeie    1\n",
      "gW1XM5    1\n",
      "8JYEcz    1\n",
      "Name: count, Length: 98619, dtype: int64\n",
      " *********************************************\n",
      "First Name\n",
      "Gale       37\n",
      "Brett      36\n",
      "Conny      35\n",
      "Gerrie     35\n",
      "Haleigh    35\n",
      "           ..\n",
      "Kalila      2\n",
      "Brina       2\n",
      "Maggy       2\n",
      "Nicolle     1\n",
      "Diann       1\n",
      "Name: count, Length: 8437, dtype: int64\n",
      " *********************************************\n",
      "Last Name\n",
      "Dyball        17\n",
      "Capron        15\n",
      "Ducker        13\n",
      "Richfield     12\n",
      "Danaher       11\n",
      "              ..\n",
      "Orwell         1\n",
      "Scarff         1\n",
      "Stapleford     1\n",
      "Thurner        1\n",
      "Lucken         1\n",
      "Name: count, Length: 41658, dtype: int64\n",
      " *********************************************\n",
      "Gender\n",
      "Male      49598\n",
      "Female    49021\n",
      "Name: count, dtype: int64\n",
      " *********************************************\n",
      "Nationality\n",
      "China                     18317\n",
      "Indonesia                 10559\n",
      "Russia                     5693\n",
      "Philippines                5239\n",
      "Brazil                     3791\n",
      "                          ...  \n",
      "Romania                       2\n",
      "British Virgin Islands        2\n",
      "Jersey                        1\n",
      "Norfolk Island                1\n",
      "Sint Maarten                  1\n",
      "Name: count, Length: 240, dtype: int64\n",
      " *********************************************\n",
      "Airport Name\n",
      "San Pedro Airport             43\n",
      "Santa Maria Airport           38\n",
      "Böblingen Flugfeld            36\n",
      "Santa Ana Airport             35\n",
      "San Fernando Airport          31\n",
      "                              ..\n",
      "Balıkesir Merkez Airport       2\n",
      "Arkalyk North Airport          2\n",
      "Juba International Airport     2\n",
      "Falcon State Airport           1\n",
      "Hiroshima Airport              1\n",
      "Name: count, Length: 9062, dtype: int64\n",
      " *********************************************\n",
      "Airport Country Code\n",
      "US    22104\n",
      "AU     6370\n",
      "CA     5424\n",
      "BR     4504\n",
      "PG     4081\n",
      "      ...  \n",
      "AD        7\n",
      "MC        7\n",
      "NR        7\n",
      "PW        5\n",
      "JE        4\n",
      "Name: count, Length: 235, dtype: int64\n",
      " *********************************************\n",
      "Country Name\n",
      "United States       22104\n",
      "Australia            6370\n",
      "Canada               5424\n",
      "Brazil               4504\n",
      "Papua New Guinea     4081\n",
      "                    ...  \n",
      "Andorra                 7\n",
      "Monaco                  7\n",
      "Nauru                   7\n",
      "Palau                   5\n",
      "Jersey                  4\n",
      "Name: count, Length: 235, dtype: int64\n",
      " *********************************************\n",
      "Airport Continent\n",
      "NAM    32033\n",
      "AS     18637\n",
      "OC     13866\n",
      "EU     12335\n",
      "AF     11030\n",
      "SAM    10718\n",
      "Name: count, dtype: int64\n",
      " *********************************************\n",
      "Continents\n",
      "North America    32033\n",
      "Asia             18637\n",
      "Oceania          13866\n",
      "Europe           12335\n",
      "Africa           11030\n",
      "South America    10718\n",
      "Name: count, dtype: int64\n",
      " *********************************************\n",
      "Departure Date\n",
      "7/22/2022     325\n",
      "5/26/2022     314\n",
      "10/16/2022    310\n",
      "8/15/2022     310\n",
      "11/25/2022    310\n",
      "             ... \n",
      "12-12-2022    233\n",
      "4/30/2022     233\n",
      "8/28/2022     232\n",
      "10-04-2022    231\n",
      "6/18/2022     224\n",
      "Name: count, Length: 364, dtype: int64\n",
      " *********************************************\n",
      "Arrival Airport\n",
      "0      873\n",
      "JNB     37\n",
      "PHM     36\n",
      "MPT     32\n",
      "PCO     27\n",
      "      ... \n",
      "CXM      2\n",
      "IPI      2\n",
      "BQU      2\n",
      "FAL      1\n",
      "HIJ      1\n",
      "Name: count, Length: 9024, dtype: int64\n",
      " *********************************************\n",
      "Pilot Name\n",
      "Kally Askell            2\n",
      "Byrle Schooling         2\n",
      "Valeda Pratty           2\n",
      "Demetris Atherley       2\n",
      "Conant Amesbury         2\n",
      "                       ..\n",
      "Teodorico Billingsly    1\n",
      "Homere Bushel           1\n",
      "Margette Townby         1\n",
      "Lorna Bendon            1\n",
      "Auguste Tindley         1\n",
      "Name: count, Length: 98605, dtype: int64\n",
      " *********************************************\n",
      "Flight Status\n",
      "Cancelled    32942\n",
      "On Time      32846\n",
      "Delayed      32831\n",
      "Name: count, dtype: int64\n",
      " *********************************************\n"
     ]
    }
   ],
   "source": [
    "# Her bir kategorik değişken için toplam gözlem sayısını value_counts() ile buluyoruz.\n",
    "for col in airldata_categorical.columns:\n",
    "    print(f'{airldata_categorical[col].value_counts()}\\n', 5*\"*********\")"
   ]
  },
  {
   "cell_type": "code",
   "execution_count": 50,
   "id": "cd735fe1",
   "metadata": {
    "execution": {
     "iopub.execute_input": "2024-11-23T13:07:26.308366Z",
     "iopub.status.busy": "2024-11-23T13:07:26.307951Z",
     "iopub.status.idle": "2024-11-23T13:07:26.319980Z",
     "shell.execute_reply": "2024-11-23T13:07:26.318934Z"
    },
    "papermill": {
     "duration": 0.042282,
     "end_time": "2024-11-23T13:07:26.322393",
     "exception": false,
     "start_time": "2024-11-23T13:07:26.280111",
     "status": "completed"
    },
    "tags": []
   },
   "outputs": [
    {
     "data": {
      "text/plain": [
       "['Cancelled', 'Delayed', 'On Time']"
      ]
     },
     "execution_count": 50,
     "metadata": {},
     "output_type": "execute_result"
    }
   ],
   "source": [
    "# Kategorik bir değişkende bulunan kategorik değerleri bir liste haline getirip sonra kullanabiliriz.\n",
    "flst_categories = airldata[\"Flight Status\"].unique().tolist()[::-1]\n",
    "flst_categories"
   ]
  },
  {
   "cell_type": "code",
   "execution_count": 51,
   "id": "73d897cc",
   "metadata": {
    "execution": {
     "iopub.execute_input": "2024-11-23T13:07:26.375552Z",
     "iopub.status.busy": "2024-11-23T13:07:26.375189Z",
     "iopub.status.idle": "2024-11-23T13:07:26.386455Z",
     "shell.execute_reply": "2024-11-23T13:07:26.385444Z"
    },
    "papermill": {
     "duration": 0.040504,
     "end_time": "2024-11-23T13:07:26.388566",
     "exception": false,
     "start_time": "2024-11-23T13:07:26.348062",
     "status": "completed"
    },
    "tags": []
   },
   "outputs": [],
   "source": [
    "# Ordinal değişken nasıl oluşturulur?\n",
    "from pandas.api.types import CategoricalDtype\n",
    "\n",
    "airldata[\"Flight Status\"] = airldata[\"Flight Status\"].astype(CategoricalDtype(categories = flst_categories, ordered = True))\n",
    "\n",
    "# ALIŞTIRMA: astype('category') ile CategoricalDtype arasında fark var mıdır? Varsa nedir? Araştırın."
   ]
  },
  {
   "cell_type": "code",
   "execution_count": 52,
   "id": "630056d7",
   "metadata": {
    "execution": {
     "iopub.execute_input": "2024-11-23T13:07:26.442716Z",
     "iopub.status.busy": "2024-11-23T13:07:26.442304Z",
     "iopub.status.idle": "2024-11-23T13:07:26.450287Z",
     "shell.execute_reply": "2024-11-23T13:07:26.449159Z"
    },
    "papermill": {
     "duration": 0.037976,
     "end_time": "2024-11-23T13:07:26.452593",
     "exception": false,
     "start_time": "2024-11-23T13:07:26.414617",
     "status": "completed"
    },
    "tags": []
   },
   "outputs": [
    {
     "data": {
      "text/plain": [
       "0    On Time\n",
       "1    On Time\n",
       "2    On Time\n",
       "3    Delayed\n",
       "4    On Time\n",
       "Name: Flight Status, dtype: category\n",
       "Categories (3, object): ['Cancelled' < 'Delayed' < 'On Time']"
      ]
     },
     "execution_count": 52,
     "metadata": {},
     "output_type": "execute_result"
    }
   ],
   "source": [
    "airldata[\"Flight Status\"].head()"
   ]
  },
  {
   "cell_type": "markdown",
   "id": "799618ca",
   "metadata": {
    "papermill": {
     "duration": 0.02557,
     "end_time": "2024-11-23T13:07:26.504064",
     "exception": false,
     "start_time": "2024-11-23T13:07:26.478494",
     "status": "completed"
    },
    "tags": []
   },
   "source": [
    "3.2 Kategorik Değişkenlerde Görselleştirme İşlemleri"
   ]
  },
  {
   "cell_type": "code",
   "execution_count": 53,
   "id": "9af51656",
   "metadata": {
    "execution": {
     "iopub.execute_input": "2024-11-23T13:07:26.556965Z",
     "iopub.status.busy": "2024-11-23T13:07:26.556568Z",
     "iopub.status.idle": "2024-11-23T13:07:26.750535Z",
     "shell.execute_reply": "2024-11-23T13:07:26.749427Z"
    },
    "papermill": {
     "duration": 0.223189,
     "end_time": "2024-11-23T13:07:26.752856",
     "exception": false,
     "start_time": "2024-11-23T13:07:26.529667",
     "status": "completed"
    },
    "tags": []
   },
   "outputs": [
    {
     "data": {
      "image/png": "[encoded data removed]",
      "text/plain": [
       "<Figure size 640x480 with 1 Axes>"
      ]
     },
     "metadata": {},
     "output_type": "display_data"
    }
   ],
   "source": [
    "# Kategorik bir değişkendeki kategorilerin gözlem sayılarını basitçe görselleştirelim.\n",
    "airldata['Continents'].value_counts().plot.barh(\n",
    "    color=['#FF6347', '#4682B4', '#32CD32', '#FF1493', '#FFD700']);"
   ]
  },
  {
   "cell_type": "code",
   "execution_count": 54,
   "id": "8c752477",
   "metadata": {
    "execution": {
     "iopub.execute_input": "2024-11-23T13:07:26.808466Z",
     "iopub.status.busy": "2024-11-23T13:07:26.808063Z",
     "iopub.status.idle": "2024-11-23T13:07:27.366554Z",
     "shell.execute_reply": "2024-11-23T13:07:27.365148Z"
    },
    "papermill": {
     "duration": 0.589076,
     "end_time": "2024-11-23T13:07:27.368991",
     "exception": false,
     "start_time": "2024-11-23T13:07:26.779915",
     "status": "completed"
    },
    "tags": []
   },
   "outputs": [
    {
     "data": {
      "image/png": "[encoded data removed]",
      "text/plain": [
       "<Figure size 640x480 with 1 Axes>"
      ]
     },
     "metadata": {},
     "output_type": "display_data"
    }
   ],
   "source": [
    "sns.countplot(data = airldata,\n",
    "              y = \"Continents\",\n",
    "              hue = \"Continents\",\n",
    "              order = airldata[\"Continents\"].value_counts().index,\n",
    "              palette = \"Pastel1\");"
   ]
  },
  {
   "cell_type": "code",
   "execution_count": 55,
   "id": "5dc8bcf0",
   "metadata": {
    "execution": {
     "iopub.execute_input": "2024-11-23T13:07:27.425520Z",
     "iopub.status.busy": "2024-11-23T13:07:27.425117Z",
     "iopub.status.idle": "2024-11-23T13:07:28.386625Z",
     "shell.execute_reply": "2024-11-23T13:07:28.385225Z"
    },
    "papermill": {
     "duration": 0.993696,
     "end_time": "2024-11-23T13:07:28.390062",
     "exception": false,
     "start_time": "2024-11-23T13:07:27.396366",
     "status": "completed"
    },
    "tags": []
   },
   "outputs": [
    {
     "data": {
      "image/png": "[encoded data removed]",
      "text/plain": [
       "<Figure size 640x480 with 1 Axes>"
      ]
     },
     "metadata": {},
     "output_type": "display_data"
    }
   ],
   "source": [
    "sns.barplot(data = airldata, x = \"Gender\", y = airldata.Gender.index, \n",
    "             palette={\"Male\": \"#1F77B4\", \"Female\": \"#FF69B4\"});"
   ]
  },
  {
   "cell_type": "code",
   "execution_count": 56,
   "id": "9e285002",
   "metadata": {
    "execution": {
     "iopub.execute_input": "2024-11-23T13:07:28.456531Z",
     "iopub.status.busy": "2024-11-23T13:07:28.455998Z",
     "iopub.status.idle": "2024-11-23T13:07:30.409218Z",
     "shell.execute_reply": "2024-11-23T13:07:30.408017Z"
    },
    "papermill": {
     "duration": 1.988667,
     "end_time": "2024-11-23T13:07:30.412063",
     "exception": false,
     "start_time": "2024-11-23T13:07:28.423396",
     "status": "completed"
    },
    "tags": []
   },
   "outputs": [
    {
     "name": "stderr",
     "output_type": "stream",
     "text": [
      "/tmp/ipykernel_17/191380026.py:4: FutureWarning: Passing `palette` without assigning `hue` is deprecated.\n",
      "/opt/conda/lib/python3.10/site-packages/seaborn/_oldcore.py:1119: FutureWarning: use_inf_as_na option is deprecated and will be removed in a future version. Convert inf values to NaN before operating instead.\n",
      "/opt/conda/lib/python3.10/site-packages/seaborn/_oldcore.py:1119: FutureWarning: use_inf_as_na option is deprecated and will be removed in a future version. Convert inf values to NaN before operating instead.\n",
      "/opt/conda/lib/python3.10/site-packages/seaborn/_oldcore.py:1075: FutureWarning: When grouping with a length-1 list-like, you will need to pass a length-1 tuple to get_group in a future version of pandas. Pass `(name,)` instead of `name` to silence this warning.\n"
     ]
    },
    {
     "data": {
      "image/png": "[encoded data removed]",
      "text/plain": [
       "<Figure size 500x500 with 1 Axes>"
      ]
     },
     "metadata": {},
     "output_type": "display_data"
    }
   ],
   "source": [
    "import pandas as pd\n",
    "from matplotlib import pyplot as plt\n",
    "import seaborn as sns\n",
    "sns.catplot(data = airldata,\n",
    "            x = \"Continents\",\n",
    "            y = \"Age\",\n",
    "           palette=\"Pastel1\");"
   ]
  },
  {
   "cell_type": "code",
   "execution_count": 57,
   "id": "edce6599",
   "metadata": {
    "execution": {
     "iopub.execute_input": "2024-11-23T13:07:30.490771Z",
     "iopub.status.busy": "2024-11-23T13:07:30.490219Z",
     "iopub.status.idle": "2024-11-23T13:07:31.963206Z",
     "shell.execute_reply": "2024-11-23T13:07:31.961899Z"
    },
    "papermill": {
     "duration": 1.513592,
     "end_time": "2024-11-23T13:07:31.965546",
     "exception": false,
     "start_time": "2024-11-23T13:07:30.451954",
     "status": "completed"
    },
    "tags": []
   },
   "outputs": [
    {
     "data": {
      "image/png": "[encoded data removed]",
      "text/plain": [
       "<Figure size 1100x500 with 1 Axes>"
      ]
     },
     "metadata": {},
     "output_type": "display_data"
    }
   ],
   "source": [
    "plt.figure(figsize = (11, 5))\n",
    "sns.barplot(data = airldata,\n",
    "            x = \"Continents\",\n",
    "            y = \"Age\",\n",
    "            hue = \"Flight Status\",\n",
    "            palette=\"viridis\");"
   ]
  },
  {
   "cell_type": "code",
   "execution_count": 58,
   "id": "c309fc29",
   "metadata": {
    "execution": {
     "iopub.execute_input": "2024-11-23T13:07:32.025837Z",
     "iopub.status.busy": "2024-11-23T13:07:32.025415Z",
     "iopub.status.idle": "2024-11-23T13:07:32.043509Z",
     "shell.execute_reply": "2024-11-23T13:07:32.042433Z"
    },
    "papermill": {
     "duration": 0.050265,
     "end_time": "2024-11-23T13:07:32.045770",
     "exception": false,
     "start_time": "2024-11-23T13:07:31.995505",
     "status": "completed"
    },
    "tags": []
   },
   "outputs": [
    {
     "data": {
      "text/html": [
       "<div>\n",
       "<style scoped>\n",
       "    .dataframe tbody tr th:only-of-type {\n",
       "        vertical-align: middle;\n",
       "    }\n",
       "\n",
       "    .dataframe tbody tr th {\n",
       "        vertical-align: top;\n",
       "    }\n",
       "\n",
       "    .dataframe thead th {\n",
       "        text-align: right;\n",
       "    }\n",
       "</style>\n",
       "<table border=\"1\" class=\"dataframe\">\n",
       "  <thead>\n",
       "    <tr style=\"text-align: right;\">\n",
       "      <th></th>\n",
       "      <th>Passenger ID</th>\n",
       "      <th>First Name</th>\n",
       "      <th>Last Name</th>\n",
       "      <th>Gender</th>\n",
       "      <th>Age</th>\n",
       "      <th>Nationality</th>\n",
       "      <th>Airport Name</th>\n",
       "      <th>Airport Country Code</th>\n",
       "      <th>Country Name</th>\n",
       "      <th>Airport Continent</th>\n",
       "      <th>Continents</th>\n",
       "      <th>Departure Date</th>\n",
       "      <th>Arrival Airport</th>\n",
       "      <th>Pilot Name</th>\n",
       "      <th>Flight Status</th>\n",
       "    </tr>\n",
       "  </thead>\n",
       "  <tbody>\n",
       "    <tr>\n",
       "      <th>0</th>\n",
       "      <td>ABVWIg</td>\n",
       "      <td>Edithe</td>\n",
       "      <td>Leggis</td>\n",
       "      <td>Female</td>\n",
       "      <td>62</td>\n",
       "      <td>Japan</td>\n",
       "      <td>Coldfoot Airport</td>\n",
       "      <td>US</td>\n",
       "      <td>United States</td>\n",
       "      <td>NAM</td>\n",
       "      <td>North America</td>\n",
       "      <td>6/28/2022</td>\n",
       "      <td>CXF</td>\n",
       "      <td>Fransisco Hazeldine</td>\n",
       "      <td>On Time</td>\n",
       "    </tr>\n",
       "    <tr>\n",
       "      <th>1</th>\n",
       "      <td>jkXXAX</td>\n",
       "      <td>Elwood</td>\n",
       "      <td>Catt</td>\n",
       "      <td>Male</td>\n",
       "      <td>62</td>\n",
       "      <td>Nicaragua</td>\n",
       "      <td>Kugluktuk Airport</td>\n",
       "      <td>CA</td>\n",
       "      <td>Canada</td>\n",
       "      <td>NAM</td>\n",
       "      <td>North America</td>\n",
       "      <td>12/26/2022</td>\n",
       "      <td>YCO</td>\n",
       "      <td>Marla Parsonage</td>\n",
       "      <td>On Time</td>\n",
       "    </tr>\n",
       "    <tr>\n",
       "      <th>2</th>\n",
       "      <td>CdUz2g</td>\n",
       "      <td>Darby</td>\n",
       "      <td>Felgate</td>\n",
       "      <td>Male</td>\n",
       "      <td>67</td>\n",
       "      <td>Russia</td>\n",
       "      <td>Grenoble-Isère Airport</td>\n",
       "      <td>FR</td>\n",
       "      <td>France</td>\n",
       "      <td>EU</td>\n",
       "      <td>Europe</td>\n",
       "      <td>1/18/2022</td>\n",
       "      <td>GNB</td>\n",
       "      <td>Rhonda Amber</td>\n",
       "      <td>On Time</td>\n",
       "    </tr>\n",
       "    <tr>\n",
       "      <th>3</th>\n",
       "      <td>BRS38V</td>\n",
       "      <td>Dominica</td>\n",
       "      <td>Pyle</td>\n",
       "      <td>Female</td>\n",
       "      <td>71</td>\n",
       "      <td>China</td>\n",
       "      <td>Ottawa / Gatineau Airport</td>\n",
       "      <td>CA</td>\n",
       "      <td>Canada</td>\n",
       "      <td>NAM</td>\n",
       "      <td>North America</td>\n",
       "      <td>9/16/2022</td>\n",
       "      <td>YND</td>\n",
       "      <td>Kacie Commucci</td>\n",
       "      <td>Delayed</td>\n",
       "    </tr>\n",
       "    <tr>\n",
       "      <th>4</th>\n",
       "      <td>9kvTLo</td>\n",
       "      <td>Bay</td>\n",
       "      <td>Pencost</td>\n",
       "      <td>Male</td>\n",
       "      <td>21</td>\n",
       "      <td>China</td>\n",
       "      <td>Gillespie Field</td>\n",
       "      <td>US</td>\n",
       "      <td>United States</td>\n",
       "      <td>NAM</td>\n",
       "      <td>North America</td>\n",
       "      <td>2/25/2022</td>\n",
       "      <td>SEE</td>\n",
       "      <td>Ebonee Tree</td>\n",
       "      <td>On Time</td>\n",
       "    </tr>\n",
       "  </tbody>\n",
       "</table>\n",
       "</div>"
      ],
      "text/plain": [
       "  Passenger ID First Name Last Name  Gender  Age Nationality  \\\n",
       "0       ABVWIg     Edithe    Leggis  Female   62       Japan   \n",
       "1       jkXXAX     Elwood      Catt    Male   62   Nicaragua   \n",
       "2       CdUz2g      Darby   Felgate    Male   67      Russia   \n",
       "3       BRS38V   Dominica      Pyle  Female   71       China   \n",
       "4       9kvTLo        Bay   Pencost    Male   21       China   \n",
       "\n",
       "                Airport Name Airport Country Code   Country Name  \\\n",
       "0           Coldfoot Airport                   US  United States   \n",
       "1          Kugluktuk Airport                   CA         Canada   \n",
       "2     Grenoble-Isère Airport                   FR         France   \n",
       "3  Ottawa / Gatineau Airport                   CA         Canada   \n",
       "4            Gillespie Field                   US  United States   \n",
       "\n",
       "  Airport Continent     Continents Departure Date Arrival Airport  \\\n",
       "0               NAM  North America      6/28/2022             CXF   \n",
       "1               NAM  North America     12/26/2022             YCO   \n",
       "2                EU         Europe      1/18/2022             GNB   \n",
       "3               NAM  North America      9/16/2022             YND   \n",
       "4               NAM  North America      2/25/2022             SEE   \n",
       "\n",
       "            Pilot Name Flight Status  \n",
       "0  Fransisco Hazeldine       On Time  \n",
       "1      Marla Parsonage       On Time  \n",
       "2         Rhonda Amber       On Time  \n",
       "3       Kacie Commucci       Delayed  \n",
       "4          Ebonee Tree       On Time  "
      ]
     },
     "execution_count": 58,
     "metadata": {},
     "output_type": "execute_result"
    }
   ],
   "source": [
    "airldata.head()"
   ]
  },
  {
   "cell_type": "markdown",
   "id": "2b6c0e41",
   "metadata": {
    "papermill": {
     "duration": 0.029037,
     "end_time": "2024-11-23T13:07:32.104153",
     "exception": false,
     "start_time": "2024-11-23T13:07:32.075116",
     "status": "completed"
    },
    "tags": []
   },
   "source": [
    "Soru: Yaş ortalaması en yüksek olan kıta hangisidir?"
   ]
  },
  {
   "cell_type": "code",
   "execution_count": 59,
   "id": "9b872595",
   "metadata": {
    "execution": {
     "iopub.execute_input": "2024-11-23T13:07:32.165759Z",
     "iopub.status.busy": "2024-11-23T13:07:32.165326Z",
     "iopub.status.idle": "2024-11-23T13:07:32.185650Z",
     "shell.execute_reply": "2024-11-23T13:07:32.184542Z"
    },
    "papermill": {
     "duration": 0.054439,
     "end_time": "2024-11-23T13:07:32.187987",
     "exception": false,
     "start_time": "2024-11-23T13:07:32.133548",
     "status": "completed"
    },
    "tags": []
   },
   "outputs": [
    {
     "data": {
      "text/html": [
       "<div>\n",
       "<style scoped>\n",
       "    .dataframe tbody tr th:only-of-type {\n",
       "        vertical-align: middle;\n",
       "    }\n",
       "\n",
       "    .dataframe tbody tr th {\n",
       "        vertical-align: top;\n",
       "    }\n",
       "\n",
       "    .dataframe thead th {\n",
       "        text-align: right;\n",
       "    }\n",
       "</style>\n",
       "<table border=\"1\" class=\"dataframe\">\n",
       "  <thead>\n",
       "    <tr style=\"text-align: right;\">\n",
       "      <th></th>\n",
       "      <th>Continents</th>\n",
       "      <th>Age</th>\n",
       "    </tr>\n",
       "  </thead>\n",
       "  <tbody>\n",
       "    <tr>\n",
       "      <th>1</th>\n",
       "      <td>Asia</td>\n",
       "      <td>45.653861</td>\n",
       "    </tr>\n",
       "    <tr>\n",
       "      <th>0</th>\n",
       "      <td>Africa</td>\n",
       "      <td>45.635993</td>\n",
       "    </tr>\n",
       "    <tr>\n",
       "      <th>3</th>\n",
       "      <td>North America</td>\n",
       "      <td>45.581619</td>\n",
       "    </tr>\n",
       "    <tr>\n",
       "      <th>5</th>\n",
       "      <td>South America</td>\n",
       "      <td>45.373204</td>\n",
       "    </tr>\n",
       "    <tr>\n",
       "      <th>4</th>\n",
       "      <td>Oceania</td>\n",
       "      <td>45.371628</td>\n",
       "    </tr>\n",
       "    <tr>\n",
       "      <th>2</th>\n",
       "      <td>Europe</td>\n",
       "      <td>45.220592</td>\n",
       "    </tr>\n",
       "  </tbody>\n",
       "</table>\n",
       "</div>"
      ],
      "text/plain": [
       "      Continents        Age\n",
       "1           Asia  45.653861\n",
       "0         Africa  45.635993\n",
       "3  North America  45.581619\n",
       "5  South America  45.373204\n",
       "4        Oceania  45.371628\n",
       "2         Europe  45.220592"
      ]
     },
     "execution_count": 59,
     "metadata": {},
     "output_type": "execute_result"
    }
   ],
   "source": [
    "airldata_Age = airldata.groupby(by =\"Continents\")[\"Age\"].mean().to_frame().reset_index().sort_values(by =\"Age\", ascending = False)\n",
    "\n",
    "airldata_Age"
   ]
  },
  {
   "cell_type": "code",
   "execution_count": 60,
   "id": "0308f5f8",
   "metadata": {
    "execution": {
     "iopub.execute_input": "2024-11-23T13:07:32.249349Z",
     "iopub.status.busy": "2024-11-23T13:07:32.248934Z",
     "iopub.status.idle": "2024-11-23T13:07:32.278241Z",
     "shell.execute_reply": "2024-11-23T13:07:32.277109Z"
    },
    "papermill": {
     "duration": 0.063107,
     "end_time": "2024-11-23T13:07:32.280648",
     "exception": false,
     "start_time": "2024-11-23T13:07:32.217541",
     "status": "completed"
    },
    "tags": []
   },
   "outputs": [
    {
     "data": {
      "text/html": [
       "<div>\n",
       "<style scoped>\n",
       "    .dataframe tbody tr th:only-of-type {\n",
       "        vertical-align: middle;\n",
       "    }\n",
       "\n",
       "    .dataframe tbody tr th {\n",
       "        vertical-align: top;\n",
       "    }\n",
       "\n",
       "    .dataframe thead th {\n",
       "        text-align: right;\n",
       "    }\n",
       "</style>\n",
       "<table border=\"1\" class=\"dataframe\">\n",
       "  <thead>\n",
       "    <tr style=\"text-align: right;\">\n",
       "      <th></th>\n",
       "      <th>Continents</th>\n",
       "      <th>Gender</th>\n",
       "      <th>Age</th>\n",
       "    </tr>\n",
       "  </thead>\n",
       "  <tbody>\n",
       "    <tr>\n",
       "      <th>2</th>\n",
       "      <td>Asia</td>\n",
       "      <td>Female</td>\n",
       "      <td>46.017561</td>\n",
       "    </tr>\n",
       "    <tr>\n",
       "      <th>0</th>\n",
       "      <td>Africa</td>\n",
       "      <td>Female</td>\n",
       "      <td>45.752973</td>\n",
       "    </tr>\n",
       "    <tr>\n",
       "      <th>9</th>\n",
       "      <td>Oceania</td>\n",
       "      <td>Male</td>\n",
       "      <td>45.648837</td>\n",
       "    </tr>\n",
       "    <tr>\n",
       "      <th>6</th>\n",
       "      <td>North America</td>\n",
       "      <td>Female</td>\n",
       "      <td>45.593847</td>\n",
       "    </tr>\n",
       "    <tr>\n",
       "      <th>7</th>\n",
       "      <td>North America</td>\n",
       "      <td>Male</td>\n",
       "      <td>45.569722</td>\n",
       "    </tr>\n",
       "  </tbody>\n",
       "</table>\n",
       "</div>"
      ],
      "text/plain": [
       "      Continents  Gender        Age\n",
       "2           Asia  Female  46.017561\n",
       "0         Africa  Female  45.752973\n",
       "9        Oceania    Male  45.648837\n",
       "6  North America  Female  45.593847\n",
       "7  North America    Male  45.569722"
      ]
     },
     "execution_count": 60,
     "metadata": {},
     "output_type": "execute_result"
    }
   ],
   "source": [
    "airldata.groupby(by = ['Continents', 'Gender'])['Age'].mean().to_frame().reset_index().sort_values(by = \"Age\", ascending = False)[:5]"
   ]
  },
  {
   "cell_type": "code",
   "execution_count": 61,
   "id": "40938528",
   "metadata": {
    "execution": {
     "iopub.execute_input": "2024-11-23T13:07:32.342305Z",
     "iopub.status.busy": "2024-11-23T13:07:32.341920Z",
     "iopub.status.idle": "2024-11-23T13:07:33.664328Z",
     "shell.execute_reply": "2024-11-23T13:07:33.663143Z"
    },
    "papermill": {
     "duration": 1.35579,
     "end_time": "2024-11-23T13:07:33.666520",
     "exception": false,
     "start_time": "2024-11-23T13:07:32.310730",
     "status": "completed"
    },
    "tags": []
   },
   "outputs": [
    {
     "data": {
      "image/png": "[encoded data removed]",
      "text/plain": [
       "<Figure size 600x500 with 1 Axes>"
      ]
     },
     "metadata": {},
     "output_type": "display_data"
    }
   ],
   "source": [
    "plt.figure(figsize = (6, 5))\n",
    "plt.xticks(rotation = 90)\n",
    "sns.barplot(data = airldata, x = \"Continents\", y = \"Age\", hue = \"Gender\",\n",
    "           palette={\"Male\": \"#1F77B4\", \"Female\": \"#FF69B4\"});"
   ]
  },
  {
   "cell_type": "markdown",
   "id": "e8a0ed23",
   "metadata": {
    "papermill": {
     "duration": 0.030928,
     "end_time": "2024-11-23T13:07:33.727899",
     "exception": false,
     "start_time": "2024-11-23T13:07:33.696971",
     "status": "completed"
    },
    "tags": []
   },
   "source": [
    "Soru: Herhangi bir uçuş durumu için, havaalanı kıtası kategorisi bazında kaç adet kayıt var?"
   ]
  },
  {
   "cell_type": "code",
   "execution_count": 62,
   "id": "1b968e49",
   "metadata": {
    "execution": {
     "iopub.execute_input": "2024-11-23T13:07:33.792155Z",
     "iopub.status.busy": "2024-11-23T13:07:33.791746Z",
     "iopub.status.idle": "2024-11-23T13:07:33.820547Z",
     "shell.execute_reply": "2024-11-23T13:07:33.819227Z"
    },
    "papermill": {
     "duration": 0.062905,
     "end_time": "2024-11-23T13:07:33.823117",
     "exception": false,
     "start_time": "2024-11-23T13:07:33.760212",
     "status": "completed"
    },
    "tags": []
   },
   "outputs": [
    {
     "name": "stderr",
     "output_type": "stream",
     "text": [
      "/tmp/ipykernel_17/2182333250.py:1: FutureWarning: The default of observed=False is deprecated and will be changed to True in a future version of pandas. Pass observed=False to retain current behavior or observed=True to adopt the future default and silence this warning.\n"
     ]
    },
    {
     "data": {
      "text/html": [
       "<div>\n",
       "<style scoped>\n",
       "    .dataframe tbody tr th:only-of-type {\n",
       "        vertical-align: middle;\n",
       "    }\n",
       "\n",
       "    .dataframe tbody tr th {\n",
       "        vertical-align: top;\n",
       "    }\n",
       "\n",
       "    .dataframe thead th {\n",
       "        text-align: right;\n",
       "    }\n",
       "</style>\n",
       "<table border=\"1\" class=\"dataframe\">\n",
       "  <thead>\n",
       "    <tr style=\"text-align: right;\">\n",
       "      <th></th>\n",
       "      <th>Flight Status</th>\n",
       "      <th>Airport Continent</th>\n",
       "      <th>count</th>\n",
       "    </tr>\n",
       "  </thead>\n",
       "  <tbody>\n",
       "    <tr>\n",
       "      <th>6</th>\n",
       "      <td>Delayed</td>\n",
       "      <td>NAM</td>\n",
       "      <td>10696</td>\n",
       "    </tr>\n",
       "    <tr>\n",
       "      <th>7</th>\n",
       "      <td>Delayed</td>\n",
       "      <td>AS</td>\n",
       "      <td>6160</td>\n",
       "    </tr>\n",
       "    <tr>\n",
       "      <th>8</th>\n",
       "      <td>Delayed</td>\n",
       "      <td>OC</td>\n",
       "      <td>4634</td>\n",
       "    </tr>\n",
       "    <tr>\n",
       "      <th>9</th>\n",
       "      <td>Delayed</td>\n",
       "      <td>EU</td>\n",
       "      <td>4178</td>\n",
       "    </tr>\n",
       "    <tr>\n",
       "      <th>10</th>\n",
       "      <td>Delayed</td>\n",
       "      <td>AF</td>\n",
       "      <td>3654</td>\n",
       "    </tr>\n",
       "    <tr>\n",
       "      <th>11</th>\n",
       "      <td>Delayed</td>\n",
       "      <td>SAM</td>\n",
       "      <td>3509</td>\n",
       "    </tr>\n",
       "  </tbody>\n",
       "</table>\n",
       "</div>"
      ],
      "text/plain": [
       "   Flight Status Airport Continent  count\n",
       "6        Delayed               NAM  10696\n",
       "7        Delayed                AS   6160\n",
       "8        Delayed                OC   4634\n",
       "9        Delayed                EU   4178\n",
       "10       Delayed                AF   3654\n",
       "11       Delayed               SAM   3509"
      ]
     },
     "execution_count": 62,
     "metadata": {},
     "output_type": "execute_result"
    }
   ],
   "source": [
    "airldata_location = airldata.groupby(by = \"Flight Status\")[\"Airport Continent\"].value_counts().to_frame().reset_index().sort_values(by = \"count\", ascending = False)\n",
    "airldata_location_usa = airldata_location[airldata_location['Flight Status'] == \"Delayed\"]\n",
    "airldata_location_usa"
   ]
  },
  {
   "cell_type": "code",
   "execution_count": 63,
   "id": "a5608a53",
   "metadata": {
    "execution": {
     "iopub.execute_input": "2024-11-23T13:07:33.885170Z",
     "iopub.status.busy": "2024-11-23T13:07:33.884637Z",
     "iopub.status.idle": "2024-11-23T13:07:34.271428Z",
     "shell.execute_reply": "2024-11-23T13:07:34.270248Z"
    },
    "papermill": {
     "duration": 0.420879,
     "end_time": "2024-11-23T13:07:34.274247",
     "exception": false,
     "start_time": "2024-11-23T13:07:33.853368",
     "status": "completed"
    },
    "tags": []
   },
   "outputs": [
    {
     "name": "stderr",
     "output_type": "stream",
     "text": [
      "/opt/conda/lib/python3.10/site-packages/seaborn/categorical.py:641: FutureWarning: The default of observed=False is deprecated and will be changed to True in a future version of pandas. Pass observed=False to retain current behavior or observed=True to adopt the future default and silence this warning.\n",
      "/opt/conda/lib/python3.10/site-packages/seaborn/categorical.py:641: FutureWarning: The default of observed=False is deprecated and will be changed to True in a future version of pandas. Pass observed=False to retain current behavior or observed=True to adopt the future default and silence this warning.\n"
     ]
    },
    {
     "data": {
      "image/png": "[encoded data removed]",
      "text/plain": [
       "<Figure size 1000x800 with 1 Axes>"
      ]
     },
     "metadata": {},
     "output_type": "display_data"
    }
   ],
   "source": [
    "plt.figure(figsize = (10, 8))\n",
    "sns.barplot(data = airldata_location_usa, x = \"Flight Status\", y = 'count', hue = \"Airport Continent\",\n",
    "           palette=\"coolwarm\");"
   ]
  },
  {
   "cell_type": "markdown",
   "id": "8b934df8",
   "metadata": {
    "papermill": {
     "duration": 0.030427,
     "end_time": "2024-11-23T13:07:34.336335",
     "exception": false,
     "start_time": "2024-11-23T13:07:34.305908",
     "status": "completed"
    },
    "tags": []
   },
   "source": [
    "# 4. Sürekli Değişken Analizi"
   ]
  },
  {
   "cell_type": "code",
   "execution_count": 64,
   "id": "7e6f278d",
   "metadata": {
    "execution": {
     "iopub.execute_input": "2024-11-23T13:07:34.399818Z",
     "iopub.status.busy": "2024-11-23T13:07:34.398792Z",
     "iopub.status.idle": "2024-11-23T13:07:34.410076Z",
     "shell.execute_reply": "2024-11-23T13:07:34.408936Z"
    },
    "papermill": {
     "duration": 0.045261,
     "end_time": "2024-11-23T13:07:34.412212",
     "exception": false,
     "start_time": "2024-11-23T13:07:34.366951",
     "status": "completed"
    },
    "tags": []
   },
   "outputs": [
    {
     "data": {
      "text/html": [
       "<div>\n",
       "<style scoped>\n",
       "    .dataframe tbody tr th:only-of-type {\n",
       "        vertical-align: middle;\n",
       "    }\n",
       "\n",
       "    .dataframe tbody tr th {\n",
       "        vertical-align: top;\n",
       "    }\n",
       "\n",
       "    .dataframe thead th {\n",
       "        text-align: right;\n",
       "    }\n",
       "</style>\n",
       "<table border=\"1\" class=\"dataframe\">\n",
       "  <thead>\n",
       "    <tr style=\"text-align: right;\">\n",
       "      <th></th>\n",
       "      <th>Age</th>\n",
       "    </tr>\n",
       "  </thead>\n",
       "  <tbody>\n",
       "    <tr>\n",
       "      <th>0</th>\n",
       "      <td>62</td>\n",
       "    </tr>\n",
       "    <tr>\n",
       "      <th>1</th>\n",
       "      <td>62</td>\n",
       "    </tr>\n",
       "    <tr>\n",
       "      <th>2</th>\n",
       "      <td>67</td>\n",
       "    </tr>\n",
       "    <tr>\n",
       "      <th>3</th>\n",
       "      <td>71</td>\n",
       "    </tr>\n",
       "    <tr>\n",
       "      <th>4</th>\n",
       "      <td>21</td>\n",
       "    </tr>\n",
       "  </tbody>\n",
       "</table>\n",
       "</div>"
      ],
      "text/plain": [
       "   Age\n",
       "0   62\n",
       "1   62\n",
       "2   67\n",
       "3   71\n",
       "4   21"
      ]
     },
     "execution_count": 64,
     "metadata": {},
     "output_type": "execute_result"
    }
   ],
   "source": [
    "# Veri setindeki numerik kolonları seçmek için aşağıdaki yapıyı kullanabiliriz.\n",
    "airldata_numerical = airldata.select_dtypes(include = [\"float64\", \"int64\"])\n",
    "airldata_numerical.head()"
   ]
  },
  {
   "cell_type": "code",
   "execution_count": 65,
   "id": "3fc82510",
   "metadata": {
    "execution": {
     "iopub.execute_input": "2024-11-23T13:07:34.475260Z",
     "iopub.status.busy": "2024-11-23T13:07:34.474862Z",
     "iopub.status.idle": "2024-11-23T13:07:34.494574Z",
     "shell.execute_reply": "2024-11-23T13:07:34.493480Z"
    },
    "papermill": {
     "duration": 0.053838,
     "end_time": "2024-11-23T13:07:34.496818",
     "exception": false,
     "start_time": "2024-11-23T13:07:34.442980",
     "status": "completed"
    },
    "tags": []
   },
   "outputs": [
    {
     "data": {
      "text/html": [
       "<div>\n",
       "<style scoped>\n",
       "    .dataframe tbody tr th:only-of-type {\n",
       "        vertical-align: middle;\n",
       "    }\n",
       "\n",
       "    .dataframe tbody tr th {\n",
       "        vertical-align: top;\n",
       "    }\n",
       "\n",
       "    .dataframe thead th {\n",
       "        text-align: right;\n",
       "    }\n",
       "</style>\n",
       "<table border=\"1\" class=\"dataframe\">\n",
       "  <thead>\n",
       "    <tr style=\"text-align: right;\">\n",
       "      <th></th>\n",
       "      <th>count</th>\n",
       "      <th>mean</th>\n",
       "      <th>std</th>\n",
       "      <th>min</th>\n",
       "      <th>25%</th>\n",
       "      <th>50%</th>\n",
       "      <th>75%</th>\n",
       "      <th>max</th>\n",
       "    </tr>\n",
       "  </thead>\n",
       "  <tbody>\n",
       "    <tr>\n",
       "      <th>Age</th>\n",
       "      <td>98619.0</td>\n",
       "      <td>45.504021</td>\n",
       "      <td>25.929849</td>\n",
       "      <td>1.0</td>\n",
       "      <td>23.0</td>\n",
       "      <td>46.0</td>\n",
       "      <td>68.0</td>\n",
       "      <td>90.0</td>\n",
       "    </tr>\n",
       "  </tbody>\n",
       "</table>\n",
       "</div>"
      ],
      "text/plain": [
       "       count       mean        std  min   25%   50%   75%   max\n",
       "Age  98619.0  45.504021  25.929849  1.0  23.0  46.0  68.0  90.0"
      ]
     },
     "execution_count": 65,
     "metadata": {},
     "output_type": "execute_result"
    }
   ],
   "source": [
    "airldata_numerical.describe().T"
   ]
  },
  {
   "cell_type": "code",
   "execution_count": 66,
   "id": "7ce1f251",
   "metadata": {
    "execution": {
     "iopub.execute_input": "2024-11-23T13:07:34.560597Z",
     "iopub.status.busy": "2024-11-23T13:07:34.560200Z",
     "iopub.status.idle": "2024-11-23T13:07:34.567632Z",
     "shell.execute_reply": "2024-11-23T13:07:34.566406Z"
    },
    "papermill": {
     "duration": 0.042339,
     "end_time": "2024-11-23T13:07:34.570204",
     "exception": false,
     "start_time": "2024-11-23T13:07:34.527865",
     "status": "completed"
    },
    "tags": []
   },
   "outputs": [],
   "source": [
    "# Bir veri setindeki numerik kolonların istatistiksel bilgilerine erişmek için basitçe bu tarz bir fonksiyon yazabiliriz.\n",
    "\n",
    "def give_stats(dataframe: pd.DataFrame) -> None:\n",
    "    \"\"\"Prints statistical information for numerical columns.\n",
    "\n",
    "    Args:\n",
    "        dataframe (pd.DataFrame): DataFrame object.\n",
    "    \n",
    "    Return:\n",
    "        None\n",
    "    \n",
    "    \"\"\"\n",
    "\n",
    "    num_airldata = dataframe.select_dtypes(include = [\"float\", \"int\"])\n",
    "\n",
    "    for col in num_airldata.columns:\n",
    "        print(f\"**********{col}**********\")\n",
    "        print(f\"Mean value of {col} is {num_airldata[col].mean():.2f}\")\n",
    "        print(f\"Std value of {col} is {num_airldata[col].std():.2f}\")\n",
    "        print(f\"Max value of {col} is {num_airldata[col].max()}\")\n",
    "        print(f\"Min value of {col} is {num_airldata[col].min()}\")\n",
    "        print(f\"Count value of {col} is {num_airldata[col].count()}\")\n",
    "        print(f\"Median value of {col} is {num_airldata[col].median()}\\n\")"
   ]
  },
  {
   "cell_type": "code",
   "execution_count": 67,
   "id": "b3c629d3",
   "metadata": {
    "execution": {
     "iopub.execute_input": "2024-11-23T13:07:34.634271Z",
     "iopub.status.busy": "2024-11-23T13:07:34.633864Z",
     "iopub.status.idle": "2024-11-23T13:07:34.644475Z",
     "shell.execute_reply": "2024-11-23T13:07:34.642970Z"
    },
    "papermill": {
     "duration": 0.046189,
     "end_time": "2024-11-23T13:07:34.647216",
     "exception": false,
     "start_time": "2024-11-23T13:07:34.601027",
     "status": "completed"
    },
    "tags": []
   },
   "outputs": [
    {
     "name": "stdout",
     "output_type": "stream",
     "text": [
      "**********Age**********\n",
      "Mean value of Age is 45.50\n",
      "Std value of Age is 25.93\n",
      "Max value of Age is 90\n",
      "Min value of Age is 1\n",
      "Count value of Age is 98619\n",
      "Median value of Age is 46.0\n",
      "\n"
     ]
    }
   ],
   "source": [
    "give_stats(dataframe = airldata)"
   ]
  },
  {
   "cell_type": "code",
   "execution_count": 68,
   "id": "13f0eec4",
   "metadata": {
    "execution": {
     "iopub.execute_input": "2024-11-23T13:07:34.712972Z",
     "iopub.status.busy": "2024-11-23T13:07:34.712555Z",
     "iopub.status.idle": "2024-11-23T13:07:35.905525Z",
     "shell.execute_reply": "2024-11-23T13:07:35.904273Z"
    },
    "papermill": {
     "duration": 1.2284,
     "end_time": "2024-11-23T13:07:35.908285",
     "exception": false,
     "start_time": "2024-11-23T13:07:34.679885",
     "status": "completed"
    },
    "tags": []
   },
   "outputs": [
    {
     "name": "stderr",
     "output_type": "stream",
     "text": [
      "/opt/conda/lib/python3.10/site-packages/seaborn/_oldcore.py:1119: FutureWarning: use_inf_as_na option is deprecated and will be removed in a future version. Convert inf values to NaN before operating instead.\n",
      "/opt/conda/lib/python3.10/site-packages/seaborn/_oldcore.py:1057: FutureWarning: The default of observed=False is deprecated and will be changed to True in a future version of pandas. Pass observed=False to retain current behavior or observed=True to adopt the future default and silence this warning.\n",
      "/opt/conda/lib/python3.10/site-packages/seaborn/_oldcore.py:1075: FutureWarning: When grouping with a length-1 list-like, you will need to pass a length-1 tuple to get_group in a future version of pandas. Pass `(name,)` instead of `name` to silence this warning.\n",
      "/opt/conda/lib/python3.10/site-packages/seaborn/_oldcore.py:1075: FutureWarning: When grouping with a length-1 list-like, you will need to pass a length-1 tuple to get_group in a future version of pandas. Pass `(name,)` instead of `name` to silence this warning.\n",
      "/opt/conda/lib/python3.10/site-packages/seaborn/_oldcore.py:1075: FutureWarning: When grouping with a length-1 list-like, you will need to pass a length-1 tuple to get_group in a future version of pandas. Pass `(name,)` instead of `name` to silence this warning.\n"
     ]
    },
    {
     "data": {
      "image/png": "[encoded data removed]",
      "text/plain": [
       "<Figure size 640x480 with 1 Axes>"
      ]
     },
     "metadata": {},
     "output_type": "display_data"
    }
   ],
   "source": [
    "# Numerik bir kolonun dağılımını görmek için histogram kullanırız.\n",
    "sns.histplot(data =airldata, x = \"Age\", kde = True, hue = \"Flight Status\");"
   ]
  },
  {
   "cell_type": "code",
   "execution_count": 69,
   "id": "a0bdce59",
   "metadata": {
    "execution": {
     "iopub.execute_input": "2024-11-23T13:07:35.974144Z",
     "iopub.status.busy": "2024-11-23T13:07:35.973770Z",
     "iopub.status.idle": "2024-11-23T13:07:36.595203Z",
     "shell.execute_reply": "2024-11-23T13:07:36.594012Z"
    },
    "papermill": {
     "duration": 0.657434,
     "end_time": "2024-11-23T13:07:36.597779",
     "exception": false,
     "start_time": "2024-11-23T13:07:35.940345",
     "status": "completed"
    },
    "tags": []
   },
   "outputs": [
    {
     "name": "stderr",
     "output_type": "stream",
     "text": [
      "/opt/conda/lib/python3.10/site-packages/seaborn/_oldcore.py:1119: FutureWarning: use_inf_as_na option is deprecated and will be removed in a future version. Convert inf values to NaN before operating instead.\n"
     ]
    },
    {
     "data": {
      "image/png": "[encoded data removed]",
      "text/plain": [
       "<Figure size 640x480 with 1 Axes>"
      ]
     },
     "metadata": {},
     "output_type": "display_data"
    }
   ],
   "source": [
    "# kdeplot ise ilgili numerik değişkenin yoğunluğunu gösterir.\n",
    "sns.kdeplot(airldata['Age'], fill = True);"
   ]
  },
  {
   "cell_type": "code",
   "execution_count": 70,
   "id": "4da1ede1",
   "metadata": {
    "execution": {
     "iopub.execute_input": "2024-11-23T13:07:36.665024Z",
     "iopub.status.busy": "2024-11-23T13:07:36.664600Z",
     "iopub.status.idle": "2024-11-23T13:07:37.754649Z",
     "shell.execute_reply": "2024-11-23T13:07:37.753539Z"
    },
    "papermill": {
     "duration": 1.126153,
     "end_time": "2024-11-23T13:07:37.757053",
     "exception": false,
     "start_time": "2024-11-23T13:07:36.630900",
     "status": "completed"
    },
    "tags": []
   },
   "outputs": [
    {
     "name": "stderr",
     "output_type": "stream",
     "text": [
      "/opt/conda/lib/python3.10/site-packages/seaborn/_oldcore.py:1119: FutureWarning: use_inf_as_na option is deprecated and will be removed in a future version. Convert inf values to NaN before operating instead.\n",
      "/opt/conda/lib/python3.10/site-packages/seaborn/_oldcore.py:1119: FutureWarning: use_inf_as_na option is deprecated and will be removed in a future version. Convert inf values to NaN before operating instead.\n",
      "/opt/conda/lib/python3.10/site-packages/seaborn/_oldcore.py:1119: FutureWarning: use_inf_as_na option is deprecated and will be removed in a future version. Convert inf values to NaN before operating instead.\n"
     ]
    },
    {
     "data": {
      "image/png": "[encoded data removed]",
      "text/plain": [
       "<Figure size 618.375x500 with 1 Axes>"
      ]
     },
     "metadata": {},
     "output_type": "display_data"
    }
   ],
   "source": [
    "# FacetGrid kullanarak kategorik kırılımda yoğunluk gözlemleyebiliriz.\n",
    "sns.FacetGrid(data =airldata,\n",
    "              hue = \"Flight Status\",\n",
    "              height = 5,\n",
    "              xlim = (0, 45)).map(sns.kdeplot, \"Age\", fill = True).add_legend();"
   ]
  },
  {
   "cell_type": "code",
   "execution_count": 71,
   "id": "66853fc1",
   "metadata": {
    "execution": {
     "iopub.execute_input": "2024-11-23T13:07:37.827355Z",
     "iopub.status.busy": "2024-11-23T13:07:37.826570Z",
     "iopub.status.idle": "2024-11-23T13:07:39.162094Z",
     "shell.execute_reply": "2024-11-23T13:07:39.160913Z"
    },
    "papermill": {
     "duration": 1.372985,
     "end_time": "2024-11-23T13:07:39.164455",
     "exception": false,
     "start_time": "2024-11-23T13:07:37.791470",
     "status": "completed"
    },
    "tags": []
   },
   "outputs": [
    {
     "name": "stderr",
     "output_type": "stream",
     "text": [
      "/opt/conda/lib/python3.10/site-packages/seaborn/categorical.py:641: FutureWarning: The default of observed=False is deprecated and will be changed to True in a future version of pandas. Pass observed=False to retain current behavior or observed=True to adopt the future default and silence this warning.\n",
      "/opt/conda/lib/python3.10/site-packages/seaborn/categorical.py:641: FutureWarning: The default of observed=False is deprecated and will be changed to True in a future version of pandas. Pass observed=False to retain current behavior or observed=True to adopt the future default and silence this warning.\n",
      "/opt/conda/lib/python3.10/site-packages/seaborn/categorical.py:641: FutureWarning: The default of observed=False is deprecated and will be changed to True in a future version of pandas. Pass observed=False to retain current behavior or observed=True to adopt the future default and silence this warning.\n"
     ]
    },
    {
     "data": {
      "text/plain": [
       "<Figure size 1500x400 with 0 Axes>"
      ]
     },
     "metadata": {},
     "output_type": "display_data"
    },
    {
     "data": {
      "image/png": "[encoded data removed]",
      "text/plain": [
       "<Figure size 600.25x500 with 1 Axes>"
      ]
     },
     "metadata": {},
     "output_type": "display_data"
    }
   ],
   "source": [
    "# Catplot ile numerik bir değişkenin kategorik bazda ve kırılımdaki dağılımını görebiliriz.\n",
    "plt.figure(figsize = (15, 4))\n",
    "sns.catplot(data = airldata, x = \"Flight Status\", y = \"Age\", hue = \"Gender\", kind = \"point\",\n",
    "            palette={\"Male\": \"#1f77b4\", \"Female\": \"#FF69B4\"});"
   ]
  },
  {
   "cell_type": "code",
   "execution_count": 72,
   "id": "471830ba",
   "metadata": {
    "execution": {
     "iopub.execute_input": "2024-11-23T13:07:39.236799Z",
     "iopub.status.busy": "2024-11-23T13:07:39.236300Z",
     "iopub.status.idle": "2024-11-23T13:07:39.673912Z",
     "shell.execute_reply": "2024-11-23T13:07:39.672805Z"
    },
    "papermill": {
     "duration": 0.477525,
     "end_time": "2024-11-23T13:07:39.676390",
     "exception": false,
     "start_time": "2024-11-23T13:07:39.198865",
     "status": "completed"
    },
    "tags": []
   },
   "outputs": [
    {
     "name": "stderr",
     "output_type": "stream",
     "text": [
      "/opt/conda/lib/python3.10/site-packages/seaborn/categorical.py:641: FutureWarning: The default of observed=False is deprecated and will be changed to True in a future version of pandas. Pass observed=False to retain current behavior or observed=True to adopt the future default and silence this warning.\n",
      "/opt/conda/lib/python3.10/site-packages/seaborn/categorical.py:641: FutureWarning: The default of observed=False is deprecated and will be changed to True in a future version of pandas. Pass observed=False to retain current behavior or observed=True to adopt the future default and silence this warning.\n"
     ]
    },
    {
     "data": {
      "image/png": "[encoded data removed]",
      "text/plain": [
       "<Figure size 640x480 with 1 Axes>"
      ]
     },
     "metadata": {},
     "output_type": "display_data"
    }
   ],
   "source": [
    "# Boxplot kategorik olarak numerik dağılımı gösterir, çeyreklik değerler ve IQR'a göre aykırı değerler de boxplot ile gözlemlenebilir.\n",
    "sns.boxplot(data = airldata,\n",
    "            x = \"Flight Status\",\n",
    "            y = \"Age\",\n",
    "            hue = \"Gender\",palette={\"Male\": \"#1F77B4\", \"Female\": \"#FF69B4\"});"
   ]
  },
  {
   "cell_type": "markdown",
   "id": "4bd402b3",
   "metadata": {
    "papermill": {
     "duration": 0.035128,
     "end_time": "2024-11-23T13:07:39.747212",
     "exception": false,
     "start_time": "2024-11-23T13:07:39.712084",
     "status": "completed"
    },
    "tags": []
   },
   "source": [
    "# 5. Aykırı Değer Analizi (Outliers)"
   ]
  },
  {
   "cell_type": "code",
   "execution_count": 73,
   "id": "5e4421a0",
   "metadata": {
    "execution": {
     "iopub.execute_input": "2024-11-23T13:07:39.820280Z",
     "iopub.status.busy": "2024-11-23T13:07:39.819890Z",
     "iopub.status.idle": "2024-11-23T13:07:39.834015Z",
     "shell.execute_reply": "2024-11-23T13:07:39.832921Z"
    },
    "papermill": {
     "duration": 0.05317,
     "end_time": "2024-11-23T13:07:39.836529",
     "exception": false,
     "start_time": "2024-11-23T13:07:39.783359",
     "status": "completed"
    },
    "tags": []
   },
   "outputs": [],
   "source": [
    "airldata = airl_data.copy()"
   ]
  },
  {
   "cell_type": "code",
   "execution_count": 74,
   "id": "08f22288",
   "metadata": {
    "execution": {
     "iopub.execute_input": "2024-11-23T13:07:39.908621Z",
     "iopub.status.busy": "2024-11-23T13:07:39.907741Z",
     "iopub.status.idle": "2024-11-23T13:07:40.094050Z",
     "shell.execute_reply": "2024-11-23T13:07:40.092772Z"
    },
    "papermill": {
     "duration": 0.22475,
     "end_time": "2024-11-23T13:07:40.096336",
     "exception": false,
     "start_time": "2024-11-23T13:07:39.871586",
     "status": "completed"
    },
    "tags": []
   },
   "outputs": [
    {
     "data": {
      "image/png": "[encoded data removed]",
      "text/plain": [
       "<Figure size 800x400 with 1 Axes>"
      ]
     },
     "metadata": {},
     "output_type": "display_data"
    }
   ],
   "source": [
    "# Bir değişkendeki IQR'a göre aykırı gözlemleri boxplot kullanarak görselleştirelim.\n",
    "plt.figure(figsize = (8, 4))\n",
    "sns.boxplot(data = airldata,\n",
    "            y = airldata[\"Age\"],\n",
    "            orient = \"v\",\n",
    "            color=\"skyblue\",           \n",
    "            linewidth=1.5,             \n",
    "            fliersize=6,               \n",
    "            flierprops=dict(markerfacecolor='black', marker='o'));"
   ]
  },
  {
   "cell_type": "code",
   "execution_count": 75,
   "id": "3a3e103d",
   "metadata": {
    "execution": {
     "iopub.execute_input": "2024-11-23T13:07:40.167767Z",
     "iopub.status.busy": "2024-11-23T13:07:40.167361Z",
     "iopub.status.idle": "2024-11-23T13:07:40.175455Z",
     "shell.execute_reply": "2024-11-23T13:07:40.174494Z"
    },
    "papermill": {
     "duration": 0.045961,
     "end_time": "2024-11-23T13:07:40.177370",
     "exception": false,
     "start_time": "2024-11-23T13:07:40.131409",
     "status": "completed"
    },
    "tags": []
   },
   "outputs": [
    {
     "data": {
      "text/plain": [
       "0        62\n",
       "1        62\n",
       "2        67\n",
       "3        71\n",
       "4        21\n",
       "         ..\n",
       "98614    85\n",
       "98615    19\n",
       "98616    65\n",
       "98617    34\n",
       "98618    10\n",
       "Name: Age, Length: 98619, dtype: int64"
      ]
     },
     "execution_count": 75,
     "metadata": {},
     "output_type": "execute_result"
    }
   ],
   "source": [
    "airldata_Age = airldata['Age']\n",
    "airldata_Age"
   ]
  },
  {
   "cell_type": "code",
   "execution_count": 76,
   "id": "825000b7",
   "metadata": {
    "execution": {
     "iopub.execute_input": "2024-11-23T13:07:40.258523Z",
     "iopub.status.busy": "2024-11-23T13:07:40.258093Z",
     "iopub.status.idle": "2024-11-23T13:07:40.271437Z",
     "shell.execute_reply": "2024-11-23T13:07:40.269742Z"
    },
    "papermill": {
     "duration": 0.056233,
     "end_time": "2024-11-23T13:07:40.274828",
     "exception": false,
     "start_time": "2024-11-23T13:07:40.218595",
     "status": "completed"
    },
    "tags": []
   },
   "outputs": [
    {
     "name": "stdout",
     "output_type": "stream",
     "text": [
      "23.0\n",
      "68.0\n",
      "45.0\n"
     ]
    }
   ],
   "source": [
    "# Quantile değerlerin belirlenmesi.\n",
    "Q1 = airldata_Age.quantile(0.25)\n",
    "Q3 = airldata_Age.quantile(0.75)\n",
    "\n",
    "print(Q1)\n",
    "print(Q3)\n",
    "\n",
    "# IQR değerin belirlenmesi.\n",
    "IQR = Q3-Q1\n",
    "print(IQR)\n",
    "\n",
    "# Alt ve üst sınırların belirlenmesi.\n",
    "lower_fence = Q1 - 1.5*IQR\n",
    "upper_fence = Q3 + 1.5*IQR"
   ]
  },
  {
   "cell_type": "code",
   "execution_count": 77,
   "id": "14169209",
   "metadata": {
    "execution": {
     "iopub.execute_input": "2024-11-23T13:07:40.350618Z",
     "iopub.status.busy": "2024-11-23T13:07:40.350219Z",
     "iopub.status.idle": "2024-11-23T13:07:40.359518Z",
     "shell.execute_reply": "2024-11-23T13:07:40.358181Z"
    },
    "papermill": {
     "duration": 0.050885,
     "end_time": "2024-11-23T13:07:40.362163",
     "exception": false,
     "start_time": "2024-11-23T13:07:40.311278",
     "status": "completed"
    },
    "tags": []
   },
   "outputs": [
    {
     "data": {
      "text/plain": [
       "Index([], dtype='int64')"
      ]
     },
     "execution_count": 77,
     "metadata": {},
     "output_type": "execute_result"
    }
   ],
   "source": [
    "# Upper_fence üzerinde kalan aykırı gözlemlerin index değerlerini, daha sonra kullanmak üzere bir değişkende tutabiliriz.\n",
    "outlier_idx = airldata_Age[airldata_Age > upper_fence].index\n",
    "\n",
    "outlier_idx"
   ]
  },
  {
   "cell_type": "code",
   "execution_count": 78,
   "id": "7e221c69",
   "metadata": {
    "execution": {
     "iopub.execute_input": "2024-11-23T13:07:40.437536Z",
     "iopub.status.busy": "2024-11-23T13:07:40.437163Z",
     "iopub.status.idle": "2024-11-23T13:07:40.446179Z",
     "shell.execute_reply": "2024-11-23T13:07:40.445116Z"
    },
    "papermill": {
     "duration": 0.048891,
     "end_time": "2024-11-23T13:07:40.448599",
     "exception": false,
     "start_time": "2024-11-23T13:07:40.399708",
     "status": "completed"
    },
    "tags": []
   },
   "outputs": [
    {
     "data": {
      "text/plain": [
       "Series([], Name: Age, dtype: int64)"
      ]
     },
     "execution_count": 78,
     "metadata": {},
     "output_type": "execute_result"
    }
   ],
   "source": [
    "airldata_Age[airldata_Age > upper_fence]"
   ]
  },
  {
   "cell_type": "code",
   "execution_count": 79,
   "id": "f568d55c",
   "metadata": {
    "execution": {
     "iopub.execute_input": "2024-11-23T13:07:40.520549Z",
     "iopub.status.busy": "2024-11-23T13:07:40.520173Z",
     "iopub.status.idle": "2024-11-23T13:07:40.551781Z",
     "shell.execute_reply": "2024-11-23T13:07:40.550395Z"
    },
    "papermill": {
     "duration": 0.070918,
     "end_time": "2024-11-23T13:07:40.554729",
     "exception": false,
     "start_time": "2024-11-23T13:07:40.483811",
     "status": "completed"
    },
    "tags": []
   },
   "outputs": [
    {
     "data": {
      "text/html": [
       "<div>\n",
       "<style scoped>\n",
       "    .dataframe tbody tr th:only-of-type {\n",
       "        vertical-align: middle;\n",
       "    }\n",
       "\n",
       "    .dataframe tbody tr th {\n",
       "        vertical-align: top;\n",
       "    }\n",
       "\n",
       "    .dataframe thead th {\n",
       "        text-align: right;\n",
       "    }\n",
       "</style>\n",
       "<table border=\"1\" class=\"dataframe\">\n",
       "  <thead>\n",
       "    <tr style=\"text-align: right;\">\n",
       "      <th></th>\n",
       "      <th>Passenger ID</th>\n",
       "      <th>First Name</th>\n",
       "      <th>Last Name</th>\n",
       "      <th>Gender</th>\n",
       "      <th>Age</th>\n",
       "      <th>Nationality</th>\n",
       "      <th>Airport Name</th>\n",
       "      <th>Airport Country Code</th>\n",
       "      <th>Country Name</th>\n",
       "      <th>Airport Continent</th>\n",
       "      <th>Continents</th>\n",
       "      <th>Departure Date</th>\n",
       "      <th>Arrival Airport</th>\n",
       "      <th>Pilot Name</th>\n",
       "      <th>Flight Status</th>\n",
       "    </tr>\n",
       "  </thead>\n",
       "  <tbody>\n",
       "    <tr>\n",
       "      <th>0</th>\n",
       "      <td>ABVWIg</td>\n",
       "      <td>Edithe</td>\n",
       "      <td>Leggis</td>\n",
       "      <td>Female</td>\n",
       "      <td>62</td>\n",
       "      <td>Japan</td>\n",
       "      <td>Coldfoot Airport</td>\n",
       "      <td>US</td>\n",
       "      <td>United States</td>\n",
       "      <td>NAM</td>\n",
       "      <td>North America</td>\n",
       "      <td>6/28/2022</td>\n",
       "      <td>CXF</td>\n",
       "      <td>Fransisco Hazeldine</td>\n",
       "      <td>On Time</td>\n",
       "    </tr>\n",
       "    <tr>\n",
       "      <th>1</th>\n",
       "      <td>jkXXAX</td>\n",
       "      <td>Elwood</td>\n",
       "      <td>Catt</td>\n",
       "      <td>Male</td>\n",
       "      <td>62</td>\n",
       "      <td>Nicaragua</td>\n",
       "      <td>Kugluktuk Airport</td>\n",
       "      <td>CA</td>\n",
       "      <td>Canada</td>\n",
       "      <td>NAM</td>\n",
       "      <td>North America</td>\n",
       "      <td>12/26/2022</td>\n",
       "      <td>YCO</td>\n",
       "      <td>Marla Parsonage</td>\n",
       "      <td>On Time</td>\n",
       "    </tr>\n",
       "    <tr>\n",
       "      <th>2</th>\n",
       "      <td>CdUz2g</td>\n",
       "      <td>Darby</td>\n",
       "      <td>Felgate</td>\n",
       "      <td>Male</td>\n",
       "      <td>67</td>\n",
       "      <td>Russia</td>\n",
       "      <td>Grenoble-Isère Airport</td>\n",
       "      <td>FR</td>\n",
       "      <td>France</td>\n",
       "      <td>EU</td>\n",
       "      <td>Europe</td>\n",
       "      <td>1/18/2022</td>\n",
       "      <td>GNB</td>\n",
       "      <td>Rhonda Amber</td>\n",
       "      <td>On Time</td>\n",
       "    </tr>\n",
       "    <tr>\n",
       "      <th>3</th>\n",
       "      <td>BRS38V</td>\n",
       "      <td>Dominica</td>\n",
       "      <td>Pyle</td>\n",
       "      <td>Female</td>\n",
       "      <td>71</td>\n",
       "      <td>China</td>\n",
       "      <td>Ottawa / Gatineau Airport</td>\n",
       "      <td>CA</td>\n",
       "      <td>Canada</td>\n",
       "      <td>NAM</td>\n",
       "      <td>North America</td>\n",
       "      <td>9/16/2022</td>\n",
       "      <td>YND</td>\n",
       "      <td>Kacie Commucci</td>\n",
       "      <td>Delayed</td>\n",
       "    </tr>\n",
       "    <tr>\n",
       "      <th>4</th>\n",
       "      <td>9kvTLo</td>\n",
       "      <td>Bay</td>\n",
       "      <td>Pencost</td>\n",
       "      <td>Male</td>\n",
       "      <td>21</td>\n",
       "      <td>China</td>\n",
       "      <td>Gillespie Field</td>\n",
       "      <td>US</td>\n",
       "      <td>United States</td>\n",
       "      <td>NAM</td>\n",
       "      <td>North America</td>\n",
       "      <td>2/25/2022</td>\n",
       "      <td>SEE</td>\n",
       "      <td>Ebonee Tree</td>\n",
       "      <td>On Time</td>\n",
       "    </tr>\n",
       "    <tr>\n",
       "      <th>...</th>\n",
       "      <td>...</td>\n",
       "      <td>...</td>\n",
       "      <td>...</td>\n",
       "      <td>...</td>\n",
       "      <td>...</td>\n",
       "      <td>...</td>\n",
       "      <td>...</td>\n",
       "      <td>...</td>\n",
       "      <td>...</td>\n",
       "      <td>...</td>\n",
       "      <td>...</td>\n",
       "      <td>...</td>\n",
       "      <td>...</td>\n",
       "      <td>...</td>\n",
       "      <td>...</td>\n",
       "    </tr>\n",
       "    <tr>\n",
       "      <th>98614</th>\n",
       "      <td>hnGQ62</td>\n",
       "      <td>Gareth</td>\n",
       "      <td>Mugford</td>\n",
       "      <td>Male</td>\n",
       "      <td>85</td>\n",
       "      <td>China</td>\n",
       "      <td>Hasvik Airport</td>\n",
       "      <td>NO</td>\n",
       "      <td>Norway</td>\n",
       "      <td>EU</td>\n",
       "      <td>Europe</td>\n",
       "      <td>12-11-2022</td>\n",
       "      <td>HAA</td>\n",
       "      <td>Pammie Kingscote</td>\n",
       "      <td>Cancelled</td>\n",
       "    </tr>\n",
       "    <tr>\n",
       "      <th>98615</th>\n",
       "      <td>2omEzh</td>\n",
       "      <td>Kasey</td>\n",
       "      <td>Benedict</td>\n",
       "      <td>Female</td>\n",
       "      <td>19</td>\n",
       "      <td>Russia</td>\n",
       "      <td>Ampampamena Airport</td>\n",
       "      <td>MG</td>\n",
       "      <td>Madagascar</td>\n",
       "      <td>AF</td>\n",
       "      <td>Africa</td>\n",
       "      <td>10/30/2022</td>\n",
       "      <td>IVA</td>\n",
       "      <td>Dorice Lochran</td>\n",
       "      <td>Cancelled</td>\n",
       "    </tr>\n",
       "    <tr>\n",
       "      <th>98616</th>\n",
       "      <td>VUPiVG</td>\n",
       "      <td>Darrin</td>\n",
       "      <td>Lucken</td>\n",
       "      <td>Male</td>\n",
       "      <td>65</td>\n",
       "      <td>Indonesia</td>\n",
       "      <td>Albacete-Los Llanos Airport</td>\n",
       "      <td>ES</td>\n",
       "      <td>Spain</td>\n",
       "      <td>EU</td>\n",
       "      <td>Europe</td>\n",
       "      <td>09-10-2022</td>\n",
       "      <td>ABC</td>\n",
       "      <td>Gearalt Main</td>\n",
       "      <td>On Time</td>\n",
       "    </tr>\n",
       "    <tr>\n",
       "      <th>98617</th>\n",
       "      <td>E47NtS</td>\n",
       "      <td>Gayle</td>\n",
       "      <td>Lievesley</td>\n",
       "      <td>Female</td>\n",
       "      <td>34</td>\n",
       "      <td>China</td>\n",
       "      <td>Gagnoa Airport</td>\n",
       "      <td>CI</td>\n",
       "      <td>Côte d'Ivoire</td>\n",
       "      <td>AF</td>\n",
       "      <td>Africa</td>\n",
       "      <td>10/26/2022</td>\n",
       "      <td>GGN</td>\n",
       "      <td>Judon Chasle</td>\n",
       "      <td>Cancelled</td>\n",
       "    </tr>\n",
       "    <tr>\n",
       "      <th>98618</th>\n",
       "      <td>8JYEcz</td>\n",
       "      <td>Wilhelmine</td>\n",
       "      <td>Touret</td>\n",
       "      <td>Female</td>\n",
       "      <td>10</td>\n",
       "      <td>Poland</td>\n",
       "      <td>Yoshkar-Ola Airport</td>\n",
       "      <td>RU</td>\n",
       "      <td>Russian Federation</td>\n",
       "      <td>EU</td>\n",
       "      <td>Europe</td>\n",
       "      <td>4/16/2022</td>\n",
       "      <td>JOK</td>\n",
       "      <td>Auguste Tindley</td>\n",
       "      <td>Delayed</td>\n",
       "    </tr>\n",
       "  </tbody>\n",
       "</table>\n",
       "<p>98619 rows × 15 columns</p>\n",
       "</div>"
      ],
      "text/plain": [
       "      Passenger ID  First Name  Last Name  Gender  Age Nationality  \\\n",
       "0           ABVWIg      Edithe     Leggis  Female   62       Japan   \n",
       "1           jkXXAX      Elwood       Catt    Male   62   Nicaragua   \n",
       "2           CdUz2g       Darby    Felgate    Male   67      Russia   \n",
       "3           BRS38V    Dominica       Pyle  Female   71       China   \n",
       "4           9kvTLo         Bay    Pencost    Male   21       China   \n",
       "...            ...         ...        ...     ...  ...         ...   \n",
       "98614       hnGQ62      Gareth    Mugford    Male   85       China   \n",
       "98615       2omEzh       Kasey   Benedict  Female   19      Russia   \n",
       "98616       VUPiVG      Darrin     Lucken    Male   65   Indonesia   \n",
       "98617       E47NtS       Gayle  Lievesley  Female   34       China   \n",
       "98618       8JYEcz  Wilhelmine     Touret  Female   10      Poland   \n",
       "\n",
       "                      Airport Name Airport Country Code        Country Name  \\\n",
       "0                 Coldfoot Airport                   US       United States   \n",
       "1                Kugluktuk Airport                   CA              Canada   \n",
       "2           Grenoble-Isère Airport                   FR              France   \n",
       "3        Ottawa / Gatineau Airport                   CA              Canada   \n",
       "4                  Gillespie Field                   US       United States   \n",
       "...                            ...                  ...                 ...   \n",
       "98614               Hasvik Airport                   NO              Norway   \n",
       "98615          Ampampamena Airport                   MG          Madagascar   \n",
       "98616  Albacete-Los Llanos Airport                   ES               Spain   \n",
       "98617               Gagnoa Airport                   CI       Côte d'Ivoire   \n",
       "98618          Yoshkar-Ola Airport                   RU  Russian Federation   \n",
       "\n",
       "      Airport Continent     Continents Departure Date Arrival Airport  \\\n",
       "0                   NAM  North America      6/28/2022             CXF   \n",
       "1                   NAM  North America     12/26/2022             YCO   \n",
       "2                    EU         Europe      1/18/2022             GNB   \n",
       "3                   NAM  North America      9/16/2022             YND   \n",
       "4                   NAM  North America      2/25/2022             SEE   \n",
       "...                 ...            ...            ...             ...   \n",
       "98614                EU         Europe     12-11-2022             HAA   \n",
       "98615                AF         Africa     10/30/2022             IVA   \n",
       "98616                EU         Europe     09-10-2022             ABC   \n",
       "98617                AF         Africa     10/26/2022             GGN   \n",
       "98618                EU         Europe      4/16/2022             JOK   \n",
       "\n",
       "                Pilot Name Flight Status  \n",
       "0      Fransisco Hazeldine       On Time  \n",
       "1          Marla Parsonage       On Time  \n",
       "2             Rhonda Amber       On Time  \n",
       "3           Kacie Commucci       Delayed  \n",
       "4              Ebonee Tree       On Time  \n",
       "...                    ...           ...  \n",
       "98614     Pammie Kingscote     Cancelled  \n",
       "98615       Dorice Lochran     Cancelled  \n",
       "98616         Gearalt Main       On Time  \n",
       "98617         Judon Chasle     Cancelled  \n",
       "98618      Auguste Tindley       Delayed  \n",
       "\n",
       "[98619 rows x 15 columns]"
      ]
     },
     "execution_count": 79,
     "metadata": {},
     "output_type": "execute_result"
    }
   ],
   "source": [
    "airldata_delete = airldata[~(airldata_Age > upper_fence)]\n",
    "\n",
    "airldata_delete"
   ]
  },
  {
   "cell_type": "code",
   "execution_count": 80,
   "id": "0a9cb536",
   "metadata": {
    "execution": {
     "iopub.execute_input": "2024-11-23T13:07:40.629558Z",
     "iopub.status.busy": "2024-11-23T13:07:40.629162Z",
     "iopub.status.idle": "2024-11-23T13:07:40.833067Z",
     "shell.execute_reply": "2024-11-23T13:07:40.831645Z"
    },
    "papermill": {
     "duration": 0.244118,
     "end_time": "2024-11-23T13:07:40.836353",
     "exception": false,
     "start_time": "2024-11-23T13:07:40.592235",
     "status": "completed"
    },
    "tags": []
   },
   "outputs": [
    {
     "data": {
      "image/png": "[encoded data removed]",
      "text/plain": [
       "<Figure size 800x400 with 1 Axes>"
      ]
     },
     "metadata": {},
     "output_type": "display_data"
    }
   ],
   "source": [
    "plt.figure(figsize = (8, 4))\n",
    "sns.boxplot(data = airldata_delete,\n",
    "            y = airldata_delete[\"Age\"],\n",
    "            orient = \"v\",\n",
    "            color=\"skyblue\",           \n",
    "            linewidth=1.5,             \n",
    "            fliersize=6,               \n",
    "            flierprops=dict(markerfacecolor='black', marker='o'));"
   ]
  },
  {
   "cell_type": "markdown",
   "id": "5ac044ca",
   "metadata": {
    "papermill": {
     "duration": 0.043998,
     "end_time": "2024-11-23T13:07:40.929478",
     "exception": false,
     "start_time": "2024-11-23T13:07:40.885480",
     "status": "completed"
    },
    "tags": []
   },
   "source": [
    "# 6. Feature Engineering"
   ]
  },
  {
   "cell_type": "code",
   "execution_count": 81,
   "id": "d92e4fb3",
   "metadata": {
    "execution": {
     "iopub.execute_input": "2024-11-23T13:07:41.004114Z",
     "iopub.status.busy": "2024-11-23T13:07:41.003679Z",
     "iopub.status.idle": "2024-11-23T13:07:41.021558Z",
     "shell.execute_reply": "2024-11-23T13:07:41.020316Z"
    },
    "papermill": {
     "duration": 0.058785,
     "end_time": "2024-11-23T13:07:41.024015",
     "exception": false,
     "start_time": "2024-11-23T13:07:40.965230",
     "status": "completed"
    },
    "tags": []
   },
   "outputs": [
    {
     "data": {
      "text/html": [
       "<div>\n",
       "<style scoped>\n",
       "    .dataframe tbody tr th:only-of-type {\n",
       "        vertical-align: middle;\n",
       "    }\n",
       "\n",
       "    .dataframe tbody tr th {\n",
       "        vertical-align: top;\n",
       "    }\n",
       "\n",
       "    .dataframe thead th {\n",
       "        text-align: right;\n",
       "    }\n",
       "</style>\n",
       "<table border=\"1\" class=\"dataframe\">\n",
       "  <thead>\n",
       "    <tr style=\"text-align: right;\">\n",
       "      <th></th>\n",
       "      <th>Passenger ID</th>\n",
       "      <th>First Name</th>\n",
       "      <th>Last Name</th>\n",
       "      <th>Gender</th>\n",
       "      <th>Age</th>\n",
       "      <th>Nationality</th>\n",
       "      <th>Airport Name</th>\n",
       "      <th>Airport Country Code</th>\n",
       "      <th>Country Name</th>\n",
       "      <th>Airport Continent</th>\n",
       "      <th>Continents</th>\n",
       "      <th>Departure Date</th>\n",
       "      <th>Arrival Airport</th>\n",
       "      <th>Pilot Name</th>\n",
       "      <th>Flight Status</th>\n",
       "    </tr>\n",
       "  </thead>\n",
       "  <tbody>\n",
       "    <tr>\n",
       "      <th>0</th>\n",
       "      <td>ABVWIg</td>\n",
       "      <td>Edithe</td>\n",
       "      <td>Leggis</td>\n",
       "      <td>Female</td>\n",
       "      <td>62</td>\n",
       "      <td>Japan</td>\n",
       "      <td>Coldfoot Airport</td>\n",
       "      <td>US</td>\n",
       "      <td>United States</td>\n",
       "      <td>NAM</td>\n",
       "      <td>North America</td>\n",
       "      <td>6/28/2022</td>\n",
       "      <td>CXF</td>\n",
       "      <td>Fransisco Hazeldine</td>\n",
       "      <td>On Time</td>\n",
       "    </tr>\n",
       "    <tr>\n",
       "      <th>1</th>\n",
       "      <td>jkXXAX</td>\n",
       "      <td>Elwood</td>\n",
       "      <td>Catt</td>\n",
       "      <td>Male</td>\n",
       "      <td>62</td>\n",
       "      <td>Nicaragua</td>\n",
       "      <td>Kugluktuk Airport</td>\n",
       "      <td>CA</td>\n",
       "      <td>Canada</td>\n",
       "      <td>NAM</td>\n",
       "      <td>North America</td>\n",
       "      <td>12/26/2022</td>\n",
       "      <td>YCO</td>\n",
       "      <td>Marla Parsonage</td>\n",
       "      <td>On Time</td>\n",
       "    </tr>\n",
       "    <tr>\n",
       "      <th>2</th>\n",
       "      <td>CdUz2g</td>\n",
       "      <td>Darby</td>\n",
       "      <td>Felgate</td>\n",
       "      <td>Male</td>\n",
       "      <td>67</td>\n",
       "      <td>Russia</td>\n",
       "      <td>Grenoble-Isère Airport</td>\n",
       "      <td>FR</td>\n",
       "      <td>France</td>\n",
       "      <td>EU</td>\n",
       "      <td>Europe</td>\n",
       "      <td>1/18/2022</td>\n",
       "      <td>GNB</td>\n",
       "      <td>Rhonda Amber</td>\n",
       "      <td>On Time</td>\n",
       "    </tr>\n",
       "    <tr>\n",
       "      <th>3</th>\n",
       "      <td>BRS38V</td>\n",
       "      <td>Dominica</td>\n",
       "      <td>Pyle</td>\n",
       "      <td>Female</td>\n",
       "      <td>71</td>\n",
       "      <td>China</td>\n",
       "      <td>Ottawa / Gatineau Airport</td>\n",
       "      <td>CA</td>\n",
       "      <td>Canada</td>\n",
       "      <td>NAM</td>\n",
       "      <td>North America</td>\n",
       "      <td>9/16/2022</td>\n",
       "      <td>YND</td>\n",
       "      <td>Kacie Commucci</td>\n",
       "      <td>Delayed</td>\n",
       "    </tr>\n",
       "    <tr>\n",
       "      <th>4</th>\n",
       "      <td>9kvTLo</td>\n",
       "      <td>Bay</td>\n",
       "      <td>Pencost</td>\n",
       "      <td>Male</td>\n",
       "      <td>21</td>\n",
       "      <td>China</td>\n",
       "      <td>Gillespie Field</td>\n",
       "      <td>US</td>\n",
       "      <td>United States</td>\n",
       "      <td>NAM</td>\n",
       "      <td>North America</td>\n",
       "      <td>2/25/2022</td>\n",
       "      <td>SEE</td>\n",
       "      <td>Ebonee Tree</td>\n",
       "      <td>On Time</td>\n",
       "    </tr>\n",
       "  </tbody>\n",
       "</table>\n",
       "</div>"
      ],
      "text/plain": [
       "  Passenger ID First Name Last Name  Gender  Age Nationality  \\\n",
       "0       ABVWIg     Edithe    Leggis  Female   62       Japan   \n",
       "1       jkXXAX     Elwood      Catt    Male   62   Nicaragua   \n",
       "2       CdUz2g      Darby   Felgate    Male   67      Russia   \n",
       "3       BRS38V   Dominica      Pyle  Female   71       China   \n",
       "4       9kvTLo        Bay   Pencost    Male   21       China   \n",
       "\n",
       "                Airport Name Airport Country Code   Country Name  \\\n",
       "0           Coldfoot Airport                   US  United States   \n",
       "1          Kugluktuk Airport                   CA         Canada   \n",
       "2     Grenoble-Isère Airport                   FR         France   \n",
       "3  Ottawa / Gatineau Airport                   CA         Canada   \n",
       "4            Gillespie Field                   US  United States   \n",
       "\n",
       "  Airport Continent     Continents Departure Date Arrival Airport  \\\n",
       "0               NAM  North America      6/28/2022             CXF   \n",
       "1               NAM  North America     12/26/2022             YCO   \n",
       "2                EU         Europe      1/18/2022             GNB   \n",
       "3               NAM  North America      9/16/2022             YND   \n",
       "4               NAM  North America      2/25/2022             SEE   \n",
       "\n",
       "            Pilot Name Flight Status  \n",
       "0  Fransisco Hazeldine       On Time  \n",
       "1      Marla Parsonage       On Time  \n",
       "2         Rhonda Amber       On Time  \n",
       "3       Kacie Commucci       Delayed  \n",
       "4          Ebonee Tree       On Time  "
      ]
     },
     "execution_count": 81,
     "metadata": {},
     "output_type": "execute_result"
    }
   ],
   "source": [
    "airldata.head()"
   ]
  },
  {
   "cell_type": "markdown",
   "id": "d57a40a4",
   "metadata": {
    "papermill": {
     "duration": 0.03604,
     "end_time": "2024-11-23T13:07:41.095976",
     "exception": false,
     "start_time": "2024-11-23T13:07:41.059936",
     "status": "completed"
    },
    "tags": []
   },
   "source": [
    "# Sonuç ve Öneriler"
   ]
  },
  {
   "cell_type": "markdown",
   "id": "5c02070c",
   "metadata": {
    "papermill": {
     "duration": 0.03565,
     "end_time": "2024-11-23T13:07:41.167526",
     "exception": false,
     "start_time": "2024-11-23T13:07:41.131876",
     "status": "completed"
    },
    "tags": []
   },
   "source": [
    "\n",
    "Elde ettiğim analizler ışığında, bu veri aşağıdaki gibi bir probleme çözüm olabilir:\n",
    "\n",
    "Havayolu Şirketi Performans Karşılaştırması\n",
    "Farklı havayolu şirketlerinin uçuş verilerini analiz ederek performans karşılaştırmaları yapılabilir.\n",
    "Havayolu şirketlerinin performansının karşılaştırılması problemi üzerinden; uçuşların zamanında kalkma, müşteri memnuniyeti, uçuş sıklığı gibi faktörlere göre havayolu şirketlerini karşılaştıran bir analiz yapılabilir."
   ]
  },
  {
   "cell_type": "markdown",
   "id": "a85b4a82",
   "metadata": {
    "papermill": {
     "duration": 0.036205,
     "end_time": "2024-11-23T13:07:41.240716",
     "exception": false,
     "start_time": "2024-11-23T13:07:41.204511",
     "status": "completed"
    },
    "tags": []
   },
   "source": [
    "Veri setinde sayısal ve kategorik verilerin karışık olması ve çözmek istediğiniz problemin havayolu şirketlerinin performansını karşılaştırmak olması göz önüne alındığında, en iyi sonuçları alabileceğiniz modeller:\n",
    "\n",
    "Ağaç Tabanlı Yöntemler (XGBoost, LightGBM): Veri setinin büyüklüğüne ve karmaşıklığına bağlı olarak, bu yöntemler genellikle mükemmel sonuçlar verir. Özellikle havayolu şirketlerinin performansını sınıflandırırken veya bir skor tahmin ederken çok etkili olabilirler.\n",
    "\n",
    "SVM: Eğer veri setiniz küçükse ve doğrusal olmayan sınıflandırmalar yapmak istiyorsanız, SVM iyi bir seçenek olabilir.\n",
    "\n",
    "Derin Öğrenme: Eğer çok büyük bir veri setiniz varsa ve karmaşık ilişkileri öğrenmek istiyorsanız, derin öğrenme modelleri (DNN) kullanılabilir.\n",
    "\n",
    "Kümeleme (Clustering): Performans gruplarına ayırma amacıyla kümelenme algoritmaları kullanabilirsiniz (özellikle DBSCAN).\n",
    "\n",
    "En Uygun Seçim:\n",
    "\n",
    "XGBoost veya LightGBM kullanmak en iyi sonuçları verecektir."
   ]
  }
 ],
 "metadata": {
  "kaggle": {
   "accelerator": "none",
   "dataSources": [
    {
     "datasetId": 3682609,
     "sourceId": 6541762,
     "sourceType": "datasetVersion"
    }
   ],
   "dockerImageVersionId": 30786,
   "isGpuEnabled": false,
   "isInternetEnabled": false,
   "language": "python",
   "sourceType": "notebook"
  },
  "kernelspec": {
   "display_name": "Python 3",
   "language": "python",
   "name": "python3"
  },
  "language_info": {
   "codemirror_mode": {
    "name": "ipython",
    "version": 3
   },
   "file_extension": ".py",
   "mimetype": "text/x-python",
   "name": "python",
   "nbconvert_exporter": "python",
   "pygments_lexer": "ipython3",
   "version": "3.10.14"
  },
  "papermill": {
   "default_parameters": {},
   "duration": 29.976898,
   "end_time": "2024-11-23T13:07:42.101390",
   "environment_variables": {},
   "exception": null,
   "input_path": "__notebook__.ipynb",
   "output_path": "__notebook__.ipynb",
   "parameters": {},
   "start_time": "2024-11-23T13:07:12.124492",
   "version": "2.6.0"
  }
 },
 "nbformat": 4,
 "nbformat_minor": 5
}
