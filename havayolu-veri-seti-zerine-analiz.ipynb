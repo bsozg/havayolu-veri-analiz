{
 "cells": [
  {
   "cell_type": "markdown",
   "id": "5d1c5052",
   "metadata": {
    "papermill": {
     "duration": 0.017443,
     "end_time": "2024-11-23T14:15:22.578517",
     "exception": false,
     "start_time": "2024-11-23T14:15:22.561074",
     "status": "completed"
    },
    "tags": []
   },
   "source": [
    "# 0. Veri Setinin Hazırlanması"
   ]
  },
  {
   "cell_type": "markdown",
   "id": "6e465391",
   "metadata": {
    "papermill": {
     "duration": 0.014979,
     "end_time": "2024-11-23T14:15:22.609000",
     "exception": false,
     "start_time": "2024-11-23T14:15:22.594021",
     "status": "completed"
    },
    "tags": []
   },
   "source": [
    "Veri Seti ve Adresi:\n",
    "\n",
    "Airline Dataset : https://www.kaggle.com/datasets/iamsouravbanerjee/airline-dataset?select=Airline+Dataset+Updated+-+v2.csv"
   ]
  },
  {
   "cell_type": "code",
   "execution_count": 1,
   "id": "f5d97f73",
   "metadata": {
    "_cell_guid": "b1076dfc-b9ad-4769-8c92-a6c4dae69d19",
    "_uuid": "8f2839f25d086af736a60e9eeb907d3b93b6e0e5",
    "execution": {
     "iopub.execute_input": "2024-11-23T14:15:22.641851Z",
     "iopub.status.busy": "2024-11-23T14:15:22.640930Z",
     "iopub.status.idle": "2024-11-23T14:15:25.462168Z",
     "shell.execute_reply": "2024-11-23T14:15:25.461083Z"
    },
    "papermill": {
     "duration": 2.840249,
     "end_time": "2024-11-23T14:15:25.464553",
     "exception": false,
     "start_time": "2024-11-23T14:15:22.624304",
     "status": "completed"
    },
    "tags": []
   },
   "outputs": [
    {
     "name": "stdout",
     "output_type": "stream",
     "text": [
      "/kaggle/input/airline-dataset/Airline Dataset Updated.csv\n",
      "/kaggle/input/airline-dataset/Airline Dataset Updated - v2.csv\n",
      "/kaggle/input/airline-dataset/Airline Dataset.csv\n"
     ]
    }
   ],
   "source": [
    "# This Python 3 environment comes with many helpful analytics libraries installed\n",
    "# It is defined by the kaggle/python Docker image: https://github.com/kaggle/docker-python\n",
    "# For example, here's several helpful packages to load\n",
    "\n",
    "import numpy as np # linear algebra\n",
    "import pandas as pd # data processing, CSV file I/O (e.g. pd.read_csv)\n",
    "\n",
    "# Input data files are available in the read-only \"../input/\" directory\n",
    "# For example, running this (by clicking run or pressing Shift+Enter) will list all files under the input directory\n",
    "\n",
    "import os\n",
    "for dirname, _, filenames in os.walk('/kaggle/input'):\n",
    "    for filename in filenames:\n",
    "        print(os.path.join(dirname, filename))\n",
    "\n",
    "# You can write up to 20GB to the current directory (/kaggle/working/) that gets preserved as output when you create a version using \"Save & Run All\" \n",
    "# You can also write temporary files to /kaggle/temp/, but they won't be saved outside of the current session\n",
    "\n",
    "\n",
    "# Görselleştirme kütüphaneleri\n",
    "import matplotlib.pyplot as plt\n",
    "import seaborn as sns\n",
    "# Diğer örnek görselleştirme kütüphaneleri\n",
    "from plotnine import ggplot"
   ]
  },
  {
   "cell_type": "code",
   "execution_count": 2,
   "id": "1f0e5dfc",
   "metadata": {
    "execution": {
     "iopub.execute_input": "2024-11-23T14:15:25.497467Z",
     "iopub.status.busy": "2024-11-23T14:15:25.497002Z",
     "iopub.status.idle": "2024-11-23T14:15:26.223804Z",
     "shell.execute_reply": "2024-11-23T14:15:26.222973Z"
    },
    "papermill": {
     "duration": 0.745813,
     "end_time": "2024-11-23T14:15:26.226170",
     "exception": false,
     "start_time": "2024-11-23T14:15:25.480357",
     "status": "completed"
    },
    "tags": []
   },
   "outputs": [],
   "source": [
    "airl_data=pd.read_csv(filepath_or_buffer = \"//kaggle/input/airline-dataset/Airline Dataset Updated - v2.csv\")\n",
    "airldata=airl_data.copy()"
   ]
  },
  {
   "cell_type": "code",
   "execution_count": 3,
   "id": "aca66251",
   "metadata": {
    "execution": {
     "iopub.execute_input": "2024-11-23T14:15:26.258144Z",
     "iopub.status.busy": "2024-11-23T14:15:26.257764Z",
     "iopub.status.idle": "2024-11-23T14:15:26.911589Z",
     "shell.execute_reply": "2024-11-23T14:15:26.910648Z"
    },
    "papermill": {
     "duration": 0.672375,
     "end_time": "2024-11-23T14:15:26.913801",
     "exception": false,
     "start_time": "2024-11-23T14:15:26.241426",
     "status": "completed"
    },
    "tags": []
   },
   "outputs": [
    {
     "data": {
      "text/html": [
       "<div>\n",
       "<style scoped>\n",
       "    .dataframe tbody tr th:only-of-type {\n",
       "        vertical-align: middle;\n",
       "    }\n",
       "\n",
       "    .dataframe tbody tr th {\n",
       "        vertical-align: top;\n",
       "    }\n",
       "\n",
       "    .dataframe thead th {\n",
       "        text-align: right;\n",
       "    }\n",
       "</style>\n",
       "<table border=\"1\" class=\"dataframe\">\n",
       "  <thead>\n",
       "    <tr style=\"text-align: right;\">\n",
       "      <th></th>\n",
       "      <th>Passenger ID</th>\n",
       "      <th>First Name</th>\n",
       "      <th>Last Name</th>\n",
       "      <th>Gender</th>\n",
       "      <th>Age</th>\n",
       "      <th>Nationality</th>\n",
       "      <th>Airport Name</th>\n",
       "      <th>Airport Country Code</th>\n",
       "      <th>Country Name</th>\n",
       "      <th>Airport Continent</th>\n",
       "      <th>Continents</th>\n",
       "      <th>Departure Date</th>\n",
       "      <th>Arrival Airport</th>\n",
       "      <th>Pilot Name</th>\n",
       "      <th>Flight Status</th>\n",
       "    </tr>\n",
       "  </thead>\n",
       "  <tbody>\n",
       "    <tr>\n",
       "      <th>0</th>\n",
       "      <td>ABVWIg</td>\n",
       "      <td>Edithe</td>\n",
       "      <td>Leggis</td>\n",
       "      <td>Female</td>\n",
       "      <td>62.0</td>\n",
       "      <td>Japan</td>\n",
       "      <td>Coldfoot Airport</td>\n",
       "      <td>US</td>\n",
       "      <td>United States</td>\n",
       "      <td>NAM</td>\n",
       "      <td>North America</td>\n",
       "      <td>6/28/2022</td>\n",
       "      <td>CXF</td>\n",
       "      <td>Fransisco Hazeldine</td>\n",
       "      <td>On Time</td>\n",
       "    </tr>\n",
       "    <tr>\n",
       "      <th>1</th>\n",
       "      <td>jkXXAX</td>\n",
       "      <td>Elwood</td>\n",
       "      <td>Catt</td>\n",
       "      <td>Male</td>\n",
       "      <td>NaN</td>\n",
       "      <td>Nicaragua</td>\n",
       "      <td>Kugluktuk Airport</td>\n",
       "      <td>CA</td>\n",
       "      <td>Canada</td>\n",
       "      <td>NAM</td>\n",
       "      <td>North America</td>\n",
       "      <td>12/26/2022</td>\n",
       "      <td>YCO</td>\n",
       "      <td>Marla Parsonage</td>\n",
       "      <td>On Time</td>\n",
       "    </tr>\n",
       "    <tr>\n",
       "      <th>2</th>\n",
       "      <td>CdUz2g</td>\n",
       "      <td>Darby</td>\n",
       "      <td>Felgate</td>\n",
       "      <td>Male</td>\n",
       "      <td>67.0</td>\n",
       "      <td>Russia</td>\n",
       "      <td>Grenoble-Isère Airport</td>\n",
       "      <td>FR</td>\n",
       "      <td>France</td>\n",
       "      <td>EU</td>\n",
       "      <td>Europe</td>\n",
       "      <td>1/18/2022</td>\n",
       "      <td>GNB</td>\n",
       "      <td>Rhonda Amber</td>\n",
       "      <td>On Time</td>\n",
       "    </tr>\n",
       "    <tr>\n",
       "      <th>3</th>\n",
       "      <td>BRS38V</td>\n",
       "      <td>Dominica</td>\n",
       "      <td>Pyle</td>\n",
       "      <td>Female</td>\n",
       "      <td>71.0</td>\n",
       "      <td>China</td>\n",
       "      <td>Ottawa / Gatineau Airport</td>\n",
       "      <td>CA</td>\n",
       "      <td>Canada</td>\n",
       "      <td>NAM</td>\n",
       "      <td>North America</td>\n",
       "      <td>9/16/2022</td>\n",
       "      <td>YND</td>\n",
       "      <td>Kacie Commucci</td>\n",
       "      <td>Delayed</td>\n",
       "    </tr>\n",
       "    <tr>\n",
       "      <th>4</th>\n",
       "      <td>9kvTLo</td>\n",
       "      <td>Bay</td>\n",
       "      <td>NaN</td>\n",
       "      <td>Male</td>\n",
       "      <td>21.0</td>\n",
       "      <td>China</td>\n",
       "      <td>Gillespie Field</td>\n",
       "      <td>US</td>\n",
       "      <td>United States</td>\n",
       "      <td>NAM</td>\n",
       "      <td>North America</td>\n",
       "      <td>2/25/2022</td>\n",
       "      <td>SEE</td>\n",
       "      <td>Ebonee Tree</td>\n",
       "      <td>On Time</td>\n",
       "    </tr>\n",
       "    <tr>\n",
       "      <th>...</th>\n",
       "      <td>...</td>\n",
       "      <td>...</td>\n",
       "      <td>...</td>\n",
       "      <td>...</td>\n",
       "      <td>...</td>\n",
       "      <td>...</td>\n",
       "      <td>...</td>\n",
       "      <td>...</td>\n",
       "      <td>...</td>\n",
       "      <td>...</td>\n",
       "      <td>...</td>\n",
       "      <td>...</td>\n",
       "      <td>...</td>\n",
       "      <td>...</td>\n",
       "      <td>...</td>\n",
       "    </tr>\n",
       "    <tr>\n",
       "      <th>98614</th>\n",
       "      <td>hnGQ62</td>\n",
       "      <td>Gareth</td>\n",
       "      <td>Mugford</td>\n",
       "      <td>Male</td>\n",
       "      <td>85.0</td>\n",
       "      <td>China</td>\n",
       "      <td>Hasvik Airport</td>\n",
       "      <td>NO</td>\n",
       "      <td>Norway</td>\n",
       "      <td>EU</td>\n",
       "      <td>Europe</td>\n",
       "      <td>12-11-2022</td>\n",
       "      <td>HAA</td>\n",
       "      <td>Pammie Kingscote</td>\n",
       "      <td>Cancelled</td>\n",
       "    </tr>\n",
       "    <tr>\n",
       "      <th>98615</th>\n",
       "      <td>2omEzh</td>\n",
       "      <td>Kasey</td>\n",
       "      <td>Benedict</td>\n",
       "      <td>Female</td>\n",
       "      <td>19.0</td>\n",
       "      <td>Russia</td>\n",
       "      <td>Ampampamena Airport</td>\n",
       "      <td>MG</td>\n",
       "      <td>Madagascar</td>\n",
       "      <td>AF</td>\n",
       "      <td>Africa</td>\n",
       "      <td>10/30/2022</td>\n",
       "      <td>IVA</td>\n",
       "      <td>Dorice Lochran</td>\n",
       "      <td>Cancelled</td>\n",
       "    </tr>\n",
       "    <tr>\n",
       "      <th>98616</th>\n",
       "      <td>VUPiVG</td>\n",
       "      <td>NaN</td>\n",
       "      <td>Lucken</td>\n",
       "      <td>Male</td>\n",
       "      <td>65.0</td>\n",
       "      <td>Indonesia</td>\n",
       "      <td>Albacete-Los Llanos Airport</td>\n",
       "      <td>ES</td>\n",
       "      <td>Spain</td>\n",
       "      <td>EU</td>\n",
       "      <td>Europe</td>\n",
       "      <td>NaN</td>\n",
       "      <td>ABC</td>\n",
       "      <td>Gearalt Main</td>\n",
       "      <td>NaN</td>\n",
       "    </tr>\n",
       "    <tr>\n",
       "      <th>98617</th>\n",
       "      <td>E47NtS</td>\n",
       "      <td>Gayle</td>\n",
       "      <td>Lievesley</td>\n",
       "      <td>Female</td>\n",
       "      <td>34.0</td>\n",
       "      <td>China</td>\n",
       "      <td>Gagnoa Airport</td>\n",
       "      <td>CI</td>\n",
       "      <td>NaN</td>\n",
       "      <td>AF</td>\n",
       "      <td>Africa</td>\n",
       "      <td>NaN</td>\n",
       "      <td>GGN</td>\n",
       "      <td>Judon Chasle</td>\n",
       "      <td>Cancelled</td>\n",
       "    </tr>\n",
       "    <tr>\n",
       "      <th>98618</th>\n",
       "      <td>8JYEcz</td>\n",
       "      <td>Wilhelmine</td>\n",
       "      <td>NaN</td>\n",
       "      <td>Female</td>\n",
       "      <td>10.0</td>\n",
       "      <td>Poland</td>\n",
       "      <td>Yoshkar-Ola Airport</td>\n",
       "      <td>RU</td>\n",
       "      <td>Russian Federation</td>\n",
       "      <td>EU</td>\n",
       "      <td>Europe</td>\n",
       "      <td>4/16/2022</td>\n",
       "      <td>JOK</td>\n",
       "      <td>Auguste Tindley</td>\n",
       "      <td>NaN</td>\n",
       "    </tr>\n",
       "  </tbody>\n",
       "</table>\n",
       "<p>98619 rows × 15 columns</p>\n",
       "</div>"
      ],
      "text/plain": [
       "      Passenger ID  First Name  Last Name  Gender   Age Nationality  \\\n",
       "0           ABVWIg      Edithe     Leggis  Female  62.0       Japan   \n",
       "1           jkXXAX      Elwood       Catt    Male   NaN   Nicaragua   \n",
       "2           CdUz2g       Darby    Felgate    Male  67.0      Russia   \n",
       "3           BRS38V    Dominica       Pyle  Female  71.0       China   \n",
       "4           9kvTLo         Bay        NaN    Male  21.0       China   \n",
       "...            ...         ...        ...     ...   ...         ...   \n",
       "98614       hnGQ62      Gareth    Mugford    Male  85.0       China   \n",
       "98615       2omEzh       Kasey   Benedict  Female  19.0      Russia   \n",
       "98616       VUPiVG         NaN     Lucken    Male  65.0   Indonesia   \n",
       "98617       E47NtS       Gayle  Lievesley  Female  34.0       China   \n",
       "98618       8JYEcz  Wilhelmine        NaN  Female  10.0      Poland   \n",
       "\n",
       "                      Airport Name Airport Country Code        Country Name  \\\n",
       "0                 Coldfoot Airport                   US       United States   \n",
       "1                Kugluktuk Airport                   CA              Canada   \n",
       "2           Grenoble-Isère Airport                   FR              France   \n",
       "3        Ottawa / Gatineau Airport                   CA              Canada   \n",
       "4                  Gillespie Field                   US       United States   \n",
       "...                            ...                  ...                 ...   \n",
       "98614               Hasvik Airport                   NO              Norway   \n",
       "98615          Ampampamena Airport                   MG          Madagascar   \n",
       "98616  Albacete-Los Llanos Airport                   ES               Spain   \n",
       "98617               Gagnoa Airport                   CI                 NaN   \n",
       "98618          Yoshkar-Ola Airport                   RU  Russian Federation   \n",
       "\n",
       "      Airport Continent     Continents Departure Date Arrival Airport  \\\n",
       "0                   NAM  North America      6/28/2022             CXF   \n",
       "1                   NAM  North America     12/26/2022             YCO   \n",
       "2                    EU         Europe      1/18/2022             GNB   \n",
       "3                   NAM  North America      9/16/2022             YND   \n",
       "4                   NAM  North America      2/25/2022             SEE   \n",
       "...                 ...            ...            ...             ...   \n",
       "98614                EU         Europe     12-11-2022             HAA   \n",
       "98615                AF         Africa     10/30/2022             IVA   \n",
       "98616                EU         Europe            NaN             ABC   \n",
       "98617                AF         Africa            NaN             GGN   \n",
       "98618                EU         Europe      4/16/2022             JOK   \n",
       "\n",
       "                Pilot Name Flight Status  \n",
       "0      Fransisco Hazeldine       On Time  \n",
       "1          Marla Parsonage       On Time  \n",
       "2             Rhonda Amber       On Time  \n",
       "3           Kacie Commucci       Delayed  \n",
       "4              Ebonee Tree       On Time  \n",
       "...                    ...           ...  \n",
       "98614     Pammie Kingscote     Cancelled  \n",
       "98615       Dorice Lochran     Cancelled  \n",
       "98616         Gearalt Main           NaN  \n",
       "98617         Judon Chasle     Cancelled  \n",
       "98618      Auguste Tindley           NaN  \n",
       "\n",
       "[98619 rows x 15 columns]"
      ]
     },
     "execution_count": 3,
     "metadata": {},
     "output_type": "execute_result"
    }
   ],
   "source": [
    "# Veri setinde rasgele eksik veriler oluşturalım.\n",
    "\n",
    "import random\n",
    "\n",
    "def add_random_missing_values(dataframe: pd.DataFrame,\n",
    "                              missing_rate: float = 0.05,\n",
    "                              seed: random = 42) -> pd.DataFrame:\n",
    "    \"\"\"Turns random values to NaN in a DataFrame.\n",
    "    \n",
    "    To use this function, you need to import pandas, numpy and random libraries.\n",
    "\n",
    "    Args:\n",
    "        dataframe (pd.DataFrame): DataFrame to be processed.\n",
    "        missing_rate (float): Percentage of missing value rate in float format. Defaults 0.05\n",
    "\n",
    "    \n",
    "    \"\"\"\n",
    "    # Get copy of dataframe\n",
    "    airldata_missing = dataframe.copy()\n",
    "\n",
    "    # Obtain size of dataframe and number total number of missing values\n",
    "    airldata_size = dataframe.size\n",
    "    num_missing = int(airldata_size * missing_rate)\n",
    "    \n",
    "    # Set seed\n",
    "    if seed:\n",
    "        random.seed(seed)\n",
    "\n",
    "    # Get random row and column indexes to turn them NaN\n",
    "    for _ in range(num_missing):\n",
    "        row_idx = random.randint(0, dataframe.shape[0] - 1)\n",
    "        col_idx = random.randint(0, dataframe.shape[1] - 1)\n",
    "\n",
    "        airldata_missing.iat[row_idx, col_idx] = np.nan\n",
    "        \n",
    "    return airldata_missing\n",
    "\n",
    "airldata = add_random_missing_values(dataframe = airldata,\n",
    "                               missing_rate = 0.03)\n",
    "airldata"
   ]
  },
  {
   "cell_type": "markdown",
   "id": "6f77c235",
   "metadata": {
    "papermill": {
     "duration": 0.015282,
     "end_time": "2024-11-23T14:15:26.944903",
     "exception": false,
     "start_time": "2024-11-23T14:15:26.929621",
     "status": "completed"
    },
    "tags": []
   },
   "source": [
    "# 1. Veriye İlk Bakış"
   ]
  },
  {
   "cell_type": "code",
   "execution_count": 4,
   "id": "993f6837",
   "metadata": {
    "execution": {
     "iopub.execute_input": "2024-11-23T14:15:26.977306Z",
     "iopub.status.busy": "2024-11-23T14:15:26.976976Z",
     "iopub.status.idle": "2024-11-23T14:15:26.991938Z",
     "shell.execute_reply": "2024-11-23T14:15:26.990930Z"
    },
    "papermill": {
     "duration": 0.033515,
     "end_time": "2024-11-23T14:15:26.993873",
     "exception": false,
     "start_time": "2024-11-23T14:15:26.960358",
     "status": "completed"
    },
    "tags": []
   },
   "outputs": [
    {
     "data": {
      "text/html": [
       "<div>\n",
       "<style scoped>\n",
       "    .dataframe tbody tr th:only-of-type {\n",
       "        vertical-align: middle;\n",
       "    }\n",
       "\n",
       "    .dataframe tbody tr th {\n",
       "        vertical-align: top;\n",
       "    }\n",
       "\n",
       "    .dataframe thead th {\n",
       "        text-align: right;\n",
       "    }\n",
       "</style>\n",
       "<table border=\"1\" class=\"dataframe\">\n",
       "  <thead>\n",
       "    <tr style=\"text-align: right;\">\n",
       "      <th></th>\n",
       "      <th>Passenger ID</th>\n",
       "      <th>First Name</th>\n",
       "      <th>Last Name</th>\n",
       "      <th>Gender</th>\n",
       "      <th>Age</th>\n",
       "      <th>Nationality</th>\n",
       "      <th>Airport Name</th>\n",
       "      <th>Airport Country Code</th>\n",
       "      <th>Country Name</th>\n",
       "      <th>Airport Continent</th>\n",
       "      <th>Continents</th>\n",
       "      <th>Departure Date</th>\n",
       "      <th>Arrival Airport</th>\n",
       "      <th>Pilot Name</th>\n",
       "      <th>Flight Status</th>\n",
       "    </tr>\n",
       "  </thead>\n",
       "  <tbody>\n",
       "    <tr>\n",
       "      <th>0</th>\n",
       "      <td>ABVWIg</td>\n",
       "      <td>Edithe</td>\n",
       "      <td>Leggis</td>\n",
       "      <td>Female</td>\n",
       "      <td>62.0</td>\n",
       "      <td>Japan</td>\n",
       "      <td>Coldfoot Airport</td>\n",
       "      <td>US</td>\n",
       "      <td>United States</td>\n",
       "      <td>NAM</td>\n",
       "      <td>North America</td>\n",
       "      <td>6/28/2022</td>\n",
       "      <td>CXF</td>\n",
       "      <td>Fransisco Hazeldine</td>\n",
       "      <td>On Time</td>\n",
       "    </tr>\n",
       "    <tr>\n",
       "      <th>1</th>\n",
       "      <td>jkXXAX</td>\n",
       "      <td>Elwood</td>\n",
       "      <td>Catt</td>\n",
       "      <td>Male</td>\n",
       "      <td>NaN</td>\n",
       "      <td>Nicaragua</td>\n",
       "      <td>Kugluktuk Airport</td>\n",
       "      <td>CA</td>\n",
       "      <td>Canada</td>\n",
       "      <td>NAM</td>\n",
       "      <td>North America</td>\n",
       "      <td>12/26/2022</td>\n",
       "      <td>YCO</td>\n",
       "      <td>Marla Parsonage</td>\n",
       "      <td>On Time</td>\n",
       "    </tr>\n",
       "    <tr>\n",
       "      <th>2</th>\n",
       "      <td>CdUz2g</td>\n",
       "      <td>Darby</td>\n",
       "      <td>Felgate</td>\n",
       "      <td>Male</td>\n",
       "      <td>67.0</td>\n",
       "      <td>Russia</td>\n",
       "      <td>Grenoble-Isère Airport</td>\n",
       "      <td>FR</td>\n",
       "      <td>France</td>\n",
       "      <td>EU</td>\n",
       "      <td>Europe</td>\n",
       "      <td>1/18/2022</td>\n",
       "      <td>GNB</td>\n",
       "      <td>Rhonda Amber</td>\n",
       "      <td>On Time</td>\n",
       "    </tr>\n",
       "  </tbody>\n",
       "</table>\n",
       "</div>"
      ],
      "text/plain": [
       "  Passenger ID First Name Last Name  Gender   Age Nationality  \\\n",
       "0       ABVWIg     Edithe    Leggis  Female  62.0       Japan   \n",
       "1       jkXXAX     Elwood      Catt    Male   NaN   Nicaragua   \n",
       "2       CdUz2g      Darby   Felgate    Male  67.0      Russia   \n",
       "\n",
       "             Airport Name Airport Country Code   Country Name  \\\n",
       "0        Coldfoot Airport                   US  United States   \n",
       "1       Kugluktuk Airport                   CA         Canada   \n",
       "2  Grenoble-Isère Airport                   FR         France   \n",
       "\n",
       "  Airport Continent     Continents Departure Date Arrival Airport  \\\n",
       "0               NAM  North America      6/28/2022             CXF   \n",
       "1               NAM  North America     12/26/2022             YCO   \n",
       "2                EU         Europe      1/18/2022             GNB   \n",
       "\n",
       "            Pilot Name Flight Status  \n",
       "0  Fransisco Hazeldine       On Time  \n",
       "1      Marla Parsonage       On Time  \n",
       "2         Rhonda Amber       On Time  "
      ]
     },
     "execution_count": 4,
     "metadata": {},
     "output_type": "execute_result"
    }
   ],
   "source": [
    "# Veri setinin ilk 3 gözlemini görelim.\n",
    "airldata.head(n = 3)"
   ]
  },
  {
   "cell_type": "code",
   "execution_count": 5,
   "id": "049a2094",
   "metadata": {
    "execution": {
     "iopub.execute_input": "2024-11-23T14:15:27.027948Z",
     "iopub.status.busy": "2024-11-23T14:15:27.027086Z",
     "iopub.status.idle": "2024-11-23T14:15:27.041999Z",
     "shell.execute_reply": "2024-11-23T14:15:27.041027Z"
    },
    "papermill": {
     "duration": 0.034313,
     "end_time": "2024-11-23T14:15:27.044053",
     "exception": false,
     "start_time": "2024-11-23T14:15:27.009740",
     "status": "completed"
    },
    "tags": []
   },
   "outputs": [
    {
     "data": {
      "text/html": [
       "<div>\n",
       "<style scoped>\n",
       "    .dataframe tbody tr th:only-of-type {\n",
       "        vertical-align: middle;\n",
       "    }\n",
       "\n",
       "    .dataframe tbody tr th {\n",
       "        vertical-align: top;\n",
       "    }\n",
       "\n",
       "    .dataframe thead th {\n",
       "        text-align: right;\n",
       "    }\n",
       "</style>\n",
       "<table border=\"1\" class=\"dataframe\">\n",
       "  <thead>\n",
       "    <tr style=\"text-align: right;\">\n",
       "      <th></th>\n",
       "      <th>Passenger ID</th>\n",
       "      <th>First Name</th>\n",
       "      <th>Last Name</th>\n",
       "      <th>Gender</th>\n",
       "      <th>Age</th>\n",
       "      <th>Nationality</th>\n",
       "      <th>Airport Name</th>\n",
       "      <th>Airport Country Code</th>\n",
       "      <th>Country Name</th>\n",
       "      <th>Airport Continent</th>\n",
       "      <th>Continents</th>\n",
       "      <th>Departure Date</th>\n",
       "      <th>Arrival Airport</th>\n",
       "      <th>Pilot Name</th>\n",
       "      <th>Flight Status</th>\n",
       "    </tr>\n",
       "  </thead>\n",
       "  <tbody>\n",
       "    <tr>\n",
       "      <th>98616</th>\n",
       "      <td>VUPiVG</td>\n",
       "      <td>NaN</td>\n",
       "      <td>Lucken</td>\n",
       "      <td>Male</td>\n",
       "      <td>65.0</td>\n",
       "      <td>Indonesia</td>\n",
       "      <td>Albacete-Los Llanos Airport</td>\n",
       "      <td>ES</td>\n",
       "      <td>Spain</td>\n",
       "      <td>EU</td>\n",
       "      <td>Europe</td>\n",
       "      <td>NaN</td>\n",
       "      <td>ABC</td>\n",
       "      <td>Gearalt Main</td>\n",
       "      <td>NaN</td>\n",
       "    </tr>\n",
       "    <tr>\n",
       "      <th>98617</th>\n",
       "      <td>E47NtS</td>\n",
       "      <td>Gayle</td>\n",
       "      <td>Lievesley</td>\n",
       "      <td>Female</td>\n",
       "      <td>34.0</td>\n",
       "      <td>China</td>\n",
       "      <td>Gagnoa Airport</td>\n",
       "      <td>CI</td>\n",
       "      <td>NaN</td>\n",
       "      <td>AF</td>\n",
       "      <td>Africa</td>\n",
       "      <td>NaN</td>\n",
       "      <td>GGN</td>\n",
       "      <td>Judon Chasle</td>\n",
       "      <td>Cancelled</td>\n",
       "    </tr>\n",
       "    <tr>\n",
       "      <th>98618</th>\n",
       "      <td>8JYEcz</td>\n",
       "      <td>Wilhelmine</td>\n",
       "      <td>NaN</td>\n",
       "      <td>Female</td>\n",
       "      <td>10.0</td>\n",
       "      <td>Poland</td>\n",
       "      <td>Yoshkar-Ola Airport</td>\n",
       "      <td>RU</td>\n",
       "      <td>Russian Federation</td>\n",
       "      <td>EU</td>\n",
       "      <td>Europe</td>\n",
       "      <td>4/16/2022</td>\n",
       "      <td>JOK</td>\n",
       "      <td>Auguste Tindley</td>\n",
       "      <td>NaN</td>\n",
       "    </tr>\n",
       "  </tbody>\n",
       "</table>\n",
       "</div>"
      ],
      "text/plain": [
       "      Passenger ID  First Name  Last Name  Gender   Age Nationality  \\\n",
       "98616       VUPiVG         NaN     Lucken    Male  65.0   Indonesia   \n",
       "98617       E47NtS       Gayle  Lievesley  Female  34.0       China   \n",
       "98618       8JYEcz  Wilhelmine        NaN  Female  10.0      Poland   \n",
       "\n",
       "                      Airport Name Airport Country Code        Country Name  \\\n",
       "98616  Albacete-Los Llanos Airport                   ES               Spain   \n",
       "98617               Gagnoa Airport                   CI                 NaN   \n",
       "98618          Yoshkar-Ola Airport                   RU  Russian Federation   \n",
       "\n",
       "      Airport Continent Continents Departure Date Arrival Airport  \\\n",
       "98616                EU     Europe            NaN             ABC   \n",
       "98617                AF     Africa            NaN             GGN   \n",
       "98618                EU     Europe      4/16/2022             JOK   \n",
       "\n",
       "            Pilot Name Flight Status  \n",
       "98616     Gearalt Main           NaN  \n",
       "98617     Judon Chasle     Cancelled  \n",
       "98618  Auguste Tindley           NaN  "
      ]
     },
     "execution_count": 5,
     "metadata": {},
     "output_type": "execute_result"
    }
   ],
   "source": [
    "# Sondan 3 gözlem için tail() metodu kullanılabilir.\n",
    "airldata.tail(3)"
   ]
  },
  {
   "cell_type": "code",
   "execution_count": 6,
   "id": "8f012d47",
   "metadata": {
    "execution": {
     "iopub.execute_input": "2024-11-23T14:15:27.078351Z",
     "iopub.status.busy": "2024-11-23T14:15:27.077561Z",
     "iopub.status.idle": "2024-11-23T14:15:27.084090Z",
     "shell.execute_reply": "2024-11-23T14:15:27.083027Z"
    },
    "papermill": {
     "duration": 0.025729,
     "end_time": "2024-11-23T14:15:27.085958",
     "exception": false,
     "start_time": "2024-11-23T14:15:27.060229",
     "status": "completed"
    },
    "tags": []
   },
   "outputs": [
    {
     "data": {
      "text/plain": [
       "(98619, 15)"
      ]
     },
     "execution_count": 6,
     "metadata": {},
     "output_type": "execute_result"
    }
   ],
   "source": [
    "airldata.shape # -> (satır, sütun)"
   ]
  },
  {
   "cell_type": "code",
   "execution_count": 7,
   "id": "66b750c2",
   "metadata": {
    "execution": {
     "iopub.execute_input": "2024-11-23T14:15:27.120090Z",
     "iopub.status.busy": "2024-11-23T14:15:27.119241Z",
     "iopub.status.idle": "2024-11-23T14:15:27.124948Z",
     "shell.execute_reply": "2024-11-23T14:15:27.124008Z"
    },
    "papermill": {
     "duration": 0.025537,
     "end_time": "2024-11-23T14:15:27.127637",
     "exception": false,
     "start_time": "2024-11-23T14:15:27.102100",
     "status": "completed"
    },
    "tags": []
   },
   "outputs": [
    {
     "name": "stdout",
     "output_type": "stream",
     "text": [
      "['Passenger ID', 'First Name', 'Last Name', 'Gender', 'Age', 'Nationality', 'Airport Name', 'Airport Country Code', 'Country Name', 'Airport Continent', 'Continents', 'Departure Date', 'Arrival Airport', 'Pilot Name', 'Flight Status'] \n",
      "\n",
      "Veri seti içerisinde toplam 15 kolon vardır.\n",
      "\n",
      "df.columns'un döndüğü veri tipi: <class 'pandas.core.indexes.base.Index'>\n",
      "\n"
     ]
    }
   ],
   "source": [
    "airldata.columns# Veri setindeki kolonları yazdırır.\n",
    "print(list(airldata.columns), '\\n')\n",
    "\n",
    "# len() fonksiyonu ile toplam kolon sayısına erişiyoruz.\n",
    "print(f\"Veri seti içerisinde toplam {len(airldata.columns)} kolon vardır.\\n\")\n",
    "\n",
    "# Çoğu zaman kullandığımız attribute ve fonksiyonların sonuçlarının hangi tipte veri döndürdüğünü gözlemlemek kod üzerinde hakimiyet kurmak için önemlidir.\n",
    "print(f\"df.columns'un döndüğü veri tipi: {type(airldata.columns)}\\n\")"
   ]
  },
  {
   "cell_type": "code",
   "execution_count": 8,
   "id": "21469224",
   "metadata": {
    "execution": {
     "iopub.execute_input": "2024-11-23T14:15:27.162709Z",
     "iopub.status.busy": "2024-11-23T14:15:27.162320Z",
     "iopub.status.idle": "2024-11-23T14:15:27.249786Z",
     "shell.execute_reply": "2024-11-23T14:15:27.248787Z"
    },
    "papermill": {
     "duration": 0.107864,
     "end_time": "2024-11-23T14:15:27.252007",
     "exception": false,
     "start_time": "2024-11-23T14:15:27.144143",
     "status": "completed"
    },
    "tags": []
   },
   "outputs": [
    {
     "name": "stdout",
     "output_type": "stream",
     "text": [
      "<class 'pandas.core.frame.DataFrame'>\n",
      "RangeIndex: 98619 entries, 0 to 98618\n",
      "Data columns (total 15 columns):\n",
      " #   Column                Non-Null Count  Dtype  \n",
      "---  ------                --------------  -----  \n",
      " 0   Passenger ID          95726 non-null  object \n",
      " 1   First Name            95734 non-null  object \n",
      " 2   Last Name             95702 non-null  object \n",
      " 3   Gender                95684 non-null  object \n",
      " 4   Age                   95751 non-null  float64\n",
      " 5   Nationality           95698 non-null  object \n",
      " 6   Airport Name          95615 non-null  object \n",
      " 7   Airport Country Code  95692 non-null  object \n",
      " 8   Country Name          95853 non-null  object \n",
      " 9   Airport Continent     95672 non-null  object \n",
      " 10  Continents            95628 non-null  object \n",
      " 11  Departure Date        95792 non-null  object \n",
      " 12  Arrival Airport       95600 non-null  object \n",
      " 13  Pilot Name            95676 non-null  object \n",
      " 14  Flight Status         95750 non-null  object \n",
      "dtypes: float64(1), object(14)\n",
      "memory usage: 11.3+ MB\n"
     ]
    }
   ],
   "source": [
    "airldata.info()"
   ]
  },
  {
   "cell_type": "code",
   "execution_count": 9,
   "id": "36af408b",
   "metadata": {
    "execution": {
     "iopub.execute_input": "2024-11-23T14:15:27.286483Z",
     "iopub.status.busy": "2024-11-23T14:15:27.286097Z",
     "iopub.status.idle": "2024-11-23T14:15:27.293840Z",
     "shell.execute_reply": "2024-11-23T14:15:27.292843Z"
    },
    "papermill": {
     "duration": 0.027045,
     "end_time": "2024-11-23T14:15:27.295622",
     "exception": false,
     "start_time": "2024-11-23T14:15:27.268577",
     "status": "completed"
    },
    "tags": []
   },
   "outputs": [
    {
     "data": {
      "text/plain": [
       "Passenger ID             object\n",
       "First Name               object\n",
       "Last Name                object\n",
       "Gender                   object\n",
       "Age                     float64\n",
       "Nationality              object\n",
       "Airport Name             object\n",
       "Airport Country Code     object\n",
       "Country Name             object\n",
       "Airport Continent        object\n",
       "Continents               object\n",
       "Departure Date           object\n",
       "Arrival Airport          object\n",
       "Pilot Name               object\n",
       "Flight Status            object\n",
       "dtype: object"
      ]
     },
     "execution_count": 9,
     "metadata": {},
     "output_type": "execute_result"
    }
   ],
   "source": [
    "airldata.dtypes"
   ]
  },
  {
   "cell_type": "code",
   "execution_count": 10,
   "id": "4a3df286",
   "metadata": {
    "execution": {
     "iopub.execute_input": "2024-11-23T14:15:27.331542Z",
     "iopub.status.busy": "2024-11-23T14:15:27.331170Z",
     "iopub.status.idle": "2024-11-23T14:15:27.336641Z",
     "shell.execute_reply": "2024-11-23T14:15:27.335763Z"
    },
    "papermill": {
     "duration": 0.02496,
     "end_time": "2024-11-23T14:15:27.338480",
     "exception": false,
     "start_time": "2024-11-23T14:15:27.313520",
     "status": "completed"
    },
    "tags": []
   },
   "outputs": [],
   "source": [
    "categorical_features = []\n",
    "numerical_features = []\n",
    "\n",
    "for col in airldata.columns:\n",
    "    if (airldata[col].dtype == \"object\") or (airldata[col].dtype == \"categorical\"):\n",
    "        categorical_features.append(col)\n",
    "    else:\n",
    "        numerical_features.append(col)\n",
    "\n",
    "# ALIŞTIRMA: List comprehension nasıl kullanılır öğrenin ve yukarıdaki listeleri bu yapıyı kullanarak oluşturmaya çalışın."
   ]
  },
  {
   "cell_type": "code",
   "execution_count": 11,
   "id": "fdb39004",
   "metadata": {
    "execution": {
     "iopub.execute_input": "2024-11-23T14:15:27.373107Z",
     "iopub.status.busy": "2024-11-23T14:15:27.372710Z",
     "iopub.status.idle": "2024-11-23T14:15:27.380135Z",
     "shell.execute_reply": "2024-11-23T14:15:27.379151Z"
    },
    "papermill": {
     "duration": 0.026947,
     "end_time": "2024-11-23T14:15:27.382042",
     "exception": false,
     "start_time": "2024-11-23T14:15:27.355095",
     "status": "completed"
    },
    "tags": []
   },
   "outputs": [
    {
     "data": {
      "text/plain": [
       "(['Passenger ID',\n",
       "  'First Name',\n",
       "  'Last Name',\n",
       "  'Gender',\n",
       "  'Nationality',\n",
       "  'Airport Name',\n",
       "  'Airport Country Code',\n",
       "  'Country Name',\n",
       "  'Airport Continent',\n",
       "  'Continents',\n",
       "  'Departure Date',\n",
       "  'Arrival Airport',\n",
       "  'Pilot Name',\n",
       "  'Flight Status'],\n",
       " ['Age'])"
      ]
     },
     "execution_count": 11,
     "metadata": {},
     "output_type": "execute_result"
    }
   ],
   "source": [
    "categorical_features = [col for col in airldata.columns if airldata[col].dtype in [\"object\", \"categorical\"]]\n",
    "numerical_features = [col for col in airldata.columns if airldata[col].dtype not in [\"object\", \"categorical\"]]\n",
    "categorical_features, numerical_features"
   ]
  },
  {
   "cell_type": "code",
   "execution_count": 12,
   "id": "2f15d64b",
   "metadata": {
    "execution": {
     "iopub.execute_input": "2024-11-23T14:15:27.417926Z",
     "iopub.status.busy": "2024-11-23T14:15:27.417242Z",
     "iopub.status.idle": "2024-11-23T14:15:27.915877Z",
     "shell.execute_reply": "2024-11-23T14:15:27.914800Z"
    },
    "papermill": {
     "duration": 0.519455,
     "end_time": "2024-11-23T14:15:27.918286",
     "exception": false,
     "start_time": "2024-11-23T14:15:27.398831",
     "status": "completed"
    },
    "tags": []
   },
   "outputs": [],
   "source": [
    "for col in airldata.columns:\n",
    "    if col in categorical_features:\n",
    "       airldata[col] = pd.Categorical(airldata[col])"
   ]
  },
  {
   "cell_type": "code",
   "execution_count": 13,
   "id": "ee9daa8a",
   "metadata": {
    "execution": {
     "iopub.execute_input": "2024-11-23T14:15:27.956264Z",
     "iopub.status.busy": "2024-11-23T14:15:27.955911Z",
     "iopub.status.idle": "2024-11-23T14:15:28.106936Z",
     "shell.execute_reply": "2024-11-23T14:15:28.105937Z"
    },
    "papermill": {
     "duration": 0.171033,
     "end_time": "2024-11-23T14:15:28.109206",
     "exception": false,
     "start_time": "2024-11-23T14:15:27.938173",
     "status": "completed"
    },
    "tags": []
   },
   "outputs": [
    {
     "name": "stdout",
     "output_type": "stream",
     "text": [
      "<class 'pandas.core.frame.DataFrame'>\n",
      "RangeIndex: 98619 entries, 0 to 98618\n",
      "Data columns (total 15 columns):\n",
      " #   Column                Non-Null Count  Dtype   \n",
      "---  ------                --------------  -----   \n",
      " 0   Passenger ID          95726 non-null  category\n",
      " 1   First Name            95734 non-null  category\n",
      " 2   Last Name             95702 non-null  category\n",
      " 3   Gender                95684 non-null  category\n",
      " 4   Age                   95751 non-null  float64 \n",
      " 5   Nationality           95698 non-null  category\n",
      " 6   Airport Name          95615 non-null  category\n",
      " 7   Airport Country Code  95692 non-null  category\n",
      " 8   Country Name          95853 non-null  category\n",
      " 9   Airport Continent     95672 non-null  category\n",
      " 10  Continents            95628 non-null  category\n",
      " 11  Departure Date        95792 non-null  category\n",
      " 12  Arrival Airport       95600 non-null  category\n",
      " 13  Pilot Name            95676 non-null  category\n",
      " 14  Flight Status         95750 non-null  category\n",
      "dtypes: category(14), float64(1)\n",
      "memory usage: 11.4 MB\n"
     ]
    }
   ],
   "source": [
    "airldata.info()"
   ]
  },
  {
   "cell_type": "code",
   "execution_count": 14,
   "id": "f3f0fd1a",
   "metadata": {
    "execution": {
     "iopub.execute_input": "2024-11-23T14:15:28.144585Z",
     "iopub.status.busy": "2024-11-23T14:15:28.143863Z",
     "iopub.status.idle": "2024-11-23T14:15:28.151554Z",
     "shell.execute_reply": "2024-11-23T14:15:28.150586Z"
    },
    "papermill": {
     "duration": 0.027676,
     "end_time": "2024-11-23T14:15:28.153616",
     "exception": false,
     "start_time": "2024-11-23T14:15:28.125940",
     "status": "completed"
    },
    "tags": []
   },
   "outputs": [
    {
     "data": {
      "text/plain": [
       "0    On Time\n",
       "1    On Time\n",
       "2    On Time\n",
       "3    Delayed\n",
       "Name: Flight Status, dtype: category\n",
       "Categories (3, object): ['Cancelled', 'Delayed', 'On Time']"
      ]
     },
     "execution_count": 14,
     "metadata": {},
     "output_type": "execute_result"
    }
   ],
   "source": [
    "airldata['Flight Status'][:4]"
   ]
  },
  {
   "cell_type": "code",
   "execution_count": 15,
   "id": "0c0cf5a7",
   "metadata": {
    "execution": {
     "iopub.execute_input": "2024-11-23T14:15:28.189071Z",
     "iopub.status.busy": "2024-11-23T14:15:28.188425Z",
     "iopub.status.idle": "2024-11-23T14:15:28.212110Z",
     "shell.execute_reply": "2024-11-23T14:15:28.211146Z"
    },
    "papermill": {
     "duration": 0.043769,
     "end_time": "2024-11-23T14:15:28.214209",
     "exception": false,
     "start_time": "2024-11-23T14:15:28.170440",
     "status": "completed"
    },
    "tags": []
   },
   "outputs": [
    {
     "data": {
      "text/html": [
       "<div>\n",
       "<style scoped>\n",
       "    .dataframe tbody tr th:only-of-type {\n",
       "        vertical-align: middle;\n",
       "    }\n",
       "\n",
       "    .dataframe tbody tr th {\n",
       "        vertical-align: top;\n",
       "    }\n",
       "\n",
       "    .dataframe thead th {\n",
       "        text-align: right;\n",
       "    }\n",
       "</style>\n",
       "<table border=\"1\" class=\"dataframe\">\n",
       "  <thead>\n",
       "    <tr style=\"text-align: right;\">\n",
       "      <th></th>\n",
       "      <th>count</th>\n",
       "      <th>mean</th>\n",
       "      <th>std</th>\n",
       "      <th>min</th>\n",
       "      <th>25%</th>\n",
       "      <th>50%</th>\n",
       "      <th>75%</th>\n",
       "      <th>max</th>\n",
       "    </tr>\n",
       "  </thead>\n",
       "  <tbody>\n",
       "    <tr>\n",
       "      <th>Age</th>\n",
       "      <td>95751.0</td>\n",
       "      <td>45.484538</td>\n",
       "      <td>25.93657</td>\n",
       "      <td>1.0</td>\n",
       "      <td>23.0</td>\n",
       "      <td>46.0</td>\n",
       "      <td>68.0</td>\n",
       "      <td>90.0</td>\n",
       "    </tr>\n",
       "  </tbody>\n",
       "</table>\n",
       "</div>"
      ],
      "text/plain": [
       "       count       mean       std  min   25%   50%   75%   max\n",
       "Age  95751.0  45.484538  25.93657  1.0  23.0  46.0  68.0  90.0"
      ]
     },
     "execution_count": 15,
     "metadata": {},
     "output_type": "execute_result"
    }
   ],
   "source": [
    "airldata.describe().T # -> .T eklentisi elde edeceğimiz çıktıyı transpose eder.\n",
    "\n",
    "# df.describe(include = \"all\") -> Veri setindeki tüm değişkenleri dahil etmek için include parametresine \"all\" değerini verebilirsiniz."
   ]
  },
  {
   "cell_type": "markdown",
   "id": "fc773c32",
   "metadata": {
    "papermill": {
     "duration": 0.016887,
     "end_time": "2024-11-23T14:15:28.248208",
     "exception": false,
     "start_time": "2024-11-23T14:15:28.231321",
     "status": "completed"
    },
    "tags": []
   },
   "source": [
    "# 2. Eksik Veri Analizi"
   ]
  },
  {
   "cell_type": "code",
   "execution_count": 16,
   "id": "a1d834bb",
   "metadata": {
    "execution": {
     "iopub.execute_input": "2024-11-23T14:15:28.296635Z",
     "iopub.status.busy": "2024-11-23T14:15:28.295875Z",
     "iopub.status.idle": "2024-11-23T14:15:28.310516Z",
     "shell.execute_reply": "2024-11-23T14:15:28.309372Z"
    },
    "papermill": {
     "duration": 0.042728,
     "end_time": "2024-11-23T14:15:28.312875",
     "exception": false,
     "start_time": "2024-11-23T14:15:28.270147",
     "status": "completed"
    },
    "tags": []
   },
   "outputs": [
    {
     "data": {
      "text/plain": [
       "Passenger ID            2893\n",
       "First Name              2885\n",
       "Last Name               2917\n",
       "Gender                  2935\n",
       "Age                     2868\n",
       "Nationality             2921\n",
       "Airport Name            3004\n",
       "Airport Country Code    2927\n",
       "Country Name            2766\n",
       "Airport Continent       2947\n",
       "Continents              2991\n",
       "Departure Date          2827\n",
       "Arrival Airport         3019\n",
       "Pilot Name              2943\n",
       "Flight Status           2869\n",
       "dtype: int64"
      ]
     },
     "execution_count": 16,
     "metadata": {},
     "output_type": "execute_result"
    }
   ],
   "source": [
    "airldata.isna().sum() # -> isna() methodu yerine isnull() methodu da kullanılabilir.\n",
    "\n",
    "# ALIŞTIRMA: Her bir değişken için, o değişkendeki eksik değer sayısının toplam kayıt sayısının % kaçı olduğunu bulunuz."
   ]
  },
  {
   "cell_type": "code",
   "execution_count": 17,
   "id": "95a1a369",
   "metadata": {
    "execution": {
     "iopub.execute_input": "2024-11-23T14:15:28.354577Z",
     "iopub.status.busy": "2024-11-23T14:15:28.353763Z",
     "iopub.status.idle": "2024-11-23T14:15:28.364240Z",
     "shell.execute_reply": "2024-11-23T14:15:28.363298Z"
    },
    "papermill": {
     "duration": 0.030779,
     "end_time": "2024-11-23T14:15:28.366192",
     "exception": false,
     "start_time": "2024-11-23T14:15:28.335413",
     "status": "completed"
    },
    "tags": []
   },
   "outputs": [
    {
     "data": {
      "text/plain": [
       "{'Passenger ID': 2.933511797929405,\n",
       " 'First Name': 2.9253997708352344,\n",
       " 'Last Name': 2.9578478792119167,\n",
       " 'Gender': 2.9760999401738,\n",
       " 'Age': 2.9081617132601223,\n",
       " 'Nationality': 2.961903892759002,\n",
       " 'Airport Name': 3.046066173861021,\n",
       " 'Airport Country Code': 2.9679879130796296,\n",
       " 'Country Name': 2.8047333678094484,\n",
       " 'Airport Continent': 2.988267980815056,\n",
       " 'Continents': 3.0328841298329934,\n",
       " 'Departure Date': 2.8665875744024985,\n",
       " 'Arrival Airport': 3.0612762246625906,\n",
       " 'Pilot Name': 2.9842119672679708,\n",
       " 'Flight Status': 2.9091757166468937}"
      ]
     },
     "execution_count": 17,
     "metadata": {},
     "output_type": "execute_result"
    }
   ],
   "source": [
    "missing_percentage={col:(airldata[col].isna().sum()/len(airldata))*100 for col in airldata.columns}\n",
    "missing_percentage"
   ]
  },
  {
   "cell_type": "code",
   "execution_count": 18,
   "id": "95956547",
   "metadata": {
    "execution": {
     "iopub.execute_input": "2024-11-23T14:15:28.401654Z",
     "iopub.status.busy": "2024-11-23T14:15:28.401185Z",
     "iopub.status.idle": "2024-11-23T14:15:28.413353Z",
     "shell.execute_reply": "2024-11-23T14:15:28.412097Z"
    },
    "papermill": {
     "duration": 0.03301,
     "end_time": "2024-11-23T14:15:28.416136",
     "exception": false,
     "start_time": "2024-11-23T14:15:28.383126",
     "status": "completed"
    },
    "tags": []
   },
   "outputs": [
    {
     "data": {
      "text/plain": [
       "43712"
      ]
     },
     "execution_count": 18,
     "metadata": {},
     "output_type": "execute_result"
    }
   ],
   "source": [
    "airldata.isna().sum().sum()"
   ]
  },
  {
   "cell_type": "code",
   "execution_count": 19,
   "id": "ea9aab54",
   "metadata": {
    "execution": {
     "iopub.execute_input": "2024-11-23T14:15:28.472991Z",
     "iopub.status.busy": "2024-11-23T14:15:28.472463Z",
     "iopub.status.idle": "2024-11-23T14:15:28.486411Z",
     "shell.execute_reply": "2024-11-23T14:15:28.485318Z"
    },
    "papermill": {
     "duration": 0.052816,
     "end_time": "2024-11-23T14:15:28.489670",
     "exception": false,
     "start_time": "2024-11-23T14:15:28.436854",
     "status": "completed"
    },
    "tags": []
   },
   "outputs": [
    {
     "data": {
      "text/plain": [
       "Passenger ID            95726\n",
       "First Name              95734\n",
       "Last Name               95702\n",
       "Gender                  95684\n",
       "Age                     95751\n",
       "Nationality             95698\n",
       "Airport Name            95615\n",
       "Airport Country Code    95692\n",
       "Country Name            95853\n",
       "Airport Continent       95672\n",
       "Continents              95628\n",
       "Departure Date          95792\n",
       "Arrival Airport         95600\n",
       "Pilot Name              95676\n",
       "Flight Status           95750\n",
       "dtype: int64"
      ]
     },
     "execution_count": 19,
     "metadata": {},
     "output_type": "execute_result"
    }
   ],
   "source": [
    "# Eksik olmayan değerlerin sayısı\n",
    "airldata.notnull().sum()\n"
   ]
  },
  {
   "cell_type": "code",
   "execution_count": 20,
   "id": "e834a377",
   "metadata": {
    "execution": {
     "iopub.execute_input": "2024-11-23T14:15:28.545678Z",
     "iopub.status.busy": "2024-11-23T14:15:28.545011Z",
     "iopub.status.idle": "2024-11-23T14:15:28.558776Z",
     "shell.execute_reply": "2024-11-23T14:15:28.557563Z"
    },
    "papermill": {
     "duration": 0.040284,
     "end_time": "2024-11-23T14:15:28.560965",
     "exception": false,
     "start_time": "2024-11-23T14:15:28.520681",
     "status": "completed"
    },
    "tags": []
   },
   "outputs": [
    {
     "name": "stdout",
     "output_type": "stream",
     "text": [
      "Veri seti içerisinde toplam 1435573 adet eksik olmayan, 43712 eksik gözlem var.\n"
     ]
    }
   ],
   "source": [
    "# Veri setinde toplam kaç adet eksik gözlem var, kaç adet eksik olmayan gözlem var görelim.\n",
    "print(f\"Veri seti içerisinde toplam {airldata.notnull().sum().sum()} adet eksik olmayan, {airldata.isnull().sum().sum()} eksik gözlem var.\")"
   ]
  },
  {
   "cell_type": "code",
   "execution_count": 21,
   "id": "06cdf8b0",
   "metadata": {
    "execution": {
     "iopub.execute_input": "2024-11-23T14:15:28.597746Z",
     "iopub.status.busy": "2024-11-23T14:15:28.597263Z",
     "iopub.status.idle": "2024-11-23T14:15:28.628961Z",
     "shell.execute_reply": "2024-11-23T14:15:28.627858Z"
    },
    "papermill": {
     "duration": 0.053783,
     "end_time": "2024-11-23T14:15:28.632178",
     "exception": false,
     "start_time": "2024-11-23T14:15:28.578395",
     "status": "completed"
    },
    "tags": []
   },
   "outputs": [
    {
     "data": {
      "text/html": [
       "<div>\n",
       "<style scoped>\n",
       "    .dataframe tbody tr th:only-of-type {\n",
       "        vertical-align: middle;\n",
       "    }\n",
       "\n",
       "    .dataframe tbody tr th {\n",
       "        vertical-align: top;\n",
       "    }\n",
       "\n",
       "    .dataframe thead th {\n",
       "        text-align: right;\n",
       "    }\n",
       "</style>\n",
       "<table border=\"1\" class=\"dataframe\">\n",
       "  <thead>\n",
       "    <tr style=\"text-align: right;\">\n",
       "      <th></th>\n",
       "      <th>Passenger ID</th>\n",
       "      <th>First Name</th>\n",
       "      <th>Last Name</th>\n",
       "      <th>Gender</th>\n",
       "      <th>Age</th>\n",
       "      <th>Nationality</th>\n",
       "      <th>Airport Name</th>\n",
       "      <th>Airport Country Code</th>\n",
       "      <th>Country Name</th>\n",
       "      <th>Airport Continent</th>\n",
       "      <th>Continents</th>\n",
       "      <th>Departure Date</th>\n",
       "      <th>Arrival Airport</th>\n",
       "      <th>Pilot Name</th>\n",
       "      <th>Flight Status</th>\n",
       "    </tr>\n",
       "  </thead>\n",
       "  <tbody>\n",
       "    <tr>\n",
       "      <th>1</th>\n",
       "      <td>jkXXAX</td>\n",
       "      <td>Elwood</td>\n",
       "      <td>Catt</td>\n",
       "      <td>Male</td>\n",
       "      <td>NaN</td>\n",
       "      <td>Nicaragua</td>\n",
       "      <td>Kugluktuk Airport</td>\n",
       "      <td>CA</td>\n",
       "      <td>Canada</td>\n",
       "      <td>NAM</td>\n",
       "      <td>North America</td>\n",
       "      <td>12/26/2022</td>\n",
       "      <td>YCO</td>\n",
       "      <td>Marla Parsonage</td>\n",
       "      <td>On Time</td>\n",
       "    </tr>\n",
       "    <tr>\n",
       "      <th>4</th>\n",
       "      <td>9kvTLo</td>\n",
       "      <td>Bay</td>\n",
       "      <td>NaN</td>\n",
       "      <td>Male</td>\n",
       "      <td>21.0</td>\n",
       "      <td>China</td>\n",
       "      <td>Gillespie Field</td>\n",
       "      <td>US</td>\n",
       "      <td>United States</td>\n",
       "      <td>NAM</td>\n",
       "      <td>North America</td>\n",
       "      <td>2/25/2022</td>\n",
       "      <td>SEE</td>\n",
       "      <td>Ebonee Tree</td>\n",
       "      <td>On Time</td>\n",
       "    </tr>\n",
       "    <tr>\n",
       "      <th>6</th>\n",
       "      <td>NaN</td>\n",
       "      <td>Rand</td>\n",
       "      <td>Bram</td>\n",
       "      <td>Male</td>\n",
       "      <td>73.0</td>\n",
       "      <td>Ivory Coast</td>\n",
       "      <td>Duxford Aerodrome</td>\n",
       "      <td>GB</td>\n",
       "      <td>United Kingdom</td>\n",
       "      <td>EU</td>\n",
       "      <td>Europe</td>\n",
       "      <td>10/30/2022</td>\n",
       "      <td>QFO</td>\n",
       "      <td>Stanislas Tiffin</td>\n",
       "      <td>Cancelled</td>\n",
       "    </tr>\n",
       "    <tr>\n",
       "      <th>7</th>\n",
       "      <td>pqixbY</td>\n",
       "      <td>Perceval</td>\n",
       "      <td>Dallosso</td>\n",
       "      <td>Male</td>\n",
       "      <td>36.0</td>\n",
       "      <td>Vietnam</td>\n",
       "      <td>Maestro Wilson Fonseca Airport</td>\n",
       "      <td>BR</td>\n",
       "      <td>Brazil</td>\n",
       "      <td>SAM</td>\n",
       "      <td>South America</td>\n",
       "      <td>NaN</td>\n",
       "      <td>STM</td>\n",
       "      <td>NaN</td>\n",
       "      <td>Cancelled</td>\n",
       "    </tr>\n",
       "    <tr>\n",
       "      <th>9</th>\n",
       "      <td>3jmudz</td>\n",
       "      <td>Burlie</td>\n",
       "      <td>Schustl</td>\n",
       "      <td>Male</td>\n",
       "      <td>13.0</td>\n",
       "      <td>Thailand</td>\n",
       "      <td>Vermilion Airport</td>\n",
       "      <td>NaN</td>\n",
       "      <td>Canada</td>\n",
       "      <td>NAM</td>\n",
       "      <td>North America</td>\n",
       "      <td>04-06-2022</td>\n",
       "      <td>YVG</td>\n",
       "      <td>Alameda Carlyle</td>\n",
       "      <td>On Time</td>\n",
       "    </tr>\n",
       "    <tr>\n",
       "      <th>...</th>\n",
       "      <td>...</td>\n",
       "      <td>...</td>\n",
       "      <td>...</td>\n",
       "      <td>...</td>\n",
       "      <td>...</td>\n",
       "      <td>...</td>\n",
       "      <td>...</td>\n",
       "      <td>...</td>\n",
       "      <td>...</td>\n",
       "      <td>...</td>\n",
       "      <td>...</td>\n",
       "      <td>...</td>\n",
       "      <td>...</td>\n",
       "      <td>...</td>\n",
       "      <td>...</td>\n",
       "    </tr>\n",
       "    <tr>\n",
       "      <th>98610</th>\n",
       "      <td>Wahnk2</td>\n",
       "      <td>Che</td>\n",
       "      <td>Pressland</td>\n",
       "      <td>Male</td>\n",
       "      <td>83.0</td>\n",
       "      <td>France</td>\n",
       "      <td>Warangal Airport</td>\n",
       "      <td>IN</td>\n",
       "      <td>NaN</td>\n",
       "      <td>AS</td>\n",
       "      <td>Asia</td>\n",
       "      <td>08-05-2022</td>\n",
       "      <td>WGC</td>\n",
       "      <td>Moishe Ong</td>\n",
       "      <td>Cancelled</td>\n",
       "    </tr>\n",
       "    <tr>\n",
       "      <th>98612</th>\n",
       "      <td>NaN</td>\n",
       "      <td>Ody</td>\n",
       "      <td>Tineman</td>\n",
       "      <td>Male</td>\n",
       "      <td>82.0</td>\n",
       "      <td>Indonesia</td>\n",
       "      <td>Five Mile Airport</td>\n",
       "      <td>US</td>\n",
       "      <td>United States</td>\n",
       "      <td>NAM</td>\n",
       "      <td>North America</td>\n",
       "      <td>3/17/2022</td>\n",
       "      <td>FMC</td>\n",
       "      <td>Truman Philbrook</td>\n",
       "      <td>Delayed</td>\n",
       "    </tr>\n",
       "    <tr>\n",
       "      <th>98616</th>\n",
       "      <td>VUPiVG</td>\n",
       "      <td>NaN</td>\n",
       "      <td>Lucken</td>\n",
       "      <td>Male</td>\n",
       "      <td>65.0</td>\n",
       "      <td>Indonesia</td>\n",
       "      <td>Albacete-Los Llanos Airport</td>\n",
       "      <td>ES</td>\n",
       "      <td>Spain</td>\n",
       "      <td>EU</td>\n",
       "      <td>Europe</td>\n",
       "      <td>NaN</td>\n",
       "      <td>ABC</td>\n",
       "      <td>Gearalt Main</td>\n",
       "      <td>NaN</td>\n",
       "    </tr>\n",
       "    <tr>\n",
       "      <th>98617</th>\n",
       "      <td>E47NtS</td>\n",
       "      <td>Gayle</td>\n",
       "      <td>Lievesley</td>\n",
       "      <td>Female</td>\n",
       "      <td>34.0</td>\n",
       "      <td>China</td>\n",
       "      <td>Gagnoa Airport</td>\n",
       "      <td>CI</td>\n",
       "      <td>NaN</td>\n",
       "      <td>AF</td>\n",
       "      <td>Africa</td>\n",
       "      <td>NaN</td>\n",
       "      <td>GGN</td>\n",
       "      <td>Judon Chasle</td>\n",
       "      <td>Cancelled</td>\n",
       "    </tr>\n",
       "    <tr>\n",
       "      <th>98618</th>\n",
       "      <td>8JYEcz</td>\n",
       "      <td>Wilhelmine</td>\n",
       "      <td>NaN</td>\n",
       "      <td>Female</td>\n",
       "      <td>10.0</td>\n",
       "      <td>Poland</td>\n",
       "      <td>Yoshkar-Ola Airport</td>\n",
       "      <td>RU</td>\n",
       "      <td>Russian Federation</td>\n",
       "      <td>EU</td>\n",
       "      <td>Europe</td>\n",
       "      <td>4/16/2022</td>\n",
       "      <td>JOK</td>\n",
       "      <td>Auguste Tindley</td>\n",
       "      <td>NaN</td>\n",
       "    </tr>\n",
       "  </tbody>\n",
       "</table>\n",
       "<p>35673 rows × 15 columns</p>\n",
       "</div>"
      ],
      "text/plain": [
       "      Passenger ID  First Name  Last Name  Gender   Age  Nationality  \\\n",
       "1           jkXXAX      Elwood       Catt    Male   NaN    Nicaragua   \n",
       "4           9kvTLo         Bay        NaN    Male  21.0        China   \n",
       "6              NaN        Rand       Bram    Male  73.0  Ivory Coast   \n",
       "7           pqixbY    Perceval   Dallosso    Male  36.0      Vietnam   \n",
       "9           3jmudz      Burlie    Schustl    Male  13.0     Thailand   \n",
       "...            ...         ...        ...     ...   ...          ...   \n",
       "98610       Wahnk2         Che  Pressland    Male  83.0       France   \n",
       "98612          NaN         Ody    Tineman    Male  82.0    Indonesia   \n",
       "98616       VUPiVG         NaN     Lucken    Male  65.0    Indonesia   \n",
       "98617       E47NtS       Gayle  Lievesley  Female  34.0        China   \n",
       "98618       8JYEcz  Wilhelmine        NaN  Female  10.0       Poland   \n",
       "\n",
       "                         Airport Name Airport Country Code  \\\n",
       "1                   Kugluktuk Airport                   CA   \n",
       "4                     Gillespie Field                   US   \n",
       "6                   Duxford Aerodrome                   GB   \n",
       "7      Maestro Wilson Fonseca Airport                   BR   \n",
       "9                   Vermilion Airport                  NaN   \n",
       "...                               ...                  ...   \n",
       "98610                Warangal Airport                   IN   \n",
       "98612               Five Mile Airport                   US   \n",
       "98616     Albacete-Los Llanos Airport                   ES   \n",
       "98617                  Gagnoa Airport                   CI   \n",
       "98618             Yoshkar-Ola Airport                   RU   \n",
       "\n",
       "             Country Name Airport Continent     Continents Departure Date  \\\n",
       "1                  Canada               NAM  North America     12/26/2022   \n",
       "4           United States               NAM  North America      2/25/2022   \n",
       "6          United Kingdom                EU         Europe     10/30/2022   \n",
       "7                  Brazil               SAM  South America            NaN   \n",
       "9                  Canada               NAM  North America     04-06-2022   \n",
       "...                   ...               ...            ...            ...   \n",
       "98610                 NaN                AS           Asia     08-05-2022   \n",
       "98612       United States               NAM  North America      3/17/2022   \n",
       "98616               Spain                EU         Europe            NaN   \n",
       "98617                 NaN                AF         Africa            NaN   \n",
       "98618  Russian Federation                EU         Europe      4/16/2022   \n",
       "\n",
       "      Arrival Airport        Pilot Name Flight Status  \n",
       "1                 YCO   Marla Parsonage       On Time  \n",
       "4                 SEE       Ebonee Tree       On Time  \n",
       "6                 QFO  Stanislas Tiffin     Cancelled  \n",
       "7                 STM               NaN     Cancelled  \n",
       "9                 YVG   Alameda Carlyle       On Time  \n",
       "...               ...               ...           ...  \n",
       "98610             WGC        Moishe Ong     Cancelled  \n",
       "98612             FMC  Truman Philbrook       Delayed  \n",
       "98616             ABC      Gearalt Main           NaN  \n",
       "98617             GGN      Judon Chasle     Cancelled  \n",
       "98618             JOK   Auguste Tindley           NaN  \n",
       "\n",
       "[35673 rows x 15 columns]"
      ]
     },
     "execution_count": 21,
     "metadata": {},
     "output_type": "execute_result"
    }
   ],
   "source": [
    "# Veri setinde en az bir gözlemi eksik olan kayıtlara da ulaşabiliriz.\n",
    "airldata[airldata.isnull().any(axis = 1)]"
   ]
  },
  {
   "cell_type": "code",
   "execution_count": 22,
   "id": "8d62947e",
   "metadata": {
    "execution": {
     "iopub.execute_input": "2024-11-23T14:15:28.669914Z",
     "iopub.status.busy": "2024-11-23T14:15:28.669516Z",
     "iopub.status.idle": "2024-11-23T14:15:28.695060Z",
     "shell.execute_reply": "2024-11-23T14:15:28.693976Z"
    },
    "papermill": {
     "duration": 0.046505,
     "end_time": "2024-11-23T14:15:28.697136",
     "exception": false,
     "start_time": "2024-11-23T14:15:28.650631",
     "status": "completed"
    },
    "tags": []
   },
   "outputs": [
    {
     "data": {
      "text/html": [
       "<div>\n",
       "<style scoped>\n",
       "    .dataframe tbody tr th:only-of-type {\n",
       "        vertical-align: middle;\n",
       "    }\n",
       "\n",
       "    .dataframe tbody tr th {\n",
       "        vertical-align: top;\n",
       "    }\n",
       "\n",
       "    .dataframe thead th {\n",
       "        text-align: right;\n",
       "    }\n",
       "</style>\n",
       "<table border=\"1\" class=\"dataframe\">\n",
       "  <thead>\n",
       "    <tr style=\"text-align: right;\">\n",
       "      <th></th>\n",
       "      <th>Passenger ID</th>\n",
       "      <th>First Name</th>\n",
       "      <th>Last Name</th>\n",
       "      <th>Gender</th>\n",
       "      <th>Age</th>\n",
       "      <th>Nationality</th>\n",
       "      <th>Airport Name</th>\n",
       "      <th>Airport Country Code</th>\n",
       "      <th>Country Name</th>\n",
       "      <th>Airport Continent</th>\n",
       "      <th>Continents</th>\n",
       "      <th>Departure Date</th>\n",
       "      <th>Arrival Airport</th>\n",
       "      <th>Pilot Name</th>\n",
       "      <th>Flight Status</th>\n",
       "    </tr>\n",
       "  </thead>\n",
       "  <tbody>\n",
       "    <tr>\n",
       "      <th>0</th>\n",
       "      <td>ABVWIg</td>\n",
       "      <td>Edithe</td>\n",
       "      <td>Leggis</td>\n",
       "      <td>Female</td>\n",
       "      <td>62.0</td>\n",
       "      <td>Japan</td>\n",
       "      <td>Coldfoot Airport</td>\n",
       "      <td>US</td>\n",
       "      <td>United States</td>\n",
       "      <td>NAM</td>\n",
       "      <td>North America</td>\n",
       "      <td>6/28/2022</td>\n",
       "      <td>CXF</td>\n",
       "      <td>Fransisco Hazeldine</td>\n",
       "      <td>On Time</td>\n",
       "    </tr>\n",
       "    <tr>\n",
       "      <th>2</th>\n",
       "      <td>CdUz2g</td>\n",
       "      <td>Darby</td>\n",
       "      <td>Felgate</td>\n",
       "      <td>Male</td>\n",
       "      <td>67.0</td>\n",
       "      <td>Russia</td>\n",
       "      <td>Grenoble-Isère Airport</td>\n",
       "      <td>FR</td>\n",
       "      <td>France</td>\n",
       "      <td>EU</td>\n",
       "      <td>Europe</td>\n",
       "      <td>1/18/2022</td>\n",
       "      <td>GNB</td>\n",
       "      <td>Rhonda Amber</td>\n",
       "      <td>On Time</td>\n",
       "    </tr>\n",
       "    <tr>\n",
       "      <th>3</th>\n",
       "      <td>BRS38V</td>\n",
       "      <td>Dominica</td>\n",
       "      <td>Pyle</td>\n",
       "      <td>Female</td>\n",
       "      <td>71.0</td>\n",
       "      <td>China</td>\n",
       "      <td>Ottawa / Gatineau Airport</td>\n",
       "      <td>CA</td>\n",
       "      <td>Canada</td>\n",
       "      <td>NAM</td>\n",
       "      <td>North America</td>\n",
       "      <td>9/16/2022</td>\n",
       "      <td>YND</td>\n",
       "      <td>Kacie Commucci</td>\n",
       "      <td>Delayed</td>\n",
       "    </tr>\n",
       "    <tr>\n",
       "      <th>5</th>\n",
       "      <td>nMJKVh</td>\n",
       "      <td>Lora</td>\n",
       "      <td>Durbann</td>\n",
       "      <td>Female</td>\n",
       "      <td>55.0</td>\n",
       "      <td>Brazil</td>\n",
       "      <td>Coronel Horácio de Mattos Airport</td>\n",
       "      <td>BR</td>\n",
       "      <td>Brazil</td>\n",
       "      <td>SAM</td>\n",
       "      <td>South America</td>\n",
       "      <td>06-10-2022</td>\n",
       "      <td>LEC</td>\n",
       "      <td>Inglis Dolley</td>\n",
       "      <td>On Time</td>\n",
       "    </tr>\n",
       "    <tr>\n",
       "      <th>8</th>\n",
       "      <td>QNAs2R</td>\n",
       "      <td>Aleda</td>\n",
       "      <td>Pigram</td>\n",
       "      <td>Female</td>\n",
       "      <td>35.0</td>\n",
       "      <td>Palestinian Territory</td>\n",
       "      <td>Venice Marco Polo Airport</td>\n",
       "      <td>IT</td>\n",
       "      <td>Italy</td>\n",
       "      <td>EU</td>\n",
       "      <td>Europe</td>\n",
       "      <td>8/20/2022</td>\n",
       "      <td>VCE</td>\n",
       "      <td>Daryn Bardsley</td>\n",
       "      <td>On Time</td>\n",
       "    </tr>\n",
       "  </tbody>\n",
       "</table>\n",
       "</div>"
      ],
      "text/plain": [
       "  Passenger ID First Name Last Name  Gender   Age            Nationality  \\\n",
       "0       ABVWIg     Edithe    Leggis  Female  62.0                  Japan   \n",
       "2       CdUz2g      Darby   Felgate    Male  67.0                 Russia   \n",
       "3       BRS38V   Dominica      Pyle  Female  71.0                  China   \n",
       "5       nMJKVh       Lora   Durbann  Female  55.0                 Brazil   \n",
       "8       QNAs2R      Aleda    Pigram  Female  35.0  Palestinian Territory   \n",
       "\n",
       "                        Airport Name Airport Country Code   Country Name  \\\n",
       "0                   Coldfoot Airport                   US  United States   \n",
       "2             Grenoble-Isère Airport                   FR         France   \n",
       "3          Ottawa / Gatineau Airport                   CA         Canada   \n",
       "5  Coronel Horácio de Mattos Airport                   BR         Brazil   \n",
       "8          Venice Marco Polo Airport                   IT          Italy   \n",
       "\n",
       "  Airport Continent     Continents Departure Date Arrival Airport  \\\n",
       "0               NAM  North America      6/28/2022             CXF   \n",
       "2                EU         Europe      1/18/2022             GNB   \n",
       "3               NAM  North America      9/16/2022             YND   \n",
       "5               SAM  South America     06-10-2022             LEC   \n",
       "8                EU         Europe      8/20/2022             VCE   \n",
       "\n",
       "            Pilot Name Flight Status  \n",
       "0  Fransisco Hazeldine       On Time  \n",
       "2         Rhonda Amber       On Time  \n",
       "3       Kacie Commucci       Delayed  \n",
       "5        Inglis Dolley       On Time  \n",
       "8       Daryn Bardsley       On Time  "
      ]
     },
     "execution_count": 22,
     "metadata": {},
     "output_type": "execute_result"
    }
   ],
   "source": [
    "# Hiç eksik gözlemi bulunmayan kayıtları getirelim.\n",
    "airldata[airldata.notnull().all(axis = 1)][:5]"
   ]
  },
  {
   "cell_type": "code",
   "execution_count": 23,
   "id": "cad7e4b0",
   "metadata": {
    "execution": {
     "iopub.execute_input": "2024-11-23T14:15:28.735006Z",
     "iopub.status.busy": "2024-11-23T14:15:28.734609Z",
     "iopub.status.idle": "2024-11-23T14:15:30.274677Z",
     "shell.execute_reply": "2024-11-23T14:15:30.273663Z"
    },
    "papermill": {
     "duration": 1.562058,
     "end_time": "2024-11-23T14:15:30.277541",
     "exception": false,
     "start_time": "2024-11-23T14:15:28.715483",
     "status": "completed"
    },
    "tags": []
   },
   "outputs": [
    {
     "data": {
      "image/png": "[encoded data removed]",
      "text/plain": [
       "<Figure size 800x500 with 3 Axes>"
      ]
     },
     "metadata": {},
     "output_type": "display_data"
    }
   ],
   "source": [
    "#!pip install missingno -> missingno kütüphanesini kullanabilmek için öncelikle yüklemeniz lazım.\n",
    "\n",
    "import missingno as msno\n",
    "\n",
    "msno.bar(df = airldata ,\n",
    "         figsize = (8, 5),\n",
    "         fontsize = 13);"
   ]
  },
  {
   "cell_type": "code",
   "execution_count": 24,
   "id": "e051c036",
   "metadata": {
    "execution": {
     "iopub.execute_input": "2024-11-23T14:15:30.319575Z",
     "iopub.status.busy": "2024-11-23T14:15:30.319241Z",
     "iopub.status.idle": "2024-11-23T14:15:30.824754Z",
     "shell.execute_reply": "2024-11-23T14:15:30.823728Z"
    },
    "papermill": {
     "duration": 0.52991,
     "end_time": "2024-11-23T14:15:30.826945",
     "exception": false,
     "start_time": "2024-11-23T14:15:30.297035",
     "status": "completed"
    },
    "tags": []
   },
   "outputs": [
    {
     "data": {
      "image/png": "[encoded data removed]",
      "text/plain": [
       "<Figure size 1000x700 with 2 Axes>"
      ]
     },
     "metadata": {},
     "output_type": "display_data"
    }
   ],
   "source": [
    "# msno.matrix(), değişkenlerde bulunan eksik değerlerin ilişkili olup olmadığını görsel yolla tespit etmek için kullanılabilir.\n",
    "msno.matrix(df = airldata[['Age','Nationality']],\n",
    "            figsize = (10, 7),\n",
    "            fontsize = 11);"
   ]
  },
  {
   "cell_type": "code",
   "execution_count": 25,
   "id": "6ee57b09",
   "metadata": {
    "execution": {
     "iopub.execute_input": "2024-11-23T14:15:30.870014Z",
     "iopub.status.busy": "2024-11-23T14:15:30.869208Z",
     "iopub.status.idle": "2024-11-23T14:15:31.522790Z",
     "shell.execute_reply": "2024-11-23T14:15:31.521770Z"
    },
    "papermill": {
     "duration": 0.678695,
     "end_time": "2024-11-23T14:15:31.525801",
     "exception": false,
     "start_time": "2024-11-23T14:15:30.847106",
     "status": "completed"
    },
    "tags": []
   },
   "outputs": [
    {
     "data": {
      "image/png": "[encoded data removed]",
      "text/plain": [
       "<Figure size 1000x700 with 2 Axes>"
      ]
     },
     "metadata": {},
     "output_type": "display_data"
    }
   ],
   "source": [
    "# Nullity Correlation (Heatmap)\n",
    "# 1'e ne kadar yakınsa, ilişki ihtimali o kadar yüksek.\n",
    "# 0 ise, birbirlerini etkileyen bir durum yoktur.\n",
    "msno.heatmap(df = airldata,\n",
    "             figsize = (10, 7),\n",
    "             fontsize = 11);"
   ]
  },
  {
   "cell_type": "code",
   "execution_count": 26,
   "id": "e4d4fc03",
   "metadata": {
    "execution": {
     "iopub.execute_input": "2024-11-23T14:15:31.571826Z",
     "iopub.status.busy": "2024-11-23T14:15:31.571418Z",
     "iopub.status.idle": "2024-11-23T14:15:31.596382Z",
     "shell.execute_reply": "2024-11-23T14:15:31.595190Z"
    },
    "papermill": {
     "duration": 0.050614,
     "end_time": "2024-11-23T14:15:31.598562",
     "exception": false,
     "start_time": "2024-11-23T14:15:31.547948",
     "status": "completed"
    },
    "tags": []
   },
   "outputs": [
    {
     "data": {
      "text/html": [
       "<div>\n",
       "<style scoped>\n",
       "    .dataframe tbody tr th:only-of-type {\n",
       "        vertical-align: middle;\n",
       "    }\n",
       "\n",
       "    .dataframe tbody tr th {\n",
       "        vertical-align: top;\n",
       "    }\n",
       "\n",
       "    .dataframe thead th {\n",
       "        text-align: right;\n",
       "    }\n",
       "</style>\n",
       "<table border=\"1\" class=\"dataframe\">\n",
       "  <thead>\n",
       "    <tr style=\"text-align: right;\">\n",
       "      <th></th>\n",
       "      <th>Passenger ID</th>\n",
       "      <th>First Name</th>\n",
       "      <th>Last Name</th>\n",
       "      <th>Gender</th>\n",
       "      <th>Age</th>\n",
       "      <th>Nationality</th>\n",
       "      <th>Airport Name</th>\n",
       "      <th>Airport Country Code</th>\n",
       "      <th>Country Name</th>\n",
       "      <th>Airport Continent</th>\n",
       "      <th>Continents</th>\n",
       "      <th>Departure Date</th>\n",
       "      <th>Arrival Airport</th>\n",
       "      <th>Pilot Name</th>\n",
       "      <th>Flight Status</th>\n",
       "    </tr>\n",
       "  </thead>\n",
       "  <tbody>\n",
       "    <tr>\n",
       "      <th>0</th>\n",
       "      <td>ABVWIg</td>\n",
       "      <td>Edithe</td>\n",
       "      <td>Leggis</td>\n",
       "      <td>Female</td>\n",
       "      <td>62.0</td>\n",
       "      <td>Japan</td>\n",
       "      <td>Coldfoot Airport</td>\n",
       "      <td>US</td>\n",
       "      <td>United States</td>\n",
       "      <td>NAM</td>\n",
       "      <td>North America</td>\n",
       "      <td>6/28/2022</td>\n",
       "      <td>CXF</td>\n",
       "      <td>Fransisco Hazeldine</td>\n",
       "      <td>On Time</td>\n",
       "    </tr>\n",
       "    <tr>\n",
       "      <th>2</th>\n",
       "      <td>CdUz2g</td>\n",
       "      <td>Darby</td>\n",
       "      <td>Felgate</td>\n",
       "      <td>Male</td>\n",
       "      <td>67.0</td>\n",
       "      <td>Russia</td>\n",
       "      <td>Grenoble-Isère Airport</td>\n",
       "      <td>FR</td>\n",
       "      <td>France</td>\n",
       "      <td>EU</td>\n",
       "      <td>Europe</td>\n",
       "      <td>1/18/2022</td>\n",
       "      <td>GNB</td>\n",
       "      <td>Rhonda Amber</td>\n",
       "      <td>On Time</td>\n",
       "    </tr>\n",
       "    <tr>\n",
       "      <th>3</th>\n",
       "      <td>BRS38V</td>\n",
       "      <td>Dominica</td>\n",
       "      <td>Pyle</td>\n",
       "      <td>Female</td>\n",
       "      <td>71.0</td>\n",
       "      <td>China</td>\n",
       "      <td>Ottawa / Gatineau Airport</td>\n",
       "      <td>CA</td>\n",
       "      <td>Canada</td>\n",
       "      <td>NAM</td>\n",
       "      <td>North America</td>\n",
       "      <td>9/16/2022</td>\n",
       "      <td>YND</td>\n",
       "      <td>Kacie Commucci</td>\n",
       "      <td>Delayed</td>\n",
       "    </tr>\n",
       "    <tr>\n",
       "      <th>5</th>\n",
       "      <td>nMJKVh</td>\n",
       "      <td>Lora</td>\n",
       "      <td>Durbann</td>\n",
       "      <td>Female</td>\n",
       "      <td>55.0</td>\n",
       "      <td>Brazil</td>\n",
       "      <td>Coronel Horácio de Mattos Airport</td>\n",
       "      <td>BR</td>\n",
       "      <td>Brazil</td>\n",
       "      <td>SAM</td>\n",
       "      <td>South America</td>\n",
       "      <td>06-10-2022</td>\n",
       "      <td>LEC</td>\n",
       "      <td>Inglis Dolley</td>\n",
       "      <td>On Time</td>\n",
       "    </tr>\n",
       "    <tr>\n",
       "      <th>8</th>\n",
       "      <td>QNAs2R</td>\n",
       "      <td>Aleda</td>\n",
       "      <td>Pigram</td>\n",
       "      <td>Female</td>\n",
       "      <td>35.0</td>\n",
       "      <td>Palestinian Territory</td>\n",
       "      <td>Venice Marco Polo Airport</td>\n",
       "      <td>IT</td>\n",
       "      <td>Italy</td>\n",
       "      <td>EU</td>\n",
       "      <td>Europe</td>\n",
       "      <td>8/20/2022</td>\n",
       "      <td>VCE</td>\n",
       "      <td>Daryn Bardsley</td>\n",
       "      <td>On Time</td>\n",
       "    </tr>\n",
       "  </tbody>\n",
       "</table>\n",
       "</div>"
      ],
      "text/plain": [
       "  Passenger ID First Name Last Name  Gender   Age            Nationality  \\\n",
       "0       ABVWIg     Edithe    Leggis  Female  62.0                  Japan   \n",
       "2       CdUz2g      Darby   Felgate    Male  67.0                 Russia   \n",
       "3       BRS38V   Dominica      Pyle  Female  71.0                  China   \n",
       "5       nMJKVh       Lora   Durbann  Female  55.0                 Brazil   \n",
       "8       QNAs2R      Aleda    Pigram  Female  35.0  Palestinian Territory   \n",
       "\n",
       "                        Airport Name Airport Country Code   Country Name  \\\n",
       "0                   Coldfoot Airport                   US  United States   \n",
       "2             Grenoble-Isère Airport                   FR         France   \n",
       "3          Ottawa / Gatineau Airport                   CA         Canada   \n",
       "5  Coronel Horácio de Mattos Airport                   BR         Brazil   \n",
       "8          Venice Marco Polo Airport                   IT          Italy   \n",
       "\n",
       "  Airport Continent     Continents Departure Date Arrival Airport  \\\n",
       "0               NAM  North America      6/28/2022             CXF   \n",
       "2                EU         Europe      1/18/2022             GNB   \n",
       "3               NAM  North America      9/16/2022             YND   \n",
       "5               SAM  South America     06-10-2022             LEC   \n",
       "8                EU         Europe      8/20/2022             VCE   \n",
       "\n",
       "            Pilot Name Flight Status  \n",
       "0  Fransisco Hazeldine       On Time  \n",
       "2         Rhonda Amber       On Time  \n",
       "3       Kacie Commucci       Delayed  \n",
       "5        Inglis Dolley       On Time  \n",
       "8       Daryn Bardsley       On Time  "
      ]
     },
     "execution_count": 26,
     "metadata": {},
     "output_type": "execute_result"
    }
   ],
   "source": [
    "# Eksik verilerin dropna ile silinmesi.\n",
    "# Kalıcı bir değişiklik yapmaz, bunu yapmak için inplace argümanı kullanılmalı veya atama yapılmalıdır.\n",
    "\n",
    "airldata.dropna(inplace = False)[:5]\n"
   ]
  },
  {
   "cell_type": "code",
   "execution_count": 27,
   "id": "3eb2d090",
   "metadata": {
    "execution": {
     "iopub.execute_input": "2024-11-23T14:15:31.643424Z",
     "iopub.status.busy": "2024-11-23T14:15:31.643098Z",
     "iopub.status.idle": "2024-11-23T14:15:31.664874Z",
     "shell.execute_reply": "2024-11-23T14:15:31.663747Z"
    },
    "papermill": {
     "duration": 0.04655,
     "end_time": "2024-11-23T14:15:31.666908",
     "exception": false,
     "start_time": "2024-11-23T14:15:31.620358",
     "status": "completed"
    },
    "tags": []
   },
   "outputs": [
    {
     "data": {
      "text/html": [
       "<div>\n",
       "<style scoped>\n",
       "    .dataframe tbody tr th:only-of-type {\n",
       "        vertical-align: middle;\n",
       "    }\n",
       "\n",
       "    .dataframe tbody tr th {\n",
       "        vertical-align: top;\n",
       "    }\n",
       "\n",
       "    .dataframe thead th {\n",
       "        text-align: right;\n",
       "    }\n",
       "</style>\n",
       "<table border=\"1\" class=\"dataframe\">\n",
       "  <thead>\n",
       "    <tr style=\"text-align: right;\">\n",
       "      <th></th>\n",
       "      <th>Passenger ID</th>\n",
       "      <th>First Name</th>\n",
       "      <th>Last Name</th>\n",
       "      <th>Gender</th>\n",
       "      <th>Age</th>\n",
       "      <th>Nationality</th>\n",
       "      <th>Airport Name</th>\n",
       "      <th>Airport Country Code</th>\n",
       "      <th>Country Name</th>\n",
       "      <th>Airport Continent</th>\n",
       "      <th>Continents</th>\n",
       "      <th>Departure Date</th>\n",
       "      <th>Arrival Airport</th>\n",
       "      <th>Pilot Name</th>\n",
       "      <th>Flight Status</th>\n",
       "    </tr>\n",
       "  </thead>\n",
       "  <tbody>\n",
       "    <tr>\n",
       "      <th>0</th>\n",
       "      <td>ABVWIg</td>\n",
       "      <td>Edithe</td>\n",
       "      <td>Leggis</td>\n",
       "      <td>Female</td>\n",
       "      <td>62.0</td>\n",
       "      <td>Japan</td>\n",
       "      <td>Coldfoot Airport</td>\n",
       "      <td>US</td>\n",
       "      <td>United States</td>\n",
       "      <td>NAM</td>\n",
       "      <td>North America</td>\n",
       "      <td>6/28/2022</td>\n",
       "      <td>CXF</td>\n",
       "      <td>Fransisco Hazeldine</td>\n",
       "      <td>On Time</td>\n",
       "    </tr>\n",
       "    <tr>\n",
       "      <th>1</th>\n",
       "      <td>jkXXAX</td>\n",
       "      <td>Elwood</td>\n",
       "      <td>Catt</td>\n",
       "      <td>Male</td>\n",
       "      <td>NaN</td>\n",
       "      <td>Nicaragua</td>\n",
       "      <td>Kugluktuk Airport</td>\n",
       "      <td>CA</td>\n",
       "      <td>Canada</td>\n",
       "      <td>NAM</td>\n",
       "      <td>North America</td>\n",
       "      <td>12/26/2022</td>\n",
       "      <td>YCO</td>\n",
       "      <td>Marla Parsonage</td>\n",
       "      <td>On Time</td>\n",
       "    </tr>\n",
       "    <tr>\n",
       "      <th>2</th>\n",
       "      <td>CdUz2g</td>\n",
       "      <td>Darby</td>\n",
       "      <td>Felgate</td>\n",
       "      <td>Male</td>\n",
       "      <td>67.0</td>\n",
       "      <td>Russia</td>\n",
       "      <td>Grenoble-Isère Airport</td>\n",
       "      <td>FR</td>\n",
       "      <td>France</td>\n",
       "      <td>EU</td>\n",
       "      <td>Europe</td>\n",
       "      <td>1/18/2022</td>\n",
       "      <td>GNB</td>\n",
       "      <td>Rhonda Amber</td>\n",
       "      <td>On Time</td>\n",
       "    </tr>\n",
       "    <tr>\n",
       "      <th>3</th>\n",
       "      <td>BRS38V</td>\n",
       "      <td>Dominica</td>\n",
       "      <td>Pyle</td>\n",
       "      <td>Female</td>\n",
       "      <td>71.0</td>\n",
       "      <td>China</td>\n",
       "      <td>Ottawa / Gatineau Airport</td>\n",
       "      <td>CA</td>\n",
       "      <td>Canada</td>\n",
       "      <td>NAM</td>\n",
       "      <td>North America</td>\n",
       "      <td>9/16/2022</td>\n",
       "      <td>YND</td>\n",
       "      <td>Kacie Commucci</td>\n",
       "      <td>Delayed</td>\n",
       "    </tr>\n",
       "    <tr>\n",
       "      <th>4</th>\n",
       "      <td>9kvTLo</td>\n",
       "      <td>Bay</td>\n",
       "      <td>NaN</td>\n",
       "      <td>Male</td>\n",
       "      <td>21.0</td>\n",
       "      <td>China</td>\n",
       "      <td>Gillespie Field</td>\n",
       "      <td>US</td>\n",
       "      <td>United States</td>\n",
       "      <td>NAM</td>\n",
       "      <td>North America</td>\n",
       "      <td>2/25/2022</td>\n",
       "      <td>SEE</td>\n",
       "      <td>Ebonee Tree</td>\n",
       "      <td>On Time</td>\n",
       "    </tr>\n",
       "  </tbody>\n",
       "</table>\n",
       "</div>"
      ],
      "text/plain": [
       "  Passenger ID First Name Last Name  Gender   Age Nationality  \\\n",
       "0       ABVWIg     Edithe    Leggis  Female  62.0       Japan   \n",
       "1       jkXXAX     Elwood      Catt    Male   NaN   Nicaragua   \n",
       "2       CdUz2g      Darby   Felgate    Male  67.0      Russia   \n",
       "3       BRS38V   Dominica      Pyle  Female  71.0       China   \n",
       "4       9kvTLo        Bay       NaN    Male  21.0       China   \n",
       "\n",
       "                Airport Name Airport Country Code   Country Name  \\\n",
       "0           Coldfoot Airport                   US  United States   \n",
       "1          Kugluktuk Airport                   CA         Canada   \n",
       "2     Grenoble-Isère Airport                   FR         France   \n",
       "3  Ottawa / Gatineau Airport                   CA         Canada   \n",
       "4            Gillespie Field                   US  United States   \n",
       "\n",
       "  Airport Continent     Continents Departure Date Arrival Airport  \\\n",
       "0               NAM  North America      6/28/2022             CXF   \n",
       "1               NAM  North America     12/26/2022             YCO   \n",
       "2                EU         Europe      1/18/2022             GNB   \n",
       "3               NAM  North America      9/16/2022             YND   \n",
       "4               NAM  North America      2/25/2022             SEE   \n",
       "\n",
       "            Pilot Name Flight Status  \n",
       "0  Fransisco Hazeldine       On Time  \n",
       "1      Marla Parsonage       On Time  \n",
       "2         Rhonda Amber       On Time  \n",
       "3       Kacie Commucci       Delayed  \n",
       "4          Ebonee Tree       On Time  "
      ]
     },
     "execution_count": 27,
     "metadata": {},
     "output_type": "execute_result"
    }
   ],
   "source": [
    "# Sadece bütün değerleri eksik olan bir gözlemi silmek istersek;\n",
    "airldata.dropna(how = 'all')[:5]"
   ]
  },
  {
   "cell_type": "code",
   "execution_count": 28,
   "id": "c358de48",
   "metadata": {
    "execution": {
     "iopub.execute_input": "2024-11-23T14:15:31.712479Z",
     "iopub.status.busy": "2024-11-23T14:15:31.712113Z",
     "iopub.status.idle": "2024-11-23T14:15:31.724609Z",
     "shell.execute_reply": "2024-11-23T14:15:31.723475Z"
    },
    "papermill": {
     "duration": 0.038136,
     "end_time": "2024-11-23T14:15:31.727062",
     "exception": false,
     "start_time": "2024-11-23T14:15:31.688926",
     "status": "completed"
    },
    "tags": []
   },
   "outputs": [
    {
     "data": {
      "text/html": [
       "<div>\n",
       "<style scoped>\n",
       "    .dataframe tbody tr th:only-of-type {\n",
       "        vertical-align: middle;\n",
       "    }\n",
       "\n",
       "    .dataframe tbody tr th {\n",
       "        vertical-align: top;\n",
       "    }\n",
       "\n",
       "    .dataframe thead th {\n",
       "        text-align: right;\n",
       "    }\n",
       "</style>\n",
       "<table border=\"1\" class=\"dataframe\">\n",
       "  <thead>\n",
       "    <tr style=\"text-align: right;\">\n",
       "      <th></th>\n",
       "    </tr>\n",
       "  </thead>\n",
       "  <tbody>\n",
       "    <tr>\n",
       "      <th>0</th>\n",
       "    </tr>\n",
       "    <tr>\n",
       "      <th>1</th>\n",
       "    </tr>\n",
       "    <tr>\n",
       "      <th>2</th>\n",
       "    </tr>\n",
       "    <tr>\n",
       "      <th>3</th>\n",
       "    </tr>\n",
       "    <tr>\n",
       "      <th>4</th>\n",
       "    </tr>\n",
       "    <tr>\n",
       "      <th>...</th>\n",
       "    </tr>\n",
       "    <tr>\n",
       "      <th>98614</th>\n",
       "    </tr>\n",
       "    <tr>\n",
       "      <th>98615</th>\n",
       "    </tr>\n",
       "    <tr>\n",
       "      <th>98616</th>\n",
       "    </tr>\n",
       "    <tr>\n",
       "      <th>98617</th>\n",
       "    </tr>\n",
       "    <tr>\n",
       "      <th>98618</th>\n",
       "    </tr>\n",
       "  </tbody>\n",
       "</table>\n",
       "<p>98619 rows × 0 columns</p>\n",
       "</div>"
      ],
      "text/plain": [
       "Empty DataFrame\n",
       "Columns: []\n",
       "Index: [0, 1, 2, 3, 4, 5, 6, 7, 8, 9, 10, 11, 12, 13, 14, 15, 16, 17, 18, 19, 20, 21, 22, 23, 24, 25, 26, 27, 28, 29, 30, 31, 32, 33, 34, 35, 36, 37, 38, 39, 40, 41, 42, 43, 44, 45, 46, 47, 48, 49, 50, 51, 52, 53, 54, 55, 56, 57, 58, 59, 60, 61, 62, 63, 64, 65, 66, 67, 68, 69, 70, 71, 72, 73, 74, 75, 76, 77, 78, 79, 80, 81, 82, 83, 84, 85, 86, 87, 88, 89, 90, 91, 92, 93, 94, 95, 96, 97, 98, 99, ...]\n",
       "\n",
       "[98619 rows x 0 columns]"
      ]
     },
     "execution_count": 28,
     "metadata": {},
     "output_type": "execute_result"
    }
   ],
   "source": [
    "# Değişken bazında silmek için;\n",
    "airldata.dropna(axis = 1)"
   ]
  },
  {
   "cell_type": "code",
   "execution_count": 29,
   "id": "7ab5822c",
   "metadata": {
    "execution": {
     "iopub.execute_input": "2024-11-23T14:15:31.776091Z",
     "iopub.status.busy": "2024-11-23T14:15:31.775333Z",
     "iopub.status.idle": "2024-11-23T14:15:31.794343Z",
     "shell.execute_reply": "2024-11-23T14:15:31.793249Z"
    },
    "papermill": {
     "duration": 0.046489,
     "end_time": "2024-11-23T14:15:31.796505",
     "exception": false,
     "start_time": "2024-11-23T14:15:31.750016",
     "status": "completed"
    },
    "tags": []
   },
   "outputs": [
    {
     "data": {
      "text/html": [
       "<div>\n",
       "<style scoped>\n",
       "    .dataframe tbody tr th:only-of-type {\n",
       "        vertical-align: middle;\n",
       "    }\n",
       "\n",
       "    .dataframe tbody tr th {\n",
       "        vertical-align: top;\n",
       "    }\n",
       "\n",
       "    .dataframe thead th {\n",
       "        text-align: right;\n",
       "    }\n",
       "</style>\n",
       "<table border=\"1\" class=\"dataframe\">\n",
       "  <thead>\n",
       "    <tr style=\"text-align: right;\">\n",
       "      <th></th>\n",
       "      <th>Passenger ID</th>\n",
       "      <th>First Name</th>\n",
       "      <th>Last Name</th>\n",
       "      <th>Gender</th>\n",
       "      <th>Age</th>\n",
       "      <th>Nationality</th>\n",
       "      <th>Airport Name</th>\n",
       "      <th>Airport Country Code</th>\n",
       "      <th>Country Name</th>\n",
       "      <th>Airport Continent</th>\n",
       "      <th>Continents</th>\n",
       "      <th>Departure Date</th>\n",
       "      <th>Arrival Airport</th>\n",
       "      <th>Pilot Name</th>\n",
       "      <th>Flight Status</th>\n",
       "    </tr>\n",
       "  </thead>\n",
       "  <tbody>\n",
       "    <tr>\n",
       "      <th>0</th>\n",
       "      <td>ABVWIg</td>\n",
       "      <td>Edithe</td>\n",
       "      <td>Leggis</td>\n",
       "      <td>Female</td>\n",
       "      <td>62.0</td>\n",
       "      <td>Japan</td>\n",
       "      <td>Coldfoot Airport</td>\n",
       "      <td>US</td>\n",
       "      <td>United States</td>\n",
       "      <td>NAM</td>\n",
       "      <td>North America</td>\n",
       "      <td>6/28/2022</td>\n",
       "      <td>CXF</td>\n",
       "      <td>Fransisco Hazeldine</td>\n",
       "      <td>On Time</td>\n",
       "    </tr>\n",
       "    <tr>\n",
       "      <th>1</th>\n",
       "      <td>jkXXAX</td>\n",
       "      <td>Elwood</td>\n",
       "      <td>Catt</td>\n",
       "      <td>Male</td>\n",
       "      <td>NaN</td>\n",
       "      <td>Nicaragua</td>\n",
       "      <td>Kugluktuk Airport</td>\n",
       "      <td>CA</td>\n",
       "      <td>Canada</td>\n",
       "      <td>NAM</td>\n",
       "      <td>North America</td>\n",
       "      <td>12/26/2022</td>\n",
       "      <td>YCO</td>\n",
       "      <td>Marla Parsonage</td>\n",
       "      <td>On Time</td>\n",
       "    </tr>\n",
       "    <tr>\n",
       "      <th>2</th>\n",
       "      <td>CdUz2g</td>\n",
       "      <td>Darby</td>\n",
       "      <td>Felgate</td>\n",
       "      <td>Male</td>\n",
       "      <td>67.0</td>\n",
       "      <td>Russia</td>\n",
       "      <td>Grenoble-Isère Airport</td>\n",
       "      <td>FR</td>\n",
       "      <td>France</td>\n",
       "      <td>EU</td>\n",
       "      <td>Europe</td>\n",
       "      <td>1/18/2022</td>\n",
       "      <td>GNB</td>\n",
       "      <td>Rhonda Amber</td>\n",
       "      <td>On Time</td>\n",
       "    </tr>\n",
       "  </tbody>\n",
       "</table>\n",
       "</div>"
      ],
      "text/plain": [
       "  Passenger ID First Name Last Name  Gender   Age Nationality  \\\n",
       "0       ABVWIg     Edithe    Leggis  Female  62.0       Japan   \n",
       "1       jkXXAX     Elwood      Catt    Male   NaN   Nicaragua   \n",
       "2       CdUz2g      Darby   Felgate    Male  67.0      Russia   \n",
       "\n",
       "             Airport Name Airport Country Code   Country Name  \\\n",
       "0        Coldfoot Airport                   US  United States   \n",
       "1       Kugluktuk Airport                   CA         Canada   \n",
       "2  Grenoble-Isère Airport                   FR         France   \n",
       "\n",
       "  Airport Continent     Continents Departure Date Arrival Airport  \\\n",
       "0               NAM  North America      6/28/2022             CXF   \n",
       "1               NAM  North America     12/26/2022             YCO   \n",
       "2                EU         Europe      1/18/2022             GNB   \n",
       "\n",
       "            Pilot Name Flight Status  \n",
       "0  Fransisco Hazeldine       On Time  \n",
       "1      Marla Parsonage       On Time  \n",
       "2         Rhonda Amber       On Time  "
      ]
     },
     "execution_count": 29,
     "metadata": {},
     "output_type": "execute_result"
    }
   ],
   "source": [
    "# Doldurma işlemlerini gerçekleştirmek için veri setimin bir kopyasını oluşturuyorum.\n",
    "airldata_fillna =airldata.copy()\n",
    "\n",
    "airldata_fillna.head(3)"
   ]
  },
  {
   "cell_type": "code",
   "execution_count": 30,
   "id": "e6ba1dcf",
   "metadata": {
    "execution": {
     "iopub.execute_input": "2024-11-23T14:15:31.843125Z",
     "iopub.status.busy": "2024-11-23T14:15:31.842682Z",
     "iopub.status.idle": "2024-11-23T14:15:31.853703Z",
     "shell.execute_reply": "2024-11-23T14:15:31.852676Z"
    },
    "papermill": {
     "duration": 0.037247,
     "end_time": "2024-11-23T14:15:31.855927",
     "exception": false,
     "start_time": "2024-11-23T14:15:31.818680",
     "status": "completed"
    },
    "tags": []
   },
   "outputs": [
    {
     "data": {
      "text/plain": [
       "Passenger ID            2893\n",
       "First Name              2885\n",
       "Last Name               2917\n",
       "Gender                  2935\n",
       "Age                     2868\n",
       "Nationality             2921\n",
       "Airport Name            3004\n",
       "Airport Country Code    2927\n",
       "Country Name            2766\n",
       "Airport Continent       2947\n",
       "Continents              2991\n",
       "Departure Date          2827\n",
       "Arrival Airport         3019\n",
       "Pilot Name              2943\n",
       "Flight Status           2869\n",
       "dtype: int64"
      ]
     },
     "execution_count": 30,
     "metadata": {},
     "output_type": "execute_result"
    }
   ],
   "source": [
    "airldata_fillna.isna().sum()"
   ]
  },
  {
   "cell_type": "code",
   "execution_count": 31,
   "id": "f030a83f",
   "metadata": {
    "execution": {
     "iopub.execute_input": "2024-11-23T14:15:31.902443Z",
     "iopub.status.busy": "2024-11-23T14:15:31.902085Z",
     "iopub.status.idle": "2024-11-23T14:15:31.914948Z",
     "shell.execute_reply": "2024-11-23T14:15:31.913788Z"
    },
    "papermill": {
     "duration": 0.038401,
     "end_time": "2024-11-23T14:15:31.916987",
     "exception": false,
     "start_time": "2024-11-23T14:15:31.878586",
     "status": "completed"
    },
    "tags": []
   },
   "outputs": [
    {
     "name": "stderr",
     "output_type": "stream",
     "text": [
      "/tmp/ipykernel_17/3459767404.py:4: FutureWarning: A value is trying to be set on a copy of a DataFrame or Series through chained assignment using an inplace method.\n",
      "The behavior will change in pandas 3.0. This inplace method will never work because the intermediate object on which we are setting values always behaves as a copy.\n",
      "\n",
      "For example, when doing 'df[col].method(value, inplace=True)', try using 'df.method({col: value}, inplace=True)' or df[col] = df[col].method(value) instead, to perform the operation inplace on the original object.\n",
      "\n",
      "\n"
     ]
    },
    {
     "data": {
      "text/plain": [
       "Passenger ID            2893\n",
       "First Name              2885\n",
       "Last Name               2917\n",
       "Gender                  2935\n",
       "Age                        0\n",
       "Nationality             2921\n",
       "Airport Name            3004\n",
       "Airport Country Code    2927\n",
       "Country Name            2766\n",
       "Airport Continent       2947\n",
       "Continents              2991\n",
       "Departure Date          2827\n",
       "Arrival Airport         3019\n",
       "Pilot Name              2943\n",
       "Flight Status           2869\n",
       "dtype: int64"
      ]
     },
     "execution_count": 31,
     "metadata": {},
     "output_type": "execute_result"
    }
   ],
   "source": [
    "# Numerik bir değişkenin mean değeriyle doldurulması\n",
    "mean_Age= airldata_fillna['Age'].mean()\n",
    "\n",
    "airldata_fillna['Age'].fillna(value = mean_Age, inplace = True)\n",
    "\n",
    "airldata_fillna.isna().sum()"
   ]
  },
  {
   "cell_type": "code",
   "execution_count": 32,
   "id": "d720be62",
   "metadata": {
    "execution": {
     "iopub.execute_input": "2024-11-23T14:15:31.963962Z",
     "iopub.status.busy": "2024-11-23T14:15:31.963563Z",
     "iopub.status.idle": "2024-11-23T14:15:31.968762Z",
     "shell.execute_reply": "2024-11-23T14:15:31.967762Z"
    },
    "papermill": {
     "duration": 0.031378,
     "end_time": "2024-11-23T14:15:31.971083",
     "exception": false,
     "start_time": "2024-11-23T14:15:31.939705",
     "status": "completed"
    },
    "tags": []
   },
   "outputs": [],
   "source": [
    "# Doldurma işleminin döngüyle yapılması\n",
    "to_be_filled = numerical_features[1:]\n",
    "\n",
    "for col in to_be_filled:\n",
    "    airldata_fillna[col].fillna(airldata[col].mean(), inplace = True)"
   ]
  },
  {
   "cell_type": "code",
   "execution_count": 33,
   "id": "f0095d53",
   "metadata": {
    "execution": {
     "iopub.execute_input": "2024-11-23T14:15:32.019372Z",
     "iopub.status.busy": "2024-11-23T14:15:32.019005Z",
     "iopub.status.idle": "2024-11-23T14:15:32.029271Z",
     "shell.execute_reply": "2024-11-23T14:15:32.028283Z"
    },
    "papermill": {
     "duration": 0.037123,
     "end_time": "2024-11-23T14:15:32.031479",
     "exception": false,
     "start_time": "2024-11-23T14:15:31.994356",
     "status": "completed"
    },
    "tags": []
   },
   "outputs": [
    {
     "data": {
      "text/plain": [
       "Passenger ID            2893\n",
       "First Name              2885\n",
       "Last Name               2917\n",
       "Gender                  2935\n",
       "Age                        0\n",
       "Nationality             2921\n",
       "Airport Name            3004\n",
       "Airport Country Code    2927\n",
       "Country Name            2766\n",
       "Airport Continent       2947\n",
       "Continents              2991\n",
       "Departure Date          2827\n",
       "Arrival Airport         3019\n",
       "Pilot Name              2943\n",
       "Flight Status           2869\n",
       "dtype: int64"
      ]
     },
     "execution_count": 33,
     "metadata": {},
     "output_type": "execute_result"
    }
   ],
   "source": [
    "airldata_fillna.isna().sum()"
   ]
  },
  {
   "cell_type": "code",
   "execution_count": 34,
   "id": "aa6ffb43",
   "metadata": {
    "execution": {
     "iopub.execute_input": "2024-11-23T14:15:32.080377Z",
     "iopub.status.busy": "2024-11-23T14:15:32.079422Z",
     "iopub.status.idle": "2024-11-23T14:15:32.099866Z",
     "shell.execute_reply": "2024-11-23T14:15:32.098902Z"
    },
    "papermill": {
     "duration": 0.047092,
     "end_time": "2024-11-23T14:15:32.102021",
     "exception": false,
     "start_time": "2024-11-23T14:15:32.054929",
     "status": "completed"
    },
    "tags": []
   },
   "outputs": [
    {
     "data": {
      "text/html": [
       "<div>\n",
       "<style scoped>\n",
       "    .dataframe tbody tr th:only-of-type {\n",
       "        vertical-align: middle;\n",
       "    }\n",
       "\n",
       "    .dataframe tbody tr th {\n",
       "        vertical-align: top;\n",
       "    }\n",
       "\n",
       "    .dataframe thead th {\n",
       "        text-align: right;\n",
       "    }\n",
       "</style>\n",
       "<table border=\"1\" class=\"dataframe\">\n",
       "  <thead>\n",
       "    <tr style=\"text-align: right;\">\n",
       "      <th></th>\n",
       "      <th>count</th>\n",
       "      <th>mean</th>\n",
       "      <th>std</th>\n",
       "      <th>min</th>\n",
       "      <th>25%</th>\n",
       "      <th>50%</th>\n",
       "      <th>75%</th>\n",
       "      <th>max</th>\n",
       "    </tr>\n",
       "  </thead>\n",
       "  <tbody>\n",
       "    <tr>\n",
       "      <th>Age</th>\n",
       "      <td>95751.0</td>\n",
       "      <td>45.484538</td>\n",
       "      <td>25.93657</td>\n",
       "      <td>1.0</td>\n",
       "      <td>23.0</td>\n",
       "      <td>46.0</td>\n",
       "      <td>68.0</td>\n",
       "      <td>90.0</td>\n",
       "    </tr>\n",
       "  </tbody>\n",
       "</table>\n",
       "</div>"
      ],
      "text/plain": [
       "       count       mean       std  min   25%   50%   75%   max\n",
       "Age  95751.0  45.484538  25.93657  1.0  23.0  46.0  68.0  90.0"
      ]
     },
     "execution_count": 34,
     "metadata": {},
     "output_type": "execute_result"
    }
   ],
   "source": [
    "airldata.describe().T"
   ]
  },
  {
   "cell_type": "code",
   "execution_count": 35,
   "id": "e1e6b4a0",
   "metadata": {
    "execution": {
     "iopub.execute_input": "2024-11-23T14:15:32.149630Z",
     "iopub.status.busy": "2024-11-23T14:15:32.149282Z",
     "iopub.status.idle": "2024-11-23T14:15:32.298384Z",
     "shell.execute_reply": "2024-11-23T14:15:32.297083Z"
    },
    "papermill": {
     "duration": 0.177203,
     "end_time": "2024-11-23T14:15:32.302230",
     "exception": false,
     "start_time": "2024-11-23T14:15:32.125027",
     "status": "completed"
    },
    "tags": []
   },
   "outputs": [
    {
     "data": {
      "image/png": "[encoded data removed]",
      "text/plain": [
       "<Figure size 640x480 with 1 Axes>"
      ]
     },
     "metadata": {},
     "output_type": "display_data"
    }
   ],
   "source": [
    "# Histogram oluşturma ve renk ekleme\n",
    "plt.hist(airldata['Age'], color='skyblue', edgecolor='black')  # Çubuklar için açık mavi, kenarlıklar için siyah\n",
    "\n",
    "# Grafiği göster\n",
    "plt.show()"
   ]
  },
  {
   "cell_type": "code",
   "execution_count": 36,
   "id": "9f3bd53c",
   "metadata": {
    "execution": {
     "iopub.execute_input": "2024-11-23T14:15:32.411149Z",
     "iopub.status.busy": "2024-11-23T14:15:32.410796Z",
     "iopub.status.idle": "2024-11-23T14:15:32.425903Z",
     "shell.execute_reply": "2024-11-23T14:15:32.424861Z"
    },
    "papermill": {
     "duration": 0.095096,
     "end_time": "2024-11-23T14:15:32.427991",
     "exception": false,
     "start_time": "2024-11-23T14:15:32.332895",
     "status": "completed"
    },
    "tags": []
   },
   "outputs": [
    {
     "data": {
      "text/plain": [
       "Passenger ID            2893\n",
       "First Name              2885\n",
       "Last Name               2917\n",
       "Gender                     0\n",
       "Age                        0\n",
       "Nationality             2921\n",
       "Airport Name            3004\n",
       "Airport Country Code    2927\n",
       "Country Name            2766\n",
       "Airport Continent       2947\n",
       "Continents              2991\n",
       "Departure Date          2827\n",
       "Arrival Airport         3019\n",
       "Pilot Name              2943\n",
       "Flight Status           2869\n",
       "dtype: int64"
      ]
     },
     "execution_count": 36,
     "metadata": {},
     "output_type": "execute_result"
    }
   ],
   "source": [
    "# Kategorik bir değişkenin mode değeriyle doldurulması\n",
    "\n",
    "# Gender değişkeninde toplam kaç adet eksik değer olduğunu görelim.\n",
    "airldata_fillna['Gender'].isna().sum()\n",
    "\n",
    "# Gender değişkeninde en çok tekrar eden değeri(mode) alalım.\n",
    "Gender_mode = airldata_fillna['Gender'].mode()\n",
    "\n",
    "# Gender değişkenini mode değeri ile dolduralım.\n",
    "airldata_fillna['Gender'] = airldata_fillna['Gender'].fillna(value = Gender_mode[0])\n",
    "\n",
    "# Gender değişkeninde toplam kaç adet eksik değer olduğunu tekrar görelim.\n",
    "airldata_fillna.isna().sum()"
   ]
  },
  {
   "cell_type": "code",
   "execution_count": 37,
   "id": "f571dc2a",
   "metadata": {
    "execution": {
     "iopub.execute_input": "2024-11-23T14:15:32.476330Z",
     "iopub.status.busy": "2024-11-23T14:15:32.475985Z",
     "iopub.status.idle": "2024-11-23T14:15:32.487855Z",
     "shell.execute_reply": "2024-11-23T14:15:32.486679Z"
    },
    "papermill": {
     "duration": 0.038854,
     "end_time": "2024-11-23T14:15:32.489967",
     "exception": false,
     "start_time": "2024-11-23T14:15:32.451113",
     "status": "completed"
    },
    "tags": []
   },
   "outputs": [
    {
     "data": {
      "text/html": [
       "<div>\n",
       "<style scoped>\n",
       "    .dataframe tbody tr th:only-of-type {\n",
       "        vertical-align: middle;\n",
       "    }\n",
       "\n",
       "    .dataframe tbody tr th {\n",
       "        vertical-align: top;\n",
       "    }\n",
       "\n",
       "    .dataframe thead th {\n",
       "        text-align: right;\n",
       "    }\n",
       "</style>\n",
       "<table border=\"1\" class=\"dataframe\">\n",
       "  <thead>\n",
       "    <tr style=\"text-align: right;\">\n",
       "      <th></th>\n",
       "      <th>Continents</th>\n",
       "    </tr>\n",
       "  </thead>\n",
       "  <tbody>\n",
       "    <tr>\n",
       "      <th>0</th>\n",
       "      <td>North America</td>\n",
       "    </tr>\n",
       "    <tr>\n",
       "      <th>1</th>\n",
       "      <td>North America</td>\n",
       "    </tr>\n",
       "    <tr>\n",
       "      <th>2</th>\n",
       "      <td>Europe</td>\n",
       "    </tr>\n",
       "    <tr>\n",
       "      <th>3</th>\n",
       "      <td>North America</td>\n",
       "    </tr>\n",
       "    <tr>\n",
       "      <th>4</th>\n",
       "      <td>North America</td>\n",
       "    </tr>\n",
       "    <tr>\n",
       "      <th>...</th>\n",
       "      <td>...</td>\n",
       "    </tr>\n",
       "    <tr>\n",
       "      <th>95</th>\n",
       "      <td>North America</td>\n",
       "    </tr>\n",
       "    <tr>\n",
       "      <th>96</th>\n",
       "      <td>Africa</td>\n",
       "    </tr>\n",
       "    <tr>\n",
       "      <th>97</th>\n",
       "      <td>Asia</td>\n",
       "    </tr>\n",
       "    <tr>\n",
       "      <th>98</th>\n",
       "      <td>North America</td>\n",
       "    </tr>\n",
       "    <tr>\n",
       "      <th>99</th>\n",
       "      <td>Europe</td>\n",
       "    </tr>\n",
       "  </tbody>\n",
       "</table>\n",
       "<p>100 rows × 1 columns</p>\n",
       "</div>"
      ],
      "text/plain": [
       "       Continents\n",
       "0   North America\n",
       "1   North America\n",
       "2          Europe\n",
       "3   North America\n",
       "4   North America\n",
       "..            ...\n",
       "95  North America\n",
       "96         Africa\n",
       "97           Asia\n",
       "98  North America\n",
       "99         Europe\n",
       "\n",
       "[100 rows x 1 columns]"
      ]
     },
     "execution_count": 37,
     "metadata": {},
     "output_type": "execute_result"
    }
   ],
   "source": [
    "airldata_fillna[[\"Continents\"]][:100]"
   ]
  },
  {
   "cell_type": "code",
   "execution_count": 38,
   "id": "fac82b78",
   "metadata": {
    "execution": {
     "iopub.execute_input": "2024-11-23T14:15:32.538893Z",
     "iopub.status.busy": "2024-11-23T14:15:32.538473Z",
     "iopub.status.idle": "2024-11-23T14:15:32.551074Z",
     "shell.execute_reply": "2024-11-23T14:15:32.549893Z"
    },
    "papermill": {
     "duration": 0.039805,
     "end_time": "2024-11-23T14:15:32.553271",
     "exception": false,
     "start_time": "2024-11-23T14:15:32.513466",
     "status": "completed"
    },
    "tags": []
   },
   "outputs": [
    {
     "name": "stderr",
     "output_type": "stream",
     "text": [
      "/tmp/ipykernel_17/3689832940.py:2: FutureWarning: Series.fillna with 'method' is deprecated and will raise in a future version. Use obj.ffill() or obj.bfill() instead.\n"
     ]
    },
    {
     "data": {
      "text/plain": [
       "0        North America\n",
       "1        North America\n",
       "2               Europe\n",
       "3        North America\n",
       "4        North America\n",
       "             ...      \n",
       "98614           Europe\n",
       "98615           Africa\n",
       "98616           Europe\n",
       "98617           Africa\n",
       "98618           Europe\n",
       "Name: Continents, Length: 98619, dtype: category\n",
       "Categories (6, object): ['Africa', 'Asia', 'Europe', 'North America', 'Oceania', 'South America']"
      ]
     },
     "execution_count": 38,
     "metadata": {},
     "output_type": "execute_result"
    }
   ],
   "source": [
    "# Önceki değer ile doldurma işlemi\n",
    "airldata_fillna[\"Continents\"].fillna(method = \"bfill\")"
   ]
  },
  {
   "cell_type": "code",
   "execution_count": 39,
   "id": "9bf54f67",
   "metadata": {
    "execution": {
     "iopub.execute_input": "2024-11-23T14:15:32.602623Z",
     "iopub.status.busy": "2024-11-23T14:15:32.601685Z",
     "iopub.status.idle": "2024-11-23T14:15:32.611081Z",
     "shell.execute_reply": "2024-11-23T14:15:32.610153Z"
    },
    "papermill": {
     "duration": 0.037209,
     "end_time": "2024-11-23T14:15:32.614183",
     "exception": false,
     "start_time": "2024-11-23T14:15:32.576974",
     "status": "completed"
    },
    "tags": []
   },
   "outputs": [
    {
     "name": "stderr",
     "output_type": "stream",
     "text": [
      "/tmp/ipykernel_17/649360665.py:2: FutureWarning: Series.fillna with 'method' is deprecated and will raise in a future version. Use obj.ffill() or obj.bfill() instead.\n"
     ]
    },
    {
     "data": {
      "text/plain": [
       "0        North America\n",
       "1        North America\n",
       "2               Europe\n",
       "3        North America\n",
       "4        North America\n",
       "             ...      \n",
       "98614           Europe\n",
       "98615           Africa\n",
       "98616           Europe\n",
       "98617           Africa\n",
       "98618           Europe\n",
       "Name: Continents, Length: 98619, dtype: category\n",
       "Categories (6, object): ['Africa', 'Asia', 'Europe', 'North America', 'Oceania', 'South America']"
      ]
     },
     "execution_count": 39,
     "metadata": {},
     "output_type": "execute_result"
    }
   ],
   "source": [
    "# Sonraki değer ile doldurma işlemi\n",
    "airldata_fillna[\"Continents\"].fillna(method = \"ffill\")"
   ]
  },
  {
   "cell_type": "code",
   "execution_count": 40,
   "id": "d7656eb3",
   "metadata": {
    "execution": {
     "iopub.execute_input": "2024-11-23T14:15:32.665473Z",
     "iopub.status.busy": "2024-11-23T14:15:32.664590Z",
     "iopub.status.idle": "2024-11-23T14:15:32.675389Z",
     "shell.execute_reply": "2024-11-23T14:15:32.674520Z"
    },
    "papermill": {
     "duration": 0.039204,
     "end_time": "2024-11-23T14:15:32.677551",
     "exception": false,
     "start_time": "2024-11-23T14:15:32.638347",
     "status": "completed"
    },
    "tags": []
   },
   "outputs": [
    {
     "data": {
      "text/plain": [
       "Passenger ID            2893\n",
       "First Name              2885\n",
       "Last Name               2917\n",
       "Gender                  2935\n",
       "Age                     2868\n",
       "Nationality             2921\n",
       "Airport Name            3004\n",
       "Airport Country Code    2927\n",
       "Country Name            2766\n",
       "Airport Continent       2947\n",
       "Continents              2991\n",
       "Departure Date          2827\n",
       "Arrival Airport         3019\n",
       "Pilot Name              2943\n",
       "Flight Status           2869\n",
       "dtype: int64"
      ]
     },
     "execution_count": 40,
     "metadata": {},
     "output_type": "execute_result"
    }
   ],
   "source": [
    "airldata_categorical_fillna = airldata.copy()\n",
    "\n",
    "airldata_categorical_fillna.isna().sum()"
   ]
  },
  {
   "cell_type": "code",
   "execution_count": 41,
   "id": "0e31eccf",
   "metadata": {
    "execution": {
     "iopub.execute_input": "2024-11-23T14:15:32.727870Z",
     "iopub.status.busy": "2024-11-23T14:15:32.726980Z",
     "iopub.status.idle": "2024-11-23T14:15:32.737346Z",
     "shell.execute_reply": "2024-11-23T14:15:32.736363Z"
    },
    "papermill": {
     "duration": 0.03793,
     "end_time": "2024-11-23T14:15:32.739499",
     "exception": false,
     "start_time": "2024-11-23T14:15:32.701569",
     "status": "completed"
    },
    "tags": []
   },
   "outputs": [
    {
     "name": "stderr",
     "output_type": "stream",
     "text": [
      "/tmp/ipykernel_17/2840445679.py:1: FutureWarning: The default of observed=False is deprecated and will be changed to True in a future version of pandas. Pass observed=False to retain current behavior or observed=True to adopt the future default and silence this warning.\n",
      "/tmp/ipykernel_17/2840445679.py:1: FutureWarning: A value is trying to be set on a copy of a DataFrame or Series through chained assignment using an inplace method.\n",
      "The behavior will change in pandas 3.0. This inplace method will never work because the intermediate object on which we are setting values always behaves as a copy.\n",
      "\n",
      "For example, when doing 'df[col].method(value, inplace=True)', try using 'df.method({col: value}, inplace=True)' or df[col] = df[col].method(value) instead, to perform the operation inplace on the original object.\n",
      "\n",
      "\n"
     ]
    }
   ],
   "source": [
    "airldata_categorical_fillna[\"Age\"].fillna(value = airldata_categorical_fillna.groupby(\"Continents\")[\"Age\"].transform(\"mean\"),\n",
    "                                       inplace = True)"
   ]
  },
  {
   "cell_type": "code",
   "execution_count": 42,
   "id": "4788dc0f",
   "metadata": {
    "execution": {
     "iopub.execute_input": "2024-11-23T14:15:32.789340Z",
     "iopub.status.busy": "2024-11-23T14:15:32.788966Z",
     "iopub.status.idle": "2024-11-23T14:15:32.799216Z",
     "shell.execute_reply": "2024-11-23T14:15:32.798179Z"
    },
    "papermill": {
     "duration": 0.038125,
     "end_time": "2024-11-23T14:15:32.801310",
     "exception": false,
     "start_time": "2024-11-23T14:15:32.763185",
     "status": "completed"
    },
    "tags": []
   },
   "outputs": [
    {
     "data": {
      "text/plain": [
       "Passenger ID            2893\n",
       "First Name              2885\n",
       "Last Name               2917\n",
       "Gender                  2935\n",
       "Age                       92\n",
       "Nationality             2921\n",
       "Airport Name            3004\n",
       "Airport Country Code    2927\n",
       "Country Name            2766\n",
       "Airport Continent       2947\n",
       "Continents              2991\n",
       "Departure Date          2827\n",
       "Arrival Airport         3019\n",
       "Pilot Name              2943\n",
       "Flight Status           2869\n",
       "dtype: int64"
      ]
     },
     "execution_count": 42,
     "metadata": {},
     "output_type": "execute_result"
    }
   ],
   "source": [
    "airldata_categorical_fillna.isna().sum()"
   ]
  },
  {
   "cell_type": "code",
   "execution_count": 43,
   "id": "77c0d605",
   "metadata": {
    "execution": {
     "iopub.execute_input": "2024-11-23T14:15:32.851255Z",
     "iopub.status.busy": "2024-11-23T14:15:32.850201Z",
     "iopub.status.idle": "2024-11-23T14:15:32.864808Z",
     "shell.execute_reply": "2024-11-23T14:15:32.863729Z"
    },
    "papermill": {
     "duration": 0.041491,
     "end_time": "2024-11-23T14:15:32.866755",
     "exception": false,
     "start_time": "2024-11-23T14:15:32.825264",
     "status": "completed"
    },
    "tags": []
   },
   "outputs": [
    {
     "data": {
      "text/html": [
       "<div>\n",
       "<style scoped>\n",
       "    .dataframe tbody tr th:only-of-type {\n",
       "        vertical-align: middle;\n",
       "    }\n",
       "\n",
       "    .dataframe tbody tr th {\n",
       "        vertical-align: top;\n",
       "    }\n",
       "\n",
       "    .dataframe thead th {\n",
       "        text-align: right;\n",
       "    }\n",
       "</style>\n",
       "<table border=\"1\" class=\"dataframe\">\n",
       "  <thead>\n",
       "    <tr style=\"text-align: right;\">\n",
       "      <th></th>\n",
       "      <th>Continents</th>\n",
       "      <th>Age</th>\n",
       "    </tr>\n",
       "  </thead>\n",
       "  <tbody>\n",
       "    <tr>\n",
       "      <th>53</th>\n",
       "      <td>NaN</td>\n",
       "      <td>NaN</td>\n",
       "    </tr>\n",
       "    <tr>\n",
       "      <th>1469</th>\n",
       "      <td>NaN</td>\n",
       "      <td>NaN</td>\n",
       "    </tr>\n",
       "    <tr>\n",
       "      <th>1498</th>\n",
       "      <td>NaN</td>\n",
       "      <td>NaN</td>\n",
       "    </tr>\n",
       "    <tr>\n",
       "      <th>1807</th>\n",
       "      <td>NaN</td>\n",
       "      <td>NaN</td>\n",
       "    </tr>\n",
       "    <tr>\n",
       "      <th>3035</th>\n",
       "      <td>NaN</td>\n",
       "      <td>NaN</td>\n",
       "    </tr>\n",
       "    <tr>\n",
       "      <th>...</th>\n",
       "      <td>...</td>\n",
       "      <td>...</td>\n",
       "    </tr>\n",
       "    <tr>\n",
       "      <th>93850</th>\n",
       "      <td>NaN</td>\n",
       "      <td>NaN</td>\n",
       "    </tr>\n",
       "    <tr>\n",
       "      <th>94589</th>\n",
       "      <td>NaN</td>\n",
       "      <td>NaN</td>\n",
       "    </tr>\n",
       "    <tr>\n",
       "      <th>95136</th>\n",
       "      <td>NaN</td>\n",
       "      <td>NaN</td>\n",
       "    </tr>\n",
       "    <tr>\n",
       "      <th>96367</th>\n",
       "      <td>NaN</td>\n",
       "      <td>NaN</td>\n",
       "    </tr>\n",
       "    <tr>\n",
       "      <th>96974</th>\n",
       "      <td>NaN</td>\n",
       "      <td>NaN</td>\n",
       "    </tr>\n",
       "  </tbody>\n",
       "</table>\n",
       "<p>92 rows × 2 columns</p>\n",
       "</div>"
      ],
      "text/plain": [
       "      Continents  Age\n",
       "53           NaN  NaN\n",
       "1469         NaN  NaN\n",
       "1498         NaN  NaN\n",
       "1807         NaN  NaN\n",
       "3035         NaN  NaN\n",
       "...          ...  ...\n",
       "93850        NaN  NaN\n",
       "94589        NaN  NaN\n",
       "95136        NaN  NaN\n",
       "96367        NaN  NaN\n",
       "96974        NaN  NaN\n",
       "\n",
       "[92 rows x 2 columns]"
      ]
     },
     "execution_count": 43,
     "metadata": {},
     "output_type": "execute_result"
    }
   ],
   "source": [
    "airldata_categorical_fillna[airldata_categorical_fillna[[\"Continents\", \"Age\"]].isna().all(axis=1)][[\"Continents\", \"Age\"]]"
   ]
  },
  {
   "cell_type": "code",
   "execution_count": 44,
   "id": "c58e8082",
   "metadata": {
    "execution": {
     "iopub.execute_input": "2024-11-23T14:15:32.917110Z",
     "iopub.status.busy": "2024-11-23T14:15:32.916273Z",
     "iopub.status.idle": "2024-11-23T14:15:32.939076Z",
     "shell.execute_reply": "2024-11-23T14:15:32.938039Z"
    },
    "papermill": {
     "duration": 0.050309,
     "end_time": "2024-11-23T14:15:32.941137",
     "exception": false,
     "start_time": "2024-11-23T14:15:32.890828",
     "status": "completed"
    },
    "tags": []
   },
   "outputs": [
    {
     "data": {
      "text/html": [
       "<div>\n",
       "<style scoped>\n",
       "    .dataframe tbody tr th:only-of-type {\n",
       "        vertical-align: middle;\n",
       "    }\n",
       "\n",
       "    .dataframe tbody tr th {\n",
       "        vertical-align: top;\n",
       "    }\n",
       "\n",
       "    .dataframe thead th {\n",
       "        text-align: right;\n",
       "    }\n",
       "</style>\n",
       "<table border=\"1\" class=\"dataframe\">\n",
       "  <thead>\n",
       "    <tr style=\"text-align: right;\">\n",
       "      <th></th>\n",
       "      <th>Passenger ID</th>\n",
       "      <th>First Name</th>\n",
       "      <th>Last Name</th>\n",
       "      <th>Gender</th>\n",
       "      <th>Age</th>\n",
       "      <th>Nationality</th>\n",
       "      <th>Airport Name</th>\n",
       "      <th>Airport Country Code</th>\n",
       "      <th>Country Name</th>\n",
       "      <th>Airport Continent</th>\n",
       "      <th>Continents</th>\n",
       "      <th>Departure Date</th>\n",
       "      <th>Arrival Airport</th>\n",
       "      <th>Pilot Name</th>\n",
       "      <th>Flight Status</th>\n",
       "    </tr>\n",
       "  </thead>\n",
       "  <tbody>\n",
       "    <tr>\n",
       "      <th>53</th>\n",
       "      <td>09lGmv</td>\n",
       "      <td>Tamas</td>\n",
       "      <td>NaN</td>\n",
       "      <td>Male</td>\n",
       "      <td>NaN</td>\n",
       "      <td>Mali</td>\n",
       "      <td>Diamantina Lakes Airport</td>\n",
       "      <td>AU</td>\n",
       "      <td>Australia</td>\n",
       "      <td>OC</td>\n",
       "      <td>NaN</td>\n",
       "      <td>11/23/2022</td>\n",
       "      <td>DYM</td>\n",
       "      <td>Clemente Mateev</td>\n",
       "      <td>Delayed</td>\n",
       "    </tr>\n",
       "    <tr>\n",
       "      <th>1469</th>\n",
       "      <td>2BE2Ad</td>\n",
       "      <td>Risa</td>\n",
       "      <td>Pester</td>\n",
       "      <td>Female</td>\n",
       "      <td>NaN</td>\n",
       "      <td>Indonesia</td>\n",
       "      <td>Merville-Calonne Airport</td>\n",
       "      <td>FR</td>\n",
       "      <td>France</td>\n",
       "      <td>EU</td>\n",
       "      <td>NaN</td>\n",
       "      <td>02-12-2022</td>\n",
       "      <td>HZB</td>\n",
       "      <td>Carmen Scneider</td>\n",
       "      <td>On Time</td>\n",
       "    </tr>\n",
       "    <tr>\n",
       "      <th>1498</th>\n",
       "      <td>eXK9vC</td>\n",
       "      <td>Salvatore</td>\n",
       "      <td>Yankin</td>\n",
       "      <td>Male</td>\n",
       "      <td>NaN</td>\n",
       "      <td>China</td>\n",
       "      <td>Abel Santamaria Airport</td>\n",
       "      <td>CU</td>\n",
       "      <td>Cuba</td>\n",
       "      <td>NAM</td>\n",
       "      <td>NaN</td>\n",
       "      <td>12/21/2022</td>\n",
       "      <td>SNU</td>\n",
       "      <td>Ardelia Eland</td>\n",
       "      <td>Cancelled</td>\n",
       "    </tr>\n",
       "    <tr>\n",
       "      <th>1807</th>\n",
       "      <td>QsdW2Q</td>\n",
       "      <td>Mart</td>\n",
       "      <td>Fairpo</td>\n",
       "      <td>Male</td>\n",
       "      <td>NaN</td>\n",
       "      <td>New Zealand</td>\n",
       "      <td>Mindiptana Airport</td>\n",
       "      <td>ID</td>\n",
       "      <td>Indonesia</td>\n",
       "      <td>AS</td>\n",
       "      <td>NaN</td>\n",
       "      <td>2/16/2022</td>\n",
       "      <td>MDP</td>\n",
       "      <td>Shandy Hunt</td>\n",
       "      <td>On Time</td>\n",
       "    </tr>\n",
       "    <tr>\n",
       "      <th>3035</th>\n",
       "      <td>OD5tmy</td>\n",
       "      <td>Albie</td>\n",
       "      <td>Wife</td>\n",
       "      <td>Male</td>\n",
       "      <td>NaN</td>\n",
       "      <td>Reunion</td>\n",
       "      <td>Ndende Airport</td>\n",
       "      <td>GA</td>\n",
       "      <td>Gabon</td>\n",
       "      <td>AF</td>\n",
       "      <td>NaN</td>\n",
       "      <td>2/24/2022</td>\n",
       "      <td>KDN</td>\n",
       "      <td>Karita Hoggins</td>\n",
       "      <td>Delayed</td>\n",
       "    </tr>\n",
       "    <tr>\n",
       "      <th>...</th>\n",
       "      <td>...</td>\n",
       "      <td>...</td>\n",
       "      <td>...</td>\n",
       "      <td>...</td>\n",
       "      <td>...</td>\n",
       "      <td>...</td>\n",
       "      <td>...</td>\n",
       "      <td>...</td>\n",
       "      <td>...</td>\n",
       "      <td>...</td>\n",
       "      <td>...</td>\n",
       "      <td>...</td>\n",
       "      <td>...</td>\n",
       "      <td>...</td>\n",
       "      <td>...</td>\n",
       "    </tr>\n",
       "    <tr>\n",
       "      <th>93850</th>\n",
       "      <td>Ssyqnv</td>\n",
       "      <td>Rosa</td>\n",
       "      <td>Leaming</td>\n",
       "      <td>Female</td>\n",
       "      <td>NaN</td>\n",
       "      <td>China</td>\n",
       "      <td>Hamburg Airport</td>\n",
       "      <td>DE</td>\n",
       "      <td>Germany</td>\n",
       "      <td>EU</td>\n",
       "      <td>NaN</td>\n",
       "      <td>6/24/2022</td>\n",
       "      <td>HAM</td>\n",
       "      <td>Steffen MacCarter</td>\n",
       "      <td>Cancelled</td>\n",
       "    </tr>\n",
       "    <tr>\n",
       "      <th>94589</th>\n",
       "      <td>P1oQ6N</td>\n",
       "      <td>Emmett</td>\n",
       "      <td>Loreit</td>\n",
       "      <td>Male</td>\n",
       "      <td>NaN</td>\n",
       "      <td>Russia</td>\n",
       "      <td>Beslan Airport</td>\n",
       "      <td>RU</td>\n",
       "      <td>Russian Federation</td>\n",
       "      <td>EU</td>\n",
       "      <td>NaN</td>\n",
       "      <td>10/22/2022</td>\n",
       "      <td>OGZ</td>\n",
       "      <td>Cloe Farrear</td>\n",
       "      <td>Delayed</td>\n",
       "    </tr>\n",
       "    <tr>\n",
       "      <th>95136</th>\n",
       "      <td>iVm5WP</td>\n",
       "      <td>Gayler</td>\n",
       "      <td>Johanning</td>\n",
       "      <td>Male</td>\n",
       "      <td>NaN</td>\n",
       "      <td>Palestinian Territory</td>\n",
       "      <td>Koro Island Airport</td>\n",
       "      <td>FJ</td>\n",
       "      <td>Fiji</td>\n",
       "      <td>OC</td>\n",
       "      <td>NaN</td>\n",
       "      <td>06-09-2022</td>\n",
       "      <td>KXF</td>\n",
       "      <td>Meir Prando</td>\n",
       "      <td>Cancelled</td>\n",
       "    </tr>\n",
       "    <tr>\n",
       "      <th>96367</th>\n",
       "      <td>51NXDe</td>\n",
       "      <td>Pryce</td>\n",
       "      <td>Fitzsimon</td>\n",
       "      <td>Male</td>\n",
       "      <td>NaN</td>\n",
       "      <td>Greece</td>\n",
       "      <td>Rafael Hernandez Airport</td>\n",
       "      <td>PR</td>\n",
       "      <td>Puerto Rico</td>\n",
       "      <td>NAM</td>\n",
       "      <td>NaN</td>\n",
       "      <td>10/14/2022</td>\n",
       "      <td>BQN</td>\n",
       "      <td>Dinah Hughman</td>\n",
       "      <td>Delayed</td>\n",
       "    </tr>\n",
       "    <tr>\n",
       "      <th>96974</th>\n",
       "      <td>5Du4Jz</td>\n",
       "      <td>Kathye</td>\n",
       "      <td>Arne</td>\n",
       "      <td>Female</td>\n",
       "      <td>NaN</td>\n",
       "      <td>Indonesia</td>\n",
       "      <td>Puvirnituq Airport</td>\n",
       "      <td>NaN</td>\n",
       "      <td>Canada</td>\n",
       "      <td>NAM</td>\n",
       "      <td>NaN</td>\n",
       "      <td>6/15/2022</td>\n",
       "      <td>YPX</td>\n",
       "      <td>Wendall Orro</td>\n",
       "      <td>Cancelled</td>\n",
       "    </tr>\n",
       "  </tbody>\n",
       "</table>\n",
       "<p>92 rows × 15 columns</p>\n",
       "</div>"
      ],
      "text/plain": [
       "      Passenger ID First Name  Last Name  Gender  Age            Nationality  \\\n",
       "53          09lGmv      Tamas        NaN    Male  NaN                   Mali   \n",
       "1469        2BE2Ad       Risa     Pester  Female  NaN              Indonesia   \n",
       "1498        eXK9vC  Salvatore     Yankin    Male  NaN                  China   \n",
       "1807        QsdW2Q       Mart     Fairpo    Male  NaN            New Zealand   \n",
       "3035        OD5tmy      Albie       Wife    Male  NaN                Reunion   \n",
       "...            ...        ...        ...     ...  ...                    ...   \n",
       "93850       Ssyqnv       Rosa    Leaming  Female  NaN                  China   \n",
       "94589       P1oQ6N     Emmett     Loreit    Male  NaN                 Russia   \n",
       "95136       iVm5WP     Gayler  Johanning    Male  NaN  Palestinian Territory   \n",
       "96367       51NXDe      Pryce  Fitzsimon    Male  NaN                 Greece   \n",
       "96974       5Du4Jz     Kathye       Arne  Female  NaN              Indonesia   \n",
       "\n",
       "                   Airport Name Airport Country Code        Country Name  \\\n",
       "53     Diamantina Lakes Airport                   AU           Australia   \n",
       "1469   Merville-Calonne Airport                   FR              France   \n",
       "1498    Abel Santamaria Airport                   CU                Cuba   \n",
       "1807         Mindiptana Airport                   ID           Indonesia   \n",
       "3035             Ndende Airport                   GA               Gabon   \n",
       "...                         ...                  ...                 ...   \n",
       "93850           Hamburg Airport                   DE             Germany   \n",
       "94589            Beslan Airport                   RU  Russian Federation   \n",
       "95136       Koro Island Airport                   FJ                Fiji   \n",
       "96367  Rafael Hernandez Airport                   PR         Puerto Rico   \n",
       "96974        Puvirnituq Airport                  NaN              Canada   \n",
       "\n",
       "      Airport Continent Continents Departure Date Arrival Airport  \\\n",
       "53                   OC        NaN     11/23/2022             DYM   \n",
       "1469                 EU        NaN     02-12-2022             HZB   \n",
       "1498                NAM        NaN     12/21/2022             SNU   \n",
       "1807                 AS        NaN      2/16/2022             MDP   \n",
       "3035                 AF        NaN      2/24/2022             KDN   \n",
       "...                 ...        ...            ...             ...   \n",
       "93850                EU        NaN      6/24/2022             HAM   \n",
       "94589                EU        NaN     10/22/2022             OGZ   \n",
       "95136                OC        NaN     06-09-2022             KXF   \n",
       "96367               NAM        NaN     10/14/2022             BQN   \n",
       "96974               NAM        NaN      6/15/2022             YPX   \n",
       "\n",
       "              Pilot Name Flight Status  \n",
       "53       Clemente Mateev       Delayed  \n",
       "1469     Carmen Scneider       On Time  \n",
       "1498       Ardelia Eland     Cancelled  \n",
       "1807         Shandy Hunt       On Time  \n",
       "3035      Karita Hoggins       Delayed  \n",
       "...                  ...           ...  \n",
       "93850  Steffen MacCarter     Cancelled  \n",
       "94589       Cloe Farrear       Delayed  \n",
       "95136        Meir Prando     Cancelled  \n",
       "96367      Dinah Hughman       Delayed  \n",
       "96974       Wendall Orro     Cancelled  \n",
       "\n",
       "[92 rows x 15 columns]"
      ]
     },
     "execution_count": 44,
     "metadata": {},
     "output_type": "execute_result"
    }
   ],
   "source": [
    "airldata_categorical_fillna[airldata_categorical_fillna['Age'].isnull()]"
   ]
  },
  {
   "cell_type": "markdown",
   "id": "414557fb",
   "metadata": {
    "papermill": {
     "duration": 0.024033,
     "end_time": "2024-11-23T14:15:32.990296",
     "exception": false,
     "start_time": "2024-11-23T14:15:32.966263",
     "status": "completed"
    },
    "tags": []
   },
   "source": [
    "# 3. Kategorik Değişken Analizi"
   ]
  },
  {
   "cell_type": "code",
   "execution_count": 45,
   "id": "0e128507",
   "metadata": {
    "execution": {
     "iopub.execute_input": "2024-11-23T14:15:33.041199Z",
     "iopub.status.busy": "2024-11-23T14:15:33.040273Z",
     "iopub.status.idle": "2024-11-23T14:15:33.132747Z",
     "shell.execute_reply": "2024-11-23T14:15:33.131503Z"
    },
    "papermill": {
     "duration": 0.120008,
     "end_time": "2024-11-23T14:15:33.134791",
     "exception": false,
     "start_time": "2024-11-23T14:15:33.014783",
     "status": "completed"
    },
    "tags": []
   },
   "outputs": [
    {
     "name": "stdout",
     "output_type": "stream",
     "text": [
      "<class 'pandas.core.frame.DataFrame'>\n",
      "RangeIndex: 98619 entries, 0 to 98618\n",
      "Data columns (total 15 columns):\n",
      " #   Column                Non-Null Count  Dtype \n",
      "---  ------                --------------  ----- \n",
      " 0   Passenger ID          98619 non-null  object\n",
      " 1   First Name            98619 non-null  object\n",
      " 2   Last Name             98619 non-null  object\n",
      " 3   Gender                98619 non-null  object\n",
      " 4   Age                   98619 non-null  int64 \n",
      " 5   Nationality           98619 non-null  object\n",
      " 6   Airport Name          98619 non-null  object\n",
      " 7   Airport Country Code  98619 non-null  object\n",
      " 8   Country Name          98619 non-null  object\n",
      " 9   Airport Continent     98619 non-null  object\n",
      " 10  Continents            98619 non-null  object\n",
      " 11  Departure Date        98619 non-null  object\n",
      " 12  Arrival Airport       98619 non-null  object\n",
      " 13  Pilot Name            98619 non-null  object\n",
      " 14  Flight Status         98619 non-null  object\n",
      "dtypes: int64(1), object(14)\n",
      "memory usage: 11.3+ MB\n"
     ]
    }
   ],
   "source": [
    "airldata = airl_data.copy()\n",
    "airldata.info()"
   ]
  },
  {
   "cell_type": "code",
   "execution_count": 46,
   "id": "d50d9364",
   "metadata": {
    "execution": {
     "iopub.execute_input": "2024-11-23T14:15:33.185823Z",
     "iopub.status.busy": "2024-11-23T14:15:33.185421Z",
     "iopub.status.idle": "2024-11-23T14:15:33.213779Z",
     "shell.execute_reply": "2024-11-23T14:15:33.212783Z"
    },
    "papermill": {
     "duration": 0.056467,
     "end_time": "2024-11-23T14:15:33.215891",
     "exception": false,
     "start_time": "2024-11-23T14:15:33.159424",
     "status": "completed"
    },
    "tags": []
   },
   "outputs": [
    {
     "data": {
      "text/html": [
       "<div>\n",
       "<style scoped>\n",
       "    .dataframe tbody tr th:only-of-type {\n",
       "        vertical-align: middle;\n",
       "    }\n",
       "\n",
       "    .dataframe tbody tr th {\n",
       "        vertical-align: top;\n",
       "    }\n",
       "\n",
       "    .dataframe thead th {\n",
       "        text-align: right;\n",
       "    }\n",
       "</style>\n",
       "<table border=\"1\" class=\"dataframe\">\n",
       "  <thead>\n",
       "    <tr style=\"text-align: right;\">\n",
       "      <th></th>\n",
       "      <th>Passenger ID</th>\n",
       "      <th>First Name</th>\n",
       "      <th>Last Name</th>\n",
       "      <th>Gender</th>\n",
       "      <th>Nationality</th>\n",
       "      <th>Airport Name</th>\n",
       "      <th>Airport Country Code</th>\n",
       "      <th>Country Name</th>\n",
       "      <th>Airport Continent</th>\n",
       "      <th>Continents</th>\n",
       "      <th>Departure Date</th>\n",
       "      <th>Arrival Airport</th>\n",
       "      <th>Pilot Name</th>\n",
       "      <th>Flight Status</th>\n",
       "    </tr>\n",
       "  </thead>\n",
       "  <tbody>\n",
       "    <tr>\n",
       "      <th>0</th>\n",
       "      <td>ABVWIg</td>\n",
       "      <td>Edithe</td>\n",
       "      <td>Leggis</td>\n",
       "      <td>Female</td>\n",
       "      <td>Japan</td>\n",
       "      <td>Coldfoot Airport</td>\n",
       "      <td>US</td>\n",
       "      <td>United States</td>\n",
       "      <td>NAM</td>\n",
       "      <td>North America</td>\n",
       "      <td>6/28/2022</td>\n",
       "      <td>CXF</td>\n",
       "      <td>Fransisco Hazeldine</td>\n",
       "      <td>On Time</td>\n",
       "    </tr>\n",
       "    <tr>\n",
       "      <th>1</th>\n",
       "      <td>jkXXAX</td>\n",
       "      <td>Elwood</td>\n",
       "      <td>Catt</td>\n",
       "      <td>Male</td>\n",
       "      <td>Nicaragua</td>\n",
       "      <td>Kugluktuk Airport</td>\n",
       "      <td>CA</td>\n",
       "      <td>Canada</td>\n",
       "      <td>NAM</td>\n",
       "      <td>North America</td>\n",
       "      <td>12/26/2022</td>\n",
       "      <td>YCO</td>\n",
       "      <td>Marla Parsonage</td>\n",
       "      <td>On Time</td>\n",
       "    </tr>\n",
       "    <tr>\n",
       "      <th>2</th>\n",
       "      <td>CdUz2g</td>\n",
       "      <td>Darby</td>\n",
       "      <td>Felgate</td>\n",
       "      <td>Male</td>\n",
       "      <td>Russia</td>\n",
       "      <td>Grenoble-Isère Airport</td>\n",
       "      <td>FR</td>\n",
       "      <td>France</td>\n",
       "      <td>EU</td>\n",
       "      <td>Europe</td>\n",
       "      <td>1/18/2022</td>\n",
       "      <td>GNB</td>\n",
       "      <td>Rhonda Amber</td>\n",
       "      <td>On Time</td>\n",
       "    </tr>\n",
       "  </tbody>\n",
       "</table>\n",
       "</div>"
      ],
      "text/plain": [
       "  Passenger ID First Name Last Name  Gender Nationality  \\\n",
       "0       ABVWIg     Edithe    Leggis  Female       Japan   \n",
       "1       jkXXAX     Elwood      Catt    Male   Nicaragua   \n",
       "2       CdUz2g      Darby   Felgate    Male      Russia   \n",
       "\n",
       "             Airport Name Airport Country Code   Country Name  \\\n",
       "0        Coldfoot Airport                   US  United States   \n",
       "1       Kugluktuk Airport                   CA         Canada   \n",
       "2  Grenoble-Isère Airport                   FR         France   \n",
       "\n",
       "  Airport Continent     Continents Departure Date Arrival Airport  \\\n",
       "0               NAM  North America      6/28/2022             CXF   \n",
       "1               NAM  North America     12/26/2022             YCO   \n",
       "2                EU         Europe      1/18/2022             GNB   \n",
       "\n",
       "            Pilot Name Flight Status  \n",
       "0  Fransisco Hazeldine       On Time  \n",
       "1      Marla Parsonage       On Time  \n",
       "2         Rhonda Amber       On Time  "
      ]
     },
     "execution_count": 46,
     "metadata": {},
     "output_type": "execute_result"
    }
   ],
   "source": [
    "# Spesifik bir veri tipi tutan değişkenleri seçmek için select_dtypes() kullanabiliriz.\n",
    "airldata_categorical = airldata.select_dtypes(include = \"object\")\n",
    "airldata_categorical.head(3)"
   ]
  },
  {
   "cell_type": "code",
   "execution_count": 47,
   "id": "2a9f3678",
   "metadata": {
    "execution": {
     "iopub.execute_input": "2024-11-23T14:15:33.268301Z",
     "iopub.status.busy": "2024-11-23T14:15:33.267912Z",
     "iopub.status.idle": "2024-11-23T14:15:33.281142Z",
     "shell.execute_reply": "2024-11-23T14:15:33.280175Z"
    },
    "papermill": {
     "duration": 0.041671,
     "end_time": "2024-11-23T14:15:33.283173",
     "exception": false,
     "start_time": "2024-11-23T14:15:33.241502",
     "status": "completed"
    },
    "tags": []
   },
   "outputs": [
    {
     "data": {
      "text/plain": [
       "array(['Female', 'Male'], dtype=object)"
      ]
     },
     "execution_count": 47,
     "metadata": {},
     "output_type": "execute_result"
    }
   ],
   "source": [
    "# Kategorik bir değişkendeki benzersiz değerleri gözlemlemek için unique() kullanabiliriz.\n",
    "airldata_categorical[\"Gender\"].unique()"
   ]
  },
  {
   "cell_type": "code",
   "execution_count": 48,
   "id": "4e6c3ba2",
   "metadata": {
    "execution": {
     "iopub.execute_input": "2024-11-23T14:15:33.337942Z",
     "iopub.status.busy": "2024-11-23T14:15:33.337169Z",
     "iopub.status.idle": "2024-11-23T14:15:33.468856Z",
     "shell.execute_reply": "2024-11-23T14:15:33.467783Z"
    },
    "papermill": {
     "duration": 0.162805,
     "end_time": "2024-11-23T14:15:33.471461",
     "exception": false,
     "start_time": "2024-11-23T14:15:33.308656",
     "status": "completed"
    },
    "tags": []
   },
   "outputs": [
    {
     "name": "stdout",
     "output_type": "stream",
     "text": [
      "There are 98619 unique values in \"Passenger ID\" categorical feature.\n",
      "\n",
      "There are 8437 unique values in \"First Name\" categorical feature.\n",
      "\n",
      "There are 41658 unique values in \"Last Name\" categorical feature.\n",
      "\n",
      "There are 2 unique values in \"Gender\" categorical feature.\n",
      "\n",
      "There are 240 unique values in \"Nationality\" categorical feature.\n",
      "\n",
      "There are 9062 unique values in \"Airport Name\" categorical feature.\n",
      "\n",
      "There are 235 unique values in \"Airport Country Code\" categorical feature.\n",
      "\n",
      "There are 235 unique values in \"Country Name\" categorical feature.\n",
      "\n",
      "There are 6 unique values in \"Airport Continent\" categorical feature.\n",
      "\n",
      "There are 6 unique values in \"Continents\" categorical feature.\n",
      "\n",
      "There are 364 unique values in \"Departure Date\" categorical feature.\n",
      "\n",
      "There are 9024 unique values in \"Arrival Airport\" categorical feature.\n",
      "\n",
      "There are 98605 unique values in \"Pilot Name\" categorical feature.\n",
      "\n",
      "There are 3 unique values in \"Flight Status\" categorical feature.\n",
      "\n"
     ]
    }
   ],
   "source": [
    "# Kategorik değişkenlerdeki benzersiz değerlerin sayısını görebilmek için nunique() kullanabiliriz.\n",
    "for col in airldata_categorical.columns:\n",
    "    print(f'There are {airldata_categorical[col].nunique()} unique values in \"{col}\" categorical feature.\\n')"
   ]
  },
  {
   "cell_type": "code",
   "execution_count": 49,
   "id": "343286e0",
   "metadata": {
    "execution": {
     "iopub.execute_input": "2024-11-23T14:15:33.523853Z",
     "iopub.status.busy": "2024-11-23T14:15:33.523339Z",
     "iopub.status.idle": "2024-11-23T14:15:33.742593Z",
     "shell.execute_reply": "2024-11-23T14:15:33.741509Z"
    },
    "papermill": {
     "duration": 0.248335,
     "end_time": "2024-11-23T14:15:33.745243",
     "exception": false,
     "start_time": "2024-11-23T14:15:33.496908",
     "status": "completed"
    },
    "tags": []
   },
   "outputs": [
    {
     "name": "stdout",
     "output_type": "stream",
     "text": [
      "Passenger ID\n",
      "ABVWIg    1\n",
      "egX7mI    1\n",
      "AWXSp0    1\n",
      "225A0s    1\n",
      "bUDsDB    1\n",
      "         ..\n",
      "BUZEJj    1\n",
      "a2aOsu    1\n",
      "gfzeie    1\n",
      "gW1XM5    1\n",
      "8JYEcz    1\n",
      "Name: count, Length: 98619, dtype: int64\n",
      " *********************************************\n",
      "First Name\n",
      "Gale       37\n",
      "Brett      36\n",
      "Conny      35\n",
      "Gerrie     35\n",
      "Haleigh    35\n",
      "           ..\n",
      "Kalila      2\n",
      "Brina       2\n",
      "Maggy       2\n",
      "Nicolle     1\n",
      "Diann       1\n",
      "Name: count, Length: 8437, dtype: int64\n",
      " *********************************************\n",
      "Last Name\n",
      "Dyball        17\n",
      "Capron        15\n",
      "Ducker        13\n",
      "Richfield     12\n",
      "Danaher       11\n",
      "              ..\n",
      "Orwell         1\n",
      "Scarff         1\n",
      "Stapleford     1\n",
      "Thurner        1\n",
      "Lucken         1\n",
      "Name: count, Length: 41658, dtype: int64\n",
      " *********************************************\n",
      "Gender\n",
      "Male      49598\n",
      "Female    49021\n",
      "Name: count, dtype: int64\n",
      " *********************************************\n",
      "Nationality\n",
      "China                     18317\n",
      "Indonesia                 10559\n",
      "Russia                     5693\n",
      "Philippines                5239\n",
      "Brazil                     3791\n",
      "                          ...  \n",
      "Romania                       2\n",
      "British Virgin Islands        2\n",
      "Jersey                        1\n",
      "Norfolk Island                1\n",
      "Sint Maarten                  1\n",
      "Name: count, Length: 240, dtype: int64\n",
      " *********************************************\n",
      "Airport Name\n",
      "San Pedro Airport             43\n",
      "Santa Maria Airport           38\n",
      "Böblingen Flugfeld            36\n",
      "Santa Ana Airport             35\n",
      "San Fernando Airport          31\n",
      "                              ..\n",
      "Balıkesir Merkez Airport       2\n",
      "Arkalyk North Airport          2\n",
      "Juba International Airport     2\n",
      "Falcon State Airport           1\n",
      "Hiroshima Airport              1\n",
      "Name: count, Length: 9062, dtype: int64\n",
      " *********************************************\n",
      "Airport Country Code\n",
      "US    22104\n",
      "AU     6370\n",
      "CA     5424\n",
      "BR     4504\n",
      "PG     4081\n",
      "      ...  \n",
      "AD        7\n",
      "MC        7\n",
      "NR        7\n",
      "PW        5\n",
      "JE        4\n",
      "Name: count, Length: 235, dtype: int64\n",
      " *********************************************\n",
      "Country Name\n",
      "United States       22104\n",
      "Australia            6370\n",
      "Canada               5424\n",
      "Brazil               4504\n",
      "Papua New Guinea     4081\n",
      "                    ...  \n",
      "Andorra                 7\n",
      "Monaco                  7\n",
      "Nauru                   7\n",
      "Palau                   5\n",
      "Jersey                  4\n",
      "Name: count, Length: 235, dtype: int64\n",
      " *********************************************\n",
      "Airport Continent\n",
      "NAM    32033\n",
      "AS     18637\n",
      "OC     13866\n",
      "EU     12335\n",
      "AF     11030\n",
      "SAM    10718\n",
      "Name: count, dtype: int64\n",
      " *********************************************\n",
      "Continents\n",
      "North America    32033\n",
      "Asia             18637\n",
      "Oceania          13866\n",
      "Europe           12335\n",
      "Africa           11030\n",
      "South America    10718\n",
      "Name: count, dtype: int64\n",
      " *********************************************\n",
      "Departure Date\n",
      "7/22/2022     325\n",
      "5/26/2022     314\n",
      "10/16/2022    310\n",
      "8/15/2022     310\n",
      "11/25/2022    310\n",
      "             ... \n",
      "12-12-2022    233\n",
      "4/30/2022     233\n",
      "8/28/2022     232\n",
      "10-04-2022    231\n",
      "6/18/2022     224\n",
      "Name: count, Length: 364, dtype: int64\n",
      " *********************************************\n",
      "Arrival Airport\n",
      "0      873\n",
      "JNB     37\n",
      "PHM     36\n",
      "MPT     32\n",
      "PCO     27\n",
      "      ... \n",
      "CXM      2\n",
      "IPI      2\n",
      "BQU      2\n",
      "FAL      1\n",
      "HIJ      1\n",
      "Name: count, Length: 9024, dtype: int64\n",
      " *********************************************\n",
      "Pilot Name\n",
      "Kally Askell            2\n",
      "Byrle Schooling         2\n",
      "Valeda Pratty           2\n",
      "Demetris Atherley       2\n",
      "Conant Amesbury         2\n",
      "                       ..\n",
      "Teodorico Billingsly    1\n",
      "Homere Bushel           1\n",
      "Margette Townby         1\n",
      "Lorna Bendon            1\n",
      "Auguste Tindley         1\n",
      "Name: count, Length: 98605, dtype: int64\n",
      " *********************************************\n",
      "Flight Status\n",
      "Cancelled    32942\n",
      "On Time      32846\n",
      "Delayed      32831\n",
      "Name: count, dtype: int64\n",
      " *********************************************\n"
     ]
    }
   ],
   "source": [
    "# Her bir kategorik değişken için toplam gözlem sayısını value_counts() ile buluyoruz.\n",
    "for col in airldata_categorical.columns:\n",
    "    print(f'{airldata_categorical[col].value_counts()}\\n', 5*\"*********\")"
   ]
  },
  {
   "cell_type": "code",
   "execution_count": 50,
   "id": "d06289a4",
   "metadata": {
    "execution": {
     "iopub.execute_input": "2024-11-23T14:15:33.797488Z",
     "iopub.status.busy": "2024-11-23T14:15:33.797111Z",
     "iopub.status.idle": "2024-11-23T14:15:33.808766Z",
     "shell.execute_reply": "2024-11-23T14:15:33.807793Z"
    },
    "papermill": {
     "duration": 0.040493,
     "end_time": "2024-11-23T14:15:33.811133",
     "exception": false,
     "start_time": "2024-11-23T14:15:33.770640",
     "status": "completed"
    },
    "tags": []
   },
   "outputs": [
    {
     "data": {
      "text/plain": [
       "['Cancelled', 'Delayed', 'On Time']"
      ]
     },
     "execution_count": 50,
     "metadata": {},
     "output_type": "execute_result"
    }
   ],
   "source": [
    "# Kategorik bir değişkende bulunan kategorik değerleri bir liste haline getirip sonra kullanabiliriz.\n",
    "flst_categories = airldata[\"Flight Status\"].unique().tolist()[::-1]\n",
    "flst_categories"
   ]
  },
  {
   "cell_type": "code",
   "execution_count": 51,
   "id": "686c2cb2",
   "metadata": {
    "execution": {
     "iopub.execute_input": "2024-11-23T14:15:33.864134Z",
     "iopub.status.busy": "2024-11-23T14:15:33.863793Z",
     "iopub.status.idle": "2024-11-23T14:15:33.875682Z",
     "shell.execute_reply": "2024-11-23T14:15:33.874815Z"
    },
    "papermill": {
     "duration": 0.040885,
     "end_time": "2024-11-23T14:15:33.877502",
     "exception": false,
     "start_time": "2024-11-23T14:15:33.836617",
     "status": "completed"
    },
    "tags": []
   },
   "outputs": [],
   "source": [
    "# Ordinal değişken nasıl oluşturulur?\n",
    "from pandas.api.types import CategoricalDtype\n",
    "\n",
    "airldata[\"Flight Status\"] = airldata[\"Flight Status\"].astype(CategoricalDtype(categories = flst_categories, ordered = True))\n",
    "\n",
    "# ALIŞTIRMA: astype('category') ile CategoricalDtype arasında fark var mıdır? Varsa nedir? Araştırın."
   ]
  },
  {
   "cell_type": "code",
   "execution_count": 52,
   "id": "b7024326",
   "metadata": {
    "execution": {
     "iopub.execute_input": "2024-11-23T14:15:33.929694Z",
     "iopub.status.busy": "2024-11-23T14:15:33.929316Z",
     "iopub.status.idle": "2024-11-23T14:15:33.937107Z",
     "shell.execute_reply": "2024-11-23T14:15:33.936108Z"
    },
    "papermill": {
     "duration": 0.036105,
     "end_time": "2024-11-23T14:15:33.939047",
     "exception": false,
     "start_time": "2024-11-23T14:15:33.902942",
     "status": "completed"
    },
    "tags": []
   },
   "outputs": [
    {
     "data": {
      "text/plain": [
       "0    On Time\n",
       "1    On Time\n",
       "2    On Time\n",
       "3    Delayed\n",
       "4    On Time\n",
       "Name: Flight Status, dtype: category\n",
       "Categories (3, object): ['Cancelled' < 'Delayed' < 'On Time']"
      ]
     },
     "execution_count": 52,
     "metadata": {},
     "output_type": "execute_result"
    }
   ],
   "source": [
    "airldata[\"Flight Status\"].head()"
   ]
  },
  {
   "cell_type": "markdown",
   "id": "f3df33a7",
   "metadata": {
    "papermill": {
     "duration": 0.024944,
     "end_time": "2024-11-23T14:15:33.989006",
     "exception": false,
     "start_time": "2024-11-23T14:15:33.964062",
     "status": "completed"
    },
    "tags": []
   },
   "source": [
    "Kategorik Değişkenlerde Görselleştirme İşlemleri"
   ]
  },
  {
   "cell_type": "code",
   "execution_count": 53,
   "id": "97c3628c",
   "metadata": {
    "execution": {
     "iopub.execute_input": "2024-11-23T14:15:34.042618Z",
     "iopub.status.busy": "2024-11-23T14:15:34.042285Z",
     "iopub.status.idle": "2024-11-23T14:15:34.283138Z",
     "shell.execute_reply": "2024-11-23T14:15:34.282107Z"
    },
    "papermill": {
     "duration": 0.269755,
     "end_time": "2024-11-23T14:15:34.285174",
     "exception": false,
     "start_time": "2024-11-23T14:15:34.015419",
     "status": "completed"
    },
    "tags": []
   },
   "outputs": [
    {
     "data": {
      "image/png": "[encoded data removed]",
      "text/plain": [
       "<Figure size 640x480 with 1 Axes>"
      ]
     },
     "metadata": {},
     "output_type": "display_data"
    }
   ],
   "source": [
    "# Kategorik bir değişkendeki kategorilerin gözlem sayılarını basitçe görselleştirelim.\n",
    "airldata['Continents'].value_counts().plot.barh(\n",
    "    color=['#FF6347', '#4682B4', '#32CD32', '#FF1493', '#FFD700']);"
   ]
  },
  {
   "cell_type": "code",
   "execution_count": 54,
   "id": "8ccad42f",
   "metadata": {
    "execution": {
     "iopub.execute_input": "2024-11-23T14:15:34.340967Z",
     "iopub.status.busy": "2024-11-23T14:15:34.340567Z",
     "iopub.status.idle": "2024-11-23T14:15:34.944924Z",
     "shell.execute_reply": "2024-11-23T14:15:34.943850Z"
    },
    "papermill": {
     "duration": 0.635978,
     "end_time": "2024-11-23T14:15:34.946860",
     "exception": false,
     "start_time": "2024-11-23T14:15:34.310882",
     "status": "completed"
    },
    "tags": []
   },
   "outputs": [
    {
     "data": {
      "image/png": "[encoded data removed]",
      "text/plain": [
       "<Figure size 640x480 with 1 Axes>"
      ]
     },
     "metadata": {},
     "output_type": "display_data"
    }
   ],
   "source": [
    "sns.countplot(data = airldata,\n",
    "              y = \"Continents\",\n",
    "              hue = \"Continents\",\n",
    "              order = airldata[\"Continents\"].value_counts().index,\n",
    "              palette = \"Pastel1\");"
   ]
  },
  {
   "cell_type": "code",
   "execution_count": 55,
   "id": "bb260c69",
   "metadata": {
    "execution": {
     "iopub.execute_input": "2024-11-23T14:15:35.000891Z",
     "iopub.status.busy": "2024-11-23T14:15:35.000534Z",
     "iopub.status.idle": "2024-11-23T14:15:35.991856Z",
     "shell.execute_reply": "2024-11-23T14:15:35.990788Z"
    },
    "papermill": {
     "duration": 1.020963,
     "end_time": "2024-11-23T14:15:35.993912",
     "exception": false,
     "start_time": "2024-11-23T14:15:34.972949",
     "status": "completed"
    },
    "tags": []
   },
   "outputs": [
    {
     "data": {
      "image/png": "[encoded data removed]",
      "text/plain": [
       "<Figure size 640x480 with 1 Axes>"
      ]
     },
     "metadata": {},
     "output_type": "display_data"
    }
   ],
   "source": [
    "sns.barplot(data = airldata, x = \"Gender\", y = airldata.Gender.index, \n",
    "             palette={\"Male\": \"#1F77B4\", \"Female\": \"#FF69B4\"});"
   ]
  },
  {
   "cell_type": "code",
   "execution_count": 56,
   "id": "1a0822f9",
   "metadata": {
    "execution": {
     "iopub.execute_input": "2024-11-23T14:15:36.054737Z",
     "iopub.status.busy": "2024-11-23T14:15:36.053688Z",
     "iopub.status.idle": "2024-11-23T14:15:37.924854Z",
     "shell.execute_reply": "2024-11-23T14:15:37.923791Z"
    },
    "papermill": {
     "duration": 1.905256,
     "end_time": "2024-11-23T14:15:37.926933",
     "exception": false,
     "start_time": "2024-11-23T14:15:36.021677",
     "status": "completed"
    },
    "tags": []
   },
   "outputs": [
    {
     "name": "stderr",
     "output_type": "stream",
     "text": [
      "/tmp/ipykernel_17/191380026.py:4: FutureWarning: Passing `palette` without assigning `hue` is deprecated.\n",
      "/opt/conda/lib/python3.10/site-packages/seaborn/_oldcore.py:1119: FutureWarning: use_inf_as_na option is deprecated and will be removed in a future version. Convert inf values to NaN before operating instead.\n",
      "/opt/conda/lib/python3.10/site-packages/seaborn/_oldcore.py:1119: FutureWarning: use_inf_as_na option is deprecated and will be removed in a future version. Convert inf values to NaN before operating instead.\n",
      "/opt/conda/lib/python3.10/site-packages/seaborn/_oldcore.py:1075: FutureWarning: When grouping with a length-1 list-like, you will need to pass a length-1 tuple to get_group in a future version of pandas. Pass `(name,)` instead of `name` to silence this warning.\n"
     ]
    },
    {
     "data": {
      "image/png": "[encoded data removed]",
      "text/plain": [
       "<Figure size 500x500 with 1 Axes>"
      ]
     },
     "metadata": {},
     "output_type": "display_data"
    }
   ],
   "source": [
    "import pandas as pd\n",
    "from matplotlib import pyplot as plt\n",
    "import seaborn as sns\n",
    "sns.catplot(data = airldata,\n",
    "            x = \"Continents\",\n",
    "            y = \"Age\",\n",
    "           palette=\"Pastel1\");"
   ]
  },
  {
   "cell_type": "code",
   "execution_count": 57,
   "id": "58fbf0f6",
   "metadata": {
    "execution": {
     "iopub.execute_input": "2024-11-23T14:15:37.987310Z",
     "iopub.status.busy": "2024-11-23T14:15:37.986254Z",
     "iopub.status.idle": "2024-11-23T14:15:39.470860Z",
     "shell.execute_reply": "2024-11-23T14:15:39.469785Z"
    },
    "papermill": {
     "duration": 1.517925,
     "end_time": "2024-11-23T14:15:39.472933",
     "exception": false,
     "start_time": "2024-11-23T14:15:37.955008",
     "status": "completed"
    },
    "tags": []
   },
   "outputs": [
    {
     "data": {
      "image/png": "[encoded data removed]",
      "text/plain": [
       "<Figure size 1100x500 with 1 Axes>"
      ]
     },
     "metadata": {},
     "output_type": "display_data"
    }
   ],
   "source": [
    "plt.figure(figsize = (11, 5))\n",
    "sns.barplot(data = airldata,\n",
    "            x = \"Continents\",\n",
    "            y = \"Age\",\n",
    "            hue = \"Flight Status\",\n",
    "            palette=\"viridis\");"
   ]
  },
  {
   "cell_type": "code",
   "execution_count": 58,
   "id": "4c72d961",
   "metadata": {
    "execution": {
     "iopub.execute_input": "2024-11-23T14:15:39.532903Z",
     "iopub.status.busy": "2024-11-23T14:15:39.531958Z",
     "iopub.status.idle": "2024-11-23T14:15:39.548493Z",
     "shell.execute_reply": "2024-11-23T14:15:39.547386Z"
    },
    "papermill": {
     "duration": 0.048399,
     "end_time": "2024-11-23T14:15:39.550592",
     "exception": false,
     "start_time": "2024-11-23T14:15:39.502193",
     "status": "completed"
    },
    "tags": []
   },
   "outputs": [
    {
     "data": {
      "text/html": [
       "<div>\n",
       "<style scoped>\n",
       "    .dataframe tbody tr th:only-of-type {\n",
       "        vertical-align: middle;\n",
       "    }\n",
       "\n",
       "    .dataframe tbody tr th {\n",
       "        vertical-align: top;\n",
       "    }\n",
       "\n",
       "    .dataframe thead th {\n",
       "        text-align: right;\n",
       "    }\n",
       "</style>\n",
       "<table border=\"1\" class=\"dataframe\">\n",
       "  <thead>\n",
       "    <tr style=\"text-align: right;\">\n",
       "      <th></th>\n",
       "      <th>Passenger ID</th>\n",
       "      <th>First Name</th>\n",
       "      <th>Last Name</th>\n",
       "      <th>Gender</th>\n",
       "      <th>Age</th>\n",
       "      <th>Nationality</th>\n",
       "      <th>Airport Name</th>\n",
       "      <th>Airport Country Code</th>\n",
       "      <th>Country Name</th>\n",
       "      <th>Airport Continent</th>\n",
       "      <th>Continents</th>\n",
       "      <th>Departure Date</th>\n",
       "      <th>Arrival Airport</th>\n",
       "      <th>Pilot Name</th>\n",
       "      <th>Flight Status</th>\n",
       "    </tr>\n",
       "  </thead>\n",
       "  <tbody>\n",
       "    <tr>\n",
       "      <th>0</th>\n",
       "      <td>ABVWIg</td>\n",
       "      <td>Edithe</td>\n",
       "      <td>Leggis</td>\n",
       "      <td>Female</td>\n",
       "      <td>62</td>\n",
       "      <td>Japan</td>\n",
       "      <td>Coldfoot Airport</td>\n",
       "      <td>US</td>\n",
       "      <td>United States</td>\n",
       "      <td>NAM</td>\n",
       "      <td>North America</td>\n",
       "      <td>6/28/2022</td>\n",
       "      <td>CXF</td>\n",
       "      <td>Fransisco Hazeldine</td>\n",
       "      <td>On Time</td>\n",
       "    </tr>\n",
       "    <tr>\n",
       "      <th>1</th>\n",
       "      <td>jkXXAX</td>\n",
       "      <td>Elwood</td>\n",
       "      <td>Catt</td>\n",
       "      <td>Male</td>\n",
       "      <td>62</td>\n",
       "      <td>Nicaragua</td>\n",
       "      <td>Kugluktuk Airport</td>\n",
       "      <td>CA</td>\n",
       "      <td>Canada</td>\n",
       "      <td>NAM</td>\n",
       "      <td>North America</td>\n",
       "      <td>12/26/2022</td>\n",
       "      <td>YCO</td>\n",
       "      <td>Marla Parsonage</td>\n",
       "      <td>On Time</td>\n",
       "    </tr>\n",
       "    <tr>\n",
       "      <th>2</th>\n",
       "      <td>CdUz2g</td>\n",
       "      <td>Darby</td>\n",
       "      <td>Felgate</td>\n",
       "      <td>Male</td>\n",
       "      <td>67</td>\n",
       "      <td>Russia</td>\n",
       "      <td>Grenoble-Isère Airport</td>\n",
       "      <td>FR</td>\n",
       "      <td>France</td>\n",
       "      <td>EU</td>\n",
       "      <td>Europe</td>\n",
       "      <td>1/18/2022</td>\n",
       "      <td>GNB</td>\n",
       "      <td>Rhonda Amber</td>\n",
       "      <td>On Time</td>\n",
       "    </tr>\n",
       "    <tr>\n",
       "      <th>3</th>\n",
       "      <td>BRS38V</td>\n",
       "      <td>Dominica</td>\n",
       "      <td>Pyle</td>\n",
       "      <td>Female</td>\n",
       "      <td>71</td>\n",
       "      <td>China</td>\n",
       "      <td>Ottawa / Gatineau Airport</td>\n",
       "      <td>CA</td>\n",
       "      <td>Canada</td>\n",
       "      <td>NAM</td>\n",
       "      <td>North America</td>\n",
       "      <td>9/16/2022</td>\n",
       "      <td>YND</td>\n",
       "      <td>Kacie Commucci</td>\n",
       "      <td>Delayed</td>\n",
       "    </tr>\n",
       "    <tr>\n",
       "      <th>4</th>\n",
       "      <td>9kvTLo</td>\n",
       "      <td>Bay</td>\n",
       "      <td>Pencost</td>\n",
       "      <td>Male</td>\n",
       "      <td>21</td>\n",
       "      <td>China</td>\n",
       "      <td>Gillespie Field</td>\n",
       "      <td>US</td>\n",
       "      <td>United States</td>\n",
       "      <td>NAM</td>\n",
       "      <td>North America</td>\n",
       "      <td>2/25/2022</td>\n",
       "      <td>SEE</td>\n",
       "      <td>Ebonee Tree</td>\n",
       "      <td>On Time</td>\n",
       "    </tr>\n",
       "  </tbody>\n",
       "</table>\n",
       "</div>"
      ],
      "text/plain": [
       "  Passenger ID First Name Last Name  Gender  Age Nationality  \\\n",
       "0       ABVWIg     Edithe    Leggis  Female   62       Japan   \n",
       "1       jkXXAX     Elwood      Catt    Male   62   Nicaragua   \n",
       "2       CdUz2g      Darby   Felgate    Male   67      Russia   \n",
       "3       BRS38V   Dominica      Pyle  Female   71       China   \n",
       "4       9kvTLo        Bay   Pencost    Male   21       China   \n",
       "\n",
       "                Airport Name Airport Country Code   Country Name  \\\n",
       "0           Coldfoot Airport                   US  United States   \n",
       "1          Kugluktuk Airport                   CA         Canada   \n",
       "2     Grenoble-Isère Airport                   FR         France   \n",
       "3  Ottawa / Gatineau Airport                   CA         Canada   \n",
       "4            Gillespie Field                   US  United States   \n",
       "\n",
       "  Airport Continent     Continents Departure Date Arrival Airport  \\\n",
       "0               NAM  North America      6/28/2022             CXF   \n",
       "1               NAM  North America     12/26/2022             YCO   \n",
       "2                EU         Europe      1/18/2022             GNB   \n",
       "3               NAM  North America      9/16/2022             YND   \n",
       "4               NAM  North America      2/25/2022             SEE   \n",
       "\n",
       "            Pilot Name Flight Status  \n",
       "0  Fransisco Hazeldine       On Time  \n",
       "1      Marla Parsonage       On Time  \n",
       "2         Rhonda Amber       On Time  \n",
       "3       Kacie Commucci       Delayed  \n",
       "4          Ebonee Tree       On Time  "
      ]
     },
     "execution_count": 58,
     "metadata": {},
     "output_type": "execute_result"
    }
   ],
   "source": [
    "airldata.head()"
   ]
  },
  {
   "cell_type": "markdown",
   "id": "17117a61",
   "metadata": {
    "papermill": {
     "duration": 0.027985,
     "end_time": "2024-11-23T14:15:39.607097",
     "exception": false,
     "start_time": "2024-11-23T14:15:39.579112",
     "status": "completed"
    },
    "tags": []
   },
   "source": [
    "Soru: Yaş ortalaması en yüksek olan kıta hangisidir?"
   ]
  },
  {
   "cell_type": "code",
   "execution_count": 59,
   "id": "f7a1a81b",
   "metadata": {
    "execution": {
     "iopub.execute_input": "2024-11-23T14:15:39.666762Z",
     "iopub.status.busy": "2024-11-23T14:15:39.666351Z",
     "iopub.status.idle": "2024-11-23T14:15:39.685665Z",
     "shell.execute_reply": "2024-11-23T14:15:39.684598Z"
    },
    "papermill": {
     "duration": 0.052132,
     "end_time": "2024-11-23T14:15:39.687793",
     "exception": false,
     "start_time": "2024-11-23T14:15:39.635661",
     "status": "completed"
    },
    "tags": []
   },
   "outputs": [
    {
     "data": {
      "text/html": [
       "<div>\n",
       "<style scoped>\n",
       "    .dataframe tbody tr th:only-of-type {\n",
       "        vertical-align: middle;\n",
       "    }\n",
       "\n",
       "    .dataframe tbody tr th {\n",
       "        vertical-align: top;\n",
       "    }\n",
       "\n",
       "    .dataframe thead th {\n",
       "        text-align: right;\n",
       "    }\n",
       "</style>\n",
       "<table border=\"1\" class=\"dataframe\">\n",
       "  <thead>\n",
       "    <tr style=\"text-align: right;\">\n",
       "      <th></th>\n",
       "      <th>Continents</th>\n",
       "      <th>Age</th>\n",
       "    </tr>\n",
       "  </thead>\n",
       "  <tbody>\n",
       "    <tr>\n",
       "      <th>1</th>\n",
       "      <td>Asia</td>\n",
       "      <td>45.653861</td>\n",
       "    </tr>\n",
       "    <tr>\n",
       "      <th>0</th>\n",
       "      <td>Africa</td>\n",
       "      <td>45.635993</td>\n",
       "    </tr>\n",
       "    <tr>\n",
       "      <th>3</th>\n",
       "      <td>North America</td>\n",
       "      <td>45.581619</td>\n",
       "    </tr>\n",
       "    <tr>\n",
       "      <th>5</th>\n",
       "      <td>South America</td>\n",
       "      <td>45.373204</td>\n",
       "    </tr>\n",
       "    <tr>\n",
       "      <th>4</th>\n",
       "      <td>Oceania</td>\n",
       "      <td>45.371628</td>\n",
       "    </tr>\n",
       "    <tr>\n",
       "      <th>2</th>\n",
       "      <td>Europe</td>\n",
       "      <td>45.220592</td>\n",
       "    </tr>\n",
       "  </tbody>\n",
       "</table>\n",
       "</div>"
      ],
      "text/plain": [
       "      Continents        Age\n",
       "1           Asia  45.653861\n",
       "0         Africa  45.635993\n",
       "3  North America  45.581619\n",
       "5  South America  45.373204\n",
       "4        Oceania  45.371628\n",
       "2         Europe  45.220592"
      ]
     },
     "execution_count": 59,
     "metadata": {},
     "output_type": "execute_result"
    }
   ],
   "source": [
    "airldata_Age = airldata.groupby(by =\"Continents\")[\"Age\"].mean().to_frame().reset_index().sort_values(by =\"Age\", ascending = False)\n",
    "\n",
    "airldata_Age"
   ]
  },
  {
   "cell_type": "code",
   "execution_count": 60,
   "id": "6dfa7fd1",
   "metadata": {
    "execution": {
     "iopub.execute_input": "2024-11-23T14:15:39.746810Z",
     "iopub.status.busy": "2024-11-23T14:15:39.746406Z",
     "iopub.status.idle": "2024-11-23T14:15:39.773998Z",
     "shell.execute_reply": "2024-11-23T14:15:39.772781Z"
    },
    "papermill": {
     "duration": 0.060096,
     "end_time": "2024-11-23T14:15:39.776559",
     "exception": false,
     "start_time": "2024-11-23T14:15:39.716463",
     "status": "completed"
    },
    "tags": []
   },
   "outputs": [
    {
     "data": {
      "text/html": [
       "<div>\n",
       "<style scoped>\n",
       "    .dataframe tbody tr th:only-of-type {\n",
       "        vertical-align: middle;\n",
       "    }\n",
       "\n",
       "    .dataframe tbody tr th {\n",
       "        vertical-align: top;\n",
       "    }\n",
       "\n",
       "    .dataframe thead th {\n",
       "        text-align: right;\n",
       "    }\n",
       "</style>\n",
       "<table border=\"1\" class=\"dataframe\">\n",
       "  <thead>\n",
       "    <tr style=\"text-align: right;\">\n",
       "      <th></th>\n",
       "      <th>Continents</th>\n",
       "      <th>Gender</th>\n",
       "      <th>Age</th>\n",
       "    </tr>\n",
       "  </thead>\n",
       "  <tbody>\n",
       "    <tr>\n",
       "      <th>2</th>\n",
       "      <td>Asia</td>\n",
       "      <td>Female</td>\n",
       "      <td>46.017561</td>\n",
       "    </tr>\n",
       "    <tr>\n",
       "      <th>0</th>\n",
       "      <td>Africa</td>\n",
       "      <td>Female</td>\n",
       "      <td>45.752973</td>\n",
       "    </tr>\n",
       "    <tr>\n",
       "      <th>9</th>\n",
       "      <td>Oceania</td>\n",
       "      <td>Male</td>\n",
       "      <td>45.648837</td>\n",
       "    </tr>\n",
       "    <tr>\n",
       "      <th>6</th>\n",
       "      <td>North America</td>\n",
       "      <td>Female</td>\n",
       "      <td>45.593847</td>\n",
       "    </tr>\n",
       "    <tr>\n",
       "      <th>7</th>\n",
       "      <td>North America</td>\n",
       "      <td>Male</td>\n",
       "      <td>45.569722</td>\n",
       "    </tr>\n",
       "  </tbody>\n",
       "</table>\n",
       "</div>"
      ],
      "text/plain": [
       "      Continents  Gender        Age\n",
       "2           Asia  Female  46.017561\n",
       "0         Africa  Female  45.752973\n",
       "9        Oceania    Male  45.648837\n",
       "6  North America  Female  45.593847\n",
       "7  North America    Male  45.569722"
      ]
     },
     "execution_count": 60,
     "metadata": {},
     "output_type": "execute_result"
    }
   ],
   "source": [
    "airldata.groupby(by = ['Continents', 'Gender'])['Age'].mean().to_frame().reset_index().sort_values(by = \"Age\", ascending = False)[:5]"
   ]
  },
  {
   "cell_type": "code",
   "execution_count": 61,
   "id": "596fdf6f",
   "metadata": {
    "execution": {
     "iopub.execute_input": "2024-11-23T14:15:39.838336Z",
     "iopub.status.busy": "2024-11-23T14:15:39.837529Z",
     "iopub.status.idle": "2024-11-23T14:15:41.065489Z",
     "shell.execute_reply": "2024-11-23T14:15:41.064372Z"
    },
    "papermill": {
     "duration": 1.260975,
     "end_time": "2024-11-23T14:15:41.067562",
     "exception": false,
     "start_time": "2024-11-23T14:15:39.806587",
     "status": "completed"
    },
    "tags": []
   },
   "outputs": [
    {
     "data": {
      "image/png": "[encoded data removed]",
      "text/plain": [
       "<Figure size 600x500 with 1 Axes>"
      ]
     },
     "metadata": {},
     "output_type": "display_data"
    }
   ],
   "source": [
    "plt.figure(figsize = (6, 5))\n",
    "plt.xticks(rotation = 90)\n",
    "sns.barplot(data = airldata, x = \"Continents\", y = \"Age\", hue = \"Gender\",\n",
    "           palette={\"Male\": \"#1F77B4\", \"Female\": \"#FF69B4\"});"
   ]
  },
  {
   "cell_type": "markdown",
   "id": "a7eb0f67",
   "metadata": {
    "papermill": {
     "duration": 0.029189,
     "end_time": "2024-11-23T14:15:41.126215",
     "exception": false,
     "start_time": "2024-11-23T14:15:41.097026",
     "status": "completed"
    },
    "tags": []
   },
   "source": [
    "Soru: Herhangi bir uçuş durumu için, havaalanı kıtası kategorisi bazında kaç adet kayıt var?"
   ]
  },
  {
   "cell_type": "code",
   "execution_count": 62,
   "id": "4b5b12cc",
   "metadata": {
    "execution": {
     "iopub.execute_input": "2024-11-23T14:15:41.185628Z",
     "iopub.status.busy": "2024-11-23T14:15:41.185245Z",
     "iopub.status.idle": "2024-11-23T14:15:41.211749Z",
     "shell.execute_reply": "2024-11-23T14:15:41.210592Z"
    },
    "papermill": {
     "duration": 0.058964,
     "end_time": "2024-11-23T14:15:41.213955",
     "exception": false,
     "start_time": "2024-11-23T14:15:41.154991",
     "status": "completed"
    },
    "tags": []
   },
   "outputs": [
    {
     "name": "stderr",
     "output_type": "stream",
     "text": [
      "/tmp/ipykernel_17/2182333250.py:1: FutureWarning: The default of observed=False is deprecated and will be changed to True in a future version of pandas. Pass observed=False to retain current behavior or observed=True to adopt the future default and silence this warning.\n"
     ]
    },
    {
     "data": {
      "text/html": [
       "<div>\n",
       "<style scoped>\n",
       "    .dataframe tbody tr th:only-of-type {\n",
       "        vertical-align: middle;\n",
       "    }\n",
       "\n",
       "    .dataframe tbody tr th {\n",
       "        vertical-align: top;\n",
       "    }\n",
       "\n",
       "    .dataframe thead th {\n",
       "        text-align: right;\n",
       "    }\n",
       "</style>\n",
       "<table border=\"1\" class=\"dataframe\">\n",
       "  <thead>\n",
       "    <tr style=\"text-align: right;\">\n",
       "      <th></th>\n",
       "      <th>Flight Status</th>\n",
       "      <th>Airport Continent</th>\n",
       "      <th>count</th>\n",
       "    </tr>\n",
       "  </thead>\n",
       "  <tbody>\n",
       "    <tr>\n",
       "      <th>6</th>\n",
       "      <td>Delayed</td>\n",
       "      <td>NAM</td>\n",
       "      <td>10696</td>\n",
       "    </tr>\n",
       "    <tr>\n",
       "      <th>7</th>\n",
       "      <td>Delayed</td>\n",
       "      <td>AS</td>\n",
       "      <td>6160</td>\n",
       "    </tr>\n",
       "    <tr>\n",
       "      <th>8</th>\n",
       "      <td>Delayed</td>\n",
       "      <td>OC</td>\n",
       "      <td>4634</td>\n",
       "    </tr>\n",
       "    <tr>\n",
       "      <th>9</th>\n",
       "      <td>Delayed</td>\n",
       "      <td>EU</td>\n",
       "      <td>4178</td>\n",
       "    </tr>\n",
       "    <tr>\n",
       "      <th>10</th>\n",
       "      <td>Delayed</td>\n",
       "      <td>AF</td>\n",
       "      <td>3654</td>\n",
       "    </tr>\n",
       "    <tr>\n",
       "      <th>11</th>\n",
       "      <td>Delayed</td>\n",
       "      <td>SAM</td>\n",
       "      <td>3509</td>\n",
       "    </tr>\n",
       "  </tbody>\n",
       "</table>\n",
       "</div>"
      ],
      "text/plain": [
       "   Flight Status Airport Continent  count\n",
       "6        Delayed               NAM  10696\n",
       "7        Delayed                AS   6160\n",
       "8        Delayed                OC   4634\n",
       "9        Delayed                EU   4178\n",
       "10       Delayed                AF   3654\n",
       "11       Delayed               SAM   3509"
      ]
     },
     "execution_count": 62,
     "metadata": {},
     "output_type": "execute_result"
    }
   ],
   "source": [
    "airldata_location = airldata.groupby(by = \"Flight Status\")[\"Airport Continent\"].value_counts().to_frame().reset_index().sort_values(by = \"count\", ascending = False)\n",
    "airldata_location_usa = airldata_location[airldata_location['Flight Status'] == \"Delayed\"]\n",
    "airldata_location_usa"
   ]
  },
  {
   "cell_type": "code",
   "execution_count": 63,
   "id": "348891c2",
   "metadata": {
    "execution": {
     "iopub.execute_input": "2024-11-23T14:15:41.275224Z",
     "iopub.status.busy": "2024-11-23T14:15:41.274839Z",
     "iopub.status.idle": "2024-11-23T14:15:41.662028Z",
     "shell.execute_reply": "2024-11-23T14:15:41.660992Z"
    },
    "papermill": {
     "duration": 0.420813,
     "end_time": "2024-11-23T14:15:41.664321",
     "exception": false,
     "start_time": "2024-11-23T14:15:41.243508",
     "status": "completed"
    },
    "tags": []
   },
   "outputs": [
    {
     "name": "stderr",
     "output_type": "stream",
     "text": [
      "/opt/conda/lib/python3.10/site-packages/seaborn/categorical.py:641: FutureWarning: The default of observed=False is deprecated and will be changed to True in a future version of pandas. Pass observed=False to retain current behavior or observed=True to adopt the future default and silence this warning.\n",
      "/opt/conda/lib/python3.10/site-packages/seaborn/categorical.py:641: FutureWarning: The default of observed=False is deprecated and will be changed to True in a future version of pandas. Pass observed=False to retain current behavior or observed=True to adopt the future default and silence this warning.\n"
     ]
    },
    {
     "data": {
      "image/png": "[encoded data removed]",
      "text/plain": [
       "<Figure size 1000x800 with 1 Axes>"
      ]
     },
     "metadata": {},
     "output_type": "display_data"
    }
   ],
   "source": [
    "plt.figure(figsize = (10, 8))\n",
    "sns.barplot(data = airldata_location_usa, x = \"Flight Status\", y = 'count', hue = \"Airport Continent\",\n",
    "           palette=\"coolwarm\");"
   ]
  },
  {
   "cell_type": "markdown",
   "id": "0eb923a0",
   "metadata": {
    "papermill": {
     "duration": 0.029368,
     "end_time": "2024-11-23T14:15:41.723572",
     "exception": false,
     "start_time": "2024-11-23T14:15:41.694204",
     "status": "completed"
    },
    "tags": []
   },
   "source": [
    "# 4. Sürekli Değişken Analizi"
   ]
  },
  {
   "cell_type": "code",
   "execution_count": 64,
   "id": "3b5a9ec9",
   "metadata": {
    "execution": {
     "iopub.execute_input": "2024-11-23T14:15:41.785904Z",
     "iopub.status.busy": "2024-11-23T14:15:41.785221Z",
     "iopub.status.idle": "2024-11-23T14:15:41.795110Z",
     "shell.execute_reply": "2024-11-23T14:15:41.794132Z"
    },
    "papermill": {
     "duration": 0.042999,
     "end_time": "2024-11-23T14:15:41.797057",
     "exception": false,
     "start_time": "2024-11-23T14:15:41.754058",
     "status": "completed"
    },
    "tags": []
   },
   "outputs": [
    {
     "data": {
      "text/html": [
       "<div>\n",
       "<style scoped>\n",
       "    .dataframe tbody tr th:only-of-type {\n",
       "        vertical-align: middle;\n",
       "    }\n",
       "\n",
       "    .dataframe tbody tr th {\n",
       "        vertical-align: top;\n",
       "    }\n",
       "\n",
       "    .dataframe thead th {\n",
       "        text-align: right;\n",
       "    }\n",
       "</style>\n",
       "<table border=\"1\" class=\"dataframe\">\n",
       "  <thead>\n",
       "    <tr style=\"text-align: right;\">\n",
       "      <th></th>\n",
       "      <th>Age</th>\n",
       "    </tr>\n",
       "  </thead>\n",
       "  <tbody>\n",
       "    <tr>\n",
       "      <th>0</th>\n",
       "      <td>62</td>\n",
       "    </tr>\n",
       "    <tr>\n",
       "      <th>1</th>\n",
       "      <td>62</td>\n",
       "    </tr>\n",
       "    <tr>\n",
       "      <th>2</th>\n",
       "      <td>67</td>\n",
       "    </tr>\n",
       "    <tr>\n",
       "      <th>3</th>\n",
       "      <td>71</td>\n",
       "    </tr>\n",
       "    <tr>\n",
       "      <th>4</th>\n",
       "      <td>21</td>\n",
       "    </tr>\n",
       "  </tbody>\n",
       "</table>\n",
       "</div>"
      ],
      "text/plain": [
       "   Age\n",
       "0   62\n",
       "1   62\n",
       "2   67\n",
       "3   71\n",
       "4   21"
      ]
     },
     "execution_count": 64,
     "metadata": {},
     "output_type": "execute_result"
    }
   ],
   "source": [
    "# Veri setindeki numerik kolonları seçmek için aşağıdaki yapıyı kullanabiliriz.\n",
    "airldata_numerical = airldata.select_dtypes(include = [\"float64\", \"int64\"])\n",
    "airldata_numerical.head()"
   ]
  },
  {
   "cell_type": "code",
   "execution_count": 65,
   "id": "b918f542",
   "metadata": {
    "execution": {
     "iopub.execute_input": "2024-11-23T14:15:41.858836Z",
     "iopub.status.busy": "2024-11-23T14:15:41.858421Z",
     "iopub.status.idle": "2024-11-23T14:15:41.877766Z",
     "shell.execute_reply": "2024-11-23T14:15:41.876776Z"
    },
    "papermill": {
     "duration": 0.053157,
     "end_time": "2024-11-23T14:15:41.880244",
     "exception": false,
     "start_time": "2024-11-23T14:15:41.827087",
     "status": "completed"
    },
    "tags": []
   },
   "outputs": [
    {
     "data": {
      "text/html": [
       "<div>\n",
       "<style scoped>\n",
       "    .dataframe tbody tr th:only-of-type {\n",
       "        vertical-align: middle;\n",
       "    }\n",
       "\n",
       "    .dataframe tbody tr th {\n",
       "        vertical-align: top;\n",
       "    }\n",
       "\n",
       "    .dataframe thead th {\n",
       "        text-align: right;\n",
       "    }\n",
       "</style>\n",
       "<table border=\"1\" class=\"dataframe\">\n",
       "  <thead>\n",
       "    <tr style=\"text-align: right;\">\n",
       "      <th></th>\n",
       "      <th>count</th>\n",
       "      <th>mean</th>\n",
       "      <th>std</th>\n",
       "      <th>min</th>\n",
       "      <th>25%</th>\n",
       "      <th>50%</th>\n",
       "      <th>75%</th>\n",
       "      <th>max</th>\n",
       "    </tr>\n",
       "  </thead>\n",
       "  <tbody>\n",
       "    <tr>\n",
       "      <th>Age</th>\n",
       "      <td>98619.0</td>\n",
       "      <td>45.504021</td>\n",
       "      <td>25.929849</td>\n",
       "      <td>1.0</td>\n",
       "      <td>23.0</td>\n",
       "      <td>46.0</td>\n",
       "      <td>68.0</td>\n",
       "      <td>90.0</td>\n",
       "    </tr>\n",
       "  </tbody>\n",
       "</table>\n",
       "</div>"
      ],
      "text/plain": [
       "       count       mean        std  min   25%   50%   75%   max\n",
       "Age  98619.0  45.504021  25.929849  1.0  23.0  46.0  68.0  90.0"
      ]
     },
     "execution_count": 65,
     "metadata": {},
     "output_type": "execute_result"
    }
   ],
   "source": [
    "airldata_numerical.describe().T"
   ]
  },
  {
   "cell_type": "code",
   "execution_count": 66,
   "id": "e401c834",
   "metadata": {
    "execution": {
     "iopub.execute_input": "2024-11-23T14:15:41.941847Z",
     "iopub.status.busy": "2024-11-23T14:15:41.941447Z",
     "iopub.status.idle": "2024-11-23T14:15:41.947785Z",
     "shell.execute_reply": "2024-11-23T14:15:41.946819Z"
    },
    "papermill": {
     "duration": 0.039524,
     "end_time": "2024-11-23T14:15:41.949817",
     "exception": false,
     "start_time": "2024-11-23T14:15:41.910293",
     "status": "completed"
    },
    "tags": []
   },
   "outputs": [],
   "source": [
    "# Bir veri setindeki numerik kolonların istatistiksel bilgilerine erişmek için basitçe bu tarz bir fonksiyon yazabiliriz.\n",
    "\n",
    "def give_stats(dataframe: pd.DataFrame) -> None:\n",
    "    \"\"\"Prints statistical information for numerical columns.\n",
    "\n",
    "    Args:\n",
    "        dataframe (pd.DataFrame): DataFrame object.\n",
    "    \n",
    "    Return:\n",
    "        None\n",
    "    \n",
    "    \"\"\"\n",
    "\n",
    "    num_airldata = dataframe.select_dtypes(include = [\"float\", \"int\"])\n",
    "\n",
    "    for col in num_airldata.columns:\n",
    "        print(f\"**********{col}**********\")\n",
    "        print(f\"Mean value of {col} is {num_airldata[col].mean():.2f}\")\n",
    "        print(f\"Std value of {col} is {num_airldata[col].std():.2f}\")\n",
    "        print(f\"Max value of {col} is {num_airldata[col].max()}\")\n",
    "        print(f\"Min value of {col} is {num_airldata[col].min()}\")\n",
    "        print(f\"Count value of {col} is {num_airldata[col].count()}\")\n",
    "        print(f\"Median value of {col} is {num_airldata[col].median()}\\n\")"
   ]
  },
  {
   "cell_type": "code",
   "execution_count": 67,
   "id": "58059391",
   "metadata": {
    "execution": {
     "iopub.execute_input": "2024-11-23T14:15:42.012344Z",
     "iopub.status.busy": "2024-11-23T14:15:42.011535Z",
     "iopub.status.idle": "2024-11-23T14:15:42.021670Z",
     "shell.execute_reply": "2024-11-23T14:15:42.020495Z"
    },
    "papermill": {
     "duration": 0.043698,
     "end_time": "2024-11-23T14:15:42.023595",
     "exception": false,
     "start_time": "2024-11-23T14:15:41.979897",
     "status": "completed"
    },
    "tags": []
   },
   "outputs": [
    {
     "name": "stdout",
     "output_type": "stream",
     "text": [
      "**********Age**********\n",
      "Mean value of Age is 45.50\n",
      "Std value of Age is 25.93\n",
      "Max value of Age is 90\n",
      "Min value of Age is 1\n",
      "Count value of Age is 98619\n",
      "Median value of Age is 46.0\n",
      "\n"
     ]
    }
   ],
   "source": [
    "give_stats(dataframe = airldata)"
   ]
  },
  {
   "cell_type": "code",
   "execution_count": 68,
   "id": "b933ced4",
   "metadata": {
    "execution": {
     "iopub.execute_input": "2024-11-23T14:15:42.086567Z",
     "iopub.status.busy": "2024-11-23T14:15:42.085680Z",
     "iopub.status.idle": "2024-11-23T14:15:43.323518Z",
     "shell.execute_reply": "2024-11-23T14:15:43.322303Z"
    },
    "papermill": {
     "duration": 1.272075,
     "end_time": "2024-11-23T14:15:43.325886",
     "exception": false,
     "start_time": "2024-11-23T14:15:42.053811",
     "status": "completed"
    },
    "tags": []
   },
   "outputs": [
    {
     "name": "stderr",
     "output_type": "stream",
     "text": [
      "/opt/conda/lib/python3.10/site-packages/seaborn/_oldcore.py:1119: FutureWarning: use_inf_as_na option is deprecated and will be removed in a future version. Convert inf values to NaN before operating instead.\n",
      "/opt/conda/lib/python3.10/site-packages/seaborn/_oldcore.py:1057: FutureWarning: The default of observed=False is deprecated and will be changed to True in a future version of pandas. Pass observed=False to retain current behavior or observed=True to adopt the future default and silence this warning.\n",
      "/opt/conda/lib/python3.10/site-packages/seaborn/_oldcore.py:1075: FutureWarning: When grouping with a length-1 list-like, you will need to pass a length-1 tuple to get_group in a future version of pandas. Pass `(name,)` instead of `name` to silence this warning.\n",
      "/opt/conda/lib/python3.10/site-packages/seaborn/_oldcore.py:1075: FutureWarning: When grouping with a length-1 list-like, you will need to pass a length-1 tuple to get_group in a future version of pandas. Pass `(name,)` instead of `name` to silence this warning.\n",
      "/opt/conda/lib/python3.10/site-packages/seaborn/_oldcore.py:1075: FutureWarning: When grouping with a length-1 list-like, you will need to pass a length-1 tuple to get_group in a future version of pandas. Pass `(name,)` instead of `name` to silence this warning.\n"
     ]
    },
    {
     "data": {
      "image/png": "[encoded data removed]",
      "text/plain": [
       "<Figure size 640x480 with 1 Axes>"
      ]
     },
     "metadata": {},
     "output_type": "display_data"
    }
   ],
   "source": [
    "# Numerik bir kolonun dağılımını görmek için histogram kullanırız.\n",
    "sns.histplot(data =airldata, x = \"Age\", kde = True, hue = \"Flight Status\");"
   ]
  },
  {
   "cell_type": "code",
   "execution_count": 69,
   "id": "044d6d7b",
   "metadata": {
    "execution": {
     "iopub.execute_input": "2024-11-23T14:15:43.393966Z",
     "iopub.status.busy": "2024-11-23T14:15:43.393604Z",
     "iopub.status.idle": "2024-11-23T14:15:44.010295Z",
     "shell.execute_reply": "2024-11-23T14:15:44.009298Z"
    },
    "papermill": {
     "duration": 0.652908,
     "end_time": "2024-11-23T14:15:44.013097",
     "exception": false,
     "start_time": "2024-11-23T14:15:43.360189",
     "status": "completed"
    },
    "tags": []
   },
   "outputs": [
    {
     "name": "stderr",
     "output_type": "stream",
     "text": [
      "/opt/conda/lib/python3.10/site-packages/seaborn/_oldcore.py:1119: FutureWarning: use_inf_as_na option is deprecated and will be removed in a future version. Convert inf values to NaN before operating instead.\n"
     ]
    },
    {
     "data": {
      "image/png": "[encoded data removed]",
      "text/plain": [
       "<Figure size 640x480 with 1 Axes>"
      ]
     },
     "metadata": {},
     "output_type": "display_data"
    }
   ],
   "source": [
    "# kdeplot ise ilgili numerik değişkenin yoğunluğunu gösterir.\n",
    "sns.kdeplot(airldata['Age'], fill = True);"
   ]
  },
  {
   "cell_type": "code",
   "execution_count": 70,
   "id": "ec98dee8",
   "metadata": {
    "execution": {
     "iopub.execute_input": "2024-11-23T14:15:44.079861Z",
     "iopub.status.busy": "2024-11-23T14:15:44.078991Z",
     "iopub.status.idle": "2024-11-23T14:15:45.081226Z",
     "shell.execute_reply": "2024-11-23T14:15:45.080121Z"
    },
    "papermill": {
     "duration": 1.038111,
     "end_time": "2024-11-23T14:15:45.083428",
     "exception": false,
     "start_time": "2024-11-23T14:15:44.045317",
     "status": "completed"
    },
    "tags": []
   },
   "outputs": [
    {
     "name": "stderr",
     "output_type": "stream",
     "text": [
      "/opt/conda/lib/python3.10/site-packages/seaborn/_oldcore.py:1119: FutureWarning: use_inf_as_na option is deprecated and will be removed in a future version. Convert inf values to NaN before operating instead.\n",
      "/opt/conda/lib/python3.10/site-packages/seaborn/_oldcore.py:1119: FutureWarning: use_inf_as_na option is deprecated and will be removed in a future version. Convert inf values to NaN before operating instead.\n",
      "/opt/conda/lib/python3.10/site-packages/seaborn/_oldcore.py:1119: FutureWarning: use_inf_as_na option is deprecated and will be removed in a future version. Convert inf values to NaN before operating instead.\n"
     ]
    },
    {
     "data": {
      "image/png": "[encoded data removed]",
      "text/plain": [
       "<Figure size 618.375x500 with 1 Axes>"
      ]
     },
     "metadata": {},
     "output_type": "display_data"
    }
   ],
   "source": [
    "# FacetGrid kullanarak kategorik kırılımda yoğunluk gözlemleyebiliriz.\n",
    "sns.FacetGrid(data =airldata,\n",
    "              hue = \"Flight Status\",\n",
    "              height = 5,\n",
    "              xlim = (0, 45)).map(sns.kdeplot, \"Age\", fill = True).add_legend();"
   ]
  },
  {
   "cell_type": "code",
   "execution_count": 71,
   "id": "460d3bcb",
   "metadata": {
    "execution": {
     "iopub.execute_input": "2024-11-23T14:15:45.149326Z",
     "iopub.status.busy": "2024-11-23T14:15:45.148955Z",
     "iopub.status.idle": "2024-11-23T14:15:46.493246Z",
     "shell.execute_reply": "2024-11-23T14:15:46.492168Z"
    },
    "papermill": {
     "duration": 1.379746,
     "end_time": "2024-11-23T14:15:46.495563",
     "exception": false,
     "start_time": "2024-11-23T14:15:45.115817",
     "status": "completed"
    },
    "tags": []
   },
   "outputs": [
    {
     "name": "stderr",
     "output_type": "stream",
     "text": [
      "/opt/conda/lib/python3.10/site-packages/seaborn/categorical.py:641: FutureWarning: The default of observed=False is deprecated and will be changed to True in a future version of pandas. Pass observed=False to retain current behavior or observed=True to adopt the future default and silence this warning.\n",
      "/opt/conda/lib/python3.10/site-packages/seaborn/categorical.py:641: FutureWarning: The default of observed=False is deprecated and will be changed to True in a future version of pandas. Pass observed=False to retain current behavior or observed=True to adopt the future default and silence this warning.\n",
      "/opt/conda/lib/python3.10/site-packages/seaborn/categorical.py:641: FutureWarning: The default of observed=False is deprecated and will be changed to True in a future version of pandas. Pass observed=False to retain current behavior or observed=True to adopt the future default and silence this warning.\n"
     ]
    },
    {
     "data": {
      "text/plain": [
       "<Figure size 1500x400 with 0 Axes>"
      ]
     },
     "metadata": {},
     "output_type": "display_data"
    },
    {
     "data": {
      "image/png": "[encoded data removed]",
      "text/plain": [
       "<Figure size 600.25x500 with 1 Axes>"
      ]
     },
     "metadata": {},
     "output_type": "display_data"
    }
   ],
   "source": [
    "# Catplot ile numerik bir değişkenin kategorik bazda ve kırılımdaki dağılımını görebiliriz.\n",
    "plt.figure(figsize = (15, 4))\n",
    "sns.catplot(data = airldata, x = \"Flight Status\", y = \"Age\", hue = \"Gender\", kind = \"point\",\n",
    "            palette={\"Male\": \"#1f77b4\", \"Female\": \"#FF69B4\"});"
   ]
  },
  {
   "cell_type": "code",
   "execution_count": 72,
   "id": "f6cf6f61",
   "metadata": {
    "execution": {
     "iopub.execute_input": "2024-11-23T14:15:46.564964Z",
     "iopub.status.busy": "2024-11-23T14:15:46.564540Z",
     "iopub.status.idle": "2024-11-23T14:15:47.005513Z",
     "shell.execute_reply": "2024-11-23T14:15:47.004443Z"
    },
    "papermill": {
     "duration": 0.47892,
     "end_time": "2024-11-23T14:15:47.007691",
     "exception": false,
     "start_time": "2024-11-23T14:15:46.528771",
     "status": "completed"
    },
    "tags": []
   },
   "outputs": [
    {
     "name": "stderr",
     "output_type": "stream",
     "text": [
      "/opt/conda/lib/python3.10/site-packages/seaborn/categorical.py:641: FutureWarning: The default of observed=False is deprecated and will be changed to True in a future version of pandas. Pass observed=False to retain current behavior or observed=True to adopt the future default and silence this warning.\n",
      "/opt/conda/lib/python3.10/site-packages/seaborn/categorical.py:641: FutureWarning: The default of observed=False is deprecated and will be changed to True in a future version of pandas. Pass observed=False to retain current behavior or observed=True to adopt the future default and silence this warning.\n"
     ]
    },
    {
     "data": {
      "image/png": "[encoded data removed]",
      "text/plain": [
       "<Figure size 640x480 with 1 Axes>"
      ]
     },
     "metadata": {},
     "output_type": "display_data"
    }
   ],
   "source": [
    "# Boxplot kategorik olarak numerik dağılımı gösterir, çeyreklik değerler ve IQR'a göre aykırı değerler de boxplot ile gözlemlenebilir.\n",
    "sns.boxplot(data = airldata,\n",
    "            x = \"Flight Status\",\n",
    "            y = \"Age\",\n",
    "            hue = \"Gender\",palette={\"Male\": \"#1F77B4\", \"Female\": \"#FF69B4\"});"
   ]
  },
  {
   "cell_type": "markdown",
   "id": "1ea0161e",
   "metadata": {
    "papermill": {
     "duration": 0.034349,
     "end_time": "2024-11-23T14:15:47.076175",
     "exception": false,
     "start_time": "2024-11-23T14:15:47.041826",
     "status": "completed"
    },
    "tags": []
   },
   "source": [
    "# 5. Aykırı Değer Analizi (Outliers)"
   ]
  },
  {
   "cell_type": "code",
   "execution_count": 73,
   "id": "7dba18fb",
   "metadata": {
    "execution": {
     "iopub.execute_input": "2024-11-23T14:15:47.145679Z",
     "iopub.status.busy": "2024-11-23T14:15:47.145289Z",
     "iopub.status.idle": "2024-11-23T14:15:47.159010Z",
     "shell.execute_reply": "2024-11-23T14:15:47.157940Z"
    },
    "papermill": {
     "duration": 0.051254,
     "end_time": "2024-11-23T14:15:47.161246",
     "exception": false,
     "start_time": "2024-11-23T14:15:47.109992",
     "status": "completed"
    },
    "tags": []
   },
   "outputs": [],
   "source": [
    "airldata = airl_data.copy()"
   ]
  },
  {
   "cell_type": "code",
   "execution_count": 74,
   "id": "02f564f2",
   "metadata": {
    "execution": {
     "iopub.execute_input": "2024-11-23T14:15:47.231563Z",
     "iopub.status.busy": "2024-11-23T14:15:47.231213Z",
     "iopub.status.idle": "2024-11-23T14:15:47.426986Z",
     "shell.execute_reply": "2024-11-23T14:15:47.425811Z"
    },
    "papermill": {
     "duration": 0.233904,
     "end_time": "2024-11-23T14:15:47.429369",
     "exception": false,
     "start_time": "2024-11-23T14:15:47.195465",
     "status": "completed"
    },
    "tags": []
   },
   "outputs": [
    {
     "data": {
      "image/png": "[encoded data removed]",
      "text/plain": [
       "<Figure size 800x400 with 1 Axes>"
      ]
     },
     "metadata": {},
     "output_type": "display_data"
    }
   ],
   "source": [
    "# Bir değişkendeki IQR'a göre aykırı gözlemleri boxplot kullanarak görselleştirelim.\n",
    "plt.figure(figsize = (8, 4))\n",
    "sns.boxplot(data = airldata,\n",
    "            y = airldata[\"Age\"],\n",
    "            orient = \"v\",\n",
    "            color=\"skyblue\",           \n",
    "            linewidth=1.5,             \n",
    "            fliersize=6,               \n",
    "            flierprops=dict(markerfacecolor='black', marker='o'));"
   ]
  },
  {
   "cell_type": "code",
   "execution_count": 75,
   "id": "735ab2ea",
   "metadata": {
    "execution": {
     "iopub.execute_input": "2024-11-23T14:15:47.499440Z",
     "iopub.status.busy": "2024-11-23T14:15:47.499058Z",
     "iopub.status.idle": "2024-11-23T14:15:47.507256Z",
     "shell.execute_reply": "2024-11-23T14:15:47.506291Z"
    },
    "papermill": {
     "duration": 0.045732,
     "end_time": "2024-11-23T14:15:47.509522",
     "exception": false,
     "start_time": "2024-11-23T14:15:47.463790",
     "status": "completed"
    },
    "tags": []
   },
   "outputs": [
    {
     "data": {
      "text/plain": [
       "0        62\n",
       "1        62\n",
       "2        67\n",
       "3        71\n",
       "4        21\n",
       "         ..\n",
       "98614    85\n",
       "98615    19\n",
       "98616    65\n",
       "98617    34\n",
       "98618    10\n",
       "Name: Age, Length: 98619, dtype: int64"
      ]
     },
     "execution_count": 75,
     "metadata": {},
     "output_type": "execute_result"
    }
   ],
   "source": [
    "airldata_Age = airldata['Age']\n",
    "airldata_Age"
   ]
  },
  {
   "cell_type": "code",
   "execution_count": 76,
   "id": "fdce9e68",
   "metadata": {
    "execution": {
     "iopub.execute_input": "2024-11-23T14:15:47.580558Z",
     "iopub.status.busy": "2024-11-23T14:15:47.580178Z",
     "iopub.status.idle": "2024-11-23T14:15:47.591605Z",
     "shell.execute_reply": "2024-11-23T14:15:47.590396Z"
    },
    "papermill": {
     "duration": 0.049407,
     "end_time": "2024-11-23T14:15:47.593614",
     "exception": false,
     "start_time": "2024-11-23T14:15:47.544207",
     "status": "completed"
    },
    "tags": []
   },
   "outputs": [
    {
     "name": "stdout",
     "output_type": "stream",
     "text": [
      "23.0\n",
      "68.0\n",
      "45.0\n"
     ]
    }
   ],
   "source": [
    "# Quantile değerlerin belirlenmesi.\n",
    "Q1 = airldata_Age.quantile(0.25)\n",
    "Q3 = airldata_Age.quantile(0.75)\n",
    "\n",
    "print(Q1)\n",
    "print(Q3)\n",
    "\n",
    "# IQR değerin belirlenmesi.\n",
    "IQR = Q3-Q1\n",
    "print(IQR)\n",
    "\n",
    "# Alt ve üst sınırların belirlenmesi.\n",
    "lower_fence = Q1 - 1.5*IQR\n",
    "upper_fence = Q3 + 1.5*IQR"
   ]
  },
  {
   "cell_type": "code",
   "execution_count": 77,
   "id": "30a67561",
   "metadata": {
    "execution": {
     "iopub.execute_input": "2024-11-23T14:15:47.664907Z",
     "iopub.status.busy": "2024-11-23T14:15:47.664515Z",
     "iopub.status.idle": "2024-11-23T14:15:47.673112Z",
     "shell.execute_reply": "2024-11-23T14:15:47.672142Z"
    },
    "papermill": {
     "duration": 0.046514,
     "end_time": "2024-11-23T14:15:47.675181",
     "exception": false,
     "start_time": "2024-11-23T14:15:47.628667",
     "status": "completed"
    },
    "tags": []
   },
   "outputs": [
    {
     "data": {
      "text/plain": [
       "Index([], dtype='int64')"
      ]
     },
     "execution_count": 77,
     "metadata": {},
     "output_type": "execute_result"
    }
   ],
   "source": [
    "# Upper_fence üzerinde kalan aykırı gözlemlerin index değerlerini, daha sonra kullanmak üzere bir değişkende tutabiliriz.\n",
    "outlier_idx = airldata_Age[airldata_Age > upper_fence].index\n",
    "\n",
    "outlier_idx"
   ]
  },
  {
   "cell_type": "code",
   "execution_count": 78,
   "id": "f19278f0",
   "metadata": {
    "execution": {
     "iopub.execute_input": "2024-11-23T14:15:47.748419Z",
     "iopub.status.busy": "2024-11-23T14:15:47.748080Z",
     "iopub.status.idle": "2024-11-23T14:15:47.756580Z",
     "shell.execute_reply": "2024-11-23T14:15:47.755531Z"
    },
    "papermill": {
     "duration": 0.047478,
     "end_time": "2024-11-23T14:15:47.758733",
     "exception": false,
     "start_time": "2024-11-23T14:15:47.711255",
     "status": "completed"
    },
    "tags": []
   },
   "outputs": [
    {
     "data": {
      "text/plain": [
       "Series([], Name: Age, dtype: int64)"
      ]
     },
     "execution_count": 78,
     "metadata": {},
     "output_type": "execute_result"
    }
   ],
   "source": [
    "airldata_Age[airldata_Age > upper_fence]"
   ]
  },
  {
   "cell_type": "code",
   "execution_count": 79,
   "id": "a75be6ef",
   "metadata": {
    "execution": {
     "iopub.execute_input": "2024-11-23T14:15:47.829386Z",
     "iopub.status.busy": "2024-11-23T14:15:47.829052Z",
     "iopub.status.idle": "2024-11-23T14:15:47.859509Z",
     "shell.execute_reply": "2024-11-23T14:15:47.858419Z"
    },
    "papermill": {
     "duration": 0.068499,
     "end_time": "2024-11-23T14:15:47.861804",
     "exception": false,
     "start_time": "2024-11-23T14:15:47.793305",
     "status": "completed"
    },
    "tags": []
   },
   "outputs": [
    {
     "data": {
      "text/html": [
       "<div>\n",
       "<style scoped>\n",
       "    .dataframe tbody tr th:only-of-type {\n",
       "        vertical-align: middle;\n",
       "    }\n",
       "\n",
       "    .dataframe tbody tr th {\n",
       "        vertical-align: top;\n",
       "    }\n",
       "\n",
       "    .dataframe thead th {\n",
       "        text-align: right;\n",
       "    }\n",
       "</style>\n",
       "<table border=\"1\" class=\"dataframe\">\n",
       "  <thead>\n",
       "    <tr style=\"text-align: right;\">\n",
       "      <th></th>\n",
       "      <th>Passenger ID</th>\n",
       "      <th>First Name</th>\n",
       "      <th>Last Name</th>\n",
       "      <th>Gender</th>\n",
       "      <th>Age</th>\n",
       "      <th>Nationality</th>\n",
       "      <th>Airport Name</th>\n",
       "      <th>Airport Country Code</th>\n",
       "      <th>Country Name</th>\n",
       "      <th>Airport Continent</th>\n",
       "      <th>Continents</th>\n",
       "      <th>Departure Date</th>\n",
       "      <th>Arrival Airport</th>\n",
       "      <th>Pilot Name</th>\n",
       "      <th>Flight Status</th>\n",
       "    </tr>\n",
       "  </thead>\n",
       "  <tbody>\n",
       "    <tr>\n",
       "      <th>0</th>\n",
       "      <td>ABVWIg</td>\n",
       "      <td>Edithe</td>\n",
       "      <td>Leggis</td>\n",
       "      <td>Female</td>\n",
       "      <td>62</td>\n",
       "      <td>Japan</td>\n",
       "      <td>Coldfoot Airport</td>\n",
       "      <td>US</td>\n",
       "      <td>United States</td>\n",
       "      <td>NAM</td>\n",
       "      <td>North America</td>\n",
       "      <td>6/28/2022</td>\n",
       "      <td>CXF</td>\n",
       "      <td>Fransisco Hazeldine</td>\n",
       "      <td>On Time</td>\n",
       "    </tr>\n",
       "    <tr>\n",
       "      <th>1</th>\n",
       "      <td>jkXXAX</td>\n",
       "      <td>Elwood</td>\n",
       "      <td>Catt</td>\n",
       "      <td>Male</td>\n",
       "      <td>62</td>\n",
       "      <td>Nicaragua</td>\n",
       "      <td>Kugluktuk Airport</td>\n",
       "      <td>CA</td>\n",
       "      <td>Canada</td>\n",
       "      <td>NAM</td>\n",
       "      <td>North America</td>\n",
       "      <td>12/26/2022</td>\n",
       "      <td>YCO</td>\n",
       "      <td>Marla Parsonage</td>\n",
       "      <td>On Time</td>\n",
       "    </tr>\n",
       "    <tr>\n",
       "      <th>2</th>\n",
       "      <td>CdUz2g</td>\n",
       "      <td>Darby</td>\n",
       "      <td>Felgate</td>\n",
       "      <td>Male</td>\n",
       "      <td>67</td>\n",
       "      <td>Russia</td>\n",
       "      <td>Grenoble-Isère Airport</td>\n",
       "      <td>FR</td>\n",
       "      <td>France</td>\n",
       "      <td>EU</td>\n",
       "      <td>Europe</td>\n",
       "      <td>1/18/2022</td>\n",
       "      <td>GNB</td>\n",
       "      <td>Rhonda Amber</td>\n",
       "      <td>On Time</td>\n",
       "    </tr>\n",
       "    <tr>\n",
       "      <th>3</th>\n",
       "      <td>BRS38V</td>\n",
       "      <td>Dominica</td>\n",
       "      <td>Pyle</td>\n",
       "      <td>Female</td>\n",
       "      <td>71</td>\n",
       "      <td>China</td>\n",
       "      <td>Ottawa / Gatineau Airport</td>\n",
       "      <td>CA</td>\n",
       "      <td>Canada</td>\n",
       "      <td>NAM</td>\n",
       "      <td>North America</td>\n",
       "      <td>9/16/2022</td>\n",
       "      <td>YND</td>\n",
       "      <td>Kacie Commucci</td>\n",
       "      <td>Delayed</td>\n",
       "    </tr>\n",
       "    <tr>\n",
       "      <th>4</th>\n",
       "      <td>9kvTLo</td>\n",
       "      <td>Bay</td>\n",
       "      <td>Pencost</td>\n",
       "      <td>Male</td>\n",
       "      <td>21</td>\n",
       "      <td>China</td>\n",
       "      <td>Gillespie Field</td>\n",
       "      <td>US</td>\n",
       "      <td>United States</td>\n",
       "      <td>NAM</td>\n",
       "      <td>North America</td>\n",
       "      <td>2/25/2022</td>\n",
       "      <td>SEE</td>\n",
       "      <td>Ebonee Tree</td>\n",
       "      <td>On Time</td>\n",
       "    </tr>\n",
       "    <tr>\n",
       "      <th>...</th>\n",
       "      <td>...</td>\n",
       "      <td>...</td>\n",
       "      <td>...</td>\n",
       "      <td>...</td>\n",
       "      <td>...</td>\n",
       "      <td>...</td>\n",
       "      <td>...</td>\n",
       "      <td>...</td>\n",
       "      <td>...</td>\n",
       "      <td>...</td>\n",
       "      <td>...</td>\n",
       "      <td>...</td>\n",
       "      <td>...</td>\n",
       "      <td>...</td>\n",
       "      <td>...</td>\n",
       "    </tr>\n",
       "    <tr>\n",
       "      <th>98614</th>\n",
       "      <td>hnGQ62</td>\n",
       "      <td>Gareth</td>\n",
       "      <td>Mugford</td>\n",
       "      <td>Male</td>\n",
       "      <td>85</td>\n",
       "      <td>China</td>\n",
       "      <td>Hasvik Airport</td>\n",
       "      <td>NO</td>\n",
       "      <td>Norway</td>\n",
       "      <td>EU</td>\n",
       "      <td>Europe</td>\n",
       "      <td>12-11-2022</td>\n",
       "      <td>HAA</td>\n",
       "      <td>Pammie Kingscote</td>\n",
       "      <td>Cancelled</td>\n",
       "    </tr>\n",
       "    <tr>\n",
       "      <th>98615</th>\n",
       "      <td>2omEzh</td>\n",
       "      <td>Kasey</td>\n",
       "      <td>Benedict</td>\n",
       "      <td>Female</td>\n",
       "      <td>19</td>\n",
       "      <td>Russia</td>\n",
       "      <td>Ampampamena Airport</td>\n",
       "      <td>MG</td>\n",
       "      <td>Madagascar</td>\n",
       "      <td>AF</td>\n",
       "      <td>Africa</td>\n",
       "      <td>10/30/2022</td>\n",
       "      <td>IVA</td>\n",
       "      <td>Dorice Lochran</td>\n",
       "      <td>Cancelled</td>\n",
       "    </tr>\n",
       "    <tr>\n",
       "      <th>98616</th>\n",
       "      <td>VUPiVG</td>\n",
       "      <td>Darrin</td>\n",
       "      <td>Lucken</td>\n",
       "      <td>Male</td>\n",
       "      <td>65</td>\n",
       "      <td>Indonesia</td>\n",
       "      <td>Albacete-Los Llanos Airport</td>\n",
       "      <td>ES</td>\n",
       "      <td>Spain</td>\n",
       "      <td>EU</td>\n",
       "      <td>Europe</td>\n",
       "      <td>09-10-2022</td>\n",
       "      <td>ABC</td>\n",
       "      <td>Gearalt Main</td>\n",
       "      <td>On Time</td>\n",
       "    </tr>\n",
       "    <tr>\n",
       "      <th>98617</th>\n",
       "      <td>E47NtS</td>\n",
       "      <td>Gayle</td>\n",
       "      <td>Lievesley</td>\n",
       "      <td>Female</td>\n",
       "      <td>34</td>\n",
       "      <td>China</td>\n",
       "      <td>Gagnoa Airport</td>\n",
       "      <td>CI</td>\n",
       "      <td>Côte d'Ivoire</td>\n",
       "      <td>AF</td>\n",
       "      <td>Africa</td>\n",
       "      <td>10/26/2022</td>\n",
       "      <td>GGN</td>\n",
       "      <td>Judon Chasle</td>\n",
       "      <td>Cancelled</td>\n",
       "    </tr>\n",
       "    <tr>\n",
       "      <th>98618</th>\n",
       "      <td>8JYEcz</td>\n",
       "      <td>Wilhelmine</td>\n",
       "      <td>Touret</td>\n",
       "      <td>Female</td>\n",
       "      <td>10</td>\n",
       "      <td>Poland</td>\n",
       "      <td>Yoshkar-Ola Airport</td>\n",
       "      <td>RU</td>\n",
       "      <td>Russian Federation</td>\n",
       "      <td>EU</td>\n",
       "      <td>Europe</td>\n",
       "      <td>4/16/2022</td>\n",
       "      <td>JOK</td>\n",
       "      <td>Auguste Tindley</td>\n",
       "      <td>Delayed</td>\n",
       "    </tr>\n",
       "  </tbody>\n",
       "</table>\n",
       "<p>98619 rows × 15 columns</p>\n",
       "</div>"
      ],
      "text/plain": [
       "      Passenger ID  First Name  Last Name  Gender  Age Nationality  \\\n",
       "0           ABVWIg      Edithe     Leggis  Female   62       Japan   \n",
       "1           jkXXAX      Elwood       Catt    Male   62   Nicaragua   \n",
       "2           CdUz2g       Darby    Felgate    Male   67      Russia   \n",
       "3           BRS38V    Dominica       Pyle  Female   71       China   \n",
       "4           9kvTLo         Bay    Pencost    Male   21       China   \n",
       "...            ...         ...        ...     ...  ...         ...   \n",
       "98614       hnGQ62      Gareth    Mugford    Male   85       China   \n",
       "98615       2omEzh       Kasey   Benedict  Female   19      Russia   \n",
       "98616       VUPiVG      Darrin     Lucken    Male   65   Indonesia   \n",
       "98617       E47NtS       Gayle  Lievesley  Female   34       China   \n",
       "98618       8JYEcz  Wilhelmine     Touret  Female   10      Poland   \n",
       "\n",
       "                      Airport Name Airport Country Code        Country Name  \\\n",
       "0                 Coldfoot Airport                   US       United States   \n",
       "1                Kugluktuk Airport                   CA              Canada   \n",
       "2           Grenoble-Isère Airport                   FR              France   \n",
       "3        Ottawa / Gatineau Airport                   CA              Canada   \n",
       "4                  Gillespie Field                   US       United States   \n",
       "...                            ...                  ...                 ...   \n",
       "98614               Hasvik Airport                   NO              Norway   \n",
       "98615          Ampampamena Airport                   MG          Madagascar   \n",
       "98616  Albacete-Los Llanos Airport                   ES               Spain   \n",
       "98617               Gagnoa Airport                   CI       Côte d'Ivoire   \n",
       "98618          Yoshkar-Ola Airport                   RU  Russian Federation   \n",
       "\n",
       "      Airport Continent     Continents Departure Date Arrival Airport  \\\n",
       "0                   NAM  North America      6/28/2022             CXF   \n",
       "1                   NAM  North America     12/26/2022             YCO   \n",
       "2                    EU         Europe      1/18/2022             GNB   \n",
       "3                   NAM  North America      9/16/2022             YND   \n",
       "4                   NAM  North America      2/25/2022             SEE   \n",
       "...                 ...            ...            ...             ...   \n",
       "98614                EU         Europe     12-11-2022             HAA   \n",
       "98615                AF         Africa     10/30/2022             IVA   \n",
       "98616                EU         Europe     09-10-2022             ABC   \n",
       "98617                AF         Africa     10/26/2022             GGN   \n",
       "98618                EU         Europe      4/16/2022             JOK   \n",
       "\n",
       "                Pilot Name Flight Status  \n",
       "0      Fransisco Hazeldine       On Time  \n",
       "1          Marla Parsonage       On Time  \n",
       "2             Rhonda Amber       On Time  \n",
       "3           Kacie Commucci       Delayed  \n",
       "4              Ebonee Tree       On Time  \n",
       "...                    ...           ...  \n",
       "98614     Pammie Kingscote     Cancelled  \n",
       "98615       Dorice Lochran     Cancelled  \n",
       "98616         Gearalt Main       On Time  \n",
       "98617         Judon Chasle     Cancelled  \n",
       "98618      Auguste Tindley       Delayed  \n",
       "\n",
       "[98619 rows x 15 columns]"
      ]
     },
     "execution_count": 79,
     "metadata": {},
     "output_type": "execute_result"
    }
   ],
   "source": [
    "airldata_delete = airldata[~(airldata_Age > upper_fence)]\n",
    "\n",
    "airldata_delete"
   ]
  },
  {
   "cell_type": "code",
   "execution_count": 80,
   "id": "1b2272b6",
   "metadata": {
    "execution": {
     "iopub.execute_input": "2024-11-23T14:15:47.933481Z",
     "iopub.status.busy": "2024-11-23T14:15:47.933098Z",
     "iopub.status.idle": "2024-11-23T14:15:48.131807Z",
     "shell.execute_reply": "2024-11-23T14:15:48.130773Z"
    },
    "papermill": {
     "duration": 0.236789,
     "end_time": "2024-11-23T14:15:48.133934",
     "exception": false,
     "start_time": "2024-11-23T14:15:47.897145",
     "status": "completed"
    },
    "tags": []
   },
   "outputs": [
    {
     "data": {
      "image/png": "[encoded data removed]",
      "text/plain": [
       "<Figure size 800x400 with 1 Axes>"
      ]
     },
     "metadata": {},
     "output_type": "display_data"
    }
   ],
   "source": [
    "plt.figure(figsize = (8, 4))\n",
    "sns.boxplot(data = airldata_delete,\n",
    "            y = airldata_delete[\"Age\"],\n",
    "            orient = \"v\",\n",
    "            color=\"skyblue\",           \n",
    "            linewidth=1.5,             \n",
    "            fliersize=6,               \n",
    "            flierprops=dict(markerfacecolor='black', marker='o'));"
   ]
  },
  {
   "cell_type": "markdown",
   "id": "f0867aab",
   "metadata": {
    "papermill": {
     "duration": 0.034749,
     "end_time": "2024-11-23T14:15:48.204400",
     "exception": false,
     "start_time": "2024-11-23T14:15:48.169651",
     "status": "completed"
    },
    "tags": []
   },
   "source": [
    "# 6. Feature Engineering"
   ]
  },
  {
   "cell_type": "code",
   "execution_count": 81,
   "id": "df0d089c",
   "metadata": {
    "execution": {
     "iopub.execute_input": "2024-11-23T14:15:48.280870Z",
     "iopub.status.busy": "2024-11-23T14:15:48.280446Z",
     "iopub.status.idle": "2024-11-23T14:15:48.296401Z",
     "shell.execute_reply": "2024-11-23T14:15:48.295339Z"
    },
    "papermill": {
     "duration": 0.059399,
     "end_time": "2024-11-23T14:15:48.298752",
     "exception": false,
     "start_time": "2024-11-23T14:15:48.239353",
     "status": "completed"
    },
    "tags": []
   },
   "outputs": [
    {
     "data": {
      "text/html": [
       "<div>\n",
       "<style scoped>\n",
       "    .dataframe tbody tr th:only-of-type {\n",
       "        vertical-align: middle;\n",
       "    }\n",
       "\n",
       "    .dataframe tbody tr th {\n",
       "        vertical-align: top;\n",
       "    }\n",
       "\n",
       "    .dataframe thead th {\n",
       "        text-align: right;\n",
       "    }\n",
       "</style>\n",
       "<table border=\"1\" class=\"dataframe\">\n",
       "  <thead>\n",
       "    <tr style=\"text-align: right;\">\n",
       "      <th></th>\n",
       "      <th>Passenger ID</th>\n",
       "      <th>First Name</th>\n",
       "      <th>Last Name</th>\n",
       "      <th>Gender</th>\n",
       "      <th>Age</th>\n",
       "      <th>Nationality</th>\n",
       "      <th>Airport Name</th>\n",
       "      <th>Airport Country Code</th>\n",
       "      <th>Country Name</th>\n",
       "      <th>Airport Continent</th>\n",
       "      <th>Continents</th>\n",
       "      <th>Departure Date</th>\n",
       "      <th>Arrival Airport</th>\n",
       "      <th>Pilot Name</th>\n",
       "      <th>Flight Status</th>\n",
       "    </tr>\n",
       "  </thead>\n",
       "  <tbody>\n",
       "    <tr>\n",
       "      <th>0</th>\n",
       "      <td>ABVWIg</td>\n",
       "      <td>Edithe</td>\n",
       "      <td>Leggis</td>\n",
       "      <td>Female</td>\n",
       "      <td>62</td>\n",
       "      <td>Japan</td>\n",
       "      <td>Coldfoot Airport</td>\n",
       "      <td>US</td>\n",
       "      <td>United States</td>\n",
       "      <td>NAM</td>\n",
       "      <td>North America</td>\n",
       "      <td>6/28/2022</td>\n",
       "      <td>CXF</td>\n",
       "      <td>Fransisco Hazeldine</td>\n",
       "      <td>On Time</td>\n",
       "    </tr>\n",
       "    <tr>\n",
       "      <th>1</th>\n",
       "      <td>jkXXAX</td>\n",
       "      <td>Elwood</td>\n",
       "      <td>Catt</td>\n",
       "      <td>Male</td>\n",
       "      <td>62</td>\n",
       "      <td>Nicaragua</td>\n",
       "      <td>Kugluktuk Airport</td>\n",
       "      <td>CA</td>\n",
       "      <td>Canada</td>\n",
       "      <td>NAM</td>\n",
       "      <td>North America</td>\n",
       "      <td>12/26/2022</td>\n",
       "      <td>YCO</td>\n",
       "      <td>Marla Parsonage</td>\n",
       "      <td>On Time</td>\n",
       "    </tr>\n",
       "    <tr>\n",
       "      <th>2</th>\n",
       "      <td>CdUz2g</td>\n",
       "      <td>Darby</td>\n",
       "      <td>Felgate</td>\n",
       "      <td>Male</td>\n",
       "      <td>67</td>\n",
       "      <td>Russia</td>\n",
       "      <td>Grenoble-Isère Airport</td>\n",
       "      <td>FR</td>\n",
       "      <td>France</td>\n",
       "      <td>EU</td>\n",
       "      <td>Europe</td>\n",
       "      <td>1/18/2022</td>\n",
       "      <td>GNB</td>\n",
       "      <td>Rhonda Amber</td>\n",
       "      <td>On Time</td>\n",
       "    </tr>\n",
       "    <tr>\n",
       "      <th>3</th>\n",
       "      <td>BRS38V</td>\n",
       "      <td>Dominica</td>\n",
       "      <td>Pyle</td>\n",
       "      <td>Female</td>\n",
       "      <td>71</td>\n",
       "      <td>China</td>\n",
       "      <td>Ottawa / Gatineau Airport</td>\n",
       "      <td>CA</td>\n",
       "      <td>Canada</td>\n",
       "      <td>NAM</td>\n",
       "      <td>North America</td>\n",
       "      <td>9/16/2022</td>\n",
       "      <td>YND</td>\n",
       "      <td>Kacie Commucci</td>\n",
       "      <td>Delayed</td>\n",
       "    </tr>\n",
       "    <tr>\n",
       "      <th>4</th>\n",
       "      <td>9kvTLo</td>\n",
       "      <td>Bay</td>\n",
       "      <td>Pencost</td>\n",
       "      <td>Male</td>\n",
       "      <td>21</td>\n",
       "      <td>China</td>\n",
       "      <td>Gillespie Field</td>\n",
       "      <td>US</td>\n",
       "      <td>United States</td>\n",
       "      <td>NAM</td>\n",
       "      <td>North America</td>\n",
       "      <td>2/25/2022</td>\n",
       "      <td>SEE</td>\n",
       "      <td>Ebonee Tree</td>\n",
       "      <td>On Time</td>\n",
       "    </tr>\n",
       "  </tbody>\n",
       "</table>\n",
       "</div>"
      ],
      "text/plain": [
       "  Passenger ID First Name Last Name  Gender  Age Nationality  \\\n",
       "0       ABVWIg     Edithe    Leggis  Female   62       Japan   \n",
       "1       jkXXAX     Elwood      Catt    Male   62   Nicaragua   \n",
       "2       CdUz2g      Darby   Felgate    Male   67      Russia   \n",
       "3       BRS38V   Dominica      Pyle  Female   71       China   \n",
       "4       9kvTLo        Bay   Pencost    Male   21       China   \n",
       "\n",
       "                Airport Name Airport Country Code   Country Name  \\\n",
       "0           Coldfoot Airport                   US  United States   \n",
       "1          Kugluktuk Airport                   CA         Canada   \n",
       "2     Grenoble-Isère Airport                   FR         France   \n",
       "3  Ottawa / Gatineau Airport                   CA         Canada   \n",
       "4            Gillespie Field                   US  United States   \n",
       "\n",
       "  Airport Continent     Continents Departure Date Arrival Airport  \\\n",
       "0               NAM  North America      6/28/2022             CXF   \n",
       "1               NAM  North America     12/26/2022             YCO   \n",
       "2                EU         Europe      1/18/2022             GNB   \n",
       "3               NAM  North America      9/16/2022             YND   \n",
       "4               NAM  North America      2/25/2022             SEE   \n",
       "\n",
       "            Pilot Name Flight Status  \n",
       "0  Fransisco Hazeldine       On Time  \n",
       "1      Marla Parsonage       On Time  \n",
       "2         Rhonda Amber       On Time  \n",
       "3       Kacie Commucci       Delayed  \n",
       "4          Ebonee Tree       On Time  "
      ]
     },
     "execution_count": 81,
     "metadata": {},
     "output_type": "execute_result"
    }
   ],
   "source": [
    "airldata.head()"
   ]
  },
  {
   "cell_type": "markdown",
   "id": "7fdc8cbf",
   "metadata": {
    "papermill": {
     "duration": 0.036448,
     "end_time": "2024-11-23T14:15:48.372308",
     "exception": false,
     "start_time": "2024-11-23T14:15:48.335860",
     "status": "completed"
    },
    "tags": []
   },
   "source": [
    "# Sonuç ve Öneriler"
   ]
  },
  {
   "cell_type": "markdown",
   "id": "9718b2d3",
   "metadata": {
    "papermill": {
     "duration": 0.036074,
     "end_time": "2024-11-23T14:15:48.445093",
     "exception": false,
     "start_time": "2024-11-23T14:15:48.409019",
     "status": "completed"
    },
    "tags": []
   },
   "source": [
    "\n",
    "Elde ettiğim analizler ışığında, bu veri aşağıdaki gibi bir probleme çözüm olabilir:\n",
    "\n",
    "Havayolu Şirketi Performans Karşılaştırması\n",
    "Farklı havayolu şirketlerinin uçuş verilerini analiz ederek performans karşılaştırmaları yapılabilir.\n",
    "Havayolu şirketlerinin performansının karşılaştırılması problemi üzerinden; uçuşların zamanında kalkma, müşteri memnuniyeti, uçuş sıklığı gibi faktörlere göre havayolu şirketlerini karşılaştıran bir analiz yapılabilir."
   ]
  },
  {
   "cell_type": "markdown",
   "id": "72074a13",
   "metadata": {
    "papermill": {
     "duration": 0.0517,
     "end_time": "2024-11-23T14:15:48.543353",
     "exception": false,
     "start_time": "2024-11-23T14:15:48.491653",
     "status": "completed"
    },
    "tags": []
   },
   "source": [
    "Veri setinde sayısal ve kategorik verilerin karışık olması ve çözmek istediğiniz problemin havayolu şirketlerinin performansını karşılaştırmak olması göz önüne alındığında, en iyi sonuçları alabileceğiniz modeller:\n",
    "\n",
    "Ağaç Tabanlı Yöntemler (XGBoost, LightGBM): Veri setinin büyüklüğüne ve karmaşıklığına bağlı olarak, bu yöntemler genellikle mükemmel sonuçlar verir. Özellikle havayolu şirketlerinin performansını sınıflandırırken veya bir skor tahmin ederken çok etkili olabilirler.\n",
    "\n",
    "SVM: Eğer veri setiniz küçükse ve doğrusal olmayan sınıflandırmalar yapmak istiyorsanız, SVM iyi bir seçenek olabilir.\n",
    "\n",
    "Derin Öğrenme: Eğer çok büyük bir veri setiniz varsa ve karmaşık ilişkileri öğrenmek istiyorsanız, derin öğrenme modelleri (DNN) kullanılabilir.\n",
    "\n",
    "Kümeleme (Clustering): Performans gruplarına ayırma amacıyla kümelenme algoritmaları kullanabilirsiniz (özellikle DBSCAN).\n",
    "\n",
    "En Uygun Seçim:\n",
    "\n",
    "XGBoost veya LightGBM kullanmak en iyi sonuçları verecektir."
   ]
  }
 ],
 "metadata": {
  "kaggle": {
   "accelerator": "none",
   "dataSources": [
    {
     "datasetId": 3682609,
     "sourceId": 6541762,
     "sourceType": "datasetVersion"
    }
   ],
   "dockerImageVersionId": 30786,
   "isGpuEnabled": false,
   "isInternetEnabled": false,
   "language": "python",
   "sourceType": "notebook"
  },
  "kernelspec": {
   "display_name": "Python 3",
   "language": "python",
   "name": "python3"
  },
  "language_info": {
   "codemirror_mode": {
    "name": "ipython",
    "version": 3
   },
   "file_extension": ".py",
   "mimetype": "text/x-python",
   "name": "python",
   "nbconvert_exporter": "python",
   "pygments_lexer": "ipython3",
   "version": "3.10.14"
  },
  "papermill": {
   "default_parameters": {},
   "duration": 29.352888,
   "end_time": "2024-11-23T14:15:49.303080",
   "environment_variables": {},
   "exception": null,
   "input_path": "__notebook__.ipynb",
   "output_path": "__notebook__.ipynb",
   "parameters": {},
   "start_time": "2024-11-23T14:15:19.950192",
   "version": "2.6.0"
  }
 },
 "nbformat": 4,
 "nbformat_minor": 5
}
